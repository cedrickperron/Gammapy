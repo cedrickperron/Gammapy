{
 "cells": [
  {
   "cell_type": "code",
   "execution_count": 9,
   "id": "bf20b082",
   "metadata": {},
   "outputs": [
    {
     "name": "stdout",
     "output_type": "stream",
     "text": [
      "0.18.2\n",
      "1.19.4\n"
     ]
    }
   ],
   "source": [
    "%matplotlib inline\n",
    "import matplotlib.pyplot as plt\n",
    "import pandas as pd\n",
    "import numpy as np\n",
    "import astropy\n",
    "import gammapy\n",
    "print(gammapy.__version__)\n",
    "print(np.__version__)\n",
    "\n",
    "from gammapy.analysis import Analysis, AnalysisConfig\n",
    "from gammapy.data import DataStore, EventList\n",
    "from gammapy.irf import EffectiveAreaTable2D, load_cta_irfs\n",
    "gammapy.data.HDUIndexTable.VALID_HDU_CLASS\n",
    "\n",
    "import astropy.units as u\n",
    "from astropy.coordinates import SkyCoord, Angle\n",
    "from astropy.convolution import Gaussian2DKernel\n",
    "from regions import CircleSkyRegion\n",
    "from gammapy.modeling import Fit\n",
    "from gammapy.data import DataStore\n",
    "from gammapy.datasets import (\n",
    "    Dataset,\n",
    "    Datasets,\n",
    "    FluxPointsDataset,\n",
    "    SpectrumDataset,\n",
    "    MapDataset,\n",
    "    MapDatasetOnOff,\n",
    "    SpectrumDatasetOnOff\n",
    ")\n",
    "from gammapy.modeling.models import (\n",
    "    PowerLawSpectralModel,\n",
    "    SkyModel,\n",
    "    GaussianSpatialModel,\n",
    "    PointSpatialModel,\n",
    "    FoVBackgroundModel,\n",
    "    Models\n",
    ")\n",
    "from gammapy.maps import MapAxis, WcsNDMap, WcsGeom, Map\n",
    "from gammapy.makers import (\n",
    "    MapDatasetMaker,\n",
    "    SafeMaskMaker,\n",
    "    SpectrumDatasetMaker,\n",
    "    ReflectedRegionsBackgroundMaker,\n",
    "    RingBackgroundMaker,\n",
    "    ReflectedRegionsFinder\n",
    ")\n",
    "from gammapy.estimators import TSMapEstimator, FluxPointsEstimator\n",
    "from gammapy.estimators.utils import find_peaks\n",
    "from gammapy.visualization import plot_spectrum_datasets_off_regions\n",
    "\n",
    "from gammapy.utils.regions import make_region"
   ]
  },
  {
   "cell_type": "code",
   "execution_count": 10,
   "id": "1d403529",
   "metadata": {},
   "outputs": [],
   "source": [
    "data_store = DataStore.from_dir(\"/Users/cedrickperron/GAMMAPY/LS5039_new\")\n",
    "s = data_store.hdu_table.read(\"/Users/cedrickperron/GAMMAPY/LS5039_new/hdu-index.fits.gz\")\n",
    "OBS_table = data_store.obs_table.read(\"/Users/cedrickperron/GAMMAPY/LS5039_new/obs-index.fits.gz\")\n",
    "# Changing the path to the fits files in the HDU_table\n",
    "s.remove_column(\"FILE_DIR\")\n",
    "s.add_column(\"/Users/cedrickperron/GAMMAPY/LS5039_new\", name=\"FILE_DIR\")\n",
    "\n"
   ]
  },
  {
   "cell_type": "code",
   "execution_count": 11,
   "id": "54baf847",
   "metadata": {},
   "outputs": [
    {
     "name": "stderr",
     "output_type": "stream",
     "text": [
      "No HDU found matching: OBS_ID = 69123, HDU_TYPE = bkg, HDU_CLASS = None\n",
      "No HDU found matching: OBS_ID = 69187, HDU_TYPE = bkg, HDU_CLASS = None\n",
      "No HDU found matching: OBS_ID = 69188, HDU_TYPE = bkg, HDU_CLASS = None\n",
      "No HDU found matching: OBS_ID = 69202, HDU_TYPE = bkg, HDU_CLASS = None\n",
      "No HDU found matching: OBS_ID = 69203, HDU_TYPE = bkg, HDU_CLASS = None\n",
      "No HDU found matching: OBS_ID = 73193, HDU_TYPE = bkg, HDU_CLASS = None\n",
      "No HDU found matching: OBS_ID = 73213, HDU_TYPE = bkg, HDU_CLASS = None\n",
      "No HDU found matching: OBS_ID = 73234, HDU_TYPE = bkg, HDU_CLASS = None\n",
      "No HDU found matching: OBS_ID = 73300, HDU_TYPE = bkg, HDU_CLASS = None\n",
      "No HDU found matching: OBS_ID = 73317, HDU_TYPE = bkg, HDU_CLASS = None\n",
      "No HDU found matching: OBS_ID = 73335, HDU_TYPE = bkg, HDU_CLASS = None\n",
      "No HDU found matching: OBS_ID = 73356, HDU_TYPE = bkg, HDU_CLASS = None\n",
      "No HDU found matching: OBS_ID = 73357, HDU_TYPE = bkg, HDU_CLASS = None\n",
      "No HDU found matching: OBS_ID = 73370, HDU_TYPE = bkg, HDU_CLASS = None\n",
      "No HDU found matching: OBS_ID = 73390, HDU_TYPE = bkg, HDU_CLASS = None\n",
      "No HDU found matching: OBS_ID = 73403, HDU_TYPE = bkg, HDU_CLASS = None\n",
      "No HDU found matching: OBS_ID = 73607, HDU_TYPE = bkg, HDU_CLASS = None\n"
     ]
    },
    {
     "name": "stdout",
     "output_type": "stream",
     "text": [
      "OBS_ID HDU_TYPE ...      HDU_NAME                     FILE_DIR               \n",
      "------ -------- ... ----------------- ---------------------------------------\n",
      " 69123   events ...            EVENTS /Users/cedrickperron/GAMMAPY/LS5039_new\n",
      " 69123      gti ...               GTI /Users/cedrickperron/GAMMAPY/LS5039_new\n",
      " 69123     aeff ...    EFFECTIVE AREA /Users/cedrickperron/GAMMAPY/LS5039_new\n",
      " 69123    edisp ... ENERGY DISPERSION /Users/cedrickperron/GAMMAPY/LS5039_new\n",
      " 69123      psf ...               PSF /Users/cedrickperron/GAMMAPY/LS5039_new\n",
      " 69187   events ...            EVENTS /Users/cedrickperron/GAMMAPY/LS5039_new\n",
      " 69187      gti ...               GTI /Users/cedrickperron/GAMMAPY/LS5039_new\n",
      " 69187     aeff ...    EFFECTIVE AREA /Users/cedrickperron/GAMMAPY/LS5039_new\n",
      " 69187    edisp ... ENERGY DISPERSION /Users/cedrickperron/GAMMAPY/LS5039_new\n",
      " 69187      psf ...               PSF /Users/cedrickperron/GAMMAPY/LS5039_new\n",
      "   ...      ... ...               ...                                     ...\n",
      " 73390      psf ...               PSF /Users/cedrickperron/GAMMAPY/LS5039_new\n",
      " 73403   events ...            EVENTS /Users/cedrickperron/GAMMAPY/LS5039_new\n",
      " 73403      gti ...               GTI /Users/cedrickperron/GAMMAPY/LS5039_new\n",
      " 73403     aeff ...    EFFECTIVE AREA /Users/cedrickperron/GAMMAPY/LS5039_new\n",
      " 73403    edisp ... ENERGY DISPERSION /Users/cedrickperron/GAMMAPY/LS5039_new\n",
      " 73403      psf ...               PSF /Users/cedrickperron/GAMMAPY/LS5039_new\n",
      " 73607   events ...            EVENTS /Users/cedrickperron/GAMMAPY/LS5039_new\n",
      " 73607      gti ...               GTI /Users/cedrickperron/GAMMAPY/LS5039_new\n",
      " 73607     aeff ...    EFFECTIVE AREA /Users/cedrickperron/GAMMAPY/LS5039_new\n",
      " 73607    edisp ... ENERGY DISPERSION /Users/cedrickperron/GAMMAPY/LS5039_new\n",
      " 73607      psf ...               PSF /Users/cedrickperron/GAMMAPY/LS5039_new\n",
      "Length = 85 rows\n"
     ]
    }
   ],
   "source": [
    "data_store.hdu_table = s\n",
    "hdu_table = data_store.hdu_table\n",
    "data_store.obs_table\n",
    "print(data_store.hdu_table)\n",
    "\n",
    "data_store.hdu_table\n",
    "obs_id = data_store.obs_table[\"OBS_ID\"]\n",
    "\n",
    "#print(obs_id)\n",
    "\n",
    "# Note NO HDU of HDU_TYPE = bkg. Write print(hdu_table) and you will see that there is no bkg.\n",
    "observations = data_store.get_observations(obs_id)\n",
    "\n"
   ]
  },
  {
   "cell_type": "code",
   "execution_count": 12,
   "id": "0d5e9f47",
   "metadata": {},
   "outputs": [
    {
     "name": "stdout",
     "output_type": "stream",
     "text": [
      "<SkyCoord (ICRS): (ra, dec) in deg\n",
      "    (276.5625, -14.825)>\n"
     ]
    }
   ],
   "source": [
    "target_position = SkyCoord(ra=\"18h26m15s\",dec=\"-14d49m30s\", frame=\"icrs\")\n",
    "#help(SkyCoord)\n",
    "print(target_position)\n",
    "on_radius=Angle(\"0.089 deg\")\n",
    "on_region= CircleSkyRegion(center=target_position,radius=on_radius)"
   ]
  },
  {
   "cell_type": "code",
   "execution_count": 13,
   "id": "57498226",
   "metadata": {},
   "outputs": [],
   "source": [
    "# The binning of the final spectrum is defined here.\n",
    "energy_axis = MapAxis.from_energy_bounds(0.1, 40.0, 10, unit=\"TeV\", name=\"energy\")\n",
    "\n",
    "# Reduced IRFs are defined in true energy (i.e. not measured energy).\n",
    "energy_axis_true = MapAxis.from_energy_bounds(\n",
    "    0.05, 100, 30, unit=\"TeV\", name=\"energy_true\"\n",
    ")\n",
    "\n",
    "# Here we use 1.5 degree which is slightly larger than needed.\n",
    "geom = WcsGeom.create(skydir=target_position, binsz=0.01, width=(5,5), proj=\"CAR\",axes=[energy_axis])\n",
    "\n",
    "geom_image = geom.to_image()\n",
    "\n",
    "# LS5039 Region\n",
    "center1 = SkyCoord(\"276.562 deg\",\"-14.825 deg\", frame=\"icrs\")\n",
    "LS5039_region = CircleSkyRegion(center=center1, radius=0.25* u.deg)\n",
    "\n",
    "\n",
    "center_region = CircleSkyRegion(center=target_position, radius=0.25* u.deg)\n",
    "\n",
    "exclusion_mask=Map.from_geom(geom_image)\n",
    "exclusion_mask.data=geom_image.region_mask([center_region, LS5039_region], inside=False)\n",
    "# No pixel => Energy => 0 (no signal)\n",
    "#exclusion_mask.sum_over_axes().plot(add_cbar=True)"
   ]
  },
  {
   "cell_type": "code",
   "execution_count": null,
   "id": "051906ef",
   "metadata": {},
   "outputs": [],
   "source": []
  },
  {
   "cell_type": "markdown",
   "id": "fb851974",
   "metadata": {},
   "source": [
    "CANNOT ADD THE \"edisp\" part, because of issue"
   ]
  },
  {
   "cell_type": "code",
   "execution_count": 14,
   "id": "0b53ee40",
   "metadata": {},
   "outputs": [],
   "source": [
    "maker = MapDatasetMaker(selection=[\"counts\", \"exposure\", \"edisp\", \"psf\"])\n",
    "\n",
    "#maker = MapDatasetMaker(selection=[\"counts\", \"exposure\", \"psf\"])"
   ]
  },
  {
   "cell_type": "code",
   "execution_count": 15,
   "id": "e211d184",
   "metadata": {},
   "outputs": [],
   "source": [
    "\n",
    "#Create an empty 1D SpectrumDataset: Note here we don't have a background model, thus we can only define a SpectrumDataset background\n",
    "e_reco = energy_axis\n",
    "e_true = energy_axis_true\n",
    "#Create an empty dataset that you will use for each observation\n",
    "dataset_empty = SpectrumDataset.create(e_reco=e_reco, e_true=e_true, region=on_region)\n",
    "\n",
    "# Create the DatasetMaker\n",
    "dataset_maker = SpectrumDatasetMaker(containment_correction=True, selection=[\"counts\", \"exposure\", \"psf\", \"edisp\"])\n",
    "# Create the Background Maker\n",
    "#help(ReflectedRegionsBackgroundMaker)\n",
    "bkg_maker = ReflectedRegionsBackgroundMaker(exclusion_mask=exclusion_mask)\n",
    "#Create a Safe_mask_maker\n",
    "safe_mask_maker = SafeMaskMaker(methods=[\"aeff-default\", \"offset-max\"], offset_max=2.5*u.deg)\n",
    "\n",
    "\n",
    "# Create a stacked dataset\n",
    "#stacked = SpectrumDatasetOnOff.create(e_reco=e_reco,  e_true=e_true, region=on_region)\n",
    "#help(dataset.to_spectrum_dataset)\n"
   ]
  },
  {
   "cell_type": "code",
   "execution_count": 16,
   "id": "55bcce3b",
   "metadata": {},
   "outputs": [
    {
     "name": "stderr",
     "output_type": "stream",
     "text": [
      "/Users/cedrickperron/opt/anaconda3/envs/gammapy-0.18.2/lib/python3.7/site-packages/scipy/interpolate/interpolate.py:609: RuntimeWarning: overflow encountered in true_divide\n",
      "  slope = (y_hi - y_lo) / (x_hi - x_lo)[:, None]\n",
      "/Users/cedrickperron/opt/anaconda3/envs/gammapy-0.18.2/lib/python3.7/site-packages/scipy/interpolate/interpolate.py:609: RuntimeWarning: overflow encountered in true_divide\n",
      "  slope = (y_hi - y_lo) / (x_hi - x_lo)[:, None]\n",
      "/Users/cedrickperron/opt/anaconda3/envs/gammapy-0.18.2/lib/python3.7/site-packages/scipy/interpolate/interpolate.py:609: RuntimeWarning: overflow encountered in true_divide\n",
      "  slope = (y_hi - y_lo) / (x_hi - x_lo)[:, None]\n",
      "/Users/cedrickperron/opt/anaconda3/envs/gammapy-0.18.2/lib/python3.7/site-packages/scipy/interpolate/interpolate.py:609: RuntimeWarning: overflow encountered in true_divide\n",
      "  slope = (y_hi - y_lo) / (x_hi - x_lo)[:, None]\n",
      "/Users/cedrickperron/opt/anaconda3/envs/gammapy-0.18.2/lib/python3.7/site-packages/scipy/interpolate/interpolate.py:609: RuntimeWarning: overflow encountered in true_divide\n",
      "  slope = (y_hi - y_lo) / (x_hi - x_lo)[:, None]\n",
      "/Users/cedrickperron/opt/anaconda3/envs/gammapy-0.18.2/lib/python3.7/site-packages/scipy/interpolate/interpolate.py:609: RuntimeWarning: overflow encountered in true_divide\n",
      "  slope = (y_hi - y_lo) / (x_hi - x_lo)[:, None]\n",
      "/Users/cedrickperron/opt/anaconda3/envs/gammapy-0.18.2/lib/python3.7/site-packages/scipy/interpolate/interpolate.py:609: RuntimeWarning: overflow encountered in true_divide\n",
      "  slope = (y_hi - y_lo) / (x_hi - x_lo)[:, None]\n",
      "/Users/cedrickperron/opt/anaconda3/envs/gammapy-0.18.2/lib/python3.7/site-packages/scipy/interpolate/interpolate.py:609: RuntimeWarning: overflow encountered in true_divide\n",
      "  slope = (y_hi - y_lo) / (x_hi - x_lo)[:, None]\n",
      "/Users/cedrickperron/opt/anaconda3/envs/gammapy-0.18.2/lib/python3.7/site-packages/scipy/interpolate/interpolate.py:609: RuntimeWarning: overflow encountered in true_divide\n",
      "  slope = (y_hi - y_lo) / (x_hi - x_lo)[:, None]\n",
      "/Users/cedrickperron/opt/anaconda3/envs/gammapy-0.18.2/lib/python3.7/site-packages/scipy/interpolate/interpolate.py:609: RuntimeWarning: overflow encountered in true_divide\n",
      "  slope = (y_hi - y_lo) / (x_hi - x_lo)[:, None]\n",
      "/Users/cedrickperron/opt/anaconda3/envs/gammapy-0.18.2/lib/python3.7/site-packages/scipy/interpolate/interpolate.py:609: RuntimeWarning: overflow encountered in true_divide\n",
      "  slope = (y_hi - y_lo) / (x_hi - x_lo)[:, None]\n",
      "/Users/cedrickperron/opt/anaconda3/envs/gammapy-0.18.2/lib/python3.7/site-packages/scipy/interpolate/interpolate.py:609: RuntimeWarning: overflow encountered in true_divide\n",
      "  slope = (y_hi - y_lo) / (x_hi - x_lo)[:, None]\n",
      "/Users/cedrickperron/opt/anaconda3/envs/gammapy-0.18.2/lib/python3.7/site-packages/scipy/interpolate/interpolate.py:609: RuntimeWarning: overflow encountered in true_divide\n",
      "  slope = (y_hi - y_lo) / (x_hi - x_lo)[:, None]\n",
      "/Users/cedrickperron/opt/anaconda3/envs/gammapy-0.18.2/lib/python3.7/site-packages/scipy/interpolate/interpolate.py:609: RuntimeWarning: overflow encountered in true_divide\n",
      "  slope = (y_hi - y_lo) / (x_hi - x_lo)[:, None]\n",
      "/Users/cedrickperron/opt/anaconda3/envs/gammapy-0.18.2/lib/python3.7/site-packages/scipy/interpolate/interpolate.py:609: RuntimeWarning: overflow encountered in true_divide\n",
      "  slope = (y_hi - y_lo) / (x_hi - x_lo)[:, None]\n",
      "/Users/cedrickperron/opt/anaconda3/envs/gammapy-0.18.2/lib/python3.7/site-packages/scipy/interpolate/interpolate.py:609: RuntimeWarning: overflow encountered in true_divide\n",
      "  slope = (y_hi - y_lo) / (x_hi - x_lo)[:, None]\n"
     ]
    },
    {
     "name": "stdout",
     "output_type": "stream",
     "text": [
      "CPU times: user 59.2 s, sys: 17.6 s, total: 1min 16s\n",
      "Wall time: 1min 25s\n"
     ]
    }
   ],
   "source": [
    "%%time\n",
    "stacked = MapDataset.create(\n",
    "    geom=geom, energy_axis_true=energy_axis_true, name=\"HESS J1826-148\"\n",
    ")\n",
    "\n",
    "empty_dataset = MapDataset.create(\n",
    "    geom=geom, energy_axis_true=energy_axis_true, name=\"HESS J1826-148\"\n",
    ")\n",
    "\n",
    "datasets = Datasets()\n",
    "\n",
    "for obs in observations:\n",
    "    # A MapDataset is filled in this geometry\n",
    "    dataset = maker.run(empty_dataset.copy(name=f\"{obs.obs_id}\"), obs)\n",
    "    # To make images, the resulting dataset cutout is stacked onto the final one\n",
    "    stacked.stack(dataset)\n",
    "\n",
    "    # Extract 1D spectrum\n",
    "    spectrum_dataset = dataset.to_spectrum_dataset(\n",
    "        on_region, containment_correction= True, name=f\"obs-{obs.obs_id}\"\n",
    "    )\n",
    "    # Compute OFF\n",
    "    spectrum_dataset = bkg_maker.run(spectrum_dataset, obs)\n",
    "    # Define safe mask\n",
    "    spectrum_dataset = safe_mask_maker.run(spectrum_dataset, obs)\n",
    "    # Append dataset to the list\n",
    "    datasets.append(spectrum_dataset)"
   ]
  },
  {
   "cell_type": "code",
   "execution_count": 17,
   "id": "844565a7",
   "metadata": {},
   "outputs": [
    {
     "data": {
      "text/html": [
       "<i>Table length=17</i>\n",
       "<table id=\"table140375629055424\" class=\"table-striped table-bordered table-condensed\">\n",
       "<thead><tr><th>NAME</th><th>TYPE</th><th>TELESCOP</th><th>OBS_ID</th><th>RA_PNT</th><th>DEC_PNT</th></tr></thead>\n",
       "<thead><tr><th></th><th></th><th></th><th></th><th>deg</th><th>deg</th></tr></thead>\n",
       "<thead><tr><th>str9</th><th>str20</th><th>str7</th><th>int64</th><th>float64</th><th>float64</th></tr></thead>\n",
       "<tr><td>obs-69123</td><td>SpectrumDatasetOnOff</td><td>VERITAS</td><td>69123</td><td>276.4937438964844</td><td>-15.29050350189209</td></tr>\n",
       "<tr><td>obs-69187</td><td>SpectrumDatasetOnOff</td><td>VERITAS</td><td>69187</td><td>276.96624755859375</td><td>-14.778938293457031</td></tr>\n",
       "<tr><td>obs-69188</td><td>SpectrumDatasetOnOff</td><td>VERITAS</td><td>69188</td><td>276.01361083984375</td><td>-14.766154289245605</td></tr>\n",
       "<tr><td>obs-69202</td><td>SpectrumDatasetOnOff</td><td>VERITAS</td><td>69202</td><td>276.4831848144531</td><td>-14.290704727172852</td></tr>\n",
       "<tr><td>obs-69203</td><td>SpectrumDatasetOnOff</td><td>VERITAS</td><td>69203</td><td>276.4649963378906</td><td>-15.287714004516602</td></tr>\n",
       "<tr><td>obs-73193</td><td>SpectrumDatasetOnOff</td><td>VERITAS</td><td>73193</td><td>276.0265808105469</td><td>-14.808158874511719</td></tr>\n",
       "<tr><td>obs-73213</td><td>SpectrumDatasetOnOff</td><td>VERITAS</td><td>73213</td><td>276.5266418457031</td><td>-14.309259414672852</td></tr>\n",
       "<tr><td>obs-73234</td><td>SpectrumDatasetOnOff</td><td>VERITAS</td><td>73234</td><td>276.52069091796875</td><td>-15.287755966186523</td></tr>\n",
       "<tr><td>obs-73300</td><td>SpectrumDatasetOnOff</td><td>VERITAS</td><td>73300</td><td>276.96343994140625</td><td>-14.801725387573242</td></tr>\n",
       "<tr><td>obs-73317</td><td>SpectrumDatasetOnOff</td><td>VERITAS</td><td>73317</td><td>276.01177978515625</td><td>-14.780830383300781</td></tr>\n",
       "<tr><td>obs-73335</td><td>SpectrumDatasetOnOff</td><td>VERITAS</td><td>73335</td><td>276.4990234375</td><td>-14.307141304016113</td></tr>\n",
       "<tr><td>obs-73356</td><td>SpectrumDatasetOnOff</td><td>VERITAS</td><td>73356</td><td>276.4639892578125</td><td>-15.382307052612305</td></tr>\n",
       "<tr><td>obs-73357</td><td>SpectrumDatasetOnOff</td><td>VERITAS</td><td>73357</td><td>276.4930725097656</td><td>-15.280574798583984</td></tr>\n",
       "<tr><td>obs-73370</td><td>SpectrumDatasetOnOff</td><td>VERITAS</td><td>73370</td><td>276.971923828125</td><td>-14.81924057006836</td></tr>\n",
       "<tr><td>obs-73390</td><td>SpectrumDatasetOnOff</td><td>VERITAS</td><td>73390</td><td>276.0328369140625</td><td>-14.79442310333252</td></tr>\n",
       "<tr><td>obs-73403</td><td>SpectrumDatasetOnOff</td><td>VERITAS</td><td>73403</td><td>276.5152282714844</td><td>-14.260228157043457</td></tr>\n",
       "<tr><td>obs-73607</td><td>SpectrumDatasetOnOff</td><td>VERITAS</td><td>73607</td><td>276.5117492675781</td><td>-15.346187591552734</td></tr>\n",
       "</table>"
      ],
      "text/plain": [
       "<Table length=17>\n",
       "   NAME           TYPE         ...       RA_PNT             DEC_PNT      \n",
       "                               ...        deg                 deg        \n",
       "   str9          str20         ...      float64             float64      \n",
       "--------- -------------------- ... ------------------ -------------------\n",
       "obs-69123 SpectrumDatasetOnOff ...  276.4937438964844  -15.29050350189209\n",
       "obs-69187 SpectrumDatasetOnOff ... 276.96624755859375 -14.778938293457031\n",
       "obs-69188 SpectrumDatasetOnOff ... 276.01361083984375 -14.766154289245605\n",
       "obs-69202 SpectrumDatasetOnOff ...  276.4831848144531 -14.290704727172852\n",
       "obs-69203 SpectrumDatasetOnOff ...  276.4649963378906 -15.287714004516602\n",
       "obs-73193 SpectrumDatasetOnOff ...  276.0265808105469 -14.808158874511719\n",
       "obs-73213 SpectrumDatasetOnOff ...  276.5266418457031 -14.309259414672852\n",
       "obs-73234 SpectrumDatasetOnOff ... 276.52069091796875 -15.287755966186523\n",
       "obs-73300 SpectrumDatasetOnOff ... 276.96343994140625 -14.801725387573242\n",
       "obs-73317 SpectrumDatasetOnOff ... 276.01177978515625 -14.780830383300781\n",
       "obs-73335 SpectrumDatasetOnOff ...     276.4990234375 -14.307141304016113\n",
       "obs-73356 SpectrumDatasetOnOff ...  276.4639892578125 -15.382307052612305\n",
       "obs-73357 SpectrumDatasetOnOff ...  276.4930725097656 -15.280574798583984\n",
       "obs-73370 SpectrumDatasetOnOff ...   276.971923828125  -14.81924057006836\n",
       "obs-73390 SpectrumDatasetOnOff ...  276.0328369140625  -14.79442310333252\n",
       "obs-73403 SpectrumDatasetOnOff ...  276.5152282714844 -14.260228157043457\n",
       "obs-73607 SpectrumDatasetOnOff ...  276.5117492675781 -15.346187591552734"
      ]
     },
     "execution_count": 17,
     "metadata": {},
     "output_type": "execute_result"
    }
   ],
   "source": [
    "datasets.meta_table"
   ]
  },
  {
   "cell_type": "code",
   "execution_count": 18,
   "id": "acb38a0f",
   "metadata": {},
   "outputs": [
    {
     "data": {
      "text/plain": [
       "<matplotlib.axes._subplots.WCSAxesSubplot at 0x7fab1cd2cd30>"
      ]
     },
     "execution_count": 18,
     "metadata": {},
     "output_type": "execute_result"
    },
    {
     "data": {
      "image/png": "[encoded data removed]",
      "text/plain": [
       "<Figure size 432x288 with 1 Axes>"
      ]
     },
     "metadata": {
      "needs_background": "light"
     },
     "output_type": "display_data"
    }
   ],
   "source": [
    "stacked.counts.sum_over_axes().smooth(width=\"0.05 deg\").plot()\n",
    "on_region.to_pixel(stacked.counts.geom.wcs).plot()"
   ]
  },
  {
   "cell_type": "code",
   "execution_count": 19,
   "id": "fdd3873e",
   "metadata": {},
   "outputs": [
    {
     "data": {
      "text/plain": [
       "(<matplotlib.axes._subplots.AxesSubplot at 0x7fab1cf75128>,\n",
       " <matplotlib.axes._subplots.AxesSubplot at 0x7fab1ee97a20>,\n",
       " <matplotlib.axes._subplots.AxesSubplot at 0x7fab1d4d7c50>)"
      ]
     },
     "execution_count": 19,
     "metadata": {},
     "output_type": "execute_result"
    },
    {
     "data": {
      "image/png": "[encoded data removed]",
      "text/plain": [
       "<Figure size 1152x288 with 3 Axes>"
      ]
     },
     "metadata": {
      "needs_background": "light"
     },
     "output_type": "display_data"
    }
   ],
   "source": [
    "datasets[0].peek()"
   ]
  },
  {
   "cell_type": "code",
   "execution_count": 20,
   "id": "bad87c13",
   "metadata": {},
   "outputs": [],
   "source": [
    "info_table = datasets.info_table(cumulative=True)"
   ]
  },
  {
   "cell_type": "code",
   "execution_count": 21,
   "id": "a7bae870",
   "metadata": {},
   "outputs": [
    {
     "data": {
      "image/png": "[encoded data removed]",
      "text/plain": [
       "<Figure size 720x432 with 2 Axes>"
      ]
     },
     "metadata": {
      "needs_background": "light"
     },
     "output_type": "display_data"
    }
   ],
   "source": [
    "fig = plt.figure(figsize=(10, 6))\n",
    "ax = fig.add_subplot(121)\n",
    "ax.plot(\n",
    "    info_table[\"livetime\"].to(\"h\"), info_table[\"excess\"], marker=\"o\", ls=\"none\"\n",
    ")\n",
    "plt.xlabel(\"Livetime [h]\")\n",
    "plt.ylabel(\"Excess events\")\n",
    "\n",
    "ax = fig.add_subplot(122)\n",
    "ax.plot(\n",
    "    info_table[\"livetime\"].to(\"h\"),\n",
    "    info_table[\"sqrt_ts\"],\n",
    "    marker=\"o\",\n",
    "    ls=\"none\",\n",
    ")\n",
    "plt.xlabel(\"Livetime [h]\")\n",
    "plt.ylabel(\"Sqrt(TS)\");"
   ]
  },
  {
   "cell_type": "code",
   "execution_count": 22,
   "id": "dbcfd1b3",
   "metadata": {},
   "outputs": [],
   "source": [
    "spectral_model = PowerLawSpectralModel(\n",
    "    index=2.50, amplitude=2e-11 * u.Unit(\"cm-2 s-1 TeV-1\"), reference=1 * u.TeV\n",
    ")\n",
    "sky_model = SkyModel(spectral_model=spectral_model, name=\"HESS J1826-148\")\n",
    "\n",
    "#datasets.models = Models([sky_model])\n",
    "\n",
    "for dataset in datasets:\n",
    "    dataset.model = sky_model"
   ]
  },
  {
   "cell_type": "code",
   "execution_count": 23,
   "id": "1e635153",
   "metadata": {},
   "outputs": [
    {
     "ename": "TypeError",
     "evalue": "ufunc 'bitwise_or' not supported for the input types, and the inputs could not be safely coerced to any supported types according to the casting rule ''safe''",
     "output_type": "error",
     "traceback": [
      "\u001b[0;31m---------------------------------------------------------------------------\u001b[0m",
      "\u001b[0;31mTypeError\u001b[0m                                 Traceback (most recent call last)",
      "\u001b[0;32m<timed exec>\u001b[0m in \u001b[0;36m<module>\u001b[0;34m\u001b[0m\n",
      "\u001b[0;32m~/opt/anaconda3/envs/gammapy-0.18.2/lib/python3.7/site-packages/gammapy/modeling/fit.py\u001b[0m in \u001b[0;36mrun\u001b[0;34m(self, backend, optimize_opts, covariance_opts)\u001b[0m\n\u001b[1;32m    116\u001b[0m             \u001b[0;32mreturn\u001b[0m \u001b[0moptimize_result\u001b[0m\u001b[0;34m\u001b[0m\u001b[0m\n\u001b[1;32m    117\u001b[0m \u001b[0;34m\u001b[0m\u001b[0m\n\u001b[0;32m--> 118\u001b[0;31m         \u001b[0mcovariance_result\u001b[0m \u001b[0;34m=\u001b[0m \u001b[0mself\u001b[0m\u001b[0;34m.\u001b[0m\u001b[0mcovariance\u001b[0m\u001b[0;34m(\u001b[0m\u001b[0mbackend\u001b[0m\u001b[0;34m,\u001b[0m \u001b[0;34m**\u001b[0m\u001b[0mcovariance_opts\u001b[0m\u001b[0;34m)\u001b[0m\u001b[0;34m\u001b[0m\u001b[0m\n\u001b[0m\u001b[1;32m    119\u001b[0m         \u001b[0;31m# TODO: not sure how best to report the results\u001b[0m\u001b[0;34m\u001b[0m\u001b[0;34m\u001b[0m\u001b[0m\n\u001b[1;32m    120\u001b[0m         \u001b[0;31m# back or how to form the FitResult object.\u001b[0m\u001b[0;34m\u001b[0m\u001b[0;34m\u001b[0m\u001b[0m\n",
      "\u001b[0;32m~/opt/anaconda3/envs/gammapy-0.18.2/lib/python3.7/site-packages/gammapy/modeling/fit.py\u001b[0m in \u001b[0;36mcovariance\u001b[0;34m(self, backend, **kwargs)\u001b[0m\n\u001b[1;32m    233\u001b[0m \u001b[0;34m\u001b[0m\u001b[0m\n\u001b[1;32m    234\u001b[0m             covariance = Covariance.from_factor_matrix(\n\u001b[0;32m--> 235\u001b[0;31m                 \u001b[0mparameters\u001b[0m\u001b[0;34m=\u001b[0m\u001b[0mself\u001b[0m\u001b[0;34m.\u001b[0m\u001b[0m_models\u001b[0m\u001b[0;34m.\u001b[0m\u001b[0mparameters\u001b[0m\u001b[0;34m,\u001b[0m \u001b[0mmatrix\u001b[0m\u001b[0;34m=\u001b[0m\u001b[0mfactor_matrix\u001b[0m\u001b[0;34m\u001b[0m\u001b[0m\n\u001b[0m\u001b[1;32m    236\u001b[0m             )\n\u001b[1;32m    237\u001b[0m             \u001b[0mself\u001b[0m\u001b[0;34m.\u001b[0m\u001b[0m_models\u001b[0m\u001b[0;34m.\u001b[0m\u001b[0mcovariance\u001b[0m \u001b[0;34m=\u001b[0m \u001b[0mcovariance\u001b[0m\u001b[0;34m\u001b[0m\u001b[0m\n",
      "\u001b[0;32m~/opt/anaconda3/envs/gammapy-0.18.2/lib/python3.7/site-packages/gammapy/modeling/covariance.py\u001b[0m in \u001b[0;36mfrom_factor_matrix\u001b[0;34m(cls, parameters, matrix)\u001b[0m\n\u001b[1;32m     73\u001b[0m \u001b[0;34m\u001b[0m\u001b[0m\n\u001b[1;32m     74\u001b[0m         \u001b[0;32mif\u001b[0m \u001b[0;32mnot\u001b[0m \u001b[0mmatrix\u001b[0m\u001b[0;34m.\u001b[0m\u001b[0mshape\u001b[0m \u001b[0;34m==\u001b[0m \u001b[0;34m(\u001b[0m\u001b[0mnpars\u001b[0m\u001b[0;34m,\u001b[0m \u001b[0mnpars\u001b[0m\u001b[0;34m)\u001b[0m\u001b[0;34m:\u001b[0m\u001b[0;34m\u001b[0m\u001b[0m\n\u001b[0;32m---> 75\u001b[0;31m             \u001b[0mmatrix\u001b[0m \u001b[0;34m=\u001b[0m \u001b[0mcls\u001b[0m\u001b[0;34m.\u001b[0m\u001b[0m_expand_factor_matrix\u001b[0m\u001b[0;34m(\u001b[0m\u001b[0mmatrix\u001b[0m\u001b[0;34m,\u001b[0m \u001b[0mparameters\u001b[0m\u001b[0;34m)\u001b[0m\u001b[0;34m\u001b[0m\u001b[0m\n\u001b[0m\u001b[1;32m     76\u001b[0m \u001b[0;34m\u001b[0m\u001b[0m\n\u001b[1;32m     77\u001b[0m         \u001b[0mscales\u001b[0m \u001b[0;34m=\u001b[0m \u001b[0;34m[\u001b[0m\u001b[0mpar\u001b[0m\u001b[0;34m.\u001b[0m\u001b[0mscale\u001b[0m \u001b[0;32mfor\u001b[0m \u001b[0mpar\u001b[0m \u001b[0;32min\u001b[0m \u001b[0mparameters\u001b[0m\u001b[0;34m]\u001b[0m\u001b[0;34m\u001b[0m\u001b[0m\n",
      "\u001b[0;32m~/opt/anaconda3/envs/gammapy-0.18.2/lib/python3.7/site-packages/gammapy/modeling/covariance.py\u001b[0m in \u001b[0;36m_expand_factor_matrix\u001b[0;34m(matrix, parameters)\u001b[0m\n\u001b[1;32m     59\u001b[0m         \u001b[0mpars_index\u001b[0m \u001b[0;34m=\u001b[0m \u001b[0;34m[\u001b[0m\u001b[0mnp\u001b[0m\u001b[0;34m.\u001b[0m\u001b[0mwhere\u001b[0m\u001b[0;34m(\u001b[0m\u001b[0mnp\u001b[0m\u001b[0;34m.\u001b[0m\u001b[0marray\u001b[0m\u001b[0;34m(\u001b[0m\u001b[0mparameters\u001b[0m\u001b[0;34m)\u001b[0m \u001b[0;34m==\u001b[0m \u001b[0mp\u001b[0m\u001b[0;34m)\u001b[0m\u001b[0;34m[\u001b[0m\u001b[0;36m0\u001b[0m\u001b[0;34m]\u001b[0m\u001b[0;34m[\u001b[0m\u001b[0;36m0\u001b[0m\u001b[0;34m]\u001b[0m \u001b[0;32mfor\u001b[0m \u001b[0mp\u001b[0m \u001b[0;32min\u001b[0m \u001b[0mparameters\u001b[0m\u001b[0;34m]\u001b[0m\u001b[0;34m\u001b[0m\u001b[0m\n\u001b[1;32m     60\u001b[0m         \u001b[0mmask_duplicate\u001b[0m \u001b[0;34m=\u001b[0m \u001b[0;34m[\u001b[0m\u001b[0mpars_idx\u001b[0m \u001b[0;34m!=\u001b[0m \u001b[0midx\u001b[0m \u001b[0;32mfor\u001b[0m \u001b[0midx\u001b[0m\u001b[0;34m,\u001b[0m \u001b[0mpars_idx\u001b[0m \u001b[0;32min\u001b[0m \u001b[0menumerate\u001b[0m\u001b[0;34m(\u001b[0m\u001b[0mpars_index\u001b[0m\u001b[0;34m)\u001b[0m\u001b[0;34m]\u001b[0m\u001b[0;34m\u001b[0m\u001b[0m\n\u001b[0;32m---> 61\u001b[0;31m         \u001b[0mmask\u001b[0m \u001b[0;34m=\u001b[0m \u001b[0mnp\u001b[0m\u001b[0;34m.\u001b[0m\u001b[0marray\u001b[0m\u001b[0;34m(\u001b[0m\u001b[0mmask_frozen\u001b[0m\u001b[0;34m)\u001b[0m \u001b[0;34m|\u001b[0m \u001b[0mnp\u001b[0m\u001b[0;34m.\u001b[0m\u001b[0marray\u001b[0m\u001b[0;34m(\u001b[0m\u001b[0mmask_duplicate\u001b[0m\u001b[0;34m)\u001b[0m\u001b[0;34m\u001b[0m\u001b[0m\n\u001b[0m\u001b[1;32m     62\u001b[0m         \u001b[0mfree_parameters\u001b[0m \u001b[0;34m=\u001b[0m \u001b[0;34m~\u001b[0m\u001b[0;34m(\u001b[0m\u001b[0mmask\u001b[0m \u001b[0;34m|\u001b[0m \u001b[0mmask\u001b[0m\u001b[0;34m[\u001b[0m\u001b[0;34m:\u001b[0m\u001b[0;34m,\u001b[0m \u001b[0mnp\u001b[0m\u001b[0;34m.\u001b[0m\u001b[0mnewaxis\u001b[0m\u001b[0;34m]\u001b[0m\u001b[0;34m)\u001b[0m\u001b[0;34m\u001b[0m\u001b[0m\n\u001b[1;32m     63\u001b[0m         \u001b[0mmatrix_expanded\u001b[0m\u001b[0;34m[\u001b[0m\u001b[0mfree_parameters\u001b[0m\u001b[0;34m]\u001b[0m \u001b[0;34m=\u001b[0m \u001b[0mmatrix\u001b[0m\u001b[0;34m.\u001b[0m\u001b[0mravel\u001b[0m\u001b[0;34m(\u001b[0m\u001b[0;34m)\u001b[0m\u001b[0;34m\u001b[0m\u001b[0m\n",
      "\u001b[0;31mTypeError\u001b[0m: ufunc 'bitwise_or' not supported for the input types, and the inputs could not be safely coerced to any supported types according to the casting rule ''safe''"
     ]
    }
   ],
   "source": [
    "%%time\n",
    "fit_joint = Fit(datasets[0])\n",
    "result_joint = fit_joint.run()\n",
    "print(result_joint)"
   ]
  },
  {
   "cell_type": "code",
   "execution_count": 24,
   "id": "8e733705",
   "metadata": {},
   "outputs": [
    {
     "ename": "NameError",
     "evalue": "name 'result_joint' is not defined",
     "output_type": "error",
     "traceback": [
      "\u001b[0;31m---------------------------------------------------------------------------\u001b[0m",
      "\u001b[0;31mNameError\u001b[0m                                 Traceback (most recent call last)",
      "\u001b[0;32m<ipython-input-24-ee0cf450aeae>\u001b[0m in \u001b[0;36m<module>\u001b[0;34m\u001b[0m\n\u001b[0;32m----> 1\u001b[0;31m \u001b[0mresult_joint\u001b[0m\u001b[0;34m.\u001b[0m\u001b[0mparameters\u001b[0m\u001b[0;34m.\u001b[0m\u001b[0mto_table\u001b[0m\u001b[0;34m(\u001b[0m\u001b[0;34m)\u001b[0m\u001b[0;34m\u001b[0m\u001b[0m\n\u001b[0m",
      "\u001b[0;31mNameError\u001b[0m: name 'result_joint' is not defined"
     ]
    }
   ],
   "source": [
    "result_joint.parameters.to_table()"
   ]
  },
  {
   "cell_type": "code",
   "execution_count": null,
   "id": "6d09ffca",
   "metadata": {},
   "outputs": [],
   "source": [
    "# First stack them all\n",
    "reduced = datasets.stack_reduce()\n",
    "# Assign the fitted model\n",
    "reduced.models = model\n",
    "# Plot the result\n",
    "reduced.plot_fit();"
   ]
  },
  {
   "cell_type": "code",
   "execution_count": null,
   "id": "d272aa2a",
   "metadata": {},
   "outputs": [],
   "source": []
  }
 ],
 "metadata": {
  "kernelspec": {
   "display_name": "Python 3",
   "language": "python",
   "name": "python3"
  },
  "language_info": {
   "codemirror_mode": {
    "name": "ipython",
    "version": 3
   },
   "file_extension": ".py",
   "mimetype": "text/x-python",
   "name": "python",
   "nbconvert_exporter": "python",
   "pygments_lexer": "ipython3",
   "version": "3.7.0"
  }
 },
 "nbformat": 4,
 "nbformat_minor": 5
}
