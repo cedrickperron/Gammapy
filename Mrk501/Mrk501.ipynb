{
 "cells": [
  {
   "cell_type": "code",
   "execution_count": 1,
   "id": "1672bea2",
   "metadata": {
    "scrolled": true
   },
   "outputs": [
    {
     "name": "stdout",
     "output_type": "stream",
     "text": [
      "CPU times: user 2.51 s, sys: 1.11 s, total: 3.62 s\n",
      "Wall time: 5.97 s\n"
     ]
    }
   ],
   "source": [
    "%%time\n",
    "%matplotlib inline\n",
    "import matplotlib.pyplot as plt\n",
    "import gammapy_fct as gf\n",
    "import pandas as pd\n",
    "import numpy as np\n",
    "import astropy\n",
    "import gammapy\n",
    "from gammapy.analysis import Analysis, AnalysisConfig\n",
    "from gammapy.data import DataStore, EventList\n",
    "from gammapy.irf.effective_area import EffectiveAreaTable2D\n",
    "from gammapy.irf.energy_dispersion import EnergyDispersion2D\n",
    "from gammapy.irf.psf_gauss import EnergyDependentMultiGaussPSF\n",
    "from gammapy.irf import EffectiveAreaTable2D, load_cta_irfs\n",
    "gammapy.data.HDUIndexTable.VALID_HDU_CLASS\n",
    "from astropy.time import Time\n",
    "import astropy.units as u\n",
    "from astropy.coordinates import SkyCoord, Angle\n",
    "from astropy.convolution import Gaussian2DKernel\n",
    "from regions import CircleSkyRegion\n",
    "from gammapy.modeling import Fit\n",
    "from gammapy.data import DataStore, Observation\n",
    "from gammapy.datasets import (\n",
    "    Dataset,\n",
    "    Datasets,\n",
    "    FluxPointsDataset,\n",
    "    SpectrumDataset,\n",
    "    MapDataset,\n",
    "    MapDatasetOnOff,\n",
    "    SpectrumDatasetOnOff\n",
    ")\n",
    "from gammapy.modeling.models import *\n",
    "from gammapy.maps import MapAxis, WcsNDMap, WcsGeom, Map, RegionNDMap\n",
    "from gammapy.makers import (\n",
    "    MapDatasetMaker,\n",
    "    SafeMaskMaker,\n",
    "    SpectrumDatasetMaker,\n",
    "    ReflectedRegionsBackgroundMaker,\n",
    "    RingBackgroundMaker,\n",
    "    ReflectedRegionsFinder,\n",
    "    \n",
    ")\n",
    "from gammapy.estimators import TSMapEstimator, FluxPointsEstimator, LightCurveEstimator, ESTIMATOR_REGISTRY\n",
    "from gammapy.estimators.utils import find_peaks\n",
    "from gammapy.visualization import plot_spectrum_datasets_off_regions\n",
    "\n",
    "from gammapy.utils.regions import make_region\n",
    "from itertools import combinations\n",
    "from gammapy.visualization.utils import plot_contour_line\n"
   ]
  },
  {
   "cell_type": "code",
   "execution_count": 2,
   "id": "21b874ed",
   "metadata": {},
   "outputs": [
    {
     "name": "stdout",
     "output_type": "stream",
     "text": [
      "Help on class LightCurveTemplateTemporalModel in module gammapy.modeling.models.temporal:\n",
      "\n",
      "class LightCurveTemplateTemporalModel(TemporalModel)\n",
      " |  LightCurveTemplateTemporalModel(table, filename=None)\n",
      " |  \n",
      " |  Temporal light curve model.\n",
      " |  \n",
      " |  The lightcurve is given as a table with columns ``time`` and ``norm``.\n",
      " |  \n",
      " |  The ``norm`` is supposed to be a unit-less multiplicative factor in the model,\n",
      " |  to be multiplied with a spectral model.\n",
      " |  \n",
      " |  The model does linear interpolation for times between the given ``(time, norm)`` values.\n",
      " |  \n",
      " |  The implementation currently uses `scipy.interpolate. InterpolatedUnivariateSpline`,\n",
      " |  using degree ``k=1`` to get linear interpolation.\n",
      " |  This class also contains an ``integral`` method, making the computation of\n",
      " |  mean fluxes for a given time interval a one-liner.\n",
      " |  \n",
      " |  Parameters\n",
      " |  ----------\n",
      " |  table : `~astropy.table.Table`\n",
      " |      A table with 'TIME' vs 'NORM'\n",
      " |  \n",
      " |  Examples\n",
      " |  --------\n",
      " |  Read an example light curve object:\n",
      " |  \n",
      " |  >>> from gammapy.modeling.models import LightCurveTemplateTemporalModel\n",
      " |  >>> path = '$GAMMAPY_DATA/tests/models/light_curve/lightcrv_PKSB1222+216.fits'\n",
      " |  >>> light_curve = LightCurveTemplateTemporalModel.read(path)\n",
      " |  \n",
      " |  Show basic information about the lightcurve:\n",
      " |  \n",
      " |  >>> print(light_curve)\n",
      " |  LightCurve model summary:\n",
      " |  Start time: 59000.5 MJD\n",
      " |  End time: 61862.5 MJD\n",
      " |  Norm min: 0.01551196351647377\n",
      " |  Norm max: 1.0\n",
      " |  \n",
      " |  Compute ``norm`` at a given time:\n",
      " |  \n",
      " |  >>> light_curve.evaluate(46300)\n",
      " |  0.49059393580053845\n",
      " |  \n",
      " |  Compute mean ``norm`` in a given time interval:\n",
      " |  \n",
      " |  >>> light_curve.mean_norm_in_time_interval(46300, 46301)\n",
      " |  \n",
      " |  Method resolution order:\n",
      " |      LightCurveTemplateTemporalModel\n",
      " |      TemporalModel\n",
      " |      gammapy.modeling.models.core.Model\n",
      " |      builtins.object\n",
      " |  \n",
      " |  Methods defined here:\n",
      " |  \n",
      " |  __init__(self, table, filename=None)\n",
      " |      Initialize self.  See help(type(self)) for accurate signature.\n",
      " |  \n",
      " |  __str__(self)\n",
      " |      Return str(self).\n",
      " |  \n",
      " |  evaluate(self, time, ext=0)\n",
      " |      Evaluate for a given time.\n",
      " |      \n",
      " |      Parameters\n",
      " |      ----------\n",
      " |      time : array_like\n",
      " |          Time since the ``reference`` time.\n",
      " |      ext : int or str, optional, default: 0\n",
      " |          Parameter passed to ~scipy.interpolate.InterpolatedUnivariateSpline\n",
      " |          Controls the extrapolation mode for GTIs outside the range\n",
      " |          0 or \"extrapolate\", return the extrapolated value.\n",
      " |          1 or \"zeros\", return 0\n",
      " |          2 or \"raise\", raise a ValueError\n",
      " |          3 or \"const\", return the boundary value.\n",
      " |      \n",
      " |      \n",
      " |      Returns\n",
      " |      -------\n",
      " |      norm : array_like\n",
      " |          Norm at the given times.\n",
      " |  \n",
      " |  integral(self, t_min, t_max)\n",
      " |      Evaluate the integrated flux within the given time intervals\n",
      " |      \n",
      " |      Parameters\n",
      " |      ----------\n",
      " |      t_min: `~astropy.time.Time`\n",
      " |          Start times of observation\n",
      " |      t_max: `~astropy.time.Time`\n",
      " |          Stop times of observation\n",
      " |      Returns\n",
      " |      -------\n",
      " |      norm: The model integrated flux\n",
      " |  \n",
      " |  sample_time(self, n_events, t_min, t_max, t_delta='1 s', random_state=0)\n",
      " |      Sample arrival times of events.\n",
      " |      \n",
      " |      Parameters\n",
      " |      ----------\n",
      " |      n_events : int\n",
      " |          Number of events to sample.\n",
      " |      t_min : `~astropy.time.Time`\n",
      " |          Start time of the sampling.\n",
      " |      t_max : `~astropy.time.Time`\n",
      " |          Stop time of the sampling.\n",
      " |      t_delta : `~astropy.units.Quantity`\n",
      " |          Time step used for sampling of the temporal model.\n",
      " |      random_state : {int, 'random-seed', 'global-rng', `~numpy.random.RandomState`}\n",
      " |          Defines random number generator initialisation.\n",
      " |          Passed to `~gammapy.utils.random.get_random_state`.\n",
      " |      \n",
      " |      Returns\n",
      " |      -------\n",
      " |      time : `~astropy.units.Quantity`\n",
      " |          Array with times of the sampled events.\n",
      " |  \n",
      " |  to_dict(self, full_output=False)\n",
      " |      Create dict for YAML serilisation\n",
      " |  \n",
      " |  write(self, path=None, overwrite=False)\n",
      " |  \n",
      " |  ----------------------------------------------------------------------\n",
      " |  Class methods defined here:\n",
      " |  \n",
      " |  from_dict(data) from builtins.type\n",
      " |  \n",
      " |  read(path) from builtins.type\n",
      " |      Read lightcurve model table from FITS file.\n",
      " |      \n",
      " |      TODO: This doesn't read the XML part of the model yet.\n",
      " |  \n",
      " |  ----------------------------------------------------------------------\n",
      " |  Data and other attributes defined here:\n",
      " |  \n",
      " |  default_parameters = <gammapy.modeling.parameter.Parameters object>\n",
      " |  \n",
      " |  tag = ['LightCurveTemplateTemporalModel', 'template']\n",
      " |  \n",
      " |  ----------------------------------------------------------------------\n",
      " |  Methods inherited from TemporalModel:\n",
      " |  \n",
      " |  __call__(self, time)\n",
      " |      Evaluate model\n",
      " |      \n",
      " |      Parameters\n",
      " |      ----------\n",
      " |      time : `~astropy.time.Time`\n",
      " |          Time object\n",
      " |  \n",
      " |  plot(self, time_range, ax=None)\n",
      " |      Plot Temporal Model.\n",
      " |      \n",
      " |      Parameters\n",
      " |      ----------\n",
      " |      time_range : `~astropy.time.Time`\n",
      " |          times to plot the model\n",
      " |      ax : `~matplotlib.axes.Axes`, optional\n",
      " |          axis\n",
      " |      \n",
      " |      Returns\n",
      " |      -------\n",
      " |      ax : `~matplotlib.axes.Axes`, optional\n",
      " |          axis\n",
      " |  \n",
      " |  ----------------------------------------------------------------------\n",
      " |  Static methods inherited from TemporalModel:\n",
      " |  \n",
      " |  time_sum(t_min, t_max)\n",
      " |      Total time between t_min and t_max\n",
      " |      \n",
      " |      Parameters\n",
      " |      ----------\n",
      " |      t_min, t_max: `~astropy.time.Time`\n",
      " |          Lower and upper bound of integration range\n",
      " |      \n",
      " |      Returns\n",
      " |      -------\n",
      " |      time_sum : `~astropy.time.TimeDelta`\n",
      " |          Summed time in the intervals.\n",
      " |  \n",
      " |  ----------------------------------------------------------------------\n",
      " |  Data descriptors inherited from TemporalModel:\n",
      " |  \n",
      " |  type\n",
      " |  \n",
      " |  ----------------------------------------------------------------------\n",
      " |  Methods inherited from gammapy.modeling.models.core.Model:\n",
      " |  \n",
      " |  copy(self)\n",
      " |      A deep copy.\n",
      " |  \n",
      " |  ----------------------------------------------------------------------\n",
      " |  Class methods inherited from gammapy.modeling.models.core.Model:\n",
      " |  \n",
      " |  __init_subclass__(**kwargs) from builtins.type\n",
      " |      This method is called when a class is subclassed.\n",
      " |      \n",
      " |      The default implementation does nothing. It may be\n",
      " |      overridden to extend subclasses.\n",
      " |  \n",
      " |  from_parameters(parameters, **kwargs) from builtins.type\n",
      " |      Create model from parameter list\n",
      " |      \n",
      " |      Parameters\n",
      " |      ----------\n",
      " |      parameters : `Parameters`\n",
      " |          Parameters for init\n",
      " |      \n",
      " |      Returns\n",
      " |      -------\n",
      " |      model : `Model`\n",
      " |          Model instance\n",
      " |  \n",
      " |  ----------------------------------------------------------------------\n",
      " |  Static methods inherited from gammapy.modeling.models.core.Model:\n",
      " |  \n",
      " |  create(tag, model_type=None, *args, **kwargs)\n",
      " |      Create a model instance.\n",
      " |      \n",
      " |      Examples\n",
      " |      --------\n",
      " |      >>> from gammapy.modeling.models import Model\n",
      " |      >>> spectral_model = Model.create(\"pl-2\", model_type=\"spectral\", amplitude=\"1e-10 cm-2 s-1\", index=3)\n",
      " |      >>> type(spectral_model)\n",
      " |      gammapy.modeling.models.spectral.PowerLaw2SpectralModel\n",
      " |  \n",
      " |  ----------------------------------------------------------------------\n",
      " |  Data descriptors inherited from gammapy.modeling.models.core.Model:\n",
      " |  \n",
      " |  __dict__\n",
      " |      dictionary for instance variables (if defined)\n",
      " |  \n",
      " |  __weakref__\n",
      " |      list of weak references to the object (if defined)\n",
      " |  \n",
      " |  covariance\n",
      " |  \n",
      " |  parameters\n",
      " |      Parameters (`~gammapy.modeling.Parameters`)\n",
      "\n",
      "Help on class GaussianTemporalModel in module gammapy.modeling.models.temporal:\n",
      "\n",
      "class GaussianTemporalModel(TemporalModel)\n",
      " |  GaussianTemporalModel(**kwargs)\n",
      " |  \n",
      " |  A Gaussian temporal profile\n",
      " |  \n",
      " |  ..math::\n",
      " |          F(t) = exp( -0.5 * \\frac{ (t - t_{ref})^2 } { \\sigma^2 })\n",
      " |  \n",
      " |  Parameters\n",
      " |  ----------\n",
      " |  t_ref: `~astropy.units.Quantity`\n",
      " |      The reference time in mjd at the peak.\n",
      " |  sigma : `~astropy.units.Quantity`\n",
      " |      Width of the gaussian profile.\n",
      " |  \n",
      " |  Method resolution order:\n",
      " |      GaussianTemporalModel\n",
      " |      TemporalModel\n",
      " |      gammapy.modeling.models.core.Model\n",
      " |      builtins.object\n",
      " |  \n",
      " |  Methods defined here:\n",
      " |  \n",
      " |  integral(self, t_min, t_max, **kwargs)\n",
      " |      Evaluate the integrated flux within the given time intervals\n",
      " |      \n",
      " |      Parameters\n",
      " |      ----------\n",
      " |      t_min: `~astropy.time.Time`\n",
      " |          Start times of observation\n",
      " |      t_max: `~astropy.time.Time`\n",
      " |          Stop times of observation\n",
      " |      \n",
      " |      Returns\n",
      " |      -------\n",
      " |      norm : float\n",
      " |          Integrated flux norm on the given time intervals\n",
      " |  \n",
      " |  ----------------------------------------------------------------------\n",
      " |  Static methods defined here:\n",
      " |  \n",
      " |  evaluate(time, t_ref, sigma)\n",
      " |  \n",
      " |  ----------------------------------------------------------------------\n",
      " |  Data descriptors defined here:\n",
      " |  \n",
      " |  sigma\n",
      " |      A model parameter.\n",
      " |      \n",
      " |      Note that the parameter value has been split into\n",
      " |      a factor and scale like this::\n",
      " |      \n",
      " |          value = factor x scale\n",
      " |      \n",
      " |      Users should interact with the ``value``, ``quantity``\n",
      " |      or ``min`` and ``max`` properties and consider the fact\n",
      " |      that there is a ``factor``` and ``scale`` an implementation detail.\n",
      " |      \n",
      " |      That was introduced for numerical stability in parameter and error\n",
      " |      estimation methods, only in the Gammapy optimiser interface do we\n",
      " |      interact with the ``factor``, ``factor_min`` and ``factor_max`` properties,\n",
      " |      i.e. the optimiser \"sees\" the well-scaled problem.\n",
      " |      \n",
      " |      Parameters\n",
      " |      ----------\n",
      " |      name : str\n",
      " |          Name\n",
      " |      value : float or `~astropy.units.Quantity`\n",
      " |          Value\n",
      " |      scale : float, optional\n",
      " |          Scale (sometimes used in fitting)\n",
      " |      unit : `~astropy.units.Unit` or str, optional\n",
      " |          Unit\n",
      " |      min : float, optional\n",
      " |          Minimum (sometimes used in fitting)\n",
      " |      max : float, optional\n",
      " |          Maximum (sometimes used in fitting)\n",
      " |      frozen : bool, optional\n",
      " |          Frozen? (used in fitting)\n",
      " |  \n",
      " |  t_ref\n",
      " |      A model parameter.\n",
      " |      \n",
      " |      Note that the parameter value has been split into\n",
      " |      a factor and scale like this::\n",
      " |      \n",
      " |          value = factor x scale\n",
      " |      \n",
      " |      Users should interact with the ``value``, ``quantity``\n",
      " |      or ``min`` and ``max`` properties and consider the fact\n",
      " |      that there is a ``factor``` and ``scale`` an implementation detail.\n",
      " |      \n",
      " |      That was introduced for numerical stability in parameter and error\n",
      " |      estimation methods, only in the Gammapy optimiser interface do we\n",
      " |      interact with the ``factor``, ``factor_min`` and ``factor_max`` properties,\n",
      " |      i.e. the optimiser \"sees\" the well-scaled problem.\n",
      " |      \n",
      " |      Parameters\n",
      " |      ----------\n",
      " |      name : str\n",
      " |          Name\n",
      " |      value : float or `~astropy.units.Quantity`\n",
      " |          Value\n",
      " |      scale : float, optional\n",
      " |          Scale (sometimes used in fitting)\n",
      " |      unit : `~astropy.units.Unit` or str, optional\n",
      " |          Unit\n",
      " |      min : float, optional\n",
      " |          Minimum (sometimes used in fitting)\n",
      " |      max : float, optional\n",
      " |          Maximum (sometimes used in fitting)\n",
      " |      frozen : bool, optional\n",
      " |          Frozen? (used in fitting)\n",
      " |  \n",
      " |  ----------------------------------------------------------------------\n",
      " |  Data and other attributes defined here:\n",
      " |  \n",
      " |  default_parameters = <gammapy.modeling.parameter.Parameters object>\n",
      " |  \n",
      " |  tag = ['GaussianTemporalModel', 'gauss']\n",
      " |  \n",
      " |  ----------------------------------------------------------------------\n",
      " |  Methods inherited from TemporalModel:\n",
      " |  \n",
      " |  __call__(self, time)\n",
      " |      Evaluate model\n",
      " |      \n",
      " |      Parameters\n",
      " |      ----------\n",
      " |      time : `~astropy.time.Time`\n",
      " |          Time object\n",
      " |  \n",
      " |  plot(self, time_range, ax=None)\n",
      " |      Plot Temporal Model.\n",
      " |      \n",
      " |      Parameters\n",
      " |      ----------\n",
      " |      time_range : `~astropy.time.Time`\n",
      " |          times to plot the model\n",
      " |      ax : `~matplotlib.axes.Axes`, optional\n",
      " |          axis\n",
      " |      \n",
      " |      Returns\n",
      " |      -------\n",
      " |      ax : `~matplotlib.axes.Axes`, optional\n",
      " |          axis\n",
      " |  \n",
      " |  ----------------------------------------------------------------------\n",
      " |  Static methods inherited from TemporalModel:\n",
      " |  \n",
      " |  time_sum(t_min, t_max)\n",
      " |      Total time between t_min and t_max\n",
      " |      \n",
      " |      Parameters\n",
      " |      ----------\n",
      " |      t_min, t_max: `~astropy.time.Time`\n",
      " |          Lower and upper bound of integration range\n",
      " |      \n",
      " |      Returns\n",
      " |      -------\n",
      " |      time_sum : `~astropy.time.TimeDelta`\n",
      " |          Summed time in the intervals.\n",
      " |  \n",
      " |  ----------------------------------------------------------------------\n",
      " |  Data descriptors inherited from TemporalModel:\n",
      " |  \n",
      " |  type\n",
      " |  \n",
      " |  ----------------------------------------------------------------------\n",
      " |  Methods inherited from gammapy.modeling.models.core.Model:\n",
      " |  \n",
      " |  __init__(self, **kwargs)\n",
      " |      Initialize self.  See help(type(self)) for accurate signature.\n",
      " |  \n",
      " |  __str__(self)\n",
      " |      Return str(self).\n",
      " |  \n",
      " |  copy(self)\n",
      " |      A deep copy.\n",
      " |  \n",
      " |  to_dict(self, full_output=False)\n",
      " |      Create dict for YAML serialisation\n",
      " |  \n",
      " |  ----------------------------------------------------------------------\n",
      " |  Class methods inherited from gammapy.modeling.models.core.Model:\n",
      " |  \n",
      " |  __init_subclass__(**kwargs) from builtins.type\n",
      " |      This method is called when a class is subclassed.\n",
      " |      \n",
      " |      The default implementation does nothing. It may be\n",
      " |      overridden to extend subclasses.\n",
      " |  \n",
      " |  from_dict(data) from builtins.type\n",
      " |  \n",
      " |  from_parameters(parameters, **kwargs) from builtins.type\n",
      " |      Create model from parameter list\n",
      " |      \n",
      " |      Parameters\n",
      " |      ----------\n",
      " |      parameters : `Parameters`\n",
      " |          Parameters for init\n",
      " |      \n",
      " |      Returns\n",
      " |      -------\n",
      " |      model : `Model`\n",
      " |          Model instance\n",
      " |  \n",
      " |  ----------------------------------------------------------------------\n",
      " |  Static methods inherited from gammapy.modeling.models.core.Model:\n",
      " |  \n",
      " |  create(tag, model_type=None, *args, **kwargs)\n",
      " |      Create a model instance.\n",
      " |      \n",
      " |      Examples\n",
      " |      --------\n",
      " |      >>> from gammapy.modeling.models import Model\n",
      " |      >>> spectral_model = Model.create(\"pl-2\", model_type=\"spectral\", amplitude=\"1e-10 cm-2 s-1\", index=3)\n",
      " |      >>> type(spectral_model)\n",
      " |      gammapy.modeling.models.spectral.PowerLaw2SpectralModel\n",
      " |  \n",
      " |  ----------------------------------------------------------------------\n",
      " |  Data descriptors inherited from gammapy.modeling.models.core.Model:\n",
      " |  \n",
      " |  __dict__\n",
      " |      dictionary for instance variables (if defined)\n",
      " |  \n",
      " |  __weakref__\n",
      " |      list of weak references to the object (if defined)\n",
      " |  \n",
      " |  covariance\n",
      " |  \n",
      " |  parameters\n",
      " |      Parameters (`~gammapy.modeling.Parameters`)\n",
      "\n"
     ]
    }
   ],
   "source": [
    "#help(GaussianTemporalModel)\n",
    "help(LightCurveTemplateTemporalModel)\n",
    "help(GaussianTemporalModel)"
   ]
  },
  {
   "cell_type": "code",
   "execution_count": 2,
   "id": "7b4b4ac4",
   "metadata": {},
   "outputs": [
    {
     "data": {
      "text/html": [
       "<i>HDUIndexTable length=732</i>\n",
       "<table id=\"table140464859146392\" class=\"table-striped table-bordered table-condensed\">\n",
       "<thead><tr><th>OBS_ID</th><th>HDU_TYPE</th><th>HDU_CLASS</th><th>FILE_NAME</th><th>HDU_NAME</th><th>FILE_DIR</th></tr></thead>\n",
       "<thead><tr><th>int64</th><th>bytes6</th><th>bytes10</th><th>bytes54</th><th>bytes20</th><th>str35</th></tr></thead>\n",
       "<tr><td>55415</td><td>events</td><td>events</td><td>55415.anasum.fits</td><td>EVENTS</td><td>/Users/cedrickperron/GAMMAPY/Mrk501</td></tr>\n",
       "<tr><td>55415</td><td>gti</td><td>gti</td><td>55415.anasum.fits</td><td>GTI</td><td>/Users/cedrickperron/GAMMAPY/Mrk501</td></tr>\n",
       "<tr><td>55415</td><td>aeff</td><td>aeff_2d</td><td>55415.anasum.fits</td><td>EFFECTIVE AREA</td><td>/Users/cedrickperron/GAMMAPY/Mrk501</td></tr>\n",
       "<tr><td>55415</td><td>edisp</td><td>edisp_2d</td><td>55415.anasum.fits</td><td>ENERGY DISPERSION</td><td>/Users/cedrickperron/GAMMAPY/Mrk501</td></tr>\n",
       "<tr><td>55415</td><td>psf</td><td>psf_table</td><td>55415.anasum.fits</td><td>PSF</td><td>/Users/cedrickperron/GAMMAPY/Mrk501</td></tr>\n",
       "<tr><td>55415</td><td>bkg</td><td>bkg_2d</td><td>55415.anasum.fits</td><td>BKG</td><td>/Users/cedrickperron/GAMMAPY/Mrk501</td></tr>\n",
       "<tr><td>55416</td><td>events</td><td>events</td><td>55416.anasum.fits</td><td>EVENTS</td><td>/Users/cedrickperron/GAMMAPY/Mrk501</td></tr>\n",
       "<tr><td>55416</td><td>gti</td><td>gti</td><td>55416.anasum.fits</td><td>GTI</td><td>/Users/cedrickperron/GAMMAPY/Mrk501</td></tr>\n",
       "<tr><td>55416</td><td>aeff</td><td>aeff_2d</td><td>55416.anasum.fits</td><td>EFFECTIVE AREA</td><td>/Users/cedrickperron/GAMMAPY/Mrk501</td></tr>\n",
       "<tr><td>55416</td><td>edisp</td><td>edisp_2d</td><td>55416.anasum.fits</td><td>ENERGY DISPERSION</td><td>/Users/cedrickperron/GAMMAPY/Mrk501</td></tr>\n",
       "<tr><td>...</td><td>...</td><td>...</td><td>...</td><td>...</td><td>...</td></tr>\n",
       "<tr><td>74095</td><td>aeff</td><td>aeff_2d</td><td>74095.anasum.fits</td><td>EFFECTIVE AREA</td><td>/Users/cedrickperron/GAMMAPY/Mrk501</td></tr>\n",
       "<tr><td>74095</td><td>edisp</td><td>edisp_2d</td><td>74095.anasum.fits</td><td>ENERGY DISPERSION</td><td>/Users/cedrickperron/GAMMAPY/Mrk501</td></tr>\n",
       "<tr><td>74095</td><td>psf</td><td>psf_table</td><td>74095.anasum.fits</td><td>PSF</td><td>/Users/cedrickperron/GAMMAPY/Mrk501</td></tr>\n",
       "<tr><td>74095</td><td>bkg</td><td>bkg_2d</td><td>74095.anasum.fits</td><td>BKG</td><td>/Users/cedrickperron/GAMMAPY/Mrk501</td></tr>\n",
       "<tr><td>74109</td><td>events</td><td>events</td><td>74109.anasum.fits</td><td>EVENTS</td><td>/Users/cedrickperron/GAMMAPY/Mrk501</td></tr>\n",
       "<tr><td>74109</td><td>gti</td><td>gti</td><td>74109.anasum.fits</td><td>GTI</td><td>/Users/cedrickperron/GAMMAPY/Mrk501</td></tr>\n",
       "<tr><td>74109</td><td>aeff</td><td>aeff_2d</td><td>74109.anasum.fits</td><td>EFFECTIVE AREA</td><td>/Users/cedrickperron/GAMMAPY/Mrk501</td></tr>\n",
       "<tr><td>74109</td><td>edisp</td><td>edisp_2d</td><td>74109.anasum.fits</td><td>ENERGY DISPERSION</td><td>/Users/cedrickperron/GAMMAPY/Mrk501</td></tr>\n",
       "<tr><td>74109</td><td>psf</td><td>psf_table</td><td>74109.anasum.fits</td><td>PSF</td><td>/Users/cedrickperron/GAMMAPY/Mrk501</td></tr>\n",
       "<tr><td>74109</td><td>bkg</td><td>bkg_2d</td><td>74109.anasum.fits</td><td>BKG</td><td>/Users/cedrickperron/GAMMAPY/Mrk501</td></tr>\n",
       "</table>"
      ],
      "text/plain": [
       "<HDUIndexTable length=732>\n",
       "OBS_ID HDU_TYPE ...      HDU_NAME                   FILE_DIR             \n",
       "int64   bytes6  ...      bytes20                     str35               \n",
       "------ -------- ... ----------------- -----------------------------------\n",
       " 55415   events ...            EVENTS /Users/cedrickperron/GAMMAPY/Mrk501\n",
       " 55415      gti ...               GTI /Users/cedrickperron/GAMMAPY/Mrk501\n",
       " 55415     aeff ...    EFFECTIVE AREA /Users/cedrickperron/GAMMAPY/Mrk501\n",
       " 55415    edisp ... ENERGY DISPERSION /Users/cedrickperron/GAMMAPY/Mrk501\n",
       " 55415      psf ...               PSF /Users/cedrickperron/GAMMAPY/Mrk501\n",
       " 55415      bkg ...               BKG /Users/cedrickperron/GAMMAPY/Mrk501\n",
       " 55416   events ...            EVENTS /Users/cedrickperron/GAMMAPY/Mrk501\n",
       " 55416      gti ...               GTI /Users/cedrickperron/GAMMAPY/Mrk501\n",
       " 55416     aeff ...    EFFECTIVE AREA /Users/cedrickperron/GAMMAPY/Mrk501\n",
       " 55416    edisp ... ENERGY DISPERSION /Users/cedrickperron/GAMMAPY/Mrk501\n",
       "   ...      ... ...               ...                                 ...\n",
       " 74095     aeff ...    EFFECTIVE AREA /Users/cedrickperron/GAMMAPY/Mrk501\n",
       " 74095    edisp ... ENERGY DISPERSION /Users/cedrickperron/GAMMAPY/Mrk501\n",
       " 74095      psf ...               PSF /Users/cedrickperron/GAMMAPY/Mrk501\n",
       " 74095      bkg ...               BKG /Users/cedrickperron/GAMMAPY/Mrk501\n",
       " 74109   events ...            EVENTS /Users/cedrickperron/GAMMAPY/Mrk501\n",
       " 74109      gti ...               GTI /Users/cedrickperron/GAMMAPY/Mrk501\n",
       " 74109     aeff ...    EFFECTIVE AREA /Users/cedrickperron/GAMMAPY/Mrk501\n",
       " 74109    edisp ... ENERGY DISPERSION /Users/cedrickperron/GAMMAPY/Mrk501\n",
       " 74109      psf ...               PSF /Users/cedrickperron/GAMMAPY/Mrk501\n",
       " 74109      bkg ...               BKG /Users/cedrickperron/GAMMAPY/Mrk501"
      ]
     },
     "execution_count": 2,
     "metadata": {},
     "output_type": "execute_result"
    }
   ],
   "source": [
    "source = \"Mrk501\"\n",
    "data_store = DataStore.from_dir(f\"/Users/cedrickperron/GAMMAPY/{source}\")\n",
    "hdu_table = data_store.hdu_table.read(f\"/Users/cedrickperron/GAMMAPY/{source}/hdu-index.fits.gz\")\n",
    "obs_table = data_store.obs_table.read(f\"/Users/cedrickperron/GAMMAPY/{source}/obs-index.fits.gz\")\n",
    "# Changing the path to the fits files in the HDU_table\n",
    "hdu_table.remove_column(\"FILE_DIR\")\n",
    "hdu_table.add_column(f\"/Users/cedrickperron/GAMMAPY/{source}\", name=\"FILE_DIR\")\n",
    "hdu_table\n",
    "\n"
   ]
  },
  {
   "cell_type": "code",
   "execution_count": 4,
   "id": "8a9507ab",
   "metadata": {},
   "outputs": [],
   "source": [
    "data_store.obs_table\n",
    "data_store.hdu_table = hdu_table\n",
    "\n",
    "data_store.hdu_table\n",
    "obs_id = data_store.obs_table[\"OBS_ID\"]\n",
    "\n",
    "\n",
    "\n",
    "\n",
    "observations = data_store.get_observations(obs_id)\n",
    "\n"
   ]
  },
  {
   "cell_type": "code",
   "execution_count": 5,
   "id": "607a2b33",
   "metadata": {},
   "outputs": [
    {
     "data": {
      "text/html": [
       "<i>ObservationTable length=122</i>\n",
       "<table id=\"table140314115829888\" class=\"table-striped table-bordered table-condensed\">\n",
       "<thead><tr><th>OBS_ID</th><th>RA_PNT</th><th>DEC_PNT</th><th>ZEN_PNT</th><th>ALT_PNT</th><th>AZ_PNT</th><th>ONTIME</th><th>LIVETIME</th><th>DEADC</th><th>TSTART</th><th>TSTOP</th><th>N_TELS</th><th>TELLIST</th></tr></thead>\n",
       "<thead><tr><th></th><th>deg</th><th>deg</th><th>deg</th><th>deg</th><th>deg</th><th>s</th><th>s</th><th></th><th>s</th><th>s</th><th></th><th></th></tr></thead>\n",
       "<thead><tr><th>int64</th><th>float32</th><th>float32</th><th>float32</th><th>float32</th><th>float32</th><th>float32</th><th>float32</th><th>float32</th><th>float32</th><th>float32</th><th>int64</th><th>bytes20</th></tr></thead>\n",
       "<tr><td>55415</td><td>253.4666</td><td>39.260292</td><td>20.412645</td><td>69.58736</td><td>61.721607</td><td>1202.1299</td><td>1102.0688</td><td>0.9167636</td><td>192195520.0</td><td>192196720.0</td><td>4</td><td>T1,T2,T3,T4</td></tr>\n",
       "<tr><td>55416</td><td>254.11789</td><td>39.7578</td><td>17.077888</td><td>72.92211</td><td>56.62116</td><td>1202.1155</td><td>1101.9844</td><td>0.91670424</td><td>192196770.0</td><td>192197970.0</td><td>4</td><td>T1,T2,T3,T4</td></tr>\n",
       "<tr><td>55417</td><td>252.81706</td><td>39.759155</td><td>12.920157</td><td>77.07984</td><td>47.996296</td><td>1202.0923</td><td>1101.3605</td><td>0.9162029</td><td>192198020.0</td><td>192199220.0</td><td>4</td><td>T1,T2,T3,T4</td></tr>\n",
       "<tr><td>55511</td><td>253.46837</td><td>40.260292</td><td>20.633823</td><td>69.36617</td><td>59.00132</td><td>1202.0623</td><td>1103.1582</td><td>0.91772133</td><td>192540200.0</td><td>192541390.0</td><td>4</td><td>T1,T2,T3,T4</td></tr>\n",
       "<tr><td>55512</td><td>253.4666</td><td>39.260292</td><td>16.538336</td><td>73.46166</td><td>57.677967</td><td>1202.083</td><td>1101.9738</td><td>0.9167202</td><td>192541420.0</td><td>192542640.0</td><td>4</td><td>T1,T2,T3,T4</td></tr>\n",
       "<tr><td>56127</td><td>252.81706</td><td>39.75916</td><td>15.437196</td><td>74.562805</td><td>53.910378</td><td>1201.7461</td><td>1105.6691</td><td>0.9200521</td><td>195040530.0</td><td>195041730.0</td><td>4</td><td>T1,T2,T3,T4</td></tr>\n",
       "<tr><td>56128</td><td>253.46837</td><td>40.260292</td><td>12.290975</td><td>77.70902</td><td>42.413513</td><td>1502.2543</td><td>1382.9185</td><td>0.9205622</td><td>195041780.0</td><td>195043280.0</td><td>4</td><td>T1,T2,T3,T4</td></tr>\n",
       "<tr><td>56152</td><td>253.4666</td><td>39.260292</td><td>21.1876</td><td>68.8124</td><td>62.304058</td><td>1802.687</td><td>1656.7118</td><td>0.9190236</td><td>195296860.0</td><td>195298670.0</td><td>4</td><td>T1,T2,T3,T4</td></tr>\n",
       "<tr><td>56204</td><td>254.11789</td><td>39.757793</td><td>9.097471</td><td>80.90253</td><td>25.237652</td><td>1201.801</td><td>1108.0641</td><td>0.92200303</td><td>195560430.0</td><td>195561630.0</td><td>4</td><td>T1,T2,T3,T4</td></tr>\n",
       "<tr><td>...</td><td>...</td><td>...</td><td>...</td><td>...</td><td>...</td><td>...</td><td>...</td><td>...</td><td>...</td><td>...</td><td>...</td><td>...</td></tr>\n",
       "<tr><td>73600</td><td>254.11787</td><td>39.757603</td><td>13.8050785</td><td>76.19492</td><td>49.790848</td><td>1800.3329</td><td>1614.918</td><td>0.89701074</td><td>293871260.0</td><td>293873060.0</td><td>4</td><td>T1,T2,T3,T4</td></tr>\n",
       "<tr><td>73601</td><td>252.81705</td><td>39.75935</td><td>9.0042095</td><td>80.99579</td><td>23.09914</td><td>1800.3029</td><td>1619.7994</td><td>0.8997372</td><td>293873250.0</td><td>293875040.0</td><td>4</td><td>T1,T2,T3,T4</td></tr>\n",
       "<tr><td>73627</td><td>253.46861</td><td>40.260292</td><td>21.237602</td><td>68.7624</td><td>300.82855</td><td>1800.2412</td><td>1608.7216</td><td>0.8936145</td><td>293966370.0</td><td>293968160.0</td><td>4</td><td>T1,T2,T3,T4</td></tr>\n",
       "<tr><td>73873</td><td>252.81705</td><td>39.759354</td><td>16.65861</td><td>73.34139</td><td>55.67387</td><td>1800.1046</td><td>1543.7296</td><td>0.8575777</td><td>295851800.0</td><td>295853600.0</td><td>4</td><td>T1,T2,T3,T4</td></tr>\n",
       "<tr><td>73874</td><td>253.46863</td><td>40.260292</td><td>12.21793</td><td>77.782074</td><td>41.890694</td><td>1800.1085</td><td>1541.152</td><td>0.85614395</td><td>295853630.0</td><td>295855460.0</td><td>4</td><td>T1,T2,T3,T4</td></tr>\n",
       "<tr><td>73916</td><td>253.46634</td><td>39.260292</td><td>15.009417</td><td>74.990585</td><td>54.897507</td><td>1800.2642</td><td>1580.5168</td><td>0.87793607</td><td>296110900.0</td><td>296112700.0</td><td>4</td><td>T1,T2,T3,T4</td></tr>\n",
       "<tr><td>73965</td><td>252.81705</td><td>39.759354</td><td>17.50464</td><td>72.49536</td><td>56.974907</td><td>1800.3187</td><td>1576.6941</td><td>0.87578607</td><td>296368540.0</td><td>296370340.0</td><td>4</td><td>T1,T2,T3,T4</td></tr>\n",
       "<tr><td>74063</td><td>253.46634</td><td>39.260292</td><td>8.942155</td><td>81.057846</td><td>29.894966</td><td>900.1725</td><td>778.0545</td><td>0.86433935</td><td>296803100.0</td><td>296804000.0</td><td>4</td><td>T1,T2,T3,T4</td></tr>\n",
       "<tr><td>74095</td><td>252.81705</td><td>39.759354</td><td>9.180066</td><td>80.81993</td><td>26.235767</td><td>900.14703</td><td>770.60095</td><td>0.85608345</td><td>296975420.0</td><td>296976320.0</td><td>4</td><td>T1,T2,T3,T4</td></tr>\n",
       "<tr><td>74109</td><td>253.46863</td><td>40.260292</td><td>17.26887</td><td>72.73113</td><td>54.86732</td><td>1800.3263</td><td>1576.3915</td><td>0.8756143</td><td>297058080.0</td><td>297059870.0</td><td>4</td><td>T1,T2,T3,T4</td></tr>\n",
       "</table>"
      ],
      "text/plain": [
       "<ObservationTable length=122>\n",
       "OBS_ID   RA_PNT   DEC_PNT   ZEN_PNT   ...    TSTOP    N_TELS   TELLIST  \n",
       "          deg       deg       deg     ...      s                        \n",
       "int64   float32   float32   float32   ...   float32   int64    bytes20  \n",
       "------ --------- --------- ---------- ... ----------- ------ -----------\n",
       " 55415  253.4666 39.260292  20.412645 ... 192196720.0      4 T1,T2,T3,T4\n",
       " 55416 254.11789   39.7578  17.077888 ... 192197970.0      4 T1,T2,T3,T4\n",
       " 55417 252.81706 39.759155  12.920157 ... 192199220.0      4 T1,T2,T3,T4\n",
       " 55511 253.46837 40.260292  20.633823 ... 192541390.0      4 T1,T2,T3,T4\n",
       " 55512  253.4666 39.260292  16.538336 ... 192542640.0      4 T1,T2,T3,T4\n",
       " 56127 252.81706  39.75916  15.437196 ... 195041730.0      4 T1,T2,T3,T4\n",
       " 56128 253.46837 40.260292  12.290975 ... 195043280.0      4 T1,T2,T3,T4\n",
       " 56152  253.4666 39.260292    21.1876 ... 195298670.0      4 T1,T2,T3,T4\n",
       " 56204 254.11789 39.757793   9.097471 ... 195561630.0      4 T1,T2,T3,T4\n",
       "   ...       ...       ...        ... ...         ...    ...         ...\n",
       " 73600 254.11787 39.757603 13.8050785 ... 293873060.0      4 T1,T2,T3,T4\n",
       " 73601 252.81705  39.75935  9.0042095 ... 293875040.0      4 T1,T2,T3,T4\n",
       " 73627 253.46861 40.260292  21.237602 ... 293968160.0      4 T1,T2,T3,T4\n",
       " 73873 252.81705 39.759354   16.65861 ... 295853600.0      4 T1,T2,T3,T4\n",
       " 73874 253.46863 40.260292   12.21793 ... 295855460.0      4 T1,T2,T3,T4\n",
       " 73916 253.46634 39.260292  15.009417 ... 296112700.0      4 T1,T2,T3,T4\n",
       " 73965 252.81705 39.759354   17.50464 ... 296370340.0      4 T1,T2,T3,T4\n",
       " 74063 253.46634 39.260292   8.942155 ... 296804000.0      4 T1,T2,T3,T4\n",
       " 74095 252.81705 39.759354   9.180066 ... 296976320.0      4 T1,T2,T3,T4\n",
       " 74109 253.46863 40.260292   17.26887 ... 297059870.0      4 T1,T2,T3,T4"
      ]
     },
     "execution_count": 5,
     "metadata": {},
     "output_type": "execute_result"
    }
   ],
   "source": [
    "\n",
    "obs_table"
   ]
  },
  {
   "cell_type": "code",
   "execution_count": null,
   "id": "a9bcf374",
   "metadata": {},
   "outputs": [],
   "source": []
  },
  {
   "cell_type": "code",
   "execution_count": 6,
   "id": "bab1db64",
   "metadata": {},
   "outputs": [],
   "source": [
    "target_position = SkyCoord(ra=\"253.468 deg\",dec=\"39.7603 deg\", frame=\"icrs\")\n",
    "# 0.089\n",
    "on_radius=Angle(\"0.089 deg\")\n",
    "on_region= CircleSkyRegion(center=target_position,radius=on_radius)\n"
   ]
  },
  {
   "cell_type": "code",
   "execution_count": 7,
   "id": "4c81e522",
   "metadata": {},
   "outputs": [],
   "source": [
    "energy_axis = MapAxis.from_energy_bounds(0.2, 15, 12, unit= \"TeV\", name=\"energy\")\n",
    "\n",
    "true_energy_axis = MapAxis.from_energy_bounds(0.2, 20, 19, unit= \"TeV\", name=\"energy_true\")\n",
    "\n",
    "\n",
    "geom = WcsGeom.create(skydir=target_position, binsz=0.02, width=\"7 deg\", proj=\"CAR\")\n",
    "geom_image = geom.to_image()\n",
    "# IS THERE AN EXCLUSION REGION ASIDE FROM THE CENTER???\n",
    "center_region = CircleSkyRegion(center=target_position, radius=0.35* u.deg)\n",
    "exclusion_mask=Map.from_geom(geom_image)\n",
    "exclusion_mask.data=geom_image.region_mask([center_region], inside=False)\n",
    "#exclusion_mask.sum_over_axes().plot(add_cbar=True)\n",
    "\n",
    "\n"
   ]
  },
  {
   "cell_type": "code",
   "execution_count": 8,
   "id": "ec25f37c",
   "metadata": {},
   "outputs": [
    {
     "name": "stdout",
     "output_type": "stream",
     "text": [
      "CPU times: user 5 µs, sys: 1e+03 ns, total: 6 µs\n",
      "Wall time: 11 µs\n"
     ]
    }
   ],
   "source": [
    "%time\n",
    "e_reco = energy_axis\n",
    "e_true = true_energy_axis\n",
    "dataset_empty = SpectrumDataset.create(e_reco=e_reco, e_true=e_true, region=on_region)\n",
    "# Create the DatasetMaker\n",
    "global dataset_maker\n",
    "dataset_maker = SpectrumDatasetMaker(containment_correction=True, selection=[\"counts\", \"exposure\", \"psf\", \"edisp\"])\n",
    "\n",
    "# Create the Background Maker\n",
    "#help(ReflectedRegionsBackgroundMaker)\n",
    "global bkg_maker\n",
    "bkg_maker = ReflectedRegionsBackgroundMaker(exclusion_mask=exclusion_mask, min_distance_input=\"0.0 deg\", max_region_number=6)\n",
    "#bkg_maker_for_5 = ReflectedRegionsBackgroundMaker(exclusion_mask=None, min_distance_input=\"0.0 deg\", max_region_number=1)\n",
    "#Create a Safe_mask_maker\n",
    "global safe_mask_maker\n",
    "safe_mask_maker = SafeMaskMaker(methods=[\"aeff-default\", \"offset-max\"], offset_max=1.75*u.deg, aeff_percent=10)"
   ]
  },
  {
   "cell_type": "code",
   "execution_count": 9,
   "id": "15a35864",
   "metadata": {},
   "outputs": [
    {
     "name": "stdout",
     "output_type": "stream",
     "text": [
      "CPU times: user 7 µs, sys: 3 µs, total: 10 µs\n",
      "Wall time: 18.8 µs\n"
     ]
    }
   ],
   "source": [
    "%time\n",
    "finder_list = []\n",
    "\n",
    "for obs in observations:\n",
    "    center = obs.pointing_radec\n",
    "    # Here in you can add the exclusion_mask = exclusion_mask if you want\n",
    "    finder = ReflectedRegionsFinder(region=on_region,center=center, exclusion_mask=None, min_distance_input=\"0.0 rad\")\n",
    "    finder.run()\n",
    "    finder_list.append(finder)\n",
    "\n",
    "    \n",
    "\n"
   ]
  },
  {
   "cell_type": "code",
   "execution_count": null,
   "id": "19fa8251",
   "metadata": {},
   "outputs": [],
   "source": []
  },
  {
   "cell_type": "code",
   "execution_count": 10,
   "id": "11b2fa01",
   "metadata": {},
   "outputs": [
    {
     "data": {
      "text/plain": [
       "(<Figure size 432x288 with 1 Axes>,\n",
       " <matplotlib.axes._subplots.WCSAxesSubplot at 0x7f9d5dd8efd0>)"
      ]
     },
     "execution_count": 10,
     "metadata": {},
     "output_type": "execute_result"
    },
    {
     "data": {
      "image/png": "[encoded data removed]",
      "text/plain": [
       "<Figure size 432x288 with 1 Axes>"
      ]
     },
     "metadata": {
      "needs_background": "light"
     },
     "output_type": "display_data"
    }
   ],
   "source": [
    "#5, 25, 27, 31, 38\n",
    "finder_list[25].plot()"
   ]
  },
  {
   "cell_type": "code",
   "execution_count": null,
   "id": "cffb915a",
   "metadata": {},
   "outputs": [],
   "source": []
  },
  {
   "cell_type": "code",
   "execution_count": null,
   "id": "8c32c9ec",
   "metadata": {},
   "outputs": [],
   "source": []
  },
  {
   "cell_type": "code",
   "execution_count": null,
   "id": "8eb6b2ed",
   "metadata": {},
   "outputs": [],
   "source": []
  },
  {
   "cell_type": "code",
   "execution_count": 13,
   "id": "40bfdce0",
   "metadata": {
    "scrolled": true
   },
   "outputs": [
    {
     "name": "stdout",
     "output_type": "stream",
     "text": [
      "0\n",
      "SpectrumDatasetOnOff\n",
      "--------------------\n",
      "\n",
      "  Name                            : 55415 \n",
      "\n",
      "  Total counts                    : 52 \n",
      "  Total off counts                : 37.00\n",
      "  Total background counts         : 6.17\n",
      "  Total excess counts             : 45.83\n",
      "\n",
      "  Predicted counts                : 12.71\n",
      "  Predicted background counts     : 12.71\n",
      "  Predicted excess counts         : nan\n",
      "\n",
      "  Exposure min                    : 2.07e+07 m2 s\n",
      "  Exposure max                    : 1.15e+08 m2 s\n",
      "\n",
      "  Acceptance mean                 : 1.000\n",
      "  Acceptance off                  : 72.000\n",
      "\n",
      "  Number of total bins            : 12 \n",
      "  Number of fit bins              : 12 \n",
      "\n",
      "  Fit statistic type              : wstat\n",
      "  Fit statistic value (-2 log(L)) : 112.35\n",
      "\n",
      "  Number of models                : 0 \n",
      "  Number of parameters            : 0\n",
      "  Number of free parameters       : 0\n",
      "\n",
      "\n",
      "1\n",
      "SpectrumDatasetOnOff\n",
      "--------------------\n",
      "\n",
      "  Name                            : 55416 \n",
      "\n",
      "  Total counts                    : 23 \n",
      "  Total off counts                : 20.00\n",
      "  Total background counts         : 3.33\n",
      "  Total excess counts             : 19.67\n",
      "\n",
      "  Predicted counts                : 6.14\n",
      "  Predicted background counts     : 6.14\n",
      "  Predicted excess counts         : nan\n",
      "\n",
      "  Exposure min                    : 3.00e+07 m2 s\n",
      "  Exposure max                    : 1.35e+08 m2 s\n",
      "\n",
      "  Acceptance mean                 : 1.000\n",
      "  Acceptance off                  : 72.000\n",
      "\n",
      "  Number of total bins            : 12 \n",
      "  Number of fit bins              : 12 \n",
      "\n",
      "  Fit statistic type              : wstat\n",
      "  Fit statistic value (-2 log(L)) : 49.39\n",
      "\n",
      "  Number of models                : 0 \n",
      "  Number of parameters            : 0\n",
      "  Number of free parameters       : 0\n",
      "\n",
      "\n",
      "2\n",
      "SpectrumDatasetOnOff\n",
      "--------------------\n",
      "\n",
      "  Name                            : 55417 \n",
      "\n",
      "  Total counts                    : 11 \n",
      "  Total off counts                : 15.00\n",
      "  Total background counts         : 2.50\n",
      "  Total excess counts             : 8.50\n",
      "\n",
      "  Predicted counts                : 3.71\n",
      "  Predicted background counts     : 3.71\n",
      "  Predicted excess counts         : nan\n",
      "\n",
      "  Exposure min                    : 3.33e+07 m2 s\n",
      "  Exposure max                    : 1.66e+08 m2 s\n",
      "\n",
      "  Acceptance mean                 : 1.000\n",
      "  Acceptance off                  : 72.000\n",
      "\n",
      "  Number of total bins            : 12 \n",
      "  Number of fit bins              : 12 \n",
      "\n",
      "  Fit statistic type              : wstat\n",
      "  Fit statistic value (-2 log(L)) : 19.71\n",
      "\n",
      "  Number of models                : 0 \n",
      "  Number of parameters            : 0\n",
      "  Number of free parameters       : 0\n",
      "\n",
      "\n",
      "3\n",
      "SpectrumDatasetOnOff\n",
      "--------------------\n",
      "\n",
      "  Name                            : 55511 \n",
      "\n",
      "  Total counts                    : 21 \n",
      "  Total off counts                : 24.00\n",
      "  Total background counts         : 4.00\n",
      "  Total excess counts             : 17.00\n",
      "\n",
      "  Predicted counts                : 6.43\n",
      "  Predicted background counts     : 6.43\n",
      "  Predicted excess counts         : nan\n",
      "\n",
      "  Exposure min                    : 2.01e+07 m2 s\n",
      "  Exposure max                    : 1.17e+08 m2 s\n",
      "\n",
      "  Acceptance mean                 : 1.000\n",
      "  Acceptance off                  : 72.000\n",
      "\n",
      "  Number of total bins            : 12 \n",
      "  Number of fit bins              : 12 \n",
      "\n",
      "  Fit statistic type              : wstat\n",
      "  Fit statistic value (-2 log(L)) : 37.75\n",
      "\n",
      "  Number of models                : 0 \n",
      "  Number of parameters            : 0\n",
      "  Number of free parameters       : 0\n",
      "\n",
      "\n",
      "4\n",
      "SpectrumDatasetOnOff\n",
      "--------------------\n",
      "\n",
      "  Name                            : 55512 \n",
      "\n",
      "  Total counts                    : 32 \n",
      "  Total off counts                : 25.00\n",
      "  Total background counts         : 4.17\n",
      "  Total excess counts             : 27.83\n",
      "\n",
      "  Predicted counts                : 8.14\n",
      "  Predicted background counts     : 8.14\n",
      "  Predicted excess counts         : nan\n",
      "\n",
      "  Exposure min                    : 3.04e+07 m2 s\n",
      "  Exposure max                    : 1.39e+08 m2 s\n",
      "\n",
      "  Acceptance mean                 : 1.000\n",
      "  Acceptance off                  : 72.000\n",
      "\n",
      "  Number of total bins            : 12 \n",
      "  Number of fit bins              : 12 \n",
      "\n",
      "  Fit statistic type              : wstat\n",
      "  Fit statistic value (-2 log(L)) : 69.28\n",
      "\n",
      "  Number of models                : 0 \n",
      "  Number of parameters            : 0\n",
      "  Number of free parameters       : 0\n",
      "\n",
      "\n",
      "CPU times: user 3.44 s, sys: 172 ms, total: 3.61 s\n",
      "Wall time: 4.13 s\n"
     ]
    }
   ],
   "source": [
    "%%time\n",
    "\n",
    "# Create a stacked dataset\n",
    "stacked = SpectrumDatasetOnOff.create(e_reco=e_reco,  e_true=e_true, region=on_region, name=\"Mrk501\")\n",
    "exception_index_list= [5, 7, 27, 25, 26, 31, 38]\n",
    "list_of_dataset = Datasets()\n",
    "count = 0\n",
    "for obs in observations:\n",
    "    if count in exception_index_list:\n",
    "        continue\n",
    "    else:\n",
    "        dataset = dataset_maker.run(dataset_empty.copy(name=str(obs.obs_id)), obs)\n",
    "        dataset = bkg_maker.run(dataset, obs)\n",
    "        dataset = safe_mask_maker.run(dataset, obs)\n",
    "        list_of_dataset.append(dataset)\n",
    "        print(count)\n",
    "        print(dataset)\n",
    "    if count == 6:\n",
    "        print(bkg_maker.max_region_number)\n",
    "    stacked.stack(dataset)\n",
    "    count+=1\n",
    "\n",
    "# Making sure all the datasets are in the list\n",
    "\n"
   ]
  },
  {
   "cell_type": "code",
   "execution_count": null,
   "id": "c559c0c5",
   "metadata": {},
   "outputs": [],
   "source": []
  },
  {
   "cell_type": "code",
   "execution_count": 14,
   "id": "eb04d491",
   "metadata": {
    "scrolled": true
   },
   "outputs": [
    {
     "data": {
      "text/html": [
       "<i>Table length=5</i>\n",
       "<table id=\"table140313875729376\" class=\"table-striped table-bordered table-condensed\">\n",
       "<thead><tr><th>name</th><th>counts</th><th>background</th><th>excess</th><th>sqrt_ts</th><th>npred</th><th>npred_background</th><th>npred_signal</th><th>exposure_min</th><th>exposure_max</th><th>livetime</th><th>ontime</th><th>counts_rate</th><th>background_rate</th><th>excess_rate</th><th>n_bins</th><th>n_fit_bins</th><th>stat_type</th><th>stat_sum</th><th>counts_off</th><th>acceptance</th><th>acceptance_off</th><th>alpha</th></tr></thead>\n",
       "<thead><tr><th></th><th></th><th></th><th></th><th></th><th></th><th></th><th></th><th>m2 s</th><th>m2 s</th><th>s</th><th>s</th><th>1 / s</th><th>1 / s</th><th>1 / s</th><th></th><th></th><th></th><th></th><th></th><th></th><th></th><th></th></tr></thead>\n",
       "<thead><tr><th>str5</th><th>float32</th><th>float64</th><th>float64</th><th>float64</th><th>float64</th><th>float64</th><th>float64</th><th>float64</th><th>float64</th><th>float64</th><th>float64</th><th>float64</th><th>float64</th><th>float64</th><th>int64</th><th>int64</th><th>str5</th><th>float64</th><th>float32</th><th>float64</th><th>float64</th><th>float64</th></tr></thead>\n",
       "<tr><td>55415</td><td>52.0</td><td>6.166666666666666</td><td>45.833333333333336</td><td>9.640632980504439</td><td>12.714285714285712</td><td>12.714285714285712</td><td>nan</td><td>20700249.914744627</td><td>115179514.31629187</td><td>1102.0689186587463</td><td>1202.1298775672913</td><td>0.047183981981168376</td><td>0.005595536324689839</td><td>0.04158844565647854</td><td>12</td><td>12</td><td>wstat</td><td>112.34704241461367</td><td>37.0</td><td>12.0</td><td>72.0</td><td>0.16666666666666666</td></tr>\n",
       "<tr><td>55415</td><td>75.0</td><td>9.500000953674316</td><td>65.5</td><td>11.354780511920454</td><td>18.857143962869824</td><td>18.857143962869824</td><td>nan</td><td>51291183.9694197</td><td>249886046.8499982</td><td>2204.0532757749334</td><td>2404.24536049366</td><td>0.03402821557189011</td><td>0.004310241071797217</td><td>0.029717974932784032</td><td>12</td><td>12</td><td>wstat</td><td>150.74915564800693</td><td>57.0</td><td>12.0</td><td>71.99999237060547</td><td>0.1666666865348816</td></tr>\n",
       "<tr><td>55415</td><td>86.0</td><td>12.0</td><td>74.0</td><td>11.794145386987376</td><td>22.571429695401857</td><td>22.571429695401857</td><td>nan</td><td>91607854.41090842</td><td>415235265.00902116</td><td>3305.4137706247175</td><td>3606.3377043306828</td><td>0.026017922707372926</td><td>0.0036304078196334314</td><td>0.022387514887739494</td><td>12</td><td>12</td><td>wstat</td><td>156.66228119211192</td><td>72.0</td><td>12.0</td><td>72.0</td><td>0.1666666716337204</td></tr>\n",
       "<tr><td>55415</td><td>107.0</td><td>16.000001907348633</td><td>91.0</td><td>12.853026090136506</td><td>29.000002065483372</td><td>29.000002065483372</td><td>nan</td><td>112250740.25377685</td><td>531221834.2017117</td><td>4408.571991914034</td><td>4808.400012224913</td><td>0.024270897741094772</td><td>0.0036292935528091587</td><td>0.020641604620931068</td><td>12</td><td>12</td><td>wstat</td><td>190.91076241653565</td><td>96.0</td><td>12.0</td><td>71.99999237060547</td><td>0.1666666865348816</td></tr>\n",
       "<tr><td>55415</td><td>139.0</td><td>20.166667938232422</td><td>118.83332824707031</td><td>14.801286396378167</td><td>37.142859985633734</td><td>37.142859985633734</td><td>nan</td><td>144405363.9560106</td><td>670227917.7636632</td><td>5510.545728683035</td><td>6010.482962876558</td><td>0.02522436194957765</td><td>0.0036596498661217083</td><td>0.021564711391201953</td><td>12</td><td>12</td><td>wstat</td><td>253.8387690348414</td><td>121.0</td><td>12.0</td><td>71.99999237060547</td><td>0.1666666716337204</td></tr>\n",
       "</table>"
      ],
      "text/plain": [
       "<Table length=5>\n",
       " name  counts     background     ...   acceptance_off         alpha       \n",
       "                                 ...                                      \n",
       " str5 float32      float64       ...      float64            float64      \n",
       "----- ------- ------------------ ... ----------------- -------------------\n",
       "55415    52.0  6.166666666666666 ...              72.0 0.16666666666666666\n",
       "55415    75.0  9.500000953674316 ... 71.99999237060547  0.1666666865348816\n",
       "55415    86.0               12.0 ...              72.0  0.1666666716337204\n",
       "55415   107.0 16.000001907348633 ... 71.99999237060547  0.1666666865348816\n",
       "55415   139.0 20.166667938232422 ... 71.99999237060547  0.1666666716337204"
      ]
     },
     "execution_count": 14,
     "metadata": {},
     "output_type": "execute_result"
    }
   ],
   "source": [
    "list_of_dataset.info_table(cumulative=True)"
   ]
  },
  {
   "cell_type": "code",
   "execution_count": 15,
   "id": "f84eb75a",
   "metadata": {},
   "outputs": [
    {
     "name": "stdout",
     "output_type": "stream",
     "text": [
      "SpectrumDatasetOnOff\n",
      "--------------------\n",
      "\n",
      "  Name                            : Mrk501 \n",
      "\n",
      "  Total counts                    : 139 \n",
      "  Total off counts                : 121.00\n",
      "  Total background counts         : 20.17\n",
      "  Total excess counts             : 118.83\n",
      "\n",
      "  Predicted counts                : 37.14\n",
      "  Predicted background counts     : 37.14\n",
      "  Predicted excess counts         : nan\n",
      "\n",
      "  Exposure min                    : 1.44e+12 cm2 s\n",
      "  Exposure max                    : 6.70e+12 cm2 s\n",
      "\n",
      "  Acceptance mean                 : 1.000\n",
      "  Acceptance off                  : 72.000\n",
      "\n",
      "  Number of total bins            : 12 \n",
      "  Number of fit bins              : 12 \n",
      "\n",
      "  Fit statistic type              : wstat\n",
      "  Fit statistic value (-2 log(L)) : 253.84\n",
      "\n",
      "  Number of models                : 0 \n",
      "  Number of parameters            : 0\n",
      "  Number of free parameters       : 0\n",
      "\n",
      "\n"
     ]
    }
   ],
   "source": [
    "\n",
    "print(stacked)\n",
    "\n",
    "\n",
    "\n",
    " "
   ]
  },
  {
   "cell_type": "markdown",
   "id": "8875a879",
   "metadata": {},
   "source": [
    "Above, there is a 90 sigma significance in gammapy and a 103 sigma significance in ED. This is a huge discrespancy"
   ]
  },
  {
   "cell_type": "code",
   "execution_count": 45,
   "id": "c065ec35",
   "metadata": {},
   "outputs": [
    {
     "name": "stdout",
     "output_type": "stream",
     "text": [
      "0\n",
      "1\n",
      "2\n",
      "3\n",
      "4\n",
      "[<SkyCoord (ICRS): (ra, dec) in deg\n",
      "    (253.46659851, 39.26029205)>, <SkyCoord (ICRS): (ra, dec) in deg\n",
      "    (254.1178894, 39.75780106)>, <SkyCoord (ICRS): (ra, dec) in deg\n",
      "    (252.81706238, 39.75915527)>, <SkyCoord (ICRS): (ra, dec) in deg\n",
      "    (253.46836853, 40.26029205)>, <SkyCoord (ICRS): (ra, dec) in deg\n",
      "    (253.46659851, 39.26029205)>]\n"
     ]
    }
   ],
   "source": [
    "count = 0\n",
    "for a in [55415,55416,55417,55511,55512]:\n",
    "    count = 0\n",
    "    for l in obs_id:\n",
    "        if a == l:\n",
    "            print(count)\n",
    "        count += 1\n",
    "\n",
    "ss = [observations[0].pointing_radec, observations[1].pointing_radec, observations[2].pointing_radec, observations[3].pointing_radec,observations[4].pointing_radec]    \n",
    "print(ss)\n",
    "list_region = []\n",
    "for s in ss:\n",
    "    region_s= CircleSkyRegion(center=s,radius=Angle(\"0.1 deg\"))\n",
    "    list_region.append(region_s)"
   ]
  },
  {
   "cell_type": "code",
   "execution_count": 46,
   "id": "63d458af",
   "metadata": {},
   "outputs": [
    {
     "data": {
      "image/png": "[encoded data removed]",
      "text/plain": [
       "<Figure size 576x576 with 1 Axes>"
      ]
     },
     "metadata": {
      "needs_background": "light"
     },
     "output_type": "display_data"
    }
   ],
   "source": [
    "\n",
    "\n",
    "\n",
    "\n",
    "\n",
    "plt.figure(figsize=(8,8))\n",
    "geom2 = WcsGeom.create(skydir=target_position, binsz=0.02, width=\"7 deg\", proj=\"CAR\")\n",
    "geom2_image = geom2.to_image()\n",
    "# IS THERE AN EXCLUSION REGION ASIDE FROM THE CENTER???\n",
    "center2_region = CircleSkyRegion(center=target_position, radius=0.35* u.deg)\n",
    "list_region.append(center2_region)\n",
    "exclusion_mask2=Map.from_geom(geom2_image)\n",
    "exclusion_mask2.data=geom2_image.region_mask(list_region, inside=False)\n",
    "_, ax, _ = exclusion_mask2.plot()\n",
    "on_region.to_pixel(ax.wcs).plot(ax=ax, edgecolor=\"grey\")\n",
    "plot_spectrum_datasets_off_regions(ax=ax, datasets=list_of_dataset)"
   ]
  },
  {
   "cell_type": "code",
   "execution_count": 17,
   "id": "61337eb4",
   "metadata": {},
   "outputs": [
    {
     "data": {
      "text/html": [
       "<i>Table length=5</i>\n",
       "<table id=\"table140313875398952\" class=\"table-striped table-bordered table-condensed\">\n",
       "<thead><tr><th>name</th><th>value</th><th>unit</th><th>min</th><th>max</th><th>frozen</th><th>error</th></tr></thead>\n",
       "<thead><tr><th>str9</th><th>float64</th><th>str14</th><th>float64</th><th>float64</th><th>bool</th><th>float64</th></tr></thead>\n",
       "<tr><td>index</td><td>2.1594e+00</td><td></td><td>nan</td><td>nan</td><td>False</td><td>3.250e-01</td></tr>\n",
       "<tr><td>amplitude</td><td>5.3762e-12</td><td>cm-2 s-1 TeV-1</td><td>nan</td><td>nan</td><td>False</td><td>2.000e-12</td></tr>\n",
       "<tr><td>reference</td><td>1.0000e+00</td><td>TeV</td><td>nan</td><td>nan</td><td>True</td><td>0.000e+00</td></tr>\n",
       "<tr><td>lambda_</td><td>6.0243e-02</td><td>TeV-1</td><td>nan</td><td>nan</td><td>False</td><td>2.722e-01</td></tr>\n",
       "<tr><td>alpha</td><td>1.0000e+00</td><td></td><td>nan</td><td>nan</td><td>True</td><td>0.000e+00</td></tr>\n",
       "</table>"
      ],
      "text/plain": [
       "<Table length=5>\n",
       "   name     value         unit        min     max   frozen   error  \n",
       "   str9    float64       str14      float64 float64  bool   float64 \n",
       "--------- ---------- -------------- ------- ------- ------ ---------\n",
       "    index 2.1594e+00                    nan     nan  False 3.250e-01\n",
       "amplitude 5.3762e-12 cm-2 s-1 TeV-1     nan     nan  False 2.000e-12\n",
       "reference 1.0000e+00            TeV     nan     nan   True 0.000e+00\n",
       "  lambda_ 6.0243e-02          TeV-1     nan     nan  False 2.722e-01\n",
       "    alpha 1.0000e+00                    nan     nan   True 0.000e+00"
      ]
     },
     "execution_count": 17,
     "metadata": {},
     "output_type": "execute_result"
    }
   ],
   "source": [
    "# Defining a model to your dataset\n",
    "target_position = on_region.center\n",
    "#spatial_model = PointSpatialModel(lon_0=target_position.ra, lat_0=target_position.dec, frame=\"icrs\")\n",
    "\n",
    "spectral_model = ExpCutoffPowerLawSpectralModel(amplitude= 1.712e-11*u.Unit(\"1/(cm2 s TeV)\"))\n",
    "\n",
    "\n",
    "#PowerLawSpectralModel??\n",
    "sky_model = SkyModel(spectral_model=spectral_model, name = \"Mrk501\")\n",
    "\n",
    "joint_model = sky_model\n",
    "for dataset in list_of_dataset:\n",
    "    dataset.models = sky_model\n",
    "    \n",
    "    \n",
    "# Performing a joint fit of the model:\n",
    "joint_fit = Fit(list_of_dataset)\n",
    "result_joint = joint_fit.run()\n",
    "result_joint.parameters.to_table()"
   ]
  },
  {
   "cell_type": "code",
   "execution_count": 18,
   "id": "47ff0854",
   "metadata": {},
   "outputs": [
    {
     "ename": "KeyboardInterrupt",
     "evalue": "",
     "output_type": "error",
     "traceback": [
      "\u001b[0;31m---------------------------------------------------------------------------\u001b[0m",
      "\u001b[0;31mKeyboardInterrupt\u001b[0m                         Traceback (most recent call last)",
      "\u001b[0;32m<ipython-input-18-6dfbfa8a4076>\u001b[0m in \u001b[0;36m<module>\u001b[0;34m\u001b[0m\n\u001b[1;32m      4\u001b[0m \u001b[0;32mfor\u001b[0m \u001b[0mpar\u001b[0m \u001b[0;32min\u001b[0m \u001b[0mlist_of_dataset\u001b[0m\u001b[0;34m.\u001b[0m\u001b[0mmodels\u001b[0m\u001b[0;34m.\u001b[0m\u001b[0mparameters\u001b[0m\u001b[0;34m:\u001b[0m\u001b[0;34m\u001b[0m\u001b[0m\n\u001b[1;32m      5\u001b[0m     \u001b[0;32mif\u001b[0m \u001b[0mpar\u001b[0m\u001b[0;34m.\u001b[0m\u001b[0mfrozen\u001b[0m \u001b[0;32mis\u001b[0m \u001b[0;32mFalse\u001b[0m\u001b[0;34m:\u001b[0m\u001b[0;34m\u001b[0m\u001b[0m\n\u001b[0;32m----> 6\u001b[0;31m         \u001b[0mprofile\u001b[0m\u001b[0;34m=\u001b[0m\u001b[0mjoint_fit\u001b[0m\u001b[0;34m.\u001b[0m\u001b[0mstat_profile\u001b[0m\u001b[0;34m(\u001b[0m\u001b[0mparameter\u001b[0m\u001b[0;34m=\u001b[0m\u001b[0mpar\u001b[0m\u001b[0;34m)\u001b[0m\u001b[0;34m\u001b[0m\u001b[0m\n\u001b[0m\u001b[1;32m      7\u001b[0m         \u001b[0mplt\u001b[0m\u001b[0;34m.\u001b[0m\u001b[0mplot\u001b[0m\u001b[0;34m(\u001b[0m\u001b[0mprofile\u001b[0m\u001b[0;34m[\u001b[0m\u001b[0;34mf\"{par.name}_scan\"\u001b[0m\u001b[0;34m]\u001b[0m\u001b[0;34m,\u001b[0m \u001b[0mprofile\u001b[0m\u001b[0;34m[\u001b[0m\u001b[0;34m\"stat_scan\"\u001b[0m\u001b[0;34m]\u001b[0m\u001b[0;34m-\u001b[0m\u001b[0mtotal_stat\u001b[0m\u001b[0;34m)\u001b[0m\u001b[0;34m\u001b[0m\u001b[0m\n\u001b[1;32m      8\u001b[0m         \u001b[0mplt\u001b[0m\u001b[0;34m.\u001b[0m\u001b[0mxlabel\u001b[0m\u001b[0;34m(\u001b[0m\u001b[0;34mf\"{par.unit}\"\u001b[0m\u001b[0;34m)\u001b[0m\u001b[0;34m\u001b[0m\u001b[0m\n",
      "\u001b[0;32m~/opt/anaconda3/envs/gammapy-0.18.2/lib/python3.7/site-packages/gammapy/modeling/fit.py\u001b[0m in \u001b[0;36mstat_profile\u001b[0;34m(self, parameter, values, bounds, nvalues, reoptimize, optimize_opts)\u001b[0m\n\u001b[1;32m    372\u001b[0m                     \u001b[0mfit_results\u001b[0m\u001b[0;34m.\u001b[0m\u001b[0mappend\u001b[0m\u001b[0;34m(\u001b[0m\u001b[0mresult\u001b[0m\u001b[0;34m)\u001b[0m\u001b[0;34m\u001b[0m\u001b[0m\n\u001b[1;32m    373\u001b[0m                 \u001b[0;32melse\u001b[0m\u001b[0;34m:\u001b[0m\u001b[0;34m\u001b[0m\u001b[0m\n\u001b[0;32m--> 374\u001b[0;31m                     \u001b[0mstat\u001b[0m \u001b[0;34m=\u001b[0m \u001b[0mself\u001b[0m\u001b[0;34m.\u001b[0m\u001b[0mdatasets\u001b[0m\u001b[0;34m.\u001b[0m\u001b[0mstat_sum\u001b[0m\u001b[0;34m(\u001b[0m\u001b[0;34m)\u001b[0m\u001b[0;34m\u001b[0m\u001b[0m\n\u001b[0m\u001b[1;32m    375\u001b[0m                 \u001b[0mstats\u001b[0m\u001b[0;34m.\u001b[0m\u001b[0mappend\u001b[0m\u001b[0;34m(\u001b[0m\u001b[0mstat\u001b[0m\u001b[0;34m)\u001b[0m\u001b[0;34m\u001b[0m\u001b[0m\n\u001b[1;32m    376\u001b[0m \u001b[0;34m\u001b[0m\u001b[0m\n",
      "\u001b[0;32m~/opt/anaconda3/envs/gammapy-0.18.2/lib/python3.7/site-packages/gammapy/datasets/core.py\u001b[0m in \u001b[0;36mstat_sum\u001b[0;34m(self)\u001b[0m\n\u001b[1;32m    189\u001b[0m         \u001b[0;31m# TODO: add parallel evaluation of likelihoods\u001b[0m\u001b[0;34m\u001b[0m\u001b[0;34m\u001b[0m\u001b[0m\n\u001b[1;32m    190\u001b[0m         \u001b[0;32mfor\u001b[0m \u001b[0mdataset\u001b[0m \u001b[0;32min\u001b[0m \u001b[0mself\u001b[0m\u001b[0;34m:\u001b[0m\u001b[0;34m\u001b[0m\u001b[0m\n\u001b[0;32m--> 191\u001b[0;31m             \u001b[0mstat_sum\u001b[0m \u001b[0;34m+=\u001b[0m \u001b[0mdataset\u001b[0m\u001b[0;34m.\u001b[0m\u001b[0mstat_sum\u001b[0m\u001b[0;34m(\u001b[0m\u001b[0;34m)\u001b[0m\u001b[0;34m\u001b[0m\u001b[0m\n\u001b[0m\u001b[1;32m    192\u001b[0m         \u001b[0;32mreturn\u001b[0m \u001b[0mstat_sum\u001b[0m\u001b[0;34m\u001b[0m\u001b[0m\n\u001b[1;32m    193\u001b[0m \u001b[0;34m\u001b[0m\u001b[0m\n",
      "\u001b[0;32m~/opt/anaconda3/envs/gammapy-0.18.2/lib/python3.7/site-packages/gammapy/datasets/spectrum.py\u001b[0m in \u001b[0;36mstat_sum\u001b[0;34m(self)\u001b[0m\n\u001b[1;32m    112\u001b[0m     \u001b[0;32mdef\u001b[0m \u001b[0mstat_sum\u001b[0m\u001b[0;34m(\u001b[0m\u001b[0mself\u001b[0m\u001b[0;34m)\u001b[0m\u001b[0;34m:\u001b[0m\u001b[0;34m\u001b[0m\u001b[0m\n\u001b[1;32m    113\u001b[0m         \u001b[0;34m\"\"\"Total statistic given the current model parameters.\"\"\"\u001b[0m\u001b[0;34m\u001b[0m\u001b[0m\n\u001b[0;32m--> 114\u001b[0;31m         \u001b[0mstat\u001b[0m \u001b[0;34m=\u001b[0m \u001b[0mself\u001b[0m\u001b[0;34m.\u001b[0m\u001b[0mstat_array\u001b[0m\u001b[0;34m(\u001b[0m\u001b[0;34m)\u001b[0m\u001b[0;34m\u001b[0m\u001b[0m\n\u001b[0m\u001b[1;32m    115\u001b[0m \u001b[0;34m\u001b[0m\u001b[0m\n\u001b[1;32m    116\u001b[0m         \u001b[0;32mif\u001b[0m \u001b[0mself\u001b[0m\u001b[0;34m.\u001b[0m\u001b[0mmask\u001b[0m \u001b[0;32mis\u001b[0m \u001b[0;32mnot\u001b[0m \u001b[0;32mNone\u001b[0m\u001b[0;34m:\u001b[0m\u001b[0;34m\u001b[0m\u001b[0m\n",
      "\u001b[0;32m~/opt/anaconda3/envs/gammapy-0.18.2/lib/python3.7/site-packages/gammapy/datasets/spectrum.py\u001b[0m in \u001b[0;36mstat_array\u001b[0;34m(self)\u001b[0m\n\u001b[1;32m    623\u001b[0m     \u001b[0;32mdef\u001b[0m \u001b[0mstat_array\u001b[0m\u001b[0;34m(\u001b[0m\u001b[0mself\u001b[0m\u001b[0;34m)\u001b[0m\u001b[0;34m:\u001b[0m\u001b[0;34m\u001b[0m\u001b[0m\n\u001b[1;32m    624\u001b[0m         \u001b[0;34m\"\"\"Likelihood per bin given the current model parameters\"\"\"\u001b[0m\u001b[0;34m\u001b[0m\u001b[0m\n\u001b[0;32m--> 625\u001b[0;31m         \u001b[0mmu_sig\u001b[0m \u001b[0;34m=\u001b[0m \u001b[0mself\u001b[0m\u001b[0;34m.\u001b[0m\u001b[0mnpred_signal\u001b[0m\u001b[0;34m(\u001b[0m\u001b[0;34m)\u001b[0m\u001b[0;34m.\u001b[0m\u001b[0mdata\u001b[0m\u001b[0;34m\u001b[0m\u001b[0m\n\u001b[0m\u001b[1;32m    626\u001b[0m         on_stat_ = wstat(\n\u001b[1;32m    627\u001b[0m             \u001b[0mn_on\u001b[0m\u001b[0;34m=\u001b[0m\u001b[0mself\u001b[0m\u001b[0;34m.\u001b[0m\u001b[0mcounts\u001b[0m\u001b[0;34m.\u001b[0m\u001b[0mdata\u001b[0m\u001b[0;34m,\u001b[0m\u001b[0;34m\u001b[0m\u001b[0m\n",
      "\u001b[0;32m~/opt/anaconda3/envs/gammapy-0.18.2/lib/python3.7/site-packages/gammapy/datasets/map.py\u001b[0m in \u001b[0;36mnpred_signal\u001b[0;34m(self, model)\u001b[0m\n\u001b[1;32m    405\u001b[0m \u001b[0;34m\u001b[0m\u001b[0m\n\u001b[1;32m    406\u001b[0m             \u001b[0;32mif\u001b[0m \u001b[0mevaluator\u001b[0m\u001b[0;34m.\u001b[0m\u001b[0mcontributes\u001b[0m\u001b[0;34m:\u001b[0m\u001b[0;34m\u001b[0m\u001b[0m\n\u001b[0;32m--> 407\u001b[0;31m                 \u001b[0mnpred\u001b[0m \u001b[0;34m=\u001b[0m \u001b[0mevaluator\u001b[0m\u001b[0;34m.\u001b[0m\u001b[0mcompute_npred\u001b[0m\u001b[0;34m(\u001b[0m\u001b[0;34m)\u001b[0m\u001b[0;34m\u001b[0m\u001b[0m\n\u001b[0m\u001b[1;32m    408\u001b[0m                 \u001b[0mnpred_total\u001b[0m\u001b[0;34m.\u001b[0m\u001b[0mstack\u001b[0m\u001b[0;34m(\u001b[0m\u001b[0mnpred\u001b[0m\u001b[0;34m)\u001b[0m\u001b[0;34m\u001b[0m\u001b[0m\n\u001b[1;32m    409\u001b[0m \u001b[0;34m\u001b[0m\u001b[0m\n",
      "\u001b[0;32m~/opt/anaconda3/envs/gammapy-0.18.2/lib/python3.7/site-packages/gammapy/datasets/map.py\u001b[0m in \u001b[0;36mcompute_npred\u001b[0;34m(self)\u001b[0m\n\u001b[1;32m   2680\u001b[0m             \u001b[0mself\u001b[0m\u001b[0;34m.\u001b[0m\u001b[0m_compute_npred\u001b[0m\u001b[0;34m.\u001b[0m\u001b[0mcache_clear\u001b[0m\u001b[0;34m(\u001b[0m\u001b[0;34m)\u001b[0m\u001b[0;34m\u001b[0m\u001b[0m\n\u001b[1;32m   2681\u001b[0m \u001b[0;34m\u001b[0m\u001b[0m\n\u001b[0;32m-> 2682\u001b[0;31m         \u001b[0;32mreturn\u001b[0m \u001b[0mself\u001b[0m\u001b[0;34m.\u001b[0m\u001b[0m_compute_npred\u001b[0m\u001b[0;34m(\u001b[0m\u001b[0;34m)\u001b[0m\u001b[0;34m\u001b[0m\u001b[0m\n\u001b[0m\u001b[1;32m   2683\u001b[0m \u001b[0;34m\u001b[0m\u001b[0m\n\u001b[1;32m   2684\u001b[0m     \u001b[0;34m@\u001b[0m\u001b[0mproperty\u001b[0m\u001b[0;34m\u001b[0m\u001b[0m\n",
      "\u001b[0;32m~/opt/anaconda3/envs/gammapy-0.18.2/lib/python3.7/site-packages/gammapy/datasets/map.py\u001b[0m in \u001b[0;36m_compute_npred\u001b[0;34m(self)\u001b[0m\n\u001b[1;32m   2635\u001b[0m \u001b[0;34m\u001b[0m\u001b[0m\n\u001b[1;32m   2636\u001b[0m             \u001b[0;32mif\u001b[0m \u001b[0mself\u001b[0m\u001b[0;34m.\u001b[0m\u001b[0mmodel\u001b[0m\u001b[0;34m.\u001b[0m\u001b[0mapply_irf\u001b[0m\u001b[0;34m[\u001b[0m\u001b[0;34m\"edisp\"\u001b[0m\u001b[0;34m]\u001b[0m\u001b[0;34m:\u001b[0m\u001b[0;34m\u001b[0m\u001b[0m\n\u001b[0;32m-> 2637\u001b[0;31m                 \u001b[0mnpred\u001b[0m \u001b[0;34m=\u001b[0m \u001b[0mself\u001b[0m\u001b[0;34m.\u001b[0m\u001b[0mapply_edisp\u001b[0m\u001b[0;34m(\u001b[0m\u001b[0mnpred\u001b[0m\u001b[0;34m)\u001b[0m\u001b[0;34m\u001b[0m\u001b[0m\n\u001b[0m\u001b[1;32m   2638\u001b[0m \u001b[0;34m\u001b[0m\u001b[0m\n\u001b[1;32m   2639\u001b[0m         \u001b[0;32mreturn\u001b[0m \u001b[0mnpred\u001b[0m\u001b[0;34m\u001b[0m\u001b[0m\n",
      "\u001b[0;32m~/opt/anaconda3/envs/gammapy-0.18.2/lib/python3.7/site-packages/gammapy/datasets/map.py\u001b[0m in \u001b[0;36mapply_edisp\u001b[0;34m(self, npred)\u001b[0m\n\u001b[1;32m   2622\u001b[0m             \u001b[0mPredicted\u001b[0m \u001b[0mcounts\u001b[0m \u001b[0;32min\u001b[0m \u001b[0mreco\u001b[0m \u001b[0menergy\u001b[0m \u001b[0mbins\u001b[0m\u001b[0;34m\u001b[0m\u001b[0m\n\u001b[1;32m   2623\u001b[0m         \"\"\"\n\u001b[0;32m-> 2624\u001b[0;31m         \u001b[0;32mreturn\u001b[0m \u001b[0mnpred\u001b[0m\u001b[0;34m.\u001b[0m\u001b[0mapply_edisp\u001b[0m\u001b[0;34m(\u001b[0m\u001b[0mself\u001b[0m\u001b[0;34m.\u001b[0m\u001b[0medisp\u001b[0m\u001b[0;34m)\u001b[0m\u001b[0;34m\u001b[0m\u001b[0m\n\u001b[0m\u001b[1;32m   2625\u001b[0m \u001b[0;34m\u001b[0m\u001b[0m\n\u001b[1;32m   2626\u001b[0m     \u001b[0;32mdef\u001b[0m \u001b[0m_compute_npred\u001b[0m\u001b[0;34m(\u001b[0m\u001b[0mself\u001b[0m\u001b[0;34m)\u001b[0m\u001b[0;34m:\u001b[0m\u001b[0;34m\u001b[0m\u001b[0m\n",
      "\u001b[0;32m~/opt/anaconda3/envs/gammapy-0.18.2/lib/python3.7/site-packages/gammapy/maps/core.py\u001b[0m in \u001b[0;36mapply_edisp\u001b[0;34m(self, edisp)\u001b[0m\n\u001b[1;32m   1125\u001b[0m             \u001b[0menergy_axis\u001b[0m \u001b[0;34m=\u001b[0m \u001b[0mself\u001b[0m\u001b[0;34m.\u001b[0m\u001b[0mgeom\u001b[0m\u001b[0;34m.\u001b[0m\u001b[0maxes\u001b[0m\u001b[0;34m[\u001b[0m\u001b[0;34m\"energy_true\"\u001b[0m\u001b[0;34m]\u001b[0m\u001b[0;34m.\u001b[0m\u001b[0mcopy\u001b[0m\u001b[0;34m(\u001b[0m\u001b[0mname\u001b[0m\u001b[0;34m=\u001b[0m\u001b[0;34m\"energy\"\u001b[0m\u001b[0;34m)\u001b[0m\u001b[0;34m\u001b[0m\u001b[0m\n\u001b[1;32m   1126\u001b[0m \u001b[0;34m\u001b[0m\u001b[0m\n\u001b[0;32m-> 1127\u001b[0;31m         \u001b[0mgeom\u001b[0m \u001b[0;34m=\u001b[0m \u001b[0mself\u001b[0m\u001b[0;34m.\u001b[0m\u001b[0mgeom\u001b[0m\u001b[0;34m.\u001b[0m\u001b[0mto_image\u001b[0m\u001b[0;34m(\u001b[0m\u001b[0;34m)\u001b[0m\u001b[0;34m.\u001b[0m\u001b[0mto_cube\u001b[0m\u001b[0;34m(\u001b[0m\u001b[0maxes\u001b[0m\u001b[0;34m=\u001b[0m\u001b[0;34m[\u001b[0m\u001b[0menergy_axis\u001b[0m\u001b[0;34m]\u001b[0m\u001b[0;34m)\u001b[0m\u001b[0;34m\u001b[0m\u001b[0m\n\u001b[0m\u001b[1;32m   1128\u001b[0m         \u001b[0;32mreturn\u001b[0m \u001b[0mself\u001b[0m\u001b[0;34m.\u001b[0m\u001b[0m_init_copy\u001b[0m\u001b[0;34m(\u001b[0m\u001b[0mgeom\u001b[0m\u001b[0;34m=\u001b[0m\u001b[0mgeom\u001b[0m\u001b[0;34m,\u001b[0m \u001b[0mdata\u001b[0m\u001b[0;34m=\u001b[0m\u001b[0mdata\u001b[0m\u001b[0;34m)\u001b[0m\u001b[0;34m\u001b[0m\u001b[0m\n\u001b[1;32m   1129\u001b[0m \u001b[0;34m\u001b[0m\u001b[0m\n",
      "\u001b[0;32m~/opt/anaconda3/envs/gammapy-0.18.2/lib/python3.7/site-packages/gammapy/maps/region.py\u001b[0m in \u001b[0;36mto_image\u001b[0;34m(self)\u001b[0m\n\u001b[1;32m    189\u001b[0m \u001b[0;34m\u001b[0m\u001b[0m\n\u001b[1;32m    190\u001b[0m     \u001b[0;32mdef\u001b[0m \u001b[0mto_image\u001b[0m\u001b[0;34m(\u001b[0m\u001b[0mself\u001b[0m\u001b[0;34m)\u001b[0m\u001b[0;34m:\u001b[0m\u001b[0;34m\u001b[0m\u001b[0m\n\u001b[0;32m--> 191\u001b[0;31m         \u001b[0;32mreturn\u001b[0m \u001b[0mself\u001b[0m\u001b[0;34m.\u001b[0m\u001b[0m_init_copy\u001b[0m\u001b[0;34m(\u001b[0m\u001b[0maxes\u001b[0m\u001b[0;34m=\u001b[0m\u001b[0;32mNone\u001b[0m\u001b[0;34m)\u001b[0m\u001b[0;34m\u001b[0m\u001b[0m\n\u001b[0m\u001b[1;32m    192\u001b[0m \u001b[0;34m\u001b[0m\u001b[0m\n\u001b[1;32m    193\u001b[0m     \u001b[0;32mdef\u001b[0m \u001b[0mupsample\u001b[0m\u001b[0;34m(\u001b[0m\u001b[0mself\u001b[0m\u001b[0;34m,\u001b[0m \u001b[0mfactor\u001b[0m\u001b[0;34m,\u001b[0m \u001b[0maxis_name\u001b[0m\u001b[0;34m)\u001b[0m\u001b[0;34m:\u001b[0m\u001b[0;34m\u001b[0m\u001b[0m\n",
      "\u001b[0;32m~/opt/anaconda3/envs/gammapy-0.18.2/lib/python3.7/site-packages/gammapy/maps/geom.py\u001b[0m in \u001b[0;36m_init_copy\u001b[0;34m(self, **kwargs)\u001b[0m\n\u001b[1;32m   2191\u001b[0m         \u001b[0;32mfor\u001b[0m \u001b[0marg\u001b[0m \u001b[0;32min\u001b[0m \u001b[0margnames\u001b[0m\u001b[0;34m:\u001b[0m\u001b[0;34m\u001b[0m\u001b[0m\n\u001b[1;32m   2192\u001b[0m             \u001b[0mvalue\u001b[0m \u001b[0;34m=\u001b[0m \u001b[0mgetattr\u001b[0m\u001b[0;34m(\u001b[0m\u001b[0mself\u001b[0m\u001b[0;34m,\u001b[0m \u001b[0;34m\"_\"\u001b[0m \u001b[0;34m+\u001b[0m \u001b[0marg\u001b[0m\u001b[0;34m)\u001b[0m\u001b[0;34m\u001b[0m\u001b[0m\n\u001b[0;32m-> 2193\u001b[0;31m             \u001b[0mkwargs\u001b[0m\u001b[0;34m.\u001b[0m\u001b[0msetdefault\u001b[0m\u001b[0;34m(\u001b[0m\u001b[0marg\u001b[0m\u001b[0;34m,\u001b[0m \u001b[0mcopy\u001b[0m\u001b[0;34m.\u001b[0m\u001b[0mdeepcopy\u001b[0m\u001b[0;34m(\u001b[0m\u001b[0mvalue\u001b[0m\u001b[0;34m)\u001b[0m\u001b[0;34m)\u001b[0m\u001b[0;34m\u001b[0m\u001b[0m\n\u001b[0m\u001b[1;32m   2194\u001b[0m \u001b[0;34m\u001b[0m\u001b[0m\n\u001b[1;32m   2195\u001b[0m         \u001b[0;32mreturn\u001b[0m \u001b[0mself\u001b[0m\u001b[0;34m.\u001b[0m\u001b[0m__class__\u001b[0m\u001b[0;34m(\u001b[0m\u001b[0;34m**\u001b[0m\u001b[0mkwargs\u001b[0m\u001b[0;34m)\u001b[0m\u001b[0;34m\u001b[0m\u001b[0m\n",
      "\u001b[0;32m~/opt/anaconda3/envs/gammapy-0.18.2/lib/python3.7/copy.py\u001b[0m in \u001b[0;36mdeepcopy\u001b[0;34m(x, memo, _nil)\u001b[0m\n\u001b[1;32m    178\u001b[0m                     \u001b[0my\u001b[0m \u001b[0;34m=\u001b[0m \u001b[0mx\u001b[0m\u001b[0;34m\u001b[0m\u001b[0m\n\u001b[1;32m    179\u001b[0m                 \u001b[0;32melse\u001b[0m\u001b[0;34m:\u001b[0m\u001b[0;34m\u001b[0m\u001b[0m\n\u001b[0;32m--> 180\u001b[0;31m                     \u001b[0my\u001b[0m \u001b[0;34m=\u001b[0m \u001b[0m_reconstruct\u001b[0m\u001b[0;34m(\u001b[0m\u001b[0mx\u001b[0m\u001b[0;34m,\u001b[0m \u001b[0mmemo\u001b[0m\u001b[0;34m,\u001b[0m \u001b[0;34m*\u001b[0m\u001b[0mrv\u001b[0m\u001b[0;34m)\u001b[0m\u001b[0;34m\u001b[0m\u001b[0m\n\u001b[0m\u001b[1;32m    181\u001b[0m \u001b[0;34m\u001b[0m\u001b[0m\n\u001b[1;32m    182\u001b[0m     \u001b[0;31m# If is its own copy, don't memoize.\u001b[0m\u001b[0;34m\u001b[0m\u001b[0;34m\u001b[0m\u001b[0m\n",
      "\u001b[0;32m~/opt/anaconda3/envs/gammapy-0.18.2/lib/python3.7/copy.py\u001b[0m in \u001b[0;36m_reconstruct\u001b[0;34m(x, memo, func, args, state, listiter, dictiter, deepcopy)\u001b[0m\n\u001b[1;32m    278\u001b[0m     \u001b[0;32mif\u001b[0m \u001b[0mstate\u001b[0m \u001b[0;32mis\u001b[0m \u001b[0;32mnot\u001b[0m \u001b[0;32mNone\u001b[0m\u001b[0;34m:\u001b[0m\u001b[0;34m\u001b[0m\u001b[0m\n\u001b[1;32m    279\u001b[0m         \u001b[0;32mif\u001b[0m \u001b[0mdeep\u001b[0m\u001b[0;34m:\u001b[0m\u001b[0;34m\u001b[0m\u001b[0m\n\u001b[0;32m--> 280\u001b[0;31m             \u001b[0mstate\u001b[0m \u001b[0;34m=\u001b[0m \u001b[0mdeepcopy\u001b[0m\u001b[0;34m(\u001b[0m\u001b[0mstate\u001b[0m\u001b[0;34m,\u001b[0m \u001b[0mmemo\u001b[0m\u001b[0;34m)\u001b[0m\u001b[0;34m\u001b[0m\u001b[0m\n\u001b[0m\u001b[1;32m    281\u001b[0m         \u001b[0;32mif\u001b[0m \u001b[0mhasattr\u001b[0m\u001b[0;34m(\u001b[0m\u001b[0my\u001b[0m\u001b[0;34m,\u001b[0m \u001b[0;34m'__setstate__'\u001b[0m\u001b[0;34m)\u001b[0m\u001b[0;34m:\u001b[0m\u001b[0;34m\u001b[0m\u001b[0m\n\u001b[1;32m    282\u001b[0m             \u001b[0my\u001b[0m\u001b[0;34m.\u001b[0m\u001b[0m__setstate__\u001b[0m\u001b[0;34m(\u001b[0m\u001b[0mstate\u001b[0m\u001b[0;34m)\u001b[0m\u001b[0;34m\u001b[0m\u001b[0m\n",
      "\u001b[0;32m~/opt/anaconda3/envs/gammapy-0.18.2/lib/python3.7/copy.py\u001b[0m in \u001b[0;36mdeepcopy\u001b[0;34m(x, memo, _nil)\u001b[0m\n\u001b[1;32m    148\u001b[0m     \u001b[0mcopier\u001b[0m \u001b[0;34m=\u001b[0m \u001b[0m_deepcopy_dispatch\u001b[0m\u001b[0;34m.\u001b[0m\u001b[0mget\u001b[0m\u001b[0;34m(\u001b[0m\u001b[0mcls\u001b[0m\u001b[0;34m)\u001b[0m\u001b[0;34m\u001b[0m\u001b[0m\n\u001b[1;32m    149\u001b[0m     \u001b[0;32mif\u001b[0m \u001b[0mcopier\u001b[0m\u001b[0;34m:\u001b[0m\u001b[0;34m\u001b[0m\u001b[0m\n\u001b[0;32m--> 150\u001b[0;31m         \u001b[0my\u001b[0m \u001b[0;34m=\u001b[0m \u001b[0mcopier\u001b[0m\u001b[0;34m(\u001b[0m\u001b[0mx\u001b[0m\u001b[0;34m,\u001b[0m \u001b[0mmemo\u001b[0m\u001b[0;34m)\u001b[0m\u001b[0;34m\u001b[0m\u001b[0m\n\u001b[0m\u001b[1;32m    151\u001b[0m     \u001b[0;32melse\u001b[0m\u001b[0;34m:\u001b[0m\u001b[0;34m\u001b[0m\u001b[0m\n\u001b[1;32m    152\u001b[0m         \u001b[0;32mtry\u001b[0m\u001b[0;34m:\u001b[0m\u001b[0;34m\u001b[0m\u001b[0m\n",
      "\u001b[0;32m~/opt/anaconda3/envs/gammapy-0.18.2/lib/python3.7/copy.py\u001b[0m in \u001b[0;36m_deepcopy_dict\u001b[0;34m(x, memo, deepcopy)\u001b[0m\n\u001b[1;32m    238\u001b[0m     \u001b[0mmemo\u001b[0m\u001b[0;34m[\u001b[0m\u001b[0mid\u001b[0m\u001b[0;34m(\u001b[0m\u001b[0mx\u001b[0m\u001b[0;34m)\u001b[0m\u001b[0;34m]\u001b[0m \u001b[0;34m=\u001b[0m \u001b[0my\u001b[0m\u001b[0;34m\u001b[0m\u001b[0m\n\u001b[1;32m    239\u001b[0m     \u001b[0;32mfor\u001b[0m \u001b[0mkey\u001b[0m\u001b[0;34m,\u001b[0m \u001b[0mvalue\u001b[0m \u001b[0;32min\u001b[0m \u001b[0mx\u001b[0m\u001b[0;34m.\u001b[0m\u001b[0mitems\u001b[0m\u001b[0;34m(\u001b[0m\u001b[0;34m)\u001b[0m\u001b[0;34m:\u001b[0m\u001b[0;34m\u001b[0m\u001b[0m\n\u001b[0;32m--> 240\u001b[0;31m         \u001b[0my\u001b[0m\u001b[0;34m[\u001b[0m\u001b[0mdeepcopy\u001b[0m\u001b[0;34m(\u001b[0m\u001b[0mkey\u001b[0m\u001b[0;34m,\u001b[0m \u001b[0mmemo\u001b[0m\u001b[0;34m)\u001b[0m\u001b[0;34m]\u001b[0m \u001b[0;34m=\u001b[0m \u001b[0mdeepcopy\u001b[0m\u001b[0;34m(\u001b[0m\u001b[0mvalue\u001b[0m\u001b[0;34m,\u001b[0m \u001b[0mmemo\u001b[0m\u001b[0;34m)\u001b[0m\u001b[0;34m\u001b[0m\u001b[0m\n\u001b[0m\u001b[1;32m    241\u001b[0m     \u001b[0;32mreturn\u001b[0m \u001b[0my\u001b[0m\u001b[0;34m\u001b[0m\u001b[0m\n\u001b[1;32m    242\u001b[0m \u001b[0md\u001b[0m\u001b[0;34m[\u001b[0m\u001b[0mdict\u001b[0m\u001b[0;34m]\u001b[0m \u001b[0;34m=\u001b[0m \u001b[0m_deepcopy_dict\u001b[0m\u001b[0;34m\u001b[0m\u001b[0m\n",
      "\u001b[0;32m~/opt/anaconda3/envs/gammapy-0.18.2/lib/python3.7/copy.py\u001b[0m in \u001b[0;36mdeepcopy\u001b[0;34m(x, memo, _nil)\u001b[0m\n\u001b[1;32m    178\u001b[0m                     \u001b[0my\u001b[0m \u001b[0;34m=\u001b[0m \u001b[0mx\u001b[0m\u001b[0;34m\u001b[0m\u001b[0m\n\u001b[1;32m    179\u001b[0m                 \u001b[0;32melse\u001b[0m\u001b[0;34m:\u001b[0m\u001b[0;34m\u001b[0m\u001b[0m\n\u001b[0;32m--> 180\u001b[0;31m                     \u001b[0my\u001b[0m \u001b[0;34m=\u001b[0m \u001b[0m_reconstruct\u001b[0m\u001b[0;34m(\u001b[0m\u001b[0mx\u001b[0m\u001b[0;34m,\u001b[0m \u001b[0mmemo\u001b[0m\u001b[0;34m,\u001b[0m \u001b[0;34m*\u001b[0m\u001b[0mrv\u001b[0m\u001b[0;34m)\u001b[0m\u001b[0;34m\u001b[0m\u001b[0m\n\u001b[0m\u001b[1;32m    181\u001b[0m \u001b[0;34m\u001b[0m\u001b[0m\n\u001b[1;32m    182\u001b[0m     \u001b[0;31m# If is its own copy, don't memoize.\u001b[0m\u001b[0;34m\u001b[0m\u001b[0;34m\u001b[0m\u001b[0m\n",
      "\u001b[0;32m~/opt/anaconda3/envs/gammapy-0.18.2/lib/python3.7/copy.py\u001b[0m in \u001b[0;36m_reconstruct\u001b[0;34m(x, memo, func, args, state, listiter, dictiter, deepcopy)\u001b[0m\n\u001b[1;32m    278\u001b[0m     \u001b[0;32mif\u001b[0m \u001b[0mstate\u001b[0m \u001b[0;32mis\u001b[0m \u001b[0;32mnot\u001b[0m \u001b[0;32mNone\u001b[0m\u001b[0;34m:\u001b[0m\u001b[0;34m\u001b[0m\u001b[0m\n\u001b[1;32m    279\u001b[0m         \u001b[0;32mif\u001b[0m \u001b[0mdeep\u001b[0m\u001b[0;34m:\u001b[0m\u001b[0;34m\u001b[0m\u001b[0m\n\u001b[0;32m--> 280\u001b[0;31m             \u001b[0mstate\u001b[0m \u001b[0;34m=\u001b[0m \u001b[0mdeepcopy\u001b[0m\u001b[0;34m(\u001b[0m\u001b[0mstate\u001b[0m\u001b[0;34m,\u001b[0m \u001b[0mmemo\u001b[0m\u001b[0;34m)\u001b[0m\u001b[0;34m\u001b[0m\u001b[0m\n\u001b[0m\u001b[1;32m    281\u001b[0m         \u001b[0;32mif\u001b[0m \u001b[0mhasattr\u001b[0m\u001b[0;34m(\u001b[0m\u001b[0my\u001b[0m\u001b[0;34m,\u001b[0m \u001b[0;34m'__setstate__'\u001b[0m\u001b[0;34m)\u001b[0m\u001b[0;34m:\u001b[0m\u001b[0;34m\u001b[0m\u001b[0m\n\u001b[1;32m    282\u001b[0m             \u001b[0my\u001b[0m\u001b[0;34m.\u001b[0m\u001b[0m__setstate__\u001b[0m\u001b[0;34m(\u001b[0m\u001b[0mstate\u001b[0m\u001b[0;34m)\u001b[0m\u001b[0;34m\u001b[0m\u001b[0m\n",
      "\u001b[0;32m~/opt/anaconda3/envs/gammapy-0.18.2/lib/python3.7/copy.py\u001b[0m in \u001b[0;36mdeepcopy\u001b[0;34m(x, memo, _nil)\u001b[0m\n\u001b[1;32m    148\u001b[0m     \u001b[0mcopier\u001b[0m \u001b[0;34m=\u001b[0m \u001b[0m_deepcopy_dispatch\u001b[0m\u001b[0;34m.\u001b[0m\u001b[0mget\u001b[0m\u001b[0;34m(\u001b[0m\u001b[0mcls\u001b[0m\u001b[0;34m)\u001b[0m\u001b[0;34m\u001b[0m\u001b[0m\n\u001b[1;32m    149\u001b[0m     \u001b[0;32mif\u001b[0m \u001b[0mcopier\u001b[0m\u001b[0;34m:\u001b[0m\u001b[0;34m\u001b[0m\u001b[0m\n\u001b[0;32m--> 150\u001b[0;31m         \u001b[0my\u001b[0m \u001b[0;34m=\u001b[0m \u001b[0mcopier\u001b[0m\u001b[0;34m(\u001b[0m\u001b[0mx\u001b[0m\u001b[0;34m,\u001b[0m \u001b[0mmemo\u001b[0m\u001b[0;34m)\u001b[0m\u001b[0;34m\u001b[0m\u001b[0m\n\u001b[0m\u001b[1;32m    151\u001b[0m     \u001b[0;32melse\u001b[0m\u001b[0;34m:\u001b[0m\u001b[0;34m\u001b[0m\u001b[0m\n\u001b[1;32m    152\u001b[0m         \u001b[0;32mtry\u001b[0m\u001b[0;34m:\u001b[0m\u001b[0;34m\u001b[0m\u001b[0m\n",
      "\u001b[0;32m~/opt/anaconda3/envs/gammapy-0.18.2/lib/python3.7/copy.py\u001b[0m in \u001b[0;36m_deepcopy_dict\u001b[0;34m(x, memo, deepcopy)\u001b[0m\n\u001b[1;32m    238\u001b[0m     \u001b[0mmemo\u001b[0m\u001b[0;34m[\u001b[0m\u001b[0mid\u001b[0m\u001b[0;34m(\u001b[0m\u001b[0mx\u001b[0m\u001b[0;34m)\u001b[0m\u001b[0;34m]\u001b[0m \u001b[0;34m=\u001b[0m \u001b[0my\u001b[0m\u001b[0;34m\u001b[0m\u001b[0m\n\u001b[1;32m    239\u001b[0m     \u001b[0;32mfor\u001b[0m \u001b[0mkey\u001b[0m\u001b[0;34m,\u001b[0m \u001b[0mvalue\u001b[0m \u001b[0;32min\u001b[0m \u001b[0mx\u001b[0m\u001b[0;34m.\u001b[0m\u001b[0mitems\u001b[0m\u001b[0;34m(\u001b[0m\u001b[0;34m)\u001b[0m\u001b[0;34m:\u001b[0m\u001b[0;34m\u001b[0m\u001b[0m\n\u001b[0;32m--> 240\u001b[0;31m         \u001b[0my\u001b[0m\u001b[0;34m[\u001b[0m\u001b[0mdeepcopy\u001b[0m\u001b[0;34m(\u001b[0m\u001b[0mkey\u001b[0m\u001b[0;34m,\u001b[0m \u001b[0mmemo\u001b[0m\u001b[0;34m)\u001b[0m\u001b[0;34m]\u001b[0m \u001b[0;34m=\u001b[0m \u001b[0mdeepcopy\u001b[0m\u001b[0;34m(\u001b[0m\u001b[0mvalue\u001b[0m\u001b[0;34m,\u001b[0m \u001b[0mmemo\u001b[0m\u001b[0;34m)\u001b[0m\u001b[0;34m\u001b[0m\u001b[0m\n\u001b[0m\u001b[1;32m    241\u001b[0m     \u001b[0;32mreturn\u001b[0m \u001b[0my\u001b[0m\u001b[0;34m\u001b[0m\u001b[0m\n\u001b[1;32m    242\u001b[0m \u001b[0md\u001b[0m\u001b[0;34m[\u001b[0m\u001b[0mdict\u001b[0m\u001b[0;34m]\u001b[0m \u001b[0;34m=\u001b[0m \u001b[0m_deepcopy_dict\u001b[0m\u001b[0;34m\u001b[0m\u001b[0m\n",
      "\u001b[0;32m~/opt/anaconda3/envs/gammapy-0.18.2/lib/python3.7/copy.py\u001b[0m in \u001b[0;36mdeepcopy\u001b[0;34m(x, memo, _nil)\u001b[0m\n\u001b[1;32m    178\u001b[0m                     \u001b[0my\u001b[0m \u001b[0;34m=\u001b[0m \u001b[0mx\u001b[0m\u001b[0;34m\u001b[0m\u001b[0m\n\u001b[1;32m    179\u001b[0m                 \u001b[0;32melse\u001b[0m\u001b[0;34m:\u001b[0m\u001b[0;34m\u001b[0m\u001b[0m\n\u001b[0;32m--> 180\u001b[0;31m                     \u001b[0my\u001b[0m \u001b[0;34m=\u001b[0m \u001b[0m_reconstruct\u001b[0m\u001b[0;34m(\u001b[0m\u001b[0mx\u001b[0m\u001b[0;34m,\u001b[0m \u001b[0mmemo\u001b[0m\u001b[0;34m,\u001b[0m \u001b[0;34m*\u001b[0m\u001b[0mrv\u001b[0m\u001b[0;34m)\u001b[0m\u001b[0;34m\u001b[0m\u001b[0m\n\u001b[0m\u001b[1;32m    181\u001b[0m \u001b[0;34m\u001b[0m\u001b[0m\n\u001b[1;32m    182\u001b[0m     \u001b[0;31m# If is its own copy, don't memoize.\u001b[0m\u001b[0;34m\u001b[0m\u001b[0;34m\u001b[0m\u001b[0m\n",
      "\u001b[0;32m~/opt/anaconda3/envs/gammapy-0.18.2/lib/python3.7/copy.py\u001b[0m in \u001b[0;36m_reconstruct\u001b[0;34m(x, memo, func, args, state, listiter, dictiter, deepcopy)\u001b[0m\n\u001b[1;32m    278\u001b[0m     \u001b[0;32mif\u001b[0m \u001b[0mstate\u001b[0m \u001b[0;32mis\u001b[0m \u001b[0;32mnot\u001b[0m \u001b[0;32mNone\u001b[0m\u001b[0;34m:\u001b[0m\u001b[0;34m\u001b[0m\u001b[0m\n\u001b[1;32m    279\u001b[0m         \u001b[0;32mif\u001b[0m \u001b[0mdeep\u001b[0m\u001b[0;34m:\u001b[0m\u001b[0;34m\u001b[0m\u001b[0m\n\u001b[0;32m--> 280\u001b[0;31m             \u001b[0mstate\u001b[0m \u001b[0;34m=\u001b[0m \u001b[0mdeepcopy\u001b[0m\u001b[0;34m(\u001b[0m\u001b[0mstate\u001b[0m\u001b[0;34m,\u001b[0m \u001b[0mmemo\u001b[0m\u001b[0;34m)\u001b[0m\u001b[0;34m\u001b[0m\u001b[0m\n\u001b[0m\u001b[1;32m    281\u001b[0m         \u001b[0;32mif\u001b[0m \u001b[0mhasattr\u001b[0m\u001b[0;34m(\u001b[0m\u001b[0my\u001b[0m\u001b[0;34m,\u001b[0m \u001b[0;34m'__setstate__'\u001b[0m\u001b[0;34m)\u001b[0m\u001b[0;34m:\u001b[0m\u001b[0;34m\u001b[0m\u001b[0m\n\u001b[1;32m    282\u001b[0m             \u001b[0my\u001b[0m\u001b[0;34m.\u001b[0m\u001b[0m__setstate__\u001b[0m\u001b[0;34m(\u001b[0m\u001b[0mstate\u001b[0m\u001b[0;34m)\u001b[0m\u001b[0;34m\u001b[0m\u001b[0m\n",
      "\u001b[0;32m~/opt/anaconda3/envs/gammapy-0.18.2/lib/python3.7/copy.py\u001b[0m in \u001b[0;36mdeepcopy\u001b[0;34m(x, memo, _nil)\u001b[0m\n\u001b[1;32m    148\u001b[0m     \u001b[0mcopier\u001b[0m \u001b[0;34m=\u001b[0m \u001b[0m_deepcopy_dispatch\u001b[0m\u001b[0;34m.\u001b[0m\u001b[0mget\u001b[0m\u001b[0;34m(\u001b[0m\u001b[0mcls\u001b[0m\u001b[0;34m)\u001b[0m\u001b[0;34m\u001b[0m\u001b[0m\n\u001b[1;32m    149\u001b[0m     \u001b[0;32mif\u001b[0m \u001b[0mcopier\u001b[0m\u001b[0;34m:\u001b[0m\u001b[0;34m\u001b[0m\u001b[0m\n\u001b[0;32m--> 150\u001b[0;31m         \u001b[0my\u001b[0m \u001b[0;34m=\u001b[0m \u001b[0mcopier\u001b[0m\u001b[0;34m(\u001b[0m\u001b[0mx\u001b[0m\u001b[0;34m,\u001b[0m \u001b[0mmemo\u001b[0m\u001b[0;34m)\u001b[0m\u001b[0;34m\u001b[0m\u001b[0m\n\u001b[0m\u001b[1;32m    151\u001b[0m     \u001b[0;32melse\u001b[0m\u001b[0;34m:\u001b[0m\u001b[0;34m\u001b[0m\u001b[0m\n\u001b[1;32m    152\u001b[0m         \u001b[0;32mtry\u001b[0m\u001b[0;34m:\u001b[0m\u001b[0;34m\u001b[0m\u001b[0m\n",
      "\u001b[0;32m~/opt/anaconda3/envs/gammapy-0.18.2/lib/python3.7/copy.py\u001b[0m in \u001b[0;36m_deepcopy_dict\u001b[0;34m(x, memo, deepcopy)\u001b[0m\n\u001b[1;32m    238\u001b[0m     \u001b[0mmemo\u001b[0m\u001b[0;34m[\u001b[0m\u001b[0mid\u001b[0m\u001b[0;34m(\u001b[0m\u001b[0mx\u001b[0m\u001b[0;34m)\u001b[0m\u001b[0;34m]\u001b[0m \u001b[0;34m=\u001b[0m \u001b[0my\u001b[0m\u001b[0;34m\u001b[0m\u001b[0m\n\u001b[1;32m    239\u001b[0m     \u001b[0;32mfor\u001b[0m \u001b[0mkey\u001b[0m\u001b[0;34m,\u001b[0m \u001b[0mvalue\u001b[0m \u001b[0;32min\u001b[0m \u001b[0mx\u001b[0m\u001b[0;34m.\u001b[0m\u001b[0mitems\u001b[0m\u001b[0;34m(\u001b[0m\u001b[0;34m)\u001b[0m\u001b[0;34m:\u001b[0m\u001b[0;34m\u001b[0m\u001b[0m\n\u001b[0;32m--> 240\u001b[0;31m         \u001b[0my\u001b[0m\u001b[0;34m[\u001b[0m\u001b[0mdeepcopy\u001b[0m\u001b[0;34m(\u001b[0m\u001b[0mkey\u001b[0m\u001b[0;34m,\u001b[0m \u001b[0mmemo\u001b[0m\u001b[0;34m)\u001b[0m\u001b[0;34m]\u001b[0m \u001b[0;34m=\u001b[0m \u001b[0mdeepcopy\u001b[0m\u001b[0;34m(\u001b[0m\u001b[0mvalue\u001b[0m\u001b[0;34m,\u001b[0m \u001b[0mmemo\u001b[0m\u001b[0;34m)\u001b[0m\u001b[0;34m\u001b[0m\u001b[0m\n\u001b[0m\u001b[1;32m    241\u001b[0m     \u001b[0;32mreturn\u001b[0m \u001b[0my\u001b[0m\u001b[0;34m\u001b[0m\u001b[0m\n\u001b[1;32m    242\u001b[0m \u001b[0md\u001b[0m\u001b[0;34m[\u001b[0m\u001b[0mdict\u001b[0m\u001b[0;34m]\u001b[0m \u001b[0;34m=\u001b[0m \u001b[0m_deepcopy_dict\u001b[0m\u001b[0;34m\u001b[0m\u001b[0m\n",
      "\u001b[0;32m~/opt/anaconda3/envs/gammapy-0.18.2/lib/python3.7/copy.py\u001b[0m in \u001b[0;36mdeepcopy\u001b[0;34m(x, memo, _nil)\u001b[0m\n\u001b[1;32m    178\u001b[0m                     \u001b[0my\u001b[0m \u001b[0;34m=\u001b[0m \u001b[0mx\u001b[0m\u001b[0;34m\u001b[0m\u001b[0m\n\u001b[1;32m    179\u001b[0m                 \u001b[0;32melse\u001b[0m\u001b[0;34m:\u001b[0m\u001b[0;34m\u001b[0m\u001b[0m\n\u001b[0;32m--> 180\u001b[0;31m                     \u001b[0my\u001b[0m \u001b[0;34m=\u001b[0m \u001b[0m_reconstruct\u001b[0m\u001b[0;34m(\u001b[0m\u001b[0mx\u001b[0m\u001b[0;34m,\u001b[0m \u001b[0mmemo\u001b[0m\u001b[0;34m,\u001b[0m \u001b[0;34m*\u001b[0m\u001b[0mrv\u001b[0m\u001b[0;34m)\u001b[0m\u001b[0;34m\u001b[0m\u001b[0m\n\u001b[0m\u001b[1;32m    181\u001b[0m \u001b[0;34m\u001b[0m\u001b[0m\n\u001b[1;32m    182\u001b[0m     \u001b[0;31m# If is its own copy, don't memoize.\u001b[0m\u001b[0;34m\u001b[0m\u001b[0;34m\u001b[0m\u001b[0m\n",
      "\u001b[0;32m~/opt/anaconda3/envs/gammapy-0.18.2/lib/python3.7/copy.py\u001b[0m in \u001b[0;36m_reconstruct\u001b[0;34m(x, memo, func, args, state, listiter, dictiter, deepcopy)\u001b[0m\n\u001b[1;32m    272\u001b[0m     \u001b[0;32mif\u001b[0m \u001b[0mdeep\u001b[0m \u001b[0;32mand\u001b[0m \u001b[0margs\u001b[0m\u001b[0;34m:\u001b[0m\u001b[0;34m\u001b[0m\u001b[0m\n\u001b[1;32m    273\u001b[0m         \u001b[0margs\u001b[0m \u001b[0;34m=\u001b[0m \u001b[0;34m(\u001b[0m\u001b[0mdeepcopy\u001b[0m\u001b[0;34m(\u001b[0m\u001b[0marg\u001b[0m\u001b[0;34m,\u001b[0m \u001b[0mmemo\u001b[0m\u001b[0;34m)\u001b[0m \u001b[0;32mfor\u001b[0m \u001b[0marg\u001b[0m \u001b[0;32min\u001b[0m \u001b[0margs\u001b[0m\u001b[0;34m)\u001b[0m\u001b[0;34m\u001b[0m\u001b[0m\n\u001b[0;32m--> 274\u001b[0;31m     \u001b[0my\u001b[0m \u001b[0;34m=\u001b[0m \u001b[0mfunc\u001b[0m\u001b[0;34m(\u001b[0m\u001b[0;34m*\u001b[0m\u001b[0margs\u001b[0m\u001b[0;34m)\u001b[0m\u001b[0;34m\u001b[0m\u001b[0m\n\u001b[0m\u001b[1;32m    275\u001b[0m     \u001b[0;32mif\u001b[0m \u001b[0mdeep\u001b[0m\u001b[0;34m:\u001b[0m\u001b[0;34m\u001b[0m\u001b[0m\n\u001b[1;32m    276\u001b[0m         \u001b[0mmemo\u001b[0m\u001b[0;34m[\u001b[0m\u001b[0mid\u001b[0m\u001b[0;34m(\u001b[0m\u001b[0mx\u001b[0m\u001b[0;34m)\u001b[0m\u001b[0;34m]\u001b[0m \u001b[0;34m=\u001b[0m \u001b[0my\u001b[0m\u001b[0;34m\u001b[0m\u001b[0m\n",
      "\u001b[0;32m~/opt/anaconda3/envs/gammapy-0.18.2/lib/python3.7/copyreg.py\u001b[0m in \u001b[0;36m__newobj__\u001b[0;34m(cls, *args)\u001b[0m\n\u001b[1;32m     86\u001b[0m \u001b[0;34m\u001b[0m\u001b[0m\n\u001b[1;32m     87\u001b[0m \u001b[0;32mdef\u001b[0m \u001b[0m__newobj__\u001b[0m\u001b[0;34m(\u001b[0m\u001b[0mcls\u001b[0m\u001b[0;34m,\u001b[0m \u001b[0;34m*\u001b[0m\u001b[0margs\u001b[0m\u001b[0;34m)\u001b[0m\u001b[0;34m:\u001b[0m\u001b[0;34m\u001b[0m\u001b[0m\n\u001b[0;32m---> 88\u001b[0;31m     \u001b[0;32mreturn\u001b[0m \u001b[0mcls\u001b[0m\u001b[0;34m.\u001b[0m\u001b[0m__new__\u001b[0m\u001b[0;34m(\u001b[0m\u001b[0mcls\u001b[0m\u001b[0;34m,\u001b[0m \u001b[0;34m*\u001b[0m\u001b[0margs\u001b[0m\u001b[0;34m)\u001b[0m\u001b[0;34m\u001b[0m\u001b[0m\n\u001b[0m\u001b[1;32m     89\u001b[0m \u001b[0;34m\u001b[0m\u001b[0m\n\u001b[1;32m     90\u001b[0m \u001b[0;32mdef\u001b[0m \u001b[0m__newobj_ex__\u001b[0m\u001b[0;34m(\u001b[0m\u001b[0mcls\u001b[0m\u001b[0;34m,\u001b[0m \u001b[0margs\u001b[0m\u001b[0;34m,\u001b[0m \u001b[0mkwargs\u001b[0m\u001b[0;34m)\u001b[0m\u001b[0;34m:\u001b[0m\u001b[0;34m\u001b[0m\u001b[0m\n",
      "\u001b[0;31mKeyboardInterrupt\u001b[0m: "
     ]
    }
   ],
   "source": [
    "# Checking the the params of the fit to see if the fit is good. Note for the fit to be good, all plot must give a parabolic\n",
    "total_stat = result_joint.total_stat\n",
    "\n",
    "for par in list_of_dataset.models.parameters:\n",
    "    if par.frozen is False:\n",
    "        profile=joint_fit.stat_profile(parameter=par)\n",
    "        plt.plot(profile[f\"{par.name}_scan\"], profile[\"stat_scan\"]-total_stat)\n",
    "        plt.xlabel(f\"{par.unit}\")\n",
    "        plt.ylabel(\"Delta TS\")\n",
    "        plt.title(f\"{par.name}: {par.value} +- {par.error}\")\n",
    "        plt.show()\n",
    "        plt.close()"
   ]
  },
  {
   "cell_type": "code",
   "execution_count": null,
   "id": "0596aca0",
   "metadata": {},
   "outputs": [],
   "source": [
    "joint_model.spectral_model.covariance.plot_correlation()\n"
   ]
  },
  {
   "cell_type": "code",
   "execution_count": null,
   "id": "8fe2868e",
   "metadata": {},
   "outputs": [],
   "source": [
    "%%time\n",
    "# Contour sigma plot. So within the circle 1sigma -> You get \n",
    "def make_contours(fit, result, npoints, sigmas):\n",
    "    cts_sigma = []\n",
    "    for sigma in sigmas:\n",
    "        contours = dict()\n",
    "        # alpha, beta amplitude\n",
    "        for par_1, par_2 in combinations([\"lambda_\",\"index\",\"amplitude\"], r=2):\n",
    "            contour = fit.minos_contour(result.parameters[par_1], result.parameters[par_2],numpoints=npoints, sigma=sigma)\n",
    "            contours[f\"contour_{par_1}_{par_2}\"] = {par_1: contour[par_1].tolist(), par_2: contour[par_2].tolist()}\n",
    "    cts_sigma.append(contours)\n",
    "    \n",
    "    return cts_sigma\n",
    "\n",
    "sigma = [1]\n",
    "cts_sigma = make_contours(fit=joint_fit,result=result_joint,npoints=5,sigmas=sigma)    \n",
    "\n",
    "pars = {\n",
    "    \"amplitude\": r\"$\\phi_0 \\,/\\,(10^{-11}\\,{\\rm TeV}^{-1} \\, {\\rm cm}^{-2} {\\rm s}^{-1})$\",\n",
    "    \"lambda_\": r\"$\\lambda$\",\n",
    "    \"index\": r\"$\\gamma$\",\n",
    "}\n",
    "\n",
    "\n",
    "panels = [\n",
    "    {\n",
    "        \"x\": \"lambda_\",\n",
    "        \"y\": \"amplitude\",\n",
    "        \"cx\": (lambda ct: ct[\"contour_lambda__amplitude\"][\"lambda_\"]),\n",
    "        \"cy\": (\n",
    "            lambda ct: np.array(1e11)\n",
    "            * ct[\"contour_lambda__amplitude\"][\"amplitude\"]\n",
    "        ),\n",
    "    },\n",
    "    {\n",
    "        \"x\": \"index\",\n",
    "        \"y\": \"amplitude\",\n",
    "        \"cx\": (lambda ct: ct[\"contour_index_amplitude\"][\"index\"]),\n",
    "        \"cy\": (\n",
    "            lambda ct: np.array(1e11)\n",
    "            * ct[\"contour_index_amplitude\"][\"amplitude\"]\n",
    "        ),\n",
    "    },\n",
    "    {\n",
    "        \"x\": \"lambda_\",\n",
    "        \"y\": \"index\",\n",
    "        \"cx\": (lambda ct: ct[\"contour_lambda__index\"][\"lambda_\"]),\n",
    "        \"cy\": (lambda ct: ct[\"contour_lambda__index\"][\"index\"]),\n",
    "    },\n",
    "]\n",
    "fig, axes = plt.subplots(1, 2, figsize=(16,5))\n",
    "colors = [\"m\", \"b\", \"c\"]\n",
    "for p, ax in zip(panels, axes):\n",
    "    xlabel = pars[p[\"x\"]]\n",
    "    ylabel = pars[p[\"y\"]]\n",
    "    for ks in range(len(cts_sigma)):\n",
    "        plot_contour_line(ax,p[\"cx\"](cts_sigma[ks]), p[\"cy\"](cts_sigma[ks]),lw=2.5,color=colors[ks],label=f\"{sigma[ks]}\"+r\"$\\sigma$\")\n",
    "    ax.set_xlabel(xlabel)\n",
    "    ax.set_ylabel(ylabel)\n",
    "plt.legend()\n",
    "plt.tight_layout()\n",
    "            "
   ]
  },
  {
   "cell_type": "markdown",
   "id": "bbed7753",
   "metadata": {},
   "source": []
  },
  {
   "cell_type": "code",
   "execution_count": null,
   "id": "9a4d3e8f",
   "metadata": {},
   "outputs": [],
   "source": []
  },
  {
   "cell_type": "code",
   "execution_count": 19,
   "id": "bd9c9554",
   "metadata": {},
   "outputs": [
    {
     "data": {
      "text/html": [
       "<i>Table length=3</i>\n",
       "<table id=\"table140313871044848\" class=\"table-striped table-bordered table-condensed\">\n",
       "<thead><tr><th>name</th><th>value</th><th>unit</th><th>min</th><th>max</th><th>frozen</th><th>error</th></tr></thead>\n",
       "<thead><tr><th>str9</th><th>float64</th><th>str14</th><th>float64</th><th>float64</th><th>bool</th><th>float64</th></tr></thead>\n",
       "<tr><td>index</td><td>2.2462e+00</td><td></td><td>nan</td><td>nan</td><td>False</td><td>1.545e-01</td></tr>\n",
       "<tr><td>amplitude</td><td>5.1244e-12</td><td>cm-2 s-1 TeV-1</td><td>nan</td><td>nan</td><td>False</td><td>6.496e-13</td></tr>\n",
       "<tr><td>reference</td><td>1.0000e+00</td><td>TeV</td><td>nan</td><td>nan</td><td>True</td><td>0.000e+00</td></tr>\n",
       "</table>"
      ],
      "text/plain": [
       "<Table length=3>\n",
       "   name     value         unit        min     max   frozen   error  \n",
       "   str9    float64       str14      float64 float64  bool   float64 \n",
       "--------- ---------- -------------- ------- ------- ------ ---------\n",
       "    index 2.2462e+00                    nan     nan  False 1.545e-01\n",
       "amplitude 5.1244e-12 cm-2 s-1 TeV-1     nan     nan  False 6.496e-13\n",
       "reference 1.0000e+00            TeV     nan     nan   True 0.000e+00"
      ]
     },
     "execution_count": 19,
     "metadata": {},
     "output_type": "execute_result"
    }
   ],
   "source": [
    "# STACKED DATASET:\n",
    "\n",
    "# Defining a model to your dataset\n",
    "target_position = on_region.center\n",
    "#spatial_model = PointSpatialModel(lon_0=target_position.ra, lat_0=target_position.dec, frame=\"icrs\")\n",
    "\n",
    "spectral_model = PowerLawSpectralModel(index=2.5, amplitude= 1.712e-11*u.Unit(\"1/(cm2 s TeV)\"), reference = 1*u.TeV)\n",
    "\n",
    "\n",
    "#PowerLawSpectralModel??\n",
    "sky_model = SkyModel(spectral_model=spectral_model, name = f\"{source}\")\n",
    "\n",
    "stacked_model = sky_model\n",
    "stacked.models = stacked_model\n",
    "  \n",
    "  \n",
    "# Performing a joint fit of the model:\n",
    "stacked_fit = Fit(stacked)\n",
    "result_stacked = stacked_fit.run()\n",
    "result_stacked.parameters.to_table()"
   ]
  },
  {
   "cell_type": "code",
   "execution_count": null,
   "id": "82c934bd",
   "metadata": {},
   "outputs": [],
   "source": []
  },
  {
   "cell_type": "code",
   "execution_count": 20,
   "id": "147b73f4",
   "metadata": {},
   "outputs": [
    {
     "data": {
      "image/png": "[encoded data removed]",
      "text/plain": [
       "<Figure size 432x288 with 1 Axes>"
      ]
     },
     "metadata": {
      "needs_background": "light"
     },
     "output_type": "display_data"
    },
    {
     "data": {
      "image/png": "[encoded data removed]",
      "text/plain": [
       "<Figure size 432x288 with 1 Axes>"
      ]
     },
     "metadata": {
      "needs_background": "light"
     },
     "output_type": "display_data"
    }
   ],
   "source": [
    "# Checking the the params of the fit to see if the fit is good. Note for the fit to be good, all plot must give a parabolic\n",
    "total_stat = result_stacked.total_stat\n",
    "\n",
    "for par in stacked.models.parameters:\n",
    "    if par.frozen is False:\n",
    "        profile=stacked_fit.stat_profile(parameter=par)\n",
    "        plt.plot(profile[f\"{par.name}_scan\"], profile[\"stat_scan\"]-total_stat)\n",
    "        plt.xlabel(f\"{par.unit}\")\n",
    "        plt.ylabel(\"Delta TS\")\n",
    "        plt.title(f\"{par.name}: {par.value} +- {par.error}\")\n",
    "        plt.show()\n",
    "        plt.close()"
   ]
  },
  {
   "cell_type": "code",
   "execution_count": 21,
   "id": "da01a390",
   "metadata": {},
   "outputs": [
    {
     "name": "stderr",
     "output_type": "stream",
     "text": [
      "No handles with labels found to put in legend.\n"
     ]
    },
    {
     "name": "stdout",
     "output_type": "stream",
     "text": [
      "CPU times: user 1.07 s, sys: 45.3 ms, total: 1.12 s\n",
      "Wall time: 1.23 s\n"
     ]
    },
    {
     "data": {
      "image/png": "[encoded data removed]",
      "text/plain": [
       "<Figure size 1152x360 with 2 Axes>"
      ]
     },
     "metadata": {
      "needs_background": "light"
     },
     "output_type": "display_data"
    }
   ],
   "source": [
    "%%time\n",
    "# Contour sigma plot. So within the circle 1sigma -> You get \n",
    "def make_contours(fit, result, npoints, sigmas):\n",
    "    cts_sigma = []\n",
    "    for sigma in sigmas:\n",
    "        contours = dict()\n",
    "        # alpha, beta amplitude\n",
    "        for par_1, par_2 in combinations([\"index\",\"amplitude\"], r=2):\n",
    "            contour = fit.minos_contour(result.parameters[par_1], result.parameters[par_2],numpoints=npoints, sigma=sigma)\n",
    "            contours[f\"contour_{par_1}_{par_2}\"] = {par_1: contour[par_1].tolist(), par_2: contour[par_2].tolist()}\n",
    "    cts_sigma.append(contours)\n",
    "    \n",
    "    return cts_sigma\n",
    "\n",
    "sigma = [1]\n",
    "cts_sigma = make_contours(fit=stacked_fit,result=result_stacked,npoints=5,sigmas=sigma)    \n",
    "pars = {    \"amplitude\": r\"$\\phi_0 \\,/\\,(10^{-11}\\,{\\rm TeV}^{-1} \\, {\\rm cm}^{-2} {\\rm s}^{-1})$\",\n",
    "    \"index\": r\"$\\gamma$\",    \n",
    "}\n",
    "panels = [\n",
    "    {\n",
    "        \"x\": \"index\",\n",
    "        \"y\": \"amplitude\",\n",
    "        \"cx\": (lambda ct: ct[\"contour_index_amplitude\"][\"index\"]),\n",
    "        \"cy\": (\n",
    "            lambda ct: np.array(1e11)\n",
    "            * ct[\"contour_index_amplitude\"][\"amplitude\"]\n",
    "        ),\n",
    "    },\n",
    "]\n",
    "fig, axes = plt.subplots(1,2, figsize=(16,5))\n",
    "colors = [\"m\", \"b\", \"c\"]\n",
    "for p, ax in zip(panels, axes):\n",
    "    xlabel = pars[p[\"x\"]]\n",
    "    ylabel = pars[p[\"y\"]]\n",
    "    for ks in range(len(cts_sigma)):\n",
    "        plot_contour_line(ax,p[\"cx\"](cts_sigma[ks]), p[\"cy\"](cts_sigma[ks]),lw=2.5,color=colors[ks],label=f\"{sigma[ks]}\"+r\"$\\sigma$\")\n",
    "    ax.set_xlabel(xlabel)\n",
    "    ax.set_ylabel(ylabel)\n",
    "plt.legend()\n",
    "plt.tight_layout()\n",
    "            "
   ]
  },
  {
   "cell_type": "code",
   "execution_count": 22,
   "id": "dcd9106a",
   "metadata": {},
   "outputs": [
    {
     "data": {
      "text/plain": [
       "(<matplotlib.axes._subplots.AxesSubplot at 0x7f9d5f879cf8>,\n",
       " <matplotlib.axes._subplots.AxesSubplot at 0x7f9d5fae4240>)"
      ]
     },
     "execution_count": 22,
     "metadata": {},
     "output_type": "execute_result"
    },
    {
     "data": {
      "image/png": "[encoded data removed]",
      "text/plain": [
       "<Figure size 576x504 with 2 Axes>"
      ]
     },
     "metadata": {
      "needs_background": "light"
     },
     "output_type": "display_data"
    }
   ],
   "source": [
    "stacked.plot_fit()"
   ]
  },
  {
   "cell_type": "code",
   "execution_count": 23,
   "id": "4255bff8",
   "metadata": {},
   "outputs": [],
   "source": [
    "# COMPARISON WITH THE JOINT-FIT\n",
    "def plot_spectrum(model, result, label, color, ax=None):\n",
    "    spec = model.spectral_model\n",
    "    energy_range =[2, 10]*u.TeV\n",
    "    spec.plot(ax=ax, energy_range=energy_range, energy_power=0, label=label, color=color)\n",
    "    spec.plot_error(ax=ax, energy_range=energy_range, energy_power=0, color=color)"
   ]
  },
  {
   "cell_type": "code",
   "execution_count": 65,
   "id": "27c5df3a",
   "metadata": {},
   "outputs": [
    {
     "data": {
      "text/plain": [
       "<matplotlib.legend.Legend at 0x7fa8e5a17b70>"
      ]
     },
     "execution_count": 65,
     "metadata": {},
     "output_type": "execute_result"
    },
    {
     "data": {
      "image/png": "[encoded data removed]",
      "text/plain": [
       "<Figure size 432x288 with 1 Axes>"
      ]
     },
     "metadata": {
      "needs_background": "light"
     },
     "output_type": "display_data"
    }
   ],
   "source": [
    "plot_spectrum(model=stacked_model, result=result_stacked, label=\"stacked\", color=\"tab:blue\")\n",
    "plot_spectrum(model=joint_model, result=result_joint, label=\"joint\", color=\"orange\")\n",
    "plt.legend()"
   ]
  },
  {
   "cell_type": "code",
   "execution_count": 66,
   "id": "c69a3248",
   "metadata": {},
   "outputs": [
    {
     "name": "stdout",
     "output_type": "stream",
     "text": [
      "[ 0.01  1.12  2.23  3.34  4.45  5.56  6.67  7.78  8.89 10.  ] TeV\n",
      "CPU times: user 2min 47s, sys: 1.68 s, total: 2min 49s\n",
      "Wall time: 2min 58s\n"
     ]
    }
   ],
   "source": [
    "%%time\n",
    "# Defining the energy edges\n",
    "energy_edges = np.linspace(0.3, 17, 10)*u.TeV\n",
    "print(energy_edges)\n",
    "\n",
    "# There are other parameters to FluxPointsEstimator, but I don't think that they matter a lot\n",
    "fpe = FluxPointsEstimator(energy_edges=energy_edges, source=source)\n",
    "\n",
    "flux_points_joint = fpe.run(datasets=list_of_dataset)"
   ]
  },
  {
   "cell_type": "code",
   "execution_count": 67,
   "id": "b52451a1",
   "metadata": {},
   "outputs": [
    {
     "data": {
      "text/html": [
       "<i>Table length=9</i>\n",
       "<table id=\"table140363244275360\" class=\"table-striped table-bordered table-condensed\">\n",
       "<thead><tr><th>counts [47]</th><th>e_ref</th><th>e_min</th><th>e_max</th><th>ref_dnde</th><th>ref_flux</th><th>ref_eflux</th><th>ref_e2dnde</th><th>norm</th><th>stat</th><th>success</th><th>norm_err</th><th>ts</th><th>norm_errp</th><th>norm_errn</th><th>norm_ul</th><th>norm_scan [11]</th><th>stat_scan [11]</th><th>sqrt_ts</th><th>dnde</th><th>dnde_ul</th><th>dnde_err</th><th>dnde_errp</th><th>dnde_errn</th></tr></thead>\n",
       "<thead><tr><th></th><th>TeV</th><th>TeV</th><th>TeV</th><th>1 / (cm2 s TeV)</th><th>1 / (cm2 s)</th><th>TeV / (cm2 s)</th><th>TeV / (cm2 s)</th><th></th><th></th><th></th><th></th><th></th><th></th><th></th><th></th><th></th><th></th><th></th><th>1 / (cm2 s TeV)</th><th>1 / (cm2 s TeV)</th><th>1 / (cm2 s TeV)</th><th>1 / (cm2 s TeV)</th><th>1 / (cm2 s TeV)</th></tr></thead>\n",
       "<thead><tr><th>int64</th><th>float64</th><th>float64</th><th>float64</th><th>float64</th><th>float64</th><th>float64</th><th>float64</th><th>float64</th><th>float64</th><th>bool</th><th>float64</th><th>float64</th><th>float64</th><th>float64</th><th>float64</th><th>float64</th><th>float64</th><th>float64</th><th>float64</th><th>float64</th><th>float64</th><th>float64</th><th>float64</th></tr></thead>\n",
       "<tr><td>24 .. 82</td><td>0.376782964726437</td><td>0.15</td><td>0.94643601672029</td><td>6.758971099548923e-11</td><td>6.102455865619715e-11</td><td>1.8101105244646378e-11</td><td>9.595400526876961e-12</td><td>0.987778234120924</td><td>1100.793089556351</td><td>True</td><td>0.0294925700498097</td><td>2661.81167182016</td><td>0.0297411632056958</td><td>0.029251325870424758</td><td>1.047877154525419</td><td>0.20000000000000004 .. 5.000000000000001</td><td>2438.8256117721726 .. 7248.642120732003</td><td>51.5927482483746</td><td>6.676364537186795e-11</td><td>7.082571403314869e-11</td><td>1.9933942861808593e-12</td><td>2.0101966257426573e-12</td><td>1.977088661816887e-12</td></tr>\n",
       "<tr><td>5 .. 15</td><td>1.5000000000000002</td><td>0.94643601672029</td><td>2.3773397886916703</td><td>2.5307791255220796e-12</td><td>3.7341849045394866e-12</td><td>5.278004142783332e-12</td><td>5.6942530324246815e-12</td><td>1.018178935162723</td><td>321.8696782659286</td><td>True</td><td>0.06457753830238783</td><td>556.9453291231866</td><td>0.06593441360383556</td><td>0.06327477698637948</td><td>1.1530741295565459</td><td>0.20000000000000004 .. 5.000000000000001</td><td>621.6700928233456 .. 1494.1255491906622</td><td>23.59968917429182</td><td>2.5767859951561185e-12</td><td>2.918175937261248e-12</td><td>1.6343148591328567e-13</td><td>1.6686543760212608e-13</td><td>1.6013448476919408e-13</td></tr>\n",
       "<tr><td>2 .. 2</td><td>2.99289347245332</td><td>2.3773397886916703</td><td>3.7678296472643718</td><td>5.069008348973047e-13</td><td>7.09781181402358e-13</td><td>2.0946797286832947e-12</td><td>4.54051928547386e-12</td><td>1.298492760382942</td><td>107.948181474278</td><td>True</td><td>0.1924533504215707</td><td>90.88419366342394</td><td>0.2020415840287243</td><td>0.18310004449862602</td><td>1.7219605861362408</td><td>0.20000000000000004 .. 5.000000000000001</td><td>166.27158838388578 .. 257.4879433672722</td><td>9.533320180473535</td><td>6.582070643462192e-13</td><td>8.728632587727127e-13</td><td>9.755476400747774e-14</td><td>1.024150476281343e-13</td><td>9.281356542608718e-14</td></tr>\n",
       "<tr><td>0 .. 0</td><td>3.8552561523198428</td><td>3.34</td><td>4.45</td><td>2.8446365264656636e-13</td><td>3.1656202230275383e-13</td><td>1.2140461069434749e-12</td><td>4.227983269285915e-12</td><td>nan</td><td>nan</td><td>False</td><td>nan</td><td>nan</td><td>nan</td><td>nan</td><td>nan</td><td>nan .. nan</td><td>nan .. nan</td><td>nan</td><td>nan</td><td>nan</td><td>nan</td><td>nan</td><td>nan</td></tr>\n",
       "<tr><td>0 .. 0</td><td>4.743416490252571</td><td>3.7678296472643718</td><td>5.97160755830246</td><td>1.784510119555707e-13</td><td>3.9568120762371504e-13</td><td>1.8528201353250476e-12</td><td>4.015147769000344e-12</td><td>1.0987777547125006</td><td>59.32951423609413</td><td>True</td><td>0.31718972226093667</td><td>16.001365789127675</td><td>0.3386415020065613</td><td>0.2887604478115109</td><td>1.8112161725460847</td><td>0.20000000000000004 .. 5.000000000000001</td><td>70.74385074275038 .. 126.34830705850516</td><td>4.0001707199977945</td><td>1.960780022427156e-13</td><td>3.2321335886114435e-13</td><td>5.660282691937056e-14</td><td>6.043091872322529e-14</td><td>5.152959412470788e-14</td></tr>\n",
       "<tr><td>0 .. 0</td><td>6.089761900107425</td><td>5.5600000000000005</td><td>6.67</td><td>1.0277966542506861e-13</td><td>1.141855698448248e-13</td><td>6.940549076713681e-13</td><td>3.8116044482217545e-12</td><td>nan</td><td>nan</td><td>False</td><td>nan</td><td>nan</td><td>nan</td><td>nan</td><td>nan</td><td>nan .. nan</td><td>nan .. nan</td><td>nan</td><td>nan</td><td>nan</td><td>nan</td><td>nan</td><td>nan</td></tr>\n",
       "<tr><td>0 .. 0</td><td>7.517808504409087</td><td>5.97160755830246</td><td>9.464360167202905</td><td>6.525088316539381e-14</td><td>2.2902465934914766e-13</td><td>1.702770137982434e-12</td><td>3.687813181511319e-12</td><td>1.0300874281092547</td><td>29.662893995923305</td><td>True</td><td>0.5150434878479312</td><td>1.4716683889617101</td><td>0.565258330531932</td><td>0.7345006732368589</td><td>2.2315770481863066</td><td>0.20000000000000004 .. 5.000000000000001</td><td>30.81648643521107 .. 57.0243260070423</td><td>1.213123402198519</td><td>6.721411442169798e-14</td><td>1.4561237324577909e-13</td><td>3.3607042450662286e-14</td><td>3.688360528380465e-14</td><td>4.7926817614281376e-14</td></tr>\n",
       "<tr><td>0 .. 0</td><td>8.316501668369941</td><td>7.78</td><td>8.89</td><td>5.2705201157140477e-14</td><td>5.852688468093559e-14</td><td>4.863065163958637e-13</td><td>3.645313073872696e-12</td><td>nan</td><td>nan</td><td>False</td><td>nan</td><td>nan</td><td>nan</td><td>nan</td><td>nan</td><td>nan .. nan</td><td>nan .. nan</td><td>nan</td><td>nan</td><td>nan</td><td>nan</td><td>nan</td><td>nan</td></tr>\n",
       "<tr><td>0 .. 0</td><td>9.428679653058534</td><td>8.89</td><td>10.0</td><td>4.0597042133374134e-14</td><td>4.5076064249366787e-14</td><td>4.247340584523541e-13</td><td>3.6090770456569606e-12</td><td>nan</td><td>nan</td><td>False</td><td>nan</td><td>nan</td><td>nan</td><td>nan</td><td>nan</td><td>nan .. nan</td><td>nan .. nan</td><td>nan</td><td>nan</td><td>nan</td><td>nan</td><td>nan</td><td>nan</td></tr>\n",
       "</table>"
      ],
      "text/plain": [
       "<Table length=9>\n",
       "counts [47]       e_ref        ...       dnde_errp              dnde_errn       \n",
       "                   TeV         ...    1 / (cm2 s TeV)        1 / (cm2 s TeV)    \n",
       "   int64         float64       ...        float64                float64        \n",
       "----------- ------------------ ... ---------------------- ----------------------\n",
       "   24 .. 82  0.376782964726437 ... 2.0101966257426573e-12  1.977088661816887e-12\n",
       "    5 .. 15 1.5000000000000002 ... 1.6686543760212608e-13 1.6013448476919408e-13\n",
       "     2 .. 2   2.99289347245332 ...  1.024150476281343e-13  9.281356542608718e-14\n",
       "     0 .. 0 3.8552561523198428 ...                    nan                    nan\n",
       "     0 .. 0  4.743416490252571 ...  6.043091872322529e-14  5.152959412470788e-14\n",
       "     0 .. 0  6.089761900107425 ...                    nan                    nan\n",
       "     0 .. 0  7.517808504409087 ...  3.688360528380465e-14 4.7926817614281376e-14\n",
       "     0 .. 0  8.316501668369941 ...                    nan                    nan\n",
       "     0 .. 0  9.428679653058534 ...                    nan                    nan"
      ]
     },
     "execution_count": 67,
     "metadata": {},
     "output_type": "execute_result"
    }
   ],
   "source": [
    "flux_points_joint.table"
   ]
  },
  {
   "cell_type": "code",
   "execution_count": 68,
   "id": "f709c31a",
   "metadata": {},
   "outputs": [
    {
     "ename": "ValueError",
     "evalue": "The points in dimension 0 must be strictly ascending",
     "output_type": "error",
     "traceback": [
      "\u001b[0;31m---------------------------------------------------------------------------\u001b[0m",
      "\u001b[0;31mValueError\u001b[0m                                Traceback (most recent call last)",
      "\u001b[0;32m<ipython-input-68-e925d46826c7>\u001b[0m in \u001b[0;36m<module>\u001b[0;34m\u001b[0m\n\u001b[1;32m      8\u001b[0m \"\"\"\n\u001b[1;32m      9\u001b[0m \u001b[0max\u001b[0m \u001b[0;34m=\u001b[0m \u001b[0mflux_points_joint\u001b[0m\u001b[0;34m.\u001b[0m\u001b[0mplot\u001b[0m\u001b[0;34m(\u001b[0m\u001b[0menergy_power\u001b[0m\u001b[0;34m=\u001b[0m\u001b[0;36m0\u001b[0m\u001b[0;34m,\u001b[0m \u001b[0mflux_unit\u001b[0m\u001b[0;34m=\u001b[0m\u001b[0;34m\"TeV-1 cm-2 s-1\"\u001b[0m\u001b[0;34m,\u001b[0m \u001b[0mcolor\u001b[0m\u001b[0;34m=\u001b[0m\u001b[0;34m\"darkorange\"\u001b[0m\u001b[0;34m)\u001b[0m\u001b[0;34m\u001b[0m\u001b[0m\n\u001b[0;32m---> 10\u001b[0;31m \u001b[0mflux_points_joint\u001b[0m\u001b[0;34m.\u001b[0m\u001b[0mto_sed_type\u001b[0m\u001b[0;34m(\u001b[0m\u001b[0;34m\"dnde\"\u001b[0m\u001b[0;34m)\u001b[0m\u001b[0;34m.\u001b[0m\u001b[0mplot_ts_profiles\u001b[0m\u001b[0;34m(\u001b[0m\u001b[0max\u001b[0m\u001b[0;34m=\u001b[0m\u001b[0max\u001b[0m\u001b[0;34m)\u001b[0m\u001b[0;34m;\u001b[0m\u001b[0;34m\u001b[0m\u001b[0m\n\u001b[0m",
      "\u001b[0;32m~/opt/anaconda3/envs/gammapy-0.18.2/lib/python3.7/site-packages/gammapy/estimators/flux_point.py\u001b[0m in \u001b[0;36mplot_ts_profiles\u001b[0;34m(self, ax, energy_unit, add_cbar, y_values, y_unit, **kwargs)\u001b[0m\n\u001b[1;32m    729\u001b[0m             \u001b[0mnorm_scan\u001b[0m \u001b[0;34m=\u001b[0m \u001b[0mrow\u001b[0m\u001b[0;34m[\u001b[0m\u001b[0;34m\"norm_scan\"\u001b[0m\u001b[0;34m]\u001b[0m\u001b[0;34m\u001b[0m\u001b[0m\n\u001b[1;32m    730\u001b[0m             \u001b[0mts_scan\u001b[0m \u001b[0;34m=\u001b[0m \u001b[0mrow\u001b[0m\u001b[0;34m[\u001b[0m\u001b[0;34m\"stat_scan\"\u001b[0m\u001b[0;34m]\u001b[0m \u001b[0;34m-\u001b[0m \u001b[0mrow\u001b[0m\u001b[0;34m[\u001b[0m\u001b[0;34m\"stat\"\u001b[0m\u001b[0;34m]\u001b[0m\u001b[0;34m\u001b[0m\u001b[0m\n\u001b[0;32m--> 731\u001b[0;31m             \u001b[0minterp\u001b[0m \u001b[0;34m=\u001b[0m \u001b[0minterpolate_profile\u001b[0m\u001b[0;34m(\u001b[0m\u001b[0mnorm_scan\u001b[0m\u001b[0;34m,\u001b[0m \u001b[0mts_scan\u001b[0m\u001b[0;34m)\u001b[0m\u001b[0;34m\u001b[0m\u001b[0m\n\u001b[0m\u001b[1;32m    732\u001b[0m             \u001b[0mz\u001b[0m\u001b[0;34m[\u001b[0m\u001b[0midx\u001b[0m\u001b[0;34m]\u001b[0m \u001b[0;34m=\u001b[0m \u001b[0minterp\u001b[0m\u001b[0;34m(\u001b[0m\u001b[0;34m(\u001b[0m\u001b[0mnorm\u001b[0m\u001b[0;34m,\u001b[0m\u001b[0;34m)\u001b[0m\u001b[0;34m)\u001b[0m\u001b[0;34m\u001b[0m\u001b[0m\n\u001b[1;32m    733\u001b[0m \u001b[0;34m\u001b[0m\u001b[0m\n",
      "\u001b[0;32m~/opt/anaconda3/envs/gammapy-0.18.2/lib/python3.7/site-packages/gammapy/utils/interpolation.py\u001b[0m in \u001b[0;36minterpolate_profile\u001b[0;34m(x, y, interp_scale)\u001b[0m\n\u001b[1;32m    215\u001b[0m     \u001b[0msign\u001b[0m \u001b[0;34m=\u001b[0m \u001b[0mnp\u001b[0m\u001b[0;34m.\u001b[0m\u001b[0msign\u001b[0m\u001b[0;34m(\u001b[0m\u001b[0mnp\u001b[0m\u001b[0;34m.\u001b[0m\u001b[0mgradient\u001b[0m\u001b[0;34m(\u001b[0m\u001b[0my\u001b[0m\u001b[0;34m)\u001b[0m\u001b[0;34m)\u001b[0m\u001b[0;34m\u001b[0m\u001b[0m\n\u001b[1;32m    216\u001b[0m     return ScaledRegularGridInterpolator(\n\u001b[0;32m--> 217\u001b[0;31m         \u001b[0mpoints\u001b[0m\u001b[0;34m=\u001b[0m\u001b[0;34m(\u001b[0m\u001b[0mx\u001b[0m\u001b[0;34m,\u001b[0m\u001b[0;34m)\u001b[0m\u001b[0;34m,\u001b[0m \u001b[0mvalues\u001b[0m\u001b[0;34m=\u001b[0m\u001b[0msign\u001b[0m \u001b[0;34m*\u001b[0m \u001b[0my\u001b[0m\u001b[0;34m,\u001b[0m \u001b[0mvalues_scale\u001b[0m\u001b[0;34m=\u001b[0m\u001b[0minterp_scale\u001b[0m\u001b[0;34m\u001b[0m\u001b[0m\n\u001b[0m\u001b[1;32m    218\u001b[0m     )\n",
      "\u001b[0;32m~/opt/anaconda3/envs/gammapy-0.18.2/lib/python3.7/site-packages/gammapy/utils/interpolation.py\u001b[0m in \u001b[0;36m__init__\u001b[0;34m(self, points, values, points_scale, values_scale, extrapolate, axis, **kwargs)\u001b[0m\n\u001b[1;32m     72\u001b[0m             \u001b[0;31m# print(points_scaled, values_scaled)\u001b[0m\u001b[0;34m\u001b[0m\u001b[0;34m\u001b[0m\u001b[0m\n\u001b[1;32m     73\u001b[0m             self._interpolate = scipy.interpolate.RegularGridInterpolator(\n\u001b[0;32m---> 74\u001b[0;31m                 \u001b[0mpoints\u001b[0m\u001b[0;34m=\u001b[0m\u001b[0mpoints_scaled\u001b[0m\u001b[0;34m,\u001b[0m \u001b[0mvalues\u001b[0m\u001b[0;34m=\u001b[0m\u001b[0mvalues_scaled\u001b[0m\u001b[0;34m,\u001b[0m \u001b[0;34m**\u001b[0m\u001b[0mkwargs\u001b[0m\u001b[0;34m\u001b[0m\u001b[0m\n\u001b[0m\u001b[1;32m     75\u001b[0m             )\n\u001b[1;32m     76\u001b[0m         \u001b[0;32melse\u001b[0m\u001b[0;34m:\u001b[0m\u001b[0;34m\u001b[0m\u001b[0m\n",
      "\u001b[0;32m~/opt/anaconda3/envs/gammapy-0.18.2/lib/python3.7/site-packages/scipy/interpolate/interpolate.py\u001b[0m in \u001b[0;36m__init__\u001b[0;34m(self, points, values, method, bounds_error, fill_value)\u001b[0m\n\u001b[1;32m   2442\u001b[0m             \u001b[0;32mif\u001b[0m \u001b[0;32mnot\u001b[0m \u001b[0mnp\u001b[0m\u001b[0;34m.\u001b[0m\u001b[0mall\u001b[0m\u001b[0;34m(\u001b[0m\u001b[0mnp\u001b[0m\u001b[0;34m.\u001b[0m\u001b[0mdiff\u001b[0m\u001b[0;34m(\u001b[0m\u001b[0mp\u001b[0m\u001b[0;34m)\u001b[0m \u001b[0;34m>\u001b[0m \u001b[0;36m0.\u001b[0m\u001b[0;34m)\u001b[0m\u001b[0;34m:\u001b[0m\u001b[0;34m\u001b[0m\u001b[0m\n\u001b[1;32m   2443\u001b[0m                 raise ValueError(\"The points in dimension %d must be strictly \"\n\u001b[0;32m-> 2444\u001b[0;31m                                  \"ascending\" % i)\n\u001b[0m\u001b[1;32m   2445\u001b[0m             \u001b[0;32mif\u001b[0m \u001b[0;32mnot\u001b[0m \u001b[0mnp\u001b[0m\u001b[0;34m.\u001b[0m\u001b[0masarray\u001b[0m\u001b[0;34m(\u001b[0m\u001b[0mp\u001b[0m\u001b[0;34m)\u001b[0m\u001b[0;34m.\u001b[0m\u001b[0mndim\u001b[0m \u001b[0;34m==\u001b[0m \u001b[0;36m1\u001b[0m\u001b[0;34m:\u001b[0m\u001b[0;34m\u001b[0m\u001b[0m\n\u001b[1;32m   2446\u001b[0m                 raise ValueError(\"The points in dimension %d must be \"\n",
      "\u001b[0;31mValueError\u001b[0m: The points in dimension 0 must be strictly ascending"
     ]
    },
    {
     "data": {
      "image/png": "[encoded data removed]",
      "text/plain": [
       "<Figure size 576x360 with 1 Axes>"
      ]
     },
     "metadata": {
      "needs_background": "light"
     },
     "output_type": "display_data"
    }
   ],
   "source": [
    "plt.figure(figsize=(8,5))\n",
    "# To define the upper_limits and lower_limits, you do\n",
    "\"\"\"\n",
    "\n",
    "flux_points_joint[\"is_ul\"] = flux_points_joint.table[\"ts\"]<4 #TS threshold of 4\n",
    "\n",
    "\n",
    "\"\"\"\n",
    "ax = flux_points_joint.plot(energy_power=0, flux_unit=\"TeV-1 cm-2 s-1\", color=\"darkorange\")\n",
    "flux_points_joint.to_sed_type(\"dnde\").plot_ts_profiles(ax=ax);"
   ]
  },
  {
   "cell_type": "code",
   "execution_count": 69,
   "id": "6226c6d6",
   "metadata": {
    "scrolled": false
   },
   "outputs": [
    {
     "data": {
      "text/plain": [
       "<matplotlib.legend.Legend at 0x7fa8e195def0>"
      ]
     },
     "execution_count": 69,
     "metadata": {},
     "output_type": "execute_result"
    },
    {
     "data": {
      "image/png": "[encoded data removed]",
      "text/plain": [
       "<Figure size 576x576 with 1 Axes>"
      ]
     },
     "metadata": {
      "needs_background": "light"
     },
     "output_type": "display_data"
    }
   ],
   "source": [
    "plt.figure(figsize=(8,8))\n",
    "# Final Plot with the best-fit model, the flux points and residuals\n",
    "\n",
    "\n",
    "ax_spectrum = flux_points_joint.plot(energy_power=0, flux_unit=\"TeV-1 cm-2 s-1\", color=\"darkorange\", label=\"Gammapy Data\")\n",
    "\n",
    "\"\"\"\n",
    "# Below is the same thing as above, but with the dataset, you've got a bigger range of plot. Like the residuals plot next run box\n",
    "flux_points_joint_dataset= FluxPointsDataset(data=flux_points_joint,models=joint_model)\n",
    "ax_spectrum = flux_points_joint_dataset.plot_spectrum(energy_power=0, flux_unit=\"TeV-1 cm-2 s-1\");\n",
    "\"\"\"\n",
    "\n",
    "# The reason we re-code this function is because we adjust the energy_range\n",
    "def plot_spectrum(model, result, label, color, ax=None):\n",
    "    spec = model.spectral_model\n",
    "    energy_range =[0.01, 15]*u.TeV\n",
    "    spec.plot(ax=ax, energy_range=energy_range, energy_power=0, label=label, color=color)\n",
    "    spec.plot_error(ax=ax, energy_range=energy_range, energy_power=0, color=color)\n",
    "plot_spectrum(ax=ax_spectrum,model=joint_model , result=result_joint, label=\"joint\", color=\"orange\")\n",
    "\n",
    "# For the ED DATA\n",
    "#ax_spectrum.errorbar(spectrum[\"E\"], spectrum[\"dNdE\"], yerr=spectrum[\"dNdE_erru\"], fmt=\"o\",label=\"EventDisplay\")\n",
    "\n",
    "# LIMITS OF THE GRAPH\n",
    "# # DEFINIE THE AXIS BOUNDARY WITH ax (not plt)\n",
    "ax_spectrum.set_xlim([0.01, 25])\n",
    "ax_spectrum.set_ylim([1e-15, 1e-8])\n",
    "\n",
    "plt.legend()"
   ]
  },
  {
   "cell_type": "code",
   "execution_count": null,
   "id": "c63c1be3",
   "metadata": {},
   "outputs": [],
   "source": []
  },
  {
   "cell_type": "code",
   "execution_count": 70,
   "id": "e7dbbd22",
   "metadata": {},
   "outputs": [
    {
     "name": "stdout",
     "output_type": "stream",
     "text": [
      "CPU times: user 4.55 s, sys: 50.8 ms, total: 4.6 s\n",
      "Wall time: 4.9 s\n"
     ]
    }
   ],
   "source": [
    "%%time\n",
    "# REPEAT FOR STACK\n",
    "# Defining the energy edges\n",
    "energy_edges = np.linspace(0.01, 10, 20)*u.TeV\n",
    "\n",
    "# There are other parameters to FluxPointsEstimator, but I don't think that they matter a lot\n",
    "fpe = FluxPointsEstimator(energy_edges=energy_edges, source=source)\n",
    "\n",
    "flux_points_stacked = fpe.run(datasets=[stacked])"
   ]
  },
  {
   "cell_type": "code",
   "execution_count": 71,
   "id": "6c72c660",
   "metadata": {},
   "outputs": [
    {
     "ename": "ValueError",
     "evalue": "The points in dimension 0 must be strictly ascending",
     "output_type": "error",
     "traceback": [
      "\u001b[0;31m---------------------------------------------------------------------------\u001b[0m",
      "\u001b[0;31mValueError\u001b[0m                                Traceback (most recent call last)",
      "\u001b[0;32m<ipython-input-71-91e25a10d069>\u001b[0m in \u001b[0;36m<module>\u001b[0;34m\u001b[0m\n\u001b[1;32m      8\u001b[0m \"\"\"\n\u001b[1;32m      9\u001b[0m \u001b[0max\u001b[0m \u001b[0;34m=\u001b[0m \u001b[0mflux_points_stacked\u001b[0m\u001b[0;34m.\u001b[0m\u001b[0mplot\u001b[0m\u001b[0;34m(\u001b[0m\u001b[0menergy_power\u001b[0m\u001b[0;34m=\u001b[0m\u001b[0;36m0\u001b[0m\u001b[0;34m,\u001b[0m \u001b[0mflux_unit\u001b[0m\u001b[0;34m=\u001b[0m\u001b[0;34m\"TeV-1 cm-2 s-1\"\u001b[0m\u001b[0;34m,\u001b[0m \u001b[0mcolor\u001b[0m\u001b[0;34m=\u001b[0m\u001b[0;34m\"darkorange\"\u001b[0m\u001b[0;34m)\u001b[0m\u001b[0;34m\u001b[0m\u001b[0m\n\u001b[0;32m---> 10\u001b[0;31m \u001b[0mflux_points_stacked\u001b[0m\u001b[0;34m.\u001b[0m\u001b[0mto_sed_type\u001b[0m\u001b[0;34m(\u001b[0m\u001b[0;34m\"dnde\"\u001b[0m\u001b[0;34m)\u001b[0m\u001b[0;34m.\u001b[0m\u001b[0mplot_ts_profiles\u001b[0m\u001b[0;34m(\u001b[0m\u001b[0max\u001b[0m\u001b[0;34m=\u001b[0m\u001b[0max\u001b[0m\u001b[0;34m)\u001b[0m\u001b[0;34m;\u001b[0m\u001b[0;34m\u001b[0m\u001b[0m\n\u001b[0m",
      "\u001b[0;32m~/opt/anaconda3/envs/gammapy-0.18.2/lib/python3.7/site-packages/gammapy/estimators/flux_point.py\u001b[0m in \u001b[0;36mplot_ts_profiles\u001b[0;34m(self, ax, energy_unit, add_cbar, y_values, y_unit, **kwargs)\u001b[0m\n\u001b[1;32m    729\u001b[0m             \u001b[0mnorm_scan\u001b[0m \u001b[0;34m=\u001b[0m \u001b[0mrow\u001b[0m\u001b[0;34m[\u001b[0m\u001b[0;34m\"norm_scan\"\u001b[0m\u001b[0;34m]\u001b[0m\u001b[0;34m\u001b[0m\u001b[0m\n\u001b[1;32m    730\u001b[0m             \u001b[0mts_scan\u001b[0m \u001b[0;34m=\u001b[0m \u001b[0mrow\u001b[0m\u001b[0;34m[\u001b[0m\u001b[0;34m\"stat_scan\"\u001b[0m\u001b[0;34m]\u001b[0m \u001b[0;34m-\u001b[0m \u001b[0mrow\u001b[0m\u001b[0;34m[\u001b[0m\u001b[0;34m\"stat\"\u001b[0m\u001b[0;34m]\u001b[0m\u001b[0;34m\u001b[0m\u001b[0m\n\u001b[0;32m--> 731\u001b[0;31m             \u001b[0minterp\u001b[0m \u001b[0;34m=\u001b[0m \u001b[0minterpolate_profile\u001b[0m\u001b[0;34m(\u001b[0m\u001b[0mnorm_scan\u001b[0m\u001b[0;34m,\u001b[0m \u001b[0mts_scan\u001b[0m\u001b[0;34m)\u001b[0m\u001b[0;34m\u001b[0m\u001b[0m\n\u001b[0m\u001b[1;32m    732\u001b[0m             \u001b[0mz\u001b[0m\u001b[0;34m[\u001b[0m\u001b[0midx\u001b[0m\u001b[0;34m]\u001b[0m \u001b[0;34m=\u001b[0m \u001b[0minterp\u001b[0m\u001b[0;34m(\u001b[0m\u001b[0;34m(\u001b[0m\u001b[0mnorm\u001b[0m\u001b[0;34m,\u001b[0m\u001b[0;34m)\u001b[0m\u001b[0;34m)\u001b[0m\u001b[0;34m\u001b[0m\u001b[0m\n\u001b[1;32m    733\u001b[0m \u001b[0;34m\u001b[0m\u001b[0m\n",
      "\u001b[0;32m~/opt/anaconda3/envs/gammapy-0.18.2/lib/python3.7/site-packages/gammapy/utils/interpolation.py\u001b[0m in \u001b[0;36minterpolate_profile\u001b[0;34m(x, y, interp_scale)\u001b[0m\n\u001b[1;32m    215\u001b[0m     \u001b[0msign\u001b[0m \u001b[0;34m=\u001b[0m \u001b[0mnp\u001b[0m\u001b[0;34m.\u001b[0m\u001b[0msign\u001b[0m\u001b[0;34m(\u001b[0m\u001b[0mnp\u001b[0m\u001b[0;34m.\u001b[0m\u001b[0mgradient\u001b[0m\u001b[0;34m(\u001b[0m\u001b[0my\u001b[0m\u001b[0;34m)\u001b[0m\u001b[0;34m)\u001b[0m\u001b[0;34m\u001b[0m\u001b[0m\n\u001b[1;32m    216\u001b[0m     return ScaledRegularGridInterpolator(\n\u001b[0;32m--> 217\u001b[0;31m         \u001b[0mpoints\u001b[0m\u001b[0;34m=\u001b[0m\u001b[0;34m(\u001b[0m\u001b[0mx\u001b[0m\u001b[0;34m,\u001b[0m\u001b[0;34m)\u001b[0m\u001b[0;34m,\u001b[0m \u001b[0mvalues\u001b[0m\u001b[0;34m=\u001b[0m\u001b[0msign\u001b[0m \u001b[0;34m*\u001b[0m \u001b[0my\u001b[0m\u001b[0;34m,\u001b[0m \u001b[0mvalues_scale\u001b[0m\u001b[0;34m=\u001b[0m\u001b[0minterp_scale\u001b[0m\u001b[0;34m\u001b[0m\u001b[0m\n\u001b[0m\u001b[1;32m    218\u001b[0m     )\n",
      "\u001b[0;32m~/opt/anaconda3/envs/gammapy-0.18.2/lib/python3.7/site-packages/gammapy/utils/interpolation.py\u001b[0m in \u001b[0;36m__init__\u001b[0;34m(self, points, values, points_scale, values_scale, extrapolate, axis, **kwargs)\u001b[0m\n\u001b[1;32m     72\u001b[0m             \u001b[0;31m# print(points_scaled, values_scaled)\u001b[0m\u001b[0;34m\u001b[0m\u001b[0;34m\u001b[0m\u001b[0m\n\u001b[1;32m     73\u001b[0m             self._interpolate = scipy.interpolate.RegularGridInterpolator(\n\u001b[0;32m---> 74\u001b[0;31m                 \u001b[0mpoints\u001b[0m\u001b[0;34m=\u001b[0m\u001b[0mpoints_scaled\u001b[0m\u001b[0;34m,\u001b[0m \u001b[0mvalues\u001b[0m\u001b[0;34m=\u001b[0m\u001b[0mvalues_scaled\u001b[0m\u001b[0;34m,\u001b[0m \u001b[0;34m**\u001b[0m\u001b[0mkwargs\u001b[0m\u001b[0;34m\u001b[0m\u001b[0m\n\u001b[0m\u001b[1;32m     75\u001b[0m             )\n\u001b[1;32m     76\u001b[0m         \u001b[0;32melse\u001b[0m\u001b[0;34m:\u001b[0m\u001b[0;34m\u001b[0m\u001b[0m\n",
      "\u001b[0;32m~/opt/anaconda3/envs/gammapy-0.18.2/lib/python3.7/site-packages/scipy/interpolate/interpolate.py\u001b[0m in \u001b[0;36m__init__\u001b[0;34m(self, points, values, method, bounds_error, fill_value)\u001b[0m\n\u001b[1;32m   2442\u001b[0m             \u001b[0;32mif\u001b[0m \u001b[0;32mnot\u001b[0m \u001b[0mnp\u001b[0m\u001b[0;34m.\u001b[0m\u001b[0mall\u001b[0m\u001b[0;34m(\u001b[0m\u001b[0mnp\u001b[0m\u001b[0;34m.\u001b[0m\u001b[0mdiff\u001b[0m\u001b[0;34m(\u001b[0m\u001b[0mp\u001b[0m\u001b[0;34m)\u001b[0m \u001b[0;34m>\u001b[0m \u001b[0;36m0.\u001b[0m\u001b[0;34m)\u001b[0m\u001b[0;34m:\u001b[0m\u001b[0;34m\u001b[0m\u001b[0m\n\u001b[1;32m   2443\u001b[0m                 raise ValueError(\"The points in dimension %d must be strictly \"\n\u001b[0;32m-> 2444\u001b[0;31m                                  \"ascending\" % i)\n\u001b[0m\u001b[1;32m   2445\u001b[0m             \u001b[0;32mif\u001b[0m \u001b[0;32mnot\u001b[0m \u001b[0mnp\u001b[0m\u001b[0;34m.\u001b[0m\u001b[0masarray\u001b[0m\u001b[0;34m(\u001b[0m\u001b[0mp\u001b[0m\u001b[0;34m)\u001b[0m\u001b[0;34m.\u001b[0m\u001b[0mndim\u001b[0m \u001b[0;34m==\u001b[0m \u001b[0;36m1\u001b[0m\u001b[0;34m:\u001b[0m\u001b[0;34m\u001b[0m\u001b[0m\n\u001b[1;32m   2446\u001b[0m                 raise ValueError(\"The points in dimension %d must be \"\n",
      "\u001b[0;31mValueError\u001b[0m: The points in dimension 0 must be strictly ascending"
     ]
    },
    {
     "data": {
      "image/png": "[encoded data removed]",
      "text/plain": [
       "<Figure size 576x360 with 1 Axes>"
      ]
     },
     "metadata": {
      "needs_background": "light"
     },
     "output_type": "display_data"
    }
   ],
   "source": [
    "plt.figure(figsize=(8,5))\n",
    "# To define the upper_limits and lower_limits, you do\n",
    "\"\"\"\n",
    "\n",
    "flux_points_stacked[\"is_ul\"] = flux_points_stacked.table[\"ts\"]<4 #TS threshold of 4\n",
    "\n",
    "\n",
    "\"\"\"\n",
    "ax = flux_points_stacked.plot(energy_power=0, flux_unit=\"TeV-1 cm-2 s-1\", color=\"darkorange\")\n",
    "flux_points_stacked.to_sed_type(\"dnde\").plot_ts_profiles(ax=ax);"
   ]
  },
  {
   "cell_type": "code",
   "execution_count": 79,
   "id": "835f0599",
   "metadata": {
    "scrolled": false
   },
   "outputs": [
    {
     "data": {
      "text/plain": [
       "'\\ndef plot_spectrum(model, result, label, color, ax=None):\\n    spec = model.spectral_model\\n    energy_range =[0.01, 15]*u.TeV\\n    spec.plot(ax=ax, energy_range=energy_range, energy_power=0, label=label, color=color)\\n    spec.plot_error(ax=ax, energy_range=energy_range, energy_power=0, color=color)\\nax_spectrum = flux_points_stacked.plot(energy_power=0, flux_unit=\"TeV-1 cm-2 s-1\", color=\"darkorange\", label=\"Stacked Data\")\\nplot_spectrum(ax=ax_spectrum,model=stacked_model , result=result_stacked, label=\"Best Fit Stacked\", color=\"darkorange\")\\n'"
      ]
     },
     "execution_count": 79,
     "metadata": {},
     "output_type": "execute_result"
    },
    {
     "data": {
      "image/png": "[encoded data removed]",
      "text/plain": [
       "<Figure size 576x360 with 1 Axes>"
      ]
     },
     "metadata": {
      "needs_background": "light"
     },
     "output_type": "display_data"
    }
   ],
   "source": [
    "# PLOTTING WITH THE FLUX DATASET\n",
    "plt.figure(figsize=(8,5))\n",
    "flux_points_stacked_dataset= FluxPointsDataset(data=flux_points_stacked,models=stacked_model)\n",
    "flux_points_stacked_dataset.plot_spectrum(energy_power=0, flux_unit=\"TeV-1 cm-2 s-1\");\n",
    "plt.axis([0.10, 20, 1e-15, 1e-8])\n",
    "plt.legend()\n",
    "\n",
    "\n",
    "\n",
    "\"\"\"\n",
    "def plot_spectrum(model, result, label, color, ax=None):\n",
    "    spec = model.spectral_model\n",
    "    energy_range =[0.01, 15]*u.TeV\n",
    "    spec.plot(ax=ax, energy_range=energy_range, energy_power=0, label=label, color=color)\n",
    "    spec.plot_error(ax=ax, energy_range=energy_range, energy_power=0, color=color)\n",
    "ax_spectrum = flux_points_stacked.plot(energy_power=0, flux_unit=\"TeV-1 cm-2 s-1\", color=\"darkorange\", label=\"Stacked Data\")\n",
    "plot_spectrum(ax=ax_spectrum,model=stacked_model , result=result_stacked, label=\"Best Fit Stacked\", color=\"darkorange\")\n",
    "\"\"\""
   ]
  },
  {
   "cell_type": "code",
   "execution_count": 80,
   "id": "10322bd9",
   "metadata": {},
   "outputs": [
    {
     "data": {
      "image/png": "[encoded data removed]",
      "text/plain": [
       "<Figure size 432x288 with 1 Axes>"
      ]
     },
     "metadata": {
      "needs_background": "light"
     },
     "output_type": "display_data"
    }
   ],
   "source": [
    "flux_points_stacked_dataset.plot_residuals();"
   ]
  },
  {
   "cell_type": "markdown",
   "id": "02fd76d5",
   "metadata": {},
   "source": [
    "EXTRACTING THE LIGHT CURVE ESTIMATOR:"
   ]
  },
  {
   "cell_type": "code",
   "execution_count": 81,
   "id": "cb454119",
   "metadata": {},
   "outputs": [
    {
     "name": "stdout",
     "output_type": "stream",
     "text": [
      "CPU times: user 46.8 s, sys: 531 ms, total: 47.3 s\n",
      "Wall time: 51.8 s\n"
     ]
    }
   ],
   "source": [
    "%%time\n",
    "# RUN-BY-RUN\n",
    "\n",
    "#Step1: Create the light curve maker using the LightCurveEstimator\n",
    "lc_maker_1d = LightCurveEstimator(energy_edges=[energy_axis.edges[0], energy_axis.edges[-1]], source = f\"{source}\", reoptimize=True)\n",
    "\n",
    "lc_1d = lc_maker_1d.run(list_of_dataset)"
   ]
  },
  {
   "cell_type": "code",
   "execution_count": 82,
   "id": "52e21580",
   "metadata": {},
   "outputs": [
    {
     "data": {
      "text/html": [
       "<i>Table length=47</i>\n",
       "<table id=\"table140363279395976\" class=\"table-striped table-bordered table-condensed\">\n",
       "<thead><tr><th>time_min</th><th>time_max</th><th>counts [1]</th><th>e_ref [1]</th><th>e_min [1]</th><th>e_max [1]</th><th>ref_dnde [1]</th><th>ref_flux [1]</th><th>ref_eflux [1]</th><th>ref_e2dnde [1]</th><th>norm [1]</th><th>stat [1]</th><th>success [1]</th><th>norm_err [1]</th><th>ts [1]</th><th>norm_errp [1]</th><th>norm_errn [1]</th><th>norm_ul [1]</th><th>norm_scan [1,11]</th><th>stat_scan [1,11]</th><th>sqrt_ts [1]</th><th>dnde [1]</th><th>dnde_ul [1]</th><th>dnde_err [1]</th><th>dnde_errp [1]</th><th>dnde_errn [1]</th><th>flux [1]</th><th>flux_ul [1]</th><th>flux_err [1]</th><th>flux_errp [1]</th><th>flux_errn [1]</th></tr></thead>\n",
       "<thead><tr><th></th><th></th><th></th><th>TeV</th><th>TeV</th><th>TeV</th><th>1 / (cm2 s TeV)</th><th>1 / (cm2 s)</th><th>TeV / (cm2 s)</th><th>TeV / (cm2 s)</th><th></th><th></th><th></th><th></th><th></th><th></th><th></th><th></th><th></th><th></th><th></th><th>1 / (cm2 s TeV)</th><th>1 / (cm2 s TeV)</th><th>1 / (cm2 s TeV)</th><th>1 / (cm2 s TeV)</th><th>1 / (cm2 s TeV)</th><th>1 / (cm2 s)</th><th>1 / (cm2 s)</th><th>1 / (cm2 s)</th><th>1 / (cm2 s)</th><th>1 / (cm2 s)</th></tr></thead>\n",
       "<thead><tr><th>float64</th><th>float64</th><th>float64</th><th>float64</th><th>float64</th><th>float64</th><th>float64</th><th>float64</th><th>float64</th><th>float64</th><th>float64</th><th>float64</th><th>bool</th><th>float64</th><th>float64</th><th>float64</th><th>float64</th><th>float64</th><th>float64</th><th>float64</th><th>float64</th><th>float64</th><th>float64</th><th>float64</th><th>float64</th><th>float64</th><th>float64</th><th>float64</th><th>float64</th><th>float64</th><th>float64</th></tr></thead>\n",
       "<tr><td>56046.39858751226</td><td>56046.4081107984</td><td>31.0</td><td>1.5</td><td>0.15</td><td>15.0</td><td>2.5307791255220808e-12</td><td>6.623395519287098e-11</td><td>3.0692408465130806e-11</td><td>5.6942530324246815e-12</td><td>0.706875671792659</td><td>9.363091805921357</td><td>True</td><td>0.13724242852393584</td><td>72.59268380461239</td><td>0.14561132508125685</td><td>0.1291055949257361</td><td>1.0152402303968355</td><td>0.20000000000000004 .. 5.000000000000001</td><td>35.00734383123846 .. 240.38977630488998</td><td>8.520134025038127</td><td>1.7889461945122588e-12</td><td>2.5693487824785394e-12</td><td>3.4733027324433303e-13</td><td>3.6851010195525465e-13</td><td>3.267377446261624e-13</td><td>4.681917157244555e-11</td><td>6.724337593010402e-11</td><td>9.090108861415164e-12</td><td>9.644413981006536e-12</td><td>8.551174189460155e-12</td></tr>\n",
       "<tr><td>56046.40863312808</td><td>56046.42602012301</td><td>44.0</td><td>1.5</td><td>0.15</td><td>15.0</td><td>2.5307791255220808e-12</td><td>6.623395519287098e-11</td><td>3.0692408465130806e-11</td><td>5.6942530324246815e-12</td><td>0.5169629292795435</td><td>3.5395468127314773</td><td>True</td><td>0.08682504530865671</td><td>96.70568302113266</td><td>0.09118899739532528</td><td>0.08258342388837275</td><td>0.7082911083963924</td><td>0.20000000000000004 .. 5.000000000000001</td><td>25.14639266729248 .. 500.13390176911616</td><td>9.833904769781567</td><td>1.3083189900894163e-12</td><td>1.7925283519224874e-12</td><td>2.1973501223965728e-13</td><td>2.307792110853766e-13</td><td>2.090004052908353e-13</td><td>3.424049949427661e-11</td><td>4.6912921537035577e-11</td><td>5.7507661605925614e-12</td><td>6.039807967564803e-12</td><td>5.469826797496351e-12</td></tr>\n",
       "<tr><td>56046.42673700024</td><td>56046.440646559844</td><td>23.0</td><td>1.5</td><td>0.15</td><td>15.0</td><td>2.5307791255220808e-12</td><td>6.623395519287098e-11</td><td>3.0692408465130806e-11</td><td>5.6942530324246815e-12</td><td>0.33782593882642686</td><td>3.8250347147957977</td><td>True</td><td>0.08325105444411514</td><td>42.29665169516475</td><td>0.08910101955886644</td><td>0.07761222785661968</td><td>0.5280592495358069</td><td>0.20000000000000004 .. 5.000000000000001</td><td>7.415503190979567 .. 426.01764394122796</td><td>6.5035876018675065</td><td>8.549628340418205e-13</td><td>1.3364013257640756e-12</td><td>2.1069003076486885e-13</td><td>2.2549500036231383e-13</td><td>1.9641940614479645e-13</td><td>2.237554809521913e-11</td><td>3.4975452672935704e-11</td><td>5.514046609810784e-12</td><td>5.901512937101081e-12</td><td>5.140564822274241e-12</td></tr>\n",
       "<tr><td>56050.44149074972</td><td>56050.45540044081</td><td>38.0</td><td>1.5</td><td>0.15</td><td>15.0</td><td>2.5307791255220808e-12</td><td>6.623395519287098e-11</td><td>3.0692408465130806e-11</td><td>5.6942530324246815e-12</td><td>0.7874974697188009</td><td>10.733392804576814</td><td>True</td><td>0.14745038169627234</td><td>73.20007819111386</td><td>0.1555064615086159</td><td>0.13962655965546225</td><td>1.1150301705835535</td><td>0.20000000000000004 .. 5.000000000000001</td><td>39.64538612848986 .. 234.08241491224015</td><td>8.555704424015234</td><td>1.992982157765798e-12</td><td>2.821895080040182e-12</td><td>3.7316434804718913e-13</td><td>3.935525066698081e-13</td><td>3.533639825445074e-13</td><td>5.2159072123854326e-11</td><td>7.385285835713036e-11</td><td>9.766221974442626e-12</td><td>1.0299808003763581e-11</td><td>9.248019295954613e-12</td></tr>\n",
       "<tr><td>56050.4558795943</td><td>56050.469788628485</td><td>46.0</td><td>1.5</td><td>0.15</td><td>15.0</td><td>2.5307791255220808e-12</td><td>6.623395519287098e-11</td><td>3.0692408465130806e-11</td><td>5.6942530324246815e-12</td><td>1.2244900674995733</td><td>18.895143129663417</td><td>True</td><td>0.1952243986033823</td><td>92.33420184454815</td><td>0.2048519177968822</td><td>0.18584013644692984</td><td>1.6538770583287785</td><td>0.20000000000000004 .. 5.000000000000001</td><td>72.7145262957721 .. 157.63921873598605</td><td>9.60906872930713</td><td>3.0989139022370437e-12</td><td>4.185597535398338e-12</td><td>4.94069832778042e-13</td><td>5.184349573835147e-13</td><td>4.703203380040653e-13</td><td>8.11028202648823e-11</td><td>1.0954281897586558e-10</td><td>1.2930484069651607e-11</td><td>1.3568152744532384e-11</td><td>1.230892727046298e-11</td></tr>\n",
       "<tr><td>56056.41446134572</td><td>56056.42836517449</td><td>6.0</td><td>1.5</td><td>0.15</td><td>15.0</td><td>2.5307791255220808e-12</td><td>6.623395519287098e-11</td><td>3.0692408465130806e-11</td><td>5.6942530324246815e-12</td><td>0.10483120782009792</td><td>6.089954502507283</td><td>True</td><td>0.10483114232188954</td><td>2.2278116642120613</td><td>0.06968033738367829</td><td>0.07376954897572306</td><td>0.24567745406213493</td><td>0.20000000000000004 .. 5.000000000000001</td><td>7.987219279940456 .. 449.71664851186887</td><td>1.492585563447557</td><td>2.653046324543709e-13</td><td>6.21755372351861e-13</td><td>2.653044666928724e-13</td><td>1.763455433099489e-13</td><td>1.8669443464693873e-13</td><td>6.943385521570911e-12</td><td>1.6272189484250064e-11</td><td>6.943381183365513e-12</td><td>4.615204344094681e-12</td><td>4.886049001456343e-12</td></tr>\n",
       "<tr><td>56056.429408437456</td><td>56056.4433135204</td><td>2.0</td><td>1.5</td><td>0.15</td><td>15.0</td><td>2.5307791255220808e-12</td><td>6.623395519287098e-11</td><td>3.0692408465130806e-11</td><td>5.6942530324246815e-12</td><td>0.05057344363012817</td><td>3.2781003378057667</td><td>True</td><td>0.03576082132953922</td><td>4.505540258415487</td><td>0.04464650748066963</td><td>0.027879820179240355</td><td>0.1591299730737505</td><td>0.20000000000000004 .. 5.000000000000001</td><td>9.595916763239419 .. 376.3277788714094</td><td>2.122625793307781</td><td>1.27990215444896e-13</td><td>4.027228140999386e-13</td><td>9.050274013232264e-14</td><td>1.1299044915954412e-13</td><td>7.055766693293077e-14</td><td>3.349679199347095e-12</td><td>1.0539807506409556e-11</td><td>2.3685806376009657e-12</td><td>2.9571147759928514e-12</td><td>1.846590760537106e-12</td></tr>\n",
       "<tr><td>56056.44387198154</td><td>56056.45777597359</td><td>0.0</td><td>1.5</td><td>0.15</td><td>15.0</td><td>2.5307791255220808e-12</td><td>6.623395519287098e-11</td><td>3.0692408465130806e-11</td><td>5.6942530324246815e-12</td><td>0.0</td><td>0.0</td><td>True</td><td>0.012247612419842215</td><td>0.0</td><td>0.0004286246621632017</td><td>0.0004286246621632017</td><td>0.06000160399943913</td><td>0.20000000000000004 .. 5.000000000000001</td><td>13.332976898542217 .. 333.3244224635553</td><td>-0.0</td><td>0.0</td><td>1.5185080689962276e-13</td><td>3.0996001849621655e-14</td><td>1.0847543476865849e-15</td><td>1.0847543476865849e-15</td><td>0.0</td><td>3.974143550799239e-12</td><td>8.112078122354793e-13</td><td>2.8389506668276962e-14</td><td>2.8389506668276962e-14</td></tr>\n",
       "<tr><td>56056.45881304943</td><td>56056.47271414938</td><td>0.0</td><td>1.5</td><td>0.15</td><td>15.0</td><td>2.5307791255220808e-12</td><td>6.623395519287098e-11</td><td>3.0692408465130806e-11</td><td>5.6942530324246815e-12</td><td>0.019872481614584103</td><td>1.3916850268204264</td><td>False</td><td>671088.6400416719</td><td>-1.3916850268204264</td><td>nan</td><td>nan</td><td>0.05800389516832957</td><td>0.20000000000000004 .. 5.000000000000001</td><td>14.006152364977822 .. 350.15380912444544</td><td>nan</td><td>5.029286164251078e-14</td><td>1.4679504709097957e-13</td><td>1.6983771215924648e-06</td><td>nan</td><td>nan</td><td>1.3162330568315157e-12</td><td>3.841827393591126e-12</td><td>4.444885491496482e-05</td><td>nan</td><td>nan</td></tr>\n",
       "<tr><td>...</td><td>...</td><td>...</td><td>...</td><td>...</td><td>...</td><td>...</td><td>...</td><td>...</td><td>...</td><td>...</td><td>...</td><td>...</td><td>...</td><td>...</td><td>...</td><td>...</td><td>...</td><td>...</td><td>...</td><td>...</td><td>...</td><td>...</td><td>...</td><td>...</td><td>...</td><td>...</td><td>...</td><td>...</td><td>...</td><td>...</td></tr>\n",
       "<tr><td>56096.23935110739</td><td>56096.24630541465</td><td>19.0</td><td>1.5</td><td>0.15</td><td>15.0</td><td>2.5307791255220808e-12</td><td>6.623395519287098e-11</td><td>3.0692408465130806e-11</td><td>5.6942530324246815e-12</td><td>0.7907131031242898</td><td>15.107720090471478</td><td>True</td><td>0.21054332656350094</td><td>33.980099499482534</td><td>0.22652485776001247</td><td>0.1951512313273755</td><td>1.2767097239787264</td><td>0.20000000000000004 .. 5.000000000000001</td><td>29.800853182274615 .. 125.52224862317418</td><td>5.829245191230382</td><td>2.001120215663741e-12</td><td>3.231070318796418e-12</td><td>5.328386558848868e-13</td><td>5.732843814308981e-13</td><td>4.938846625632526e-13</td><td>5.237205624275018e-11</td><td>8.456153465230964e-11</td><td>1.3945117257764924e-11</td><td>1.5003637278948136e-11</td><td>1.2925637911570988e-11</td></tr>\n",
       "<tr><td>56096.27106790576</td><td>56096.284978370546</td><td>70.0</td><td>1.5</td><td>0.15</td><td>15.0</td><td>2.5307791255220808e-12</td><td>6.623395519287098e-11</td><td>3.0692408465130806e-11</td><td>5.6942530324246815e-12</td><td>0.960428653517738</td><td>14.882709722579209</td><td>True</td><td>0.16638221533669895</td><td>42.29983558419114</td><td>0.1711481386845017</td><td>0.16200757254052486</td><td>1.3126396506983369</td><td>0.20000000000000004 .. 5.000000000000001</td><td>40.634273303279066 .. 260.8241179465609</td><td>6.50383237669846</td><td>2.4306327878759703e-12</td><td>3.3220010273199467e-12</td><td>4.210766374322375e-13</td><td>4.33138136754695e-13</td><td>4.100053827620646e-13</td><td>6.361298840304327e-11</td><td>8.694131580873946e-11</td><td>1.1020152195501529e-11</td><td>1.1335818148972554e-11</td><td>1.0730402300554918e-11</td></tr>\n",
       "<tr><td>56097.28895300067</td><td>56097.295907696556</td><td>67.0</td><td>1.5</td><td>0.15</td><td>15.0</td><td>2.5307791255220808e-12</td><td>6.623395519287098e-11</td><td>3.0692408465130806e-11</td><td>5.6942530324246815e-12</td><td>2.340342156778206</td><td>9.927692793777053</td><td>True</td><td>0.288872515936824</td><td>224.60235586260112</td><td>0.3007861431157358</td><td>0.27728085040436556</td><td>2.9664286061159384</td><td>0.20000000000000004 .. 5.000000000000001</td><td>174.62962574554146 .. 59.661404584478525</td><td>14.9867393339112</td><td>5.922889076953609e-12</td><td>7.50737559370978e-12</td><td>7.310725332699588e-13</td><td>7.612232922436014e-13</td><td>7.017365881103792e-13</td><td>1.5501011754803474e-10</td><td>1.9647829938033378e-10</td><td>1.913316927701151e-11</td><td>1.9922255925764124e-11</td><td>1.836540742152391e-11</td></tr>\n",
       "<tr><td>56098.20918816063</td><td>56098.21614298377</td><td>45.0</td><td>1.5</td><td>0.15</td><td>15.0</td><td>2.5307791255220808e-12</td><td>6.623395519287098e-11</td><td>3.0692408465130806e-11</td><td>5.6942530324246815e-12</td><td>2.9443626559805125</td><td>10.201947933769953</td><td>True</td><td>0.4710418567561479</td><td>110.8659826287677</td><td>0.49462860204151504</td><td>0.44841913187911836</td><td>3.9827209922222764</td><td>0.20000000000000004 .. 5.000000000000001</td><td>98.78004632648754 .. 23.672315450107636</td><td>10.529291648955674</td><td>7.451531547722233e-12</td><td>1.0079387149894726e-11</td><td>1.1921028983256212e-12</td><td>1.2517957409328348e-12</td><td>1.1348497784444057e-12</td><td>1.9501678422777586e-10</td><td>2.637913637445569e-10</td><td>3.119896523435345e-11</td><td>3.276120866473012e-11</td><td>2.970057268850763e-11</td></tr>\n",
       "<tr><td>56098.221046385675</td><td>56098.23495613362</td><td>70.0</td><td>1.5</td><td>0.15</td><td>15.0</td><td>2.5307791255220808e-12</td><td>6.623395519287098e-11</td><td>3.0692408465130806e-11</td><td>5.6942530324246815e-12</td><td>1.6971270140929846</td><td>15.795324478842547</td><td>True</td><td>0.22186717271374157</td><td>162.99587981836754</td><td>0.23061255581757406</td><td>0.2133156226030918</td><td>2.176205000456698</td><td>0.20000000000000004 .. 5.000000000000001</td><td>122.48787658110821 .. 122.56921192582962</td><td>12.766983975018045</td><td>4.295053620626144e-12</td><td>5.507494188012582e-12</td><td>5.614968093425394e-13</td><td>5.836294423464121e-13</td><td>5.398547248316509e-13</td><td>1.1240743460804565e-10</td><td>1.441386644907507e-10</td><td>1.4695140376290927e-11</td><td>1.5274381688934658e-11</td><td>1.4128737389432558e-11</td></tr>\n",
       "<tr><td>56099.21340933105</td><td>56099.22036403211</td><td>13.0</td><td>1.5</td><td>0.15</td><td>15.0</td><td>2.5307791255220808e-12</td><td>6.623395519287098e-11</td><td>3.0692408465130806e-11</td><td>5.6942530324246815e-12</td><td>0.6533087445423007</td><td>7.185861660393527</td><td>True</td><td>0.21493462002965133</td><td>21.139978457901446</td><td>0.23491098449736653</td><td>0.1958568298752469</td><td>1.16474943516498</td><td>0.20000000000000004 .. 5.000000000000001</td><td>14.783351525060803 .. 104.68527361068764</td><td>4.5978232303886415</td><td>1.6533801332086922e-12</td><td>2.947723556979166e-12</td><td>5.439520497230617e-13</td><td>5.945078159217763e-13</td><td>4.956703766392044e-13</td><td>4.3271222113125535e-11</td><td>7.714596189963908e-11</td><td>1.4235969992440675e-11</td><td>1.5559083621511785e-11</td><td>1.2972372494174858e-11</td></tr>\n",
       "<tr><td>56099.23922298854</td><td>56099.25017635674</td><td>21.0</td><td>1.5</td><td>0.15</td><td>15.0</td><td>2.5307791255220808e-12</td><td>6.623395519287098e-11</td><td>3.0692408465130806e-11</td><td>5.6942530324246815e-12</td><td>0.9061977122182725</td><td>6.229656542520087</td><td>True</td><td>0.21284935879022768</td><td>50.82309919402626</td><td>0.22862764889087656</td><td>0.19787536824788868</td><td>1.395943624103962</td><td>0.20000000000000004 .. 5.000000000000001</td><td>28.326153725002687 .. 113.24789959733066</td><td>7.1290321358531035</td><td>2.29338625367787e-12</td><td>3.5328249842879494e-12</td><td>5.38674714107068e-13</td><td>5.786060813302219e-13</td><td>5.007788514167514e-13</td><td>6.002105866694726e-11</td><td>9.245886745067574e-11</td><td>1.4097854892943259e-11</td><td>1.5142913452489758e-11</td><td>1.3106068274303504e-11</td></tr>\n",
       "<tr><td>56099.25072377101</td><td>56099.26463354527</td><td>27.0</td><td>1.5</td><td>0.15</td><td>15.0</td><td>2.5307791255220808e-12</td><td>6.623395519287098e-11</td><td>3.0692408465130806e-11</td><td>5.6942530324246815e-12</td><td>0.4353612051490927</td><td>6.171084002897668</td><td>True</td><td>0.09290676924893872</td><td>55.85658148910828</td><td>0.09888344291801021</td><td>0.08714263476333466</td><td>0.6454424618089755</td><td>0.20000000000000004 .. 5.000000000000001</td><td>15.581629019070455 .. 392.16348229480457</td><td>7.473726078008765</td><td>1.1018030500534601e-12</td><td>1.6334723090717379e-12</td><td>2.3512651223491086e-13</td><td>2.5025215319665447e-13</td><td>2.2053876100204215e-13</td><td>2.8835694554559318e-11</td><td>4.275020709503202e-11</td><td>6.1535827915486106e-12</td><td>6.549441527548304e-12</td><td>5.771801366303429e-12</td></tr>\n",
       "<tr><td>56100.212515775806</td><td>56100.22642560248</td><td>19.0</td><td>1.5</td><td>0.15</td><td>15.0</td><td>2.5307791255220808e-12</td><td>6.623395519287098e-11</td><td>3.0692408465130806e-11</td><td>5.6942530324246815e-12</td><td>0.34956534692901187</td><td>7.755591430230822</td><td>True</td><td>0.12241114164600977</td><td>15.724115535507604</td><td>0.1317322754393481</td><td>0.11339214555874577</td><td>0.6322077097082548</td><td>0.20000000000000004 .. 5.000000000000001</td><td>9.598543743879656 .. 256.4859978209869</td><td>3.9653644896160056</td><td>8.846726830138274e-13</td><td>1.5999780747237745e-12</td><td>3.097955620090482e-13</td><td>3.3338529283942724e-13</td><td>2.869704749782351e-13</td><td>2.315309552547657e-11</td><td>4.187361711740413e-11</td><td>8.107774070889993e-12</td><td>8.72514962890472e-12</td><td>7.510410288161471e-12</td></tr>\n",
       "<tr><td>56101.272386202996</td><td>56101.28977343082</td><td>99.0</td><td>1.5</td><td>0.15</td><td>15.0</td><td>2.5307791255220808e-12</td><td>6.623395519287098e-11</td><td>3.0692408465130806e-11</td><td>5.6942530324246815e-12</td><td>1.366709906491451</td><td>5.937293104379591</td><td>True</td><td>0.14104619982147656</td><td>305.0419372663574</td><td>0.1457899004451587</td><td>0.13639708718251645</td><td>1.6679787878699475</td><td>0.20000000000000004 .. 5.000000000000001</td><td>181.8692114884808 .. 266.053526107931</td><td>17.465449815746442</td><td>3.4588409019927992e-12</td><td>4.221285898154886e-12</td><td>3.5695677824240914e-13</td><td>3.689620367585499e-13</td><td>3.45190901023528e-13</td><td>9.052260270820764e-11</td><td>1.1047683229843735e-10</td><td>9.342047679100406e-12</td><td>9.656241733657762e-12</td><td>9.034118560884911e-12</td></tr>\n",
       "</table>"
      ],
      "text/plain": [
       "<Table length=47>\n",
       "     time_min           time_max      ...     flux_errn [1]     \n",
       "                                      ...      1 / (cm2 s)      \n",
       "     float64            float64       ...        float64        \n",
       "------------------ ------------------ ... ----------------------\n",
       " 56046.39858751226   56046.4081107984 ...  8.551174189460155e-12\n",
       " 56046.40863312808  56046.42602012301 ...  5.469826797496351e-12\n",
       " 56046.42673700024 56046.440646559844 ...  5.140564822274241e-12\n",
       " 56050.44149074972  56050.45540044081 ...  9.248019295954613e-12\n",
       "  56050.4558795943 56050.469788628485 ...  1.230892727046298e-11\n",
       " 56056.41446134572  56056.42836517449 ...  4.886049001456343e-12\n",
       "56056.429408437456   56056.4433135204 ...  1.846590760537106e-12\n",
       " 56056.44387198154  56056.45777597359 ... 2.8389506668276962e-14\n",
       " 56056.45881304943  56056.47271414938 ...                    nan\n",
       "               ...                ... ...                    ...\n",
       " 56096.23935110739  56096.24630541465 ... 1.2925637911570988e-11\n",
       " 56096.27106790576 56096.284978370546 ... 1.0730402300554918e-11\n",
       " 56097.28895300067 56097.295907696556 ...  1.836540742152391e-11\n",
       " 56098.20918816063  56098.21614298377 ...  2.970057268850763e-11\n",
       "56098.221046385675  56098.23495613362 ... 1.4128737389432558e-11\n",
       " 56099.21340933105  56099.22036403211 ... 1.2972372494174858e-11\n",
       " 56099.23922298854  56099.25017635674 ... 1.3106068274303504e-11\n",
       " 56099.25072377101  56099.26463354527 ...  5.771801366303429e-12\n",
       "56100.212515775806  56100.22642560248 ...  7.510410288161471e-12\n",
       "56101.272386202996  56101.28977343082 ...  9.034118560884911e-12"
      ]
     },
     "execution_count": 82,
     "metadata": {},
     "output_type": "execute_result"
    }
   ],
   "source": [
    "lc_1d.table"
   ]
  },
  {
   "cell_type": "code",
   "execution_count": 83,
   "id": "5cab5eaa",
   "metadata": {},
   "outputs": [
    {
     "data": {
      "text/plain": [
       "<matplotlib.lines.Line2D at 0x7fa8e219e7b8>"
      ]
     },
     "execution_count": 83,
     "metadata": {},
     "output_type": "execute_result"
    },
    {
     "data": {
      "image/png": "[encoded data removed]",
      "text/plain": [
       "<Figure size 720x720 with 1 Axes>"
      ]
     },
     "metadata": {
      "needs_background": "light"
     },
     "output_type": "display_data"
    }
   ],
   "source": [
    "plt.figure(figsize=(10,10))\n",
    "ax = lc_1d.plot(marker=\"o\", color=\"red\", label=\"Gam Data\")\n",
    "plt.axhline(y=lc_1d.table[\"flux\"].mean(), color=\"red\", label=\"Mean Flux Line Gam\")"
   ]
  },
  {
   "cell_type": "code",
   "execution_count": 84,
   "id": "e29af770",
   "metadata": {},
   "outputs": [
    {
     "data": {
      "text/html": [
       "<i>Table length=5</i>\n",
       "<table id=\"table140363342607360\" class=\"table-striped table-bordered table-condensed\">\n",
       "<thead><tr><th>name</th><th>value</th><th>unit</th><th>min</th><th>max</th><th>frozen</th><th>error</th></tr></thead>\n",
       "<thead><tr><th>str9</th><th>float64</th><th>str14</th><th>float64</th><th>float64</th><th>bool</th><th>float64</th></tr></thead>\n",
       "<tr><td>index</td><td>2.4078e+00</td><td></td><td>nan</td><td>nan</td><td>False</td><td>7.013e-02</td></tr>\n",
       "<tr><td>amplitude</td><td>6.3551e-12</td><td>cm-2 s-1 TeV-1</td><td>nan</td><td>nan</td><td>False</td><td>5.343e-13</td></tr>\n",
       "<tr><td>reference</td><td>1.0000e+00</td><td>TeV</td><td>nan</td><td>nan</td><td>True</td><td>0.000e+00</td></tr>\n",
       "<tr><td>lambda_</td><td>-3.7043e-02</td><td>TeV-1</td><td>nan</td><td>nan</td><td>False</td><td>5.373e-02</td></tr>\n",
       "<tr><td>alpha</td><td>1.0000e+00</td><td></td><td>nan</td><td>nan</td><td>True</td><td>0.000e+00</td></tr>\n",
       "</table>"
      ],
      "text/plain": [
       "<Table length=5>\n",
       "   name      value         unit        min     max   frozen   error  \n",
       "   str9     float64       str14      float64 float64  bool   float64 \n",
       "--------- ----------- -------------- ------- ------- ------ ---------\n",
       "    index  2.4078e+00                    nan     nan  False 7.013e-02\n",
       "amplitude  6.3551e-12 cm-2 s-1 TeV-1     nan     nan  False 5.343e-13\n",
       "reference  1.0000e+00            TeV     nan     nan   True 0.000e+00\n",
       "  lambda_ -3.7043e-02          TeV-1     nan     nan  False 5.373e-02\n",
       "    alpha  1.0000e+00                    nan     nan   True 0.000e+00"
      ]
     },
     "execution_count": 84,
     "metadata": {},
     "output_type": "execute_result"
    }
   ],
   "source": [
    "result_joint.parameters.to_table()"
   ]
  },
  {
   "cell_type": "code",
   "execution_count": 85,
   "id": "675b6f45",
   "metadata": {},
   "outputs": [
    {
     "name": "stdout",
     "output_type": "stream",
     "text": [
      "[<Time object: scale='utc' format='mjd' value=[[56046.39782149]\n",
      " [56047.39782149]]>, <Time object: scale='utc' format='mjd' value=[56050. 56051.]>, <Time object: scale='utc' format='mjd' value=[56056. 56057.]>, <Time object: scale='utc' format='mjd' value=[56061. 56062.]>, <Time object: scale='utc' format='mjd' value=[56066. 56067.]>, <Time object: scale='utc' format='mjd' value=[56069. 56070.]>, <Time object: scale='utc' format='mjd' value=[56073. 56074.]>, <Time object: scale='utc' format='mjd' value=[56074. 56075.]>, <Time object: scale='utc' format='mjd' value=[56076. 56077.]>, <Time object: scale='utc' format='mjd' value=[56077. 56078.]>, <Time object: scale='utc' format='mjd' value=[56078. 56079.]>, <Time object: scale='utc' format='mjd' value=[56088. 56089.]>, <Time object: scale='utc' format='mjd' value=[56089. 56090.]>, <Time object: scale='utc' format='mjd' value=[56090. 56091.]>, <Time object: scale='utc' format='mjd' value=[56092. 56093.]>, <Time object: scale='utc' format='mjd' value=[56093. 56094.]>, <Time object: scale='utc' format='mjd' value=[56094. 56095.]>, <Time object: scale='utc' format='mjd' value=[56095. 56096.]>, <Time object: scale='utc' format='mjd' value=[56096. 56097.]>, <Time object: scale='utc' format='mjd' value=[56097. 56098.]>, <Time object: scale='utc' format='mjd' value=[56098. 56099.]>, <Time object: scale='utc' format='mjd' value=[56099. 56100.]>, <Time object: scale='utc' format='mjd' value=[56100. 56101.]>, <Time object: scale='utc' format='mjd' value=[56101. 56102.]>, <Time object: scale='utc' format='mjd' value=[56102. 56103.]>, <Time object: scale='utc' format='mjd' value=[56103. 56104.]>, <Time object: scale='utc' format='mjd' value=[56104. 56105.]>]\n"
     ]
    }
   ],
   "source": [
    "# NIGHT-BY-NIGHT \n",
    "\n",
    "\n",
    "# Step 1 is that we find the initial time and final time of the observations\n",
    "# Step 2 is that we create the time_interval into separate night\n",
    "\n",
    "\n",
    "if list_of_dataset[0].gti.time_start.value > list(lc_1d.table[\"time_min\"])[0]:\n",
    "    time_start = Time(list(lc_1d.table[\"time_min\"])[0], format=\"mjd\", scale=\"utc\")\n",
    "else:\n",
    "    time_start = list_of_dataset[0].gti.time_start\n",
    "\n",
    "time = time_start.value\n",
    "\n",
    "if list_of_dataset[-1].gti.time_stop.value > list(lc_1d.table[\"time_max\"])[-1]:\n",
    "    time_end = list_of_dataset[-1].gti.time_stop\n",
    "else:\n",
    "    time_end = Time(list(lc_1d.table[\"time_max\"])[-1], format=\"mjd\", scale=\"utc\")\n",
    "\n",
    "\n",
    "time_intervals = []\n",
    "count = 0\n",
    "while time < (float(time_end.value)+3):\n",
    "    t_plus_one = time + 1\n",
    "    time_intervals.append(Time([time, t_plus_one], format=\"mjd\", scale=\"utc\"))\n",
    "    time = t_plus_one\n",
    "    for i in range(count, len(observations), 1):\n",
    "        count +=1\n",
    "        if float(list_of_dataset[i].gti.time_start.value) > time:\n",
    "            time = int(list_of_dataset[i].gti.time_start.value)\n",
    "            count = i\n",
    "            break\n",
    "\n",
    "\n",
    "\n",
    "print(time_intervals)\n",
    "\n"
   ]
  },
  {
   "cell_type": "code",
   "execution_count": 86,
   "id": "f6ddf5a9",
   "metadata": {},
   "outputs": [
    {
     "name": "stdout",
     "output_type": "stream",
     "text": [
      "CPU times: user 38.5 s, sys: 348 ms, total: 38.8 s\n",
      "Wall time: 38.9 s\n"
     ]
    }
   ],
   "source": [
    "%%time\n",
    "lc_maker_1d.time_intervals=time_intervals\n",
    "\n",
    "nightwise1_lc = lc_maker_1d.run(list_of_dataset)"
   ]
  },
  {
   "cell_type": "code",
   "execution_count": 87,
   "id": "6d53df37",
   "metadata": {},
   "outputs": [
    {
     "data": {
      "text/plain": [
       "<matplotlib.lines.Line2D at 0x7fa8e0f3d588>"
      ]
     },
     "execution_count": 87,
     "metadata": {},
     "output_type": "execute_result"
    },
    {
     "data": {
      "image/png": "[encoded data removed]",
      "text/plain": [
       "<Figure size 432x288 with 1 Axes>"
      ]
     },
     "metadata": {
      "needs_background": "light"
     },
     "output_type": "display_data"
    }
   ],
   "source": [
    "ax = nightwise1_lc.plot(marker=\"o\", label=\"1D\", color=\"red\")\n",
    "plt.axhline(y=nightwise1_lc.table[\"flux\"].mean(), color=\"red\")"
   ]
  },
  {
   "cell_type": "markdown",
   "id": "b2c384ab",
   "metadata": {},
   "source": [
    "intra-day variability of the flux"
   ]
  },
  {
   "cell_type": "code",
   "execution_count": 98,
   "id": "f84cadb2",
   "metadata": {},
   "outputs": [
    {
     "name": "stdout",
     "output_type": "stream",
     "text": [
      "[<Time object: scale='utc' format='mjd' value=[56094.20364099 56094.20502988]>, <Time object: scale='utc' format='mjd' value=[56094.20502988 56094.20641877]>, <Time object: scale='utc' format='mjd' value=[56094.20641877 56094.20780766]>, <Time object: scale='utc' format='mjd' value=[56094.20780766 56094.20919655]>, <Time object: scale='utc' format='mjd' value=[56094.20919655 56094.21058544]>, <Time object: scale='utc' format='mjd' value=[56094.21058544 56094.21197433]>, <Time object: scale='utc' format='mjd' value=[56094.21197433 56094.21336322]>, <Time object: scale='utc' format='mjd' value=[56094.21336322 56094.2147521 ]>, <Time object: scale='utc' format='mjd' value=[56094.2147521  56094.21614099]>, <Time object: scale='utc' format='mjd' value=[56094.21614099 56094.21752988]>, <Time object: scale='utc' format='mjd' value=[56094.21752988 56094.21891877]>, <Time object: scale='utc' format='mjd' value=[56094.21891877 56094.22030766]>, <Time object: scale='utc' format='mjd' value=[56094.22030766 56094.22169655]>, <Time object: scale='utc' format='mjd' value=[56094.22169655 56094.22308544]>, <Time object: scale='utc' format='mjd' value=[56094.22308544 56094.22447433]>, <Time object: scale='utc' format='mjd' value=[56094.22447433 56094.22586322]>, <Time object: scale='utc' format='mjd' value=[56094.22586322 56094.2272521 ]>, <Time object: scale='utc' format='mjd' value=[56094.2272521  56094.22864099]>, <Time object: scale='utc' format='mjd' value=[56094.22864099 56094.23002988]>, <Time object: scale='utc' format='mjd' value=[56094.23002988 56094.23141877]>, <Time object: scale='utc' format='mjd' value=[56094.23141877 56094.23280766]>, <Time object: scale='utc' format='mjd' value=[56094.23280766 56094.23419655]>, <Time object: scale='utc' format='mjd' value=[56094.23419655 56094.23558544]>, <Time object: scale='utc' format='mjd' value=[56094.23558544 56094.23697433]>, <Time object: scale='utc' format='mjd' value=[56094.23697433 56094.23836322]>, <Time object: scale='utc' format='mjd' value=[56094.23836322 56094.2397521 ]>, <Time object: scale='utc' format='mjd' value=[56094.2397521  56094.24114099]>, <Time object: scale='utc' format='mjd' value=[56094.24114099 56094.24252988]>, <Time object: scale='utc' format='mjd' value=[56094.24252988 56094.24391877]>, <Time object: scale='utc' format='mjd' value=[56094.24391877 56094.24530766]>, <Time object: scale='utc' format='mjd' value=[56094.24530766 56094.24669655]>, <Time object: scale='utc' format='mjd' value=[56094.24669655 56094.24808544]>, <Time object: scale='utc' format='mjd' value=[56094.24808544 56094.24947433]>, <Time object: scale='utc' format='mjd' value=[56094.24947433 56094.25086322]>, <Time object: scale='utc' format='mjd' value=[56094.25086322 56094.2522521 ]>, <Time object: scale='utc' format='mjd' value=[56094.2522521  56094.25364099]>, <Time object: scale='utc' format='mjd' value=[56094.25364099 56094.25502988]>, <Time object: scale='utc' format='mjd' value=[56094.25502988 56094.25641877]>, <Time object: scale='utc' format='mjd' value=[56094.25641877 56094.25780766]>, <Time object: scale='utc' format='mjd' value=[56094.25780766 56094.25919655]>, <Time object: scale='utc' format='mjd' value=[56094.25919655 56094.26058544]>, <Time object: scale='utc' format='mjd' value=[56094.26058544 56094.26197433]>, <Time object: scale='utc' format='mjd' value=[56094.26197433 56094.26336322]>, <Time object: scale='utc' format='mjd' value=[56094.26336322 56094.2647521 ]>, <Time object: scale='utc' format='mjd' value=[56094.2647521  56094.26614099]>, <Time object: scale='utc' format='mjd' value=[56094.26614099 56094.26752988]>, <Time object: scale='utc' format='mjd' value=[56094.26752988 56094.26891877]>, <Time object: scale='utc' format='mjd' value=[56094.26891877 56094.27030766]>, <Time object: scale='utc' format='mjd' value=[56094.27030766 56094.27169655]>, <Time object: scale='utc' format='mjd' value=[56094.27169655 56094.27308544]>, <Time object: scale='utc' format='mjd' value=[56094.27308544 56094.27447433]>, <Time object: scale='utc' format='mjd' value=[56094.27447433 56094.27586322]>, <Time object: scale='utc' format='mjd' value=[56094.27586322 56094.2772521 ]>, <Time object: scale='utc' format='mjd' value=[56094.2772521  56094.27864099]>, <Time object: scale='utc' format='mjd' value=[56094.27864099 56094.28002988]>, <Time object: scale='utc' format='mjd' value=[56094.28002988 56094.28141877]>, <Time object: scale='utc' format='mjd' value=[56094.28141877 56094.28280766]>, <Time object: scale='utc' format='mjd' value=[56094.28280766 56094.28419655]>, <Time object: scale='utc' format='mjd' value=[56094.28419655 56094.28558544]>, <Time object: scale='utc' format='mjd' value=[56094.28558544 56094.28697433]>, <Time object: scale='utc' format='mjd' value=[56094.28697433 56094.28836322]>, <Time object: scale='utc' format='mjd' value=[56094.28836322 56094.2897521 ]>, <Time object: scale='utc' format='mjd' value=[56094.2897521  56094.29114099]>, <Time object: scale='utc' format='mjd' value=[56094.29114099 56094.29252988]>, <Time object: scale='utc' format='mjd' value=[56094.29252988 56094.29391877]>, <Time object: scale='utc' format='mjd' value=[56094.29391877 56094.29530766]>, <Time object: scale='utc' format='mjd' value=[56094.29530766 56094.29669655]>, <Time object: scale='utc' format='mjd' value=[56094.29669655 56094.29808544]>, <Time object: scale='utc' format='mjd' value=[56094.29808544 56094.29947433]>, <Time object: scale='utc' format='mjd' value=[56094.29947433 56094.30086322]>, <Time object: scale='utc' format='mjd' value=[56094.30086322 56094.3022521 ]>, <Time object: scale='utc' format='mjd' value=[56094.3022521  56094.30364099]>, <Time object: scale='utc' format='mjd' value=[56094.30364099 56094.30502988]>, <Time object: scale='utc' format='mjd' value=[56094.30502988 56094.30641877]>, <Time object: scale='utc' format='mjd' value=[56094.30641877 56094.30780766]>, <Time object: scale='utc' format='mjd' value=[56094.30780766 56094.30919655]>, <Time object: scale='utc' format='mjd' value=[56094.30919655 56094.31058544]>, <Time object: scale='utc' format='mjd' value=[56094.31058544 56094.31197433]>, <Time object: scale='utc' format='mjd' value=[56094.31197433 56094.31336322]>, <Time object: scale='utc' format='mjd' value=[56094.31336322 56094.3147521 ]>, <Time object: scale='utc' format='mjd' value=[56094.3147521  56094.31614099]>, <Time object: scale='utc' format='mjd' value=[56094.31614099 56094.31752988]>, <Time object: scale='utc' format='mjd' value=[56094.31752988 56094.31891877]>, <Time object: scale='utc' format='mjd' value=[56094.31891877 56094.32030766]>, <Time object: scale='utc' format='mjd' value=[56094.32030766 56094.32169655]>, <Time object: scale='utc' format='mjd' value=[56094.32169655 56094.32308544]>, <Time object: scale='utc' format='mjd' value=[56094.32308544 56094.32447433]>, <Time object: scale='utc' format='mjd' value=[56094.32447433 56094.32586322]>, <Time object: scale='utc' format='mjd' value=[56094.32586322 56094.3272521 ]>, <Time object: scale='utc' format='mjd' value=[56094.3272521  56094.32864099]>, <Time object: scale='utc' format='mjd' value=[56094.32864099 56094.33002988]>, <Time object: scale='utc' format='mjd' value=[56094.33002988 56094.33141877]>, <Time object: scale='utc' format='mjd' value=[56094.33141877 56094.33280766]>, <Time object: scale='utc' format='mjd' value=[56094.33280766 56094.33419655]>, <Time object: scale='utc' format='mjd' value=[56094.33419655 56094.33558544]>, <Time object: scale='utc' format='mjd' value=[56094.33558544 56094.33697433]>, <Time object: scale='utc' format='mjd' value=[56094.33697433 56094.33836322]>, <Time object: scale='utc' format='mjd' value=[56094.33836322 56094.3397521 ]>, <Time object: scale='utc' format='mjd' value=[56094.3397521  56094.34114099]>, <Time object: scale='utc' format='mjd' value=[56094.34114099 56094.34252988]>]\n",
      "CPU times: user 2min 19s, sys: 6.23 s, total: 2min 25s\n",
      "Wall time: 2min 45s\n"
     ]
    }
   ],
   "source": [
    "%%time\n",
    "flux_list = list(lc_1d.table[\"flux\"])\n",
    "time_min_list = list(lc_1d.table[\"time_min\"])\n",
    "time_max_list = list(lc_1d.table[\"time_max\"])\n",
    "max_value = max(flux_list)\n",
    "index = flux_list.index(max_value)\n",
    "time_start = time_min_list[index]\n",
    "\n",
    "\n",
    "duration = 2 * u.min\n",
    "n_time_bins = 100\n",
    "\n",
    "time_list = Time(time_start, format=\"mjd\", scale=\"utc\")+np.arange(n_time_bins+1)*duration\n",
    "time_intervals = [Time([tstart, tstop]) for tstart, tstop in zip(time_list[:-1], time_list[1:])]\n",
    "\n",
    "\n",
    "print(time_intervals)\n",
    "\n",
    "filt_observations = observations.select_time(time_intervals)\n",
    "\n"
   ]
  },
  {
   "cell_type": "code",
   "execution_count": 99,
   "id": "2cfcdfd2",
   "metadata": {},
   "outputs": [
    {
     "name": "stdout",
     "output_type": "stream",
     "text": [
      "Observations\n",
      "Number of observations: 5\n",
      "Observation\n",
      "\n",
      "\tobs id            : 63158 \n",
      " \ttstart            : 56094.20\n",
      "\ttstop             : 56094.21\n",
      "\tduration          : 120.00 s\n",
      "\tpointing (icrs)   : 253.5 deg, 39.3 deg\n",
      "\n",
      "\tdeadtime fraction : 6.8%\n",
      "Observation\n",
      "\n",
      "\tobs id            : 63158 \n",
      " \ttstart            : 56094.21\n",
      "\ttstop             : 56094.21\n",
      "\tduration          : 120.00 s\n",
      "\tpointing (icrs)   : 253.5 deg, 39.3 deg\n",
      "\n",
      "\tdeadtime fraction : 6.8%\n",
      "Observation\n",
      "\n",
      "\tobs id            : 63158 \n",
      " \ttstart            : 56094.21\n",
      "\ttstop             : 56094.21\n",
      "\tduration          : 120.00 s\n",
      "\tpointing (icrs)   : 253.5 deg, 39.3 deg\n",
      "\n",
      "\tdeadtime fraction : 6.8%\n",
      "Observation\n",
      "\n",
      "\tobs id            : 63158 \n",
      " \ttstart            : 56094.21\n",
      "\ttstop             : 56094.21\n",
      "\tduration          : 120.00 s\n",
      "\tpointing (icrs)   : 253.5 deg, 39.3 deg\n",
      "\n",
      "\tdeadtime fraction : 6.8%\n",
      "Observation\n",
      "\n",
      "\tobs id            : 63158 \n",
      " \ttstart            : 56094.21\n",
      "\ttstop             : 56094.21\n",
      "\tduration          : 65.47 s\n",
      "\tpointing (icrs)   : 253.5 deg, 39.3 deg\n",
      "\n",
      "\tdeadtime fraction : 6.8%\n",
      "\n"
     ]
    }
   ],
   "source": [
    "print(filt_observations)"
   ]
  },
  {
   "cell_type": "code",
   "execution_count": 100,
   "id": "4131d109",
   "metadata": {},
   "outputs": [
    {
     "name": "stdout",
     "output_type": "stream",
     "text": [
      "SpectrumDatasetOnOff\n",
      "--------------------\n",
      "\n",
      "  Name                            : BasYPJYa \n",
      "\n",
      "  Total counts                    : 11 \n",
      "  Total off counts                : 3.00\n",
      "  Total background counts         : 0.50\n",
      "  Total excess counts             : 10.50\n",
      "\n",
      "  Predicted counts                : 2.78\n",
      "  Predicted background counts     : 1.01\n",
      "  Predicted excess counts         : 1.77\n",
      "\n",
      "  Exposure min                    : 5.00e+02 m2 s\n",
      "  Exposure max                    : 1.14e+07 m2 s\n",
      "\n",
      "  Acceptance mean                 : 1.000\n",
      "  Acceptance off                  : 60.000\n",
      "\n",
      "  Number of total bins            : 10 \n",
      "  Number of fit bins              : 10 \n",
      "\n",
      "  Fit statistic type              : wstat\n",
      "  Fit statistic value (-2 log(L)) : 23.31\n",
      "\n",
      "  Number of models                : 1 \n",
      "  Number of parameters            : 3\n",
      "  Number of free parameters       : 2\n",
      "\n",
      "  Component 0: SkyModel\n",
      "  \n",
      "    Name                      : Mrk501\n",
      "    Datasets names            : None\n",
      "    Spectral model type       : PowerLawSpectralModel\n",
      "    Spatial  model type       : \n",
      "    Temporal model type       : \n",
      "    Parameters:\n",
      "      index                   :   2.409              \n",
      "      amplitude               :   6.87e-12  1 / (cm2 s TeV)\n",
      "      reference    (frozen)   :   1.000  TeV         \n",
      "  \n",
      "  \n",
      "SpectrumDatasetOnOff\n",
      "--------------------\n",
      "\n",
      "  Name                            : ZavD-YTj \n",
      "\n",
      "  Total counts                    : 13 \n",
      "  Total off counts                : 2.00\n",
      "  Total background counts         : 0.33\n",
      "  Total excess counts             : 12.67\n",
      "\n",
      "  Predicted counts                : 2.95\n",
      "  Predicted background counts     : 1.18\n",
      "  Predicted excess counts         : 1.77\n",
      "\n",
      "  Exposure min                    : 5.00e+02 m2 s\n",
      "  Exposure max                    : 1.14e+07 m2 s\n",
      "\n",
      "  Acceptance mean                 : 1.000\n",
      "  Acceptance off                  : 60.000\n",
      "\n",
      "  Number of total bins            : 10 \n",
      "  Number of fit bins              : 10 \n",
      "\n",
      "  Fit statistic type              : wstat\n",
      "  Fit statistic value (-2 log(L)) : 26.82\n",
      "\n",
      "  Number of models                : 1 \n",
      "  Number of parameters            : 3\n",
      "  Number of free parameters       : 2\n",
      "\n",
      "  Component 0: SkyModel\n",
      "  \n",
      "    Name                      : Mrk501\n",
      "    Datasets names            : None\n",
      "    Spectral model type       : PowerLawSpectralModel\n",
      "    Spatial  model type       : \n",
      "    Temporal model type       : \n",
      "    Parameters:\n",
      "      index                   :   2.409              \n",
      "      amplitude               :   6.87e-12  1 / (cm2 s TeV)\n",
      "      reference    (frozen)   :   1.000  TeV         \n",
      "  \n",
      "  \n",
      "SpectrumDatasetOnOff\n",
      "--------------------\n",
      "\n",
      "  Name                            : KOhw_Xuw \n",
      "\n",
      "  Total counts                    : 11 \n",
      "  Total off counts                : 4.00\n",
      "  Total background counts         : 0.67\n",
      "  Total excess counts             : 10.33\n",
      "\n",
      "  Predicted counts                : 2.90\n",
      "  Predicted background counts     : 1.12\n",
      "  Predicted excess counts         : 1.77\n",
      "\n",
      "  Exposure min                    : 5.00e+02 m2 s\n",
      "  Exposure max                    : 1.14e+07 m2 s\n",
      "\n",
      "  Acceptance mean                 : 1.000\n",
      "  Acceptance off                  : 60.000\n",
      "\n",
      "  Number of total bins            : 10 \n",
      "  Number of fit bins              : 10 \n",
      "\n",
      "  Fit statistic type              : wstat\n",
      "  Fit statistic value (-2 log(L)) : 23.47\n",
      "\n",
      "  Number of models                : 1 \n",
      "  Number of parameters            : 3\n",
      "  Number of free parameters       : 2\n",
      "\n",
      "  Component 0: SkyModel\n",
      "  \n",
      "    Name                      : Mrk501\n",
      "    Datasets names            : None\n",
      "    Spectral model type       : PowerLawSpectralModel\n",
      "    Spatial  model type       : \n",
      "    Temporal model type       : \n",
      "    Parameters:\n",
      "      index                   :   2.409              \n",
      "      amplitude               :   6.87e-12  1 / (cm2 s TeV)\n",
      "      reference    (frozen)   :   1.000  TeV         \n",
      "  \n",
      "  \n",
      "SpectrumDatasetOnOff\n",
      "--------------------\n",
      "\n",
      "  Name                            : Au2EJi9s \n",
      "\n",
      "  Total counts                    : 9 \n",
      "  Total off counts                : 2.00\n",
      "  Total background counts         : 0.33\n",
      "  Total excess counts             : 8.67\n",
      "\n",
      "  Predicted counts                : 2.33\n",
      "  Predicted background counts     : 0.56\n",
      "  Predicted excess counts         : 1.77\n",
      "\n",
      "  Exposure min                    : 5.00e+02 m2 s\n",
      "  Exposure max                    : 1.14e+07 m2 s\n",
      "\n",
      "  Acceptance mean                 : 1.000\n",
      "  Acceptance off                  : 60.000\n",
      "\n",
      "  Number of total bins            : 10 \n",
      "  Number of fit bins              : 10 \n",
      "\n",
      "  Fit statistic type              : wstat\n",
      "  Fit statistic value (-2 log(L)) : 16.87\n",
      "\n",
      "  Number of models                : 1 \n",
      "  Number of parameters            : 3\n",
      "  Number of free parameters       : 2\n",
      "\n",
      "  Component 0: SkyModel\n",
      "  \n",
      "    Name                      : Mrk501\n",
      "    Datasets names            : None\n",
      "    Spectral model type       : PowerLawSpectralModel\n",
      "    Spatial  model type       : \n",
      "    Temporal model type       : \n",
      "    Parameters:\n",
      "      index                   :   2.409              \n",
      "      amplitude               :   6.87e-12  1 / (cm2 s TeV)\n",
      "      reference    (frozen)   :   1.000  TeV         \n",
      "  \n",
      "  \n",
      "SpectrumDatasetOnOff\n",
      "--------------------\n",
      "\n",
      "  Name                            : pFt7_6lK \n",
      "\n",
      "  Total counts                    : 5 \n",
      "  Total off counts                : 1.00\n",
      "  Total background counts         : 0.17\n",
      "  Total excess counts             : 4.83\n",
      "\n",
      "  Predicted counts                : 1.46\n",
      "  Predicted background counts     : 0.49\n",
      "  Predicted excess counts         : 0.97\n",
      "\n",
      "  Exposure min                    : 2.73e+02 m2 s\n",
      "  Exposure max                    : 6.22e+06 m2 s\n",
      "\n",
      "  Acceptance mean                 : 1.000\n",
      "  Acceptance off                  : 60.000\n",
      "\n",
      "  Number of total bins            : 10 \n",
      "  Number of fit bins              : 10 \n",
      "\n",
      "  Fit statistic type              : wstat\n",
      "  Fit statistic value (-2 log(L)) : 12.62\n",
      "\n",
      "  Number of models                : 1 \n",
      "  Number of parameters            : 3\n",
      "  Number of free parameters       : 2\n",
      "\n",
      "  Component 0: SkyModel\n",
      "  \n",
      "    Name                      : Mrk501\n",
      "    Datasets names            : None\n",
      "    Spectral model type       : PowerLawSpectralModel\n",
      "    Spatial  model type       : \n",
      "    Temporal model type       : \n",
      "    Parameters:\n",
      "      index                   :   2.409              \n",
      "      amplitude               :   6.87e-12  1 / (cm2 s TeV)\n",
      "      reference    (frozen)   :   1.000  TeV         \n",
      "  \n",
      "  \n"
     ]
    }
   ],
   "source": [
    "list_dataset = Datasets()\n",
    "for obs in filt_observations:\n",
    "    dataset = dataset_maker.run(dataset_empty.copy(), obs)\n",
    "    dataset = bkg_maker.run(dataset, obs)\n",
    "    dataset = safe_mask_maker.run(dataset, obs)\n",
    "    dataset.models = Models(sky_model)\n",
    "    list_dataset.append(dataset)\n",
    "    print(dataset)"
   ]
  },
  {
   "cell_type": "code",
   "execution_count": null,
   "id": "64cd75bd",
   "metadata": {},
   "outputs": [],
   "source": [
    "%%time\n",
    "lc_maker_1d = LightCurveEstimator(energy_edges=[energy_axis.edges[0], energy_axis.edges[-1]], source = f\"{source}\", reoptimize=True)\n",
    "lc_maker_1d.time_intervals = time_intervals\n",
    "lc_day = lc_maker_1d.run(list_dataset)"
   ]
  },
  {
   "cell_type": "code",
   "execution_count": null,
   "id": "99db8406",
   "metadata": {},
   "outputs": [],
   "source": [
    "lc_day.table"
   ]
  },
  {
   "cell_type": "code",
   "execution_count": null,
   "id": "5d2f8645",
   "metadata": {},
   "outputs": [],
   "source": [
    "lc_day.plot(marker=\"o\")"
   ]
  },
  {
   "cell_type": "markdown",
   "id": "d7b90d1a",
   "metadata": {},
   "source": [
    "4 Weeks"
   ]
  },
  {
   "cell_type": "code",
   "execution_count": 94,
   "id": "bdae984b",
   "metadata": {},
   "outputs": [
    {
     "name": "stdout",
     "output_type": "stream",
     "text": [
      "[<Time object: scale='utc' format='mjd' value=[56046.39782149 56074.39782149]>, <Time object: scale='utc' format='mjd' value=[56076. 56104.]>, <Time object: scale='utc' format='mjd' value=[56104. 56132.]>]\n",
      "CPU times: user 64.8 ms, sys: 3.23 ms, total: 68 ms\n",
      "Wall time: 68.1 ms\n"
     ]
    }
   ],
   "source": [
    "%%time\n",
    "# 4 weeks:\n",
    "if list_of_dataset[0].gti.time_start.value > list(lc_1d.table[\"time_min\"])[0]:\n",
    "    time_start = Time(list(lc_1d.table[\"time_min\"])[0], format=\"mjd\", scale=\"utc\")\n",
    "else:\n",
    "    time_start = list_of_dataset[0].gti.time_start\n",
    "\n",
    "time = float(time_start.value)\n",
    "\n",
    "\n",
    "if list_of_dataset[-1].gti.time_stop.value > list(lc_1d.table[\"time_max\"])[-1]:\n",
    "    time_end = list_of_dataset[-1].gti.time_stop\n",
    "else:\n",
    "    time_end = Time(list(lc_1d.table[\"time_max\"])[-1], format=\"mjd\", scale=\"utc\")\n",
    "\n",
    "\n",
    "time_intervals = []\n",
    "count = 0\n",
    "while time < (float(time_end.value)+3):\n",
    "    t_plus_one = time + 28\n",
    "    time_intervals.append(Time([time, t_plus_one], format=\"mjd\", scale=\"utc\"))\n",
    "    time = t_plus_one\n",
    "    for i in range(count, len(observations), 1):\n",
    "        count +=1\n",
    "        if float(list_of_dataset[i].gti.time_start.value) > time:\n",
    "            time = int(list_of_dataset[i].gti.time_start.value)\n",
    "            count = i\n",
    "            break\n",
    "\n",
    "\n",
    "\n",
    "print(time_intervals)\n",
    "\n"
   ]
  },
  {
   "cell_type": "code",
   "execution_count": 95,
   "id": "a55a08aa",
   "metadata": {},
   "outputs": [
    {
     "name": "stdout",
     "output_type": "stream",
     "text": [
      "CPU times: user 40.4 s, sys: 522 ms, total: 40.9 s\n",
      "Wall time: 47.3 s\n"
     ]
    }
   ],
   "source": [
    "%%time\n",
    "lc_maker_1d.time_intervals=time_intervals\n",
    "\n",
    "four_week_lc = lc_maker_1d.run(list_of_dataset)"
   ]
  },
  {
   "cell_type": "code",
   "execution_count": 96,
   "id": "fd98f739",
   "metadata": {},
   "outputs": [
    {
     "data": {
      "text/plain": [
       "<matplotlib.lines.Line2D at 0x7fa8e1a335f8>"
      ]
     },
     "execution_count": 96,
     "metadata": {},
     "output_type": "execute_result"
    },
    {
     "data": {
      "image/png": "[encoded data removed]",
      "text/plain": [
       "<Figure size 432x288 with 1 Axes>"
      ]
     },
     "metadata": {
      "needs_background": "light"
     },
     "output_type": "display_data"
    }
   ],
   "source": [
    "ax = four_week_lc.plot(marker=\"o\", label=\"1D\")\n",
    "plt.axhline(y=four_week_lc.table[\"flux\"].mean(), color=\"blue\")"
   ]
  },
  {
   "cell_type": "code",
   "execution_count": 97,
   "id": "27b056b4",
   "metadata": {},
   "outputs": [
    {
     "data": {
      "text/html": [
       "<i>Table length=2</i>\n",
       "<table id=\"table140363311928376\" class=\"table-striped table-bordered table-condensed\">\n",
       "<thead><tr><th>time_min</th><th>time_max</th><th>counts [1]</th><th>e_ref [1]</th><th>e_min [1]</th><th>e_max [1]</th><th>ref_dnde [1]</th><th>ref_flux [1]</th><th>ref_eflux [1]</th><th>ref_e2dnde [1]</th><th>norm [1]</th><th>stat [1]</th><th>success [1]</th><th>norm_err [1]</th><th>ts [1]</th><th>norm_errp [1]</th><th>norm_errn [1]</th><th>norm_ul [1]</th><th>norm_scan [1,11]</th><th>stat_scan [1,11]</th><th>sqrt_ts [1]</th><th>dnde [1]</th><th>dnde_ul [1]</th><th>dnde_err [1]</th><th>dnde_errp [1]</th><th>dnde_errn [1]</th><th>flux [1]</th><th>flux_ul [1]</th><th>flux_err [1]</th><th>flux_errp [1]</th><th>flux_errn [1]</th></tr></thead>\n",
       "<thead><tr><th></th><th></th><th></th><th>TeV</th><th>TeV</th><th>TeV</th><th>1 / (cm2 s TeV)</th><th>1 / (cm2 s)</th><th>TeV / (cm2 s)</th><th>TeV / (cm2 s)</th><th></th><th></th><th></th><th></th><th></th><th></th><th></th><th></th><th></th><th></th><th></th><th>1 / (cm2 s TeV)</th><th>1 / (cm2 s TeV)</th><th>1 / (cm2 s TeV)</th><th>1 / (cm2 s TeV)</th><th>1 / (cm2 s TeV)</th><th>1 / (cm2 s)</th><th>1 / (cm2 s)</th><th>1 / (cm2 s)</th><th>1 / (cm2 s)</th><th>1 / (cm2 s)</th></tr></thead>\n",
       "<thead><tr><th>float64</th><th>float64</th><th>float64</th><th>float64</th><th>float64</th><th>float64</th><th>float64</th><th>float64</th><th>float64</th><th>float64</th><th>float64</th><th>float64</th><th>bool</th><th>float64</th><th>float64</th><th>float64</th><th>float64</th><th>float64</th><th>float64</th><th>float64</th><th>float64</th><th>float64</th><th>float64</th><th>float64</th><th>float64</th><th>float64</th><th>float64</th><th>float64</th><th>float64</th><th>float64</th><th>float64</th></tr></thead>\n",
       "<tr><td>56046.39858751226</td><td>56074.39858751226</td><td>933.0</td><td>1.5</td><td>0.15</td><td>15.0</td><td>2.5307791255220808e-12</td><td>6.623395519287098e-11</td><td>3.0692408465130806e-11</td><td>5.6942530324246815e-12</td><td>0.8867452085542027</td><td>865.588249864968</td><td>True</td><td>0.03231617097472705</td><td>1703.0855780283791</td><td>0.032660304719210005</td><td>0.0319744697944255</td><td>0.952746280408654</td><td>0.20000000000000004 .. 5.000000000000001</td><td>1659.3910776745945 .. 5646.558940952891</td><td>41.2684574224477</td><td>2.2441562634657e-12</td><td>2.411190398377028e-12</td><td>8.178509091964176e-14</td><td>8.265601741656699e-14</td><td>8.092032070536836e-14</td><td>5.873264241087209e-11</td><td>6.310415444676127e-11</td><td>2.140427820345229e-12</td><td>2.163221159357668e-12</td><td>2.1177955996797854e-12</td></tr>\n",
       "<tr><td>56076.000766018515</td><td>56104.000766018515</td><td>957.0</td><td>1.5</td><td>0.15</td><td>15.0</td><td>2.5307791255220808e-12</td><td>6.623395519287098e-11</td><td>3.0692408465130806e-11</td><td>5.6942530324246815e-12</td><td>1.1693163837044267</td><td>738.5099382293425</td><td>True</td><td>0.044160657867682744</td><td>1643.425640488856</td><td>0.04463952958879689</td><td>0.04371247411732546</td><td>1.2595731043010212</td><td>0.20000000000000004 .. 5.000000000000001</td><td>1673.7803040159492 .. 3566.13378743889</td><td>40.53918648035325</td><td>2.959281495010131e-12</td><td>3.187701319434071e-12</td><td>1.1176087110085393e-13</td><td>1.1297278965645244e-13</td><td>1.1062661702105153e-13</td><td>7.744844896456892e-11</td><td>8.342650855241924e-11</td><td>2.9249350344958042e-12</td><td>2.9566526026152117e-12</td><td>2.895250052056467e-12</td></tr>\n",
       "</table>"
      ],
      "text/plain": [
       "<Table length=2>\n",
       "     time_min           time_max      ...     flux_errn [1]     \n",
       "                                      ...      1 / (cm2 s)      \n",
       "     float64            float64       ...        float64        \n",
       "------------------ ------------------ ... ----------------------\n",
       " 56046.39858751226  56074.39858751226 ... 2.1177955996797854e-12\n",
       "56076.000766018515 56104.000766018515 ...  2.895250052056467e-12"
      ]
     },
     "execution_count": 97,
     "metadata": {},
     "output_type": "execute_result"
    }
   ],
   "source": [
    "four_week_lc.table"
   ]
  },
  {
   "cell_type": "code",
   "execution_count": null,
   "id": "87a92fc4",
   "metadata": {},
   "outputs": [],
   "source": []
  }
 ],
 "metadata": {
  "kernelspec": {
   "display_name": "Python 3",
   "language": "python",
   "name": "python3"
  },
  "language_info": {
   "codemirror_mode": {
    "name": "ipython",
    "version": 3
   },
   "file_extension": ".py",
   "mimetype": "text/x-python",
   "name": "python",
   "nbconvert_exporter": "python",
   "pygments_lexer": "ipython3",
   "version": "3.7.0"
  }
 },
 "nbformat": 4,
 "nbformat_minor": 5
}
