{
 "cells": [
  {
   "cell_type": "code",
   "execution_count": 172,
   "id": "99c0ee76",
   "metadata": {},
   "outputs": [
    {
     "name": "stdout",
     "output_type": "stream",
     "text": [
      "CPU times: user 5.54 ms, sys: 18.7 ms, total: 24.3 ms\n",
      "Wall time: 33 ms\n"
     ]
    }
   ],
   "source": [
    "%%time\n",
    "%matplotlib inline\n",
    "import matplotlib.pyplot as plt\n",
    "import gammapy_fct as gf\n",
    "import pandas as pd\n",
    "import numpy as np\n",
    "from copy import deepcopy\n",
    "import astropy\n",
    "import gammapy\n",
    "from astropy.table import Table, vstack\n",
    "from gammapy.analysis import Analysis, AnalysisConfig\n",
    "from gammapy.data import DataStore, EventList\n",
    "from gammapy.irf.effective_area import EffectiveAreaTable2D\n",
    "from gammapy.irf.energy_dispersion import EnergyDispersion2D\n",
    "from gammapy.irf.psf_gauss import EnergyDependentMultiGaussPSF\n",
    "from gammapy.irf import EffectiveAreaTable2D, load_cta_irfs, Background2D\n",
    "\n",
    "gammapy.data.HDUIndexTable.VALID_HDU_CLASS\n",
    "from astropy.time import Time\n",
    "import astropy.units as u\n",
    "from astropy.coordinates import SkyCoord, Angle\n",
    "from astropy.convolution import Gaussian2DKernel\n",
    "from regions import CircleSkyRegion\n",
    "from gammapy.modeling import Fit\n",
    "from gammapy.data import DataStore, Observation\n",
    "from gammapy.datasets import (\n",
    "    Dataset,\n",
    "    Datasets,\n",
    "    FluxPointsDataset,\n",
    "    SpectrumDataset,\n",
    "    MapDataset,\n",
    "    MapDatasetOnOff,\n",
    "    SpectrumDatasetOnOff\n",
    ")\n",
    "from gammapy.modeling.models import *\n",
    "from gammapy.modeling.models import FoVBackgroundModel\n",
    "from gammapy.maps import MapAxis, WcsNDMap, WcsGeom, Map, RegionNDMap\n",
    "from gammapy.makers import (\n",
    "    MapDatasetMaker,\n",
    "    SafeMaskMaker,\n",
    "    SpectrumDatasetMaker,\n",
    "    ReflectedRegionsBackgroundMaker,\n",
    "    RingBackgroundMaker,\n",
    "    ReflectedRegionsFinder,\n",
    "    FoVBackgroundMaker\n",
    "    \n",
    ")\n",
    "from astropy.io import fits\n",
    "from gammapy.estimators import *\n",
    "from gammapy.estimators.utils import find_peaks\n",
    "from gammapy.visualization import plot_spectrum_datasets_off_regions\n",
    "\n",
    "from gammapy.utils.regions import make_region\n",
    "from itertools import combinations\n",
    "from gammapy.visualization.utils import plot_contour_line"
   ]
  },
  {
   "cell_type": "code",
   "execution_count": 173,
   "id": "4dbfa601",
   "metadata": {},
   "outputs": [],
   "source": [
    "\n",
    "data_store = DataStore.from_dir(\"/Users/cedrickperron/GAMMAPY/LS5039\")\n",
    "s = data_store.hdu_table.read(\"/Users/cedrickperron/GAMMAPY/LS5039/hdu-index.fits.gz\")\n",
    "OBS_table = data_store.obs_table.read(\"/Users/cedrickperron/GAMMAPY/LS5039/obs-index.fits.gz\")\n",
    "# Changing the path to the fits files in the HDU_table\n",
    "s.remove_column(\"FILE_DIR\")\n",
    "s.add_column(\"/Users/cedrickperron/GAMMAPY/LS5039\", name=\"FILE_DIR\")\n",
    "\n"
   ]
  },
  {
   "cell_type": "code",
   "execution_count": 174,
   "id": "c9647522",
   "metadata": {},
   "outputs": [
    {
     "data": {
      "text/html": [
       "<i>HDUIndexTable length=108</i>\n",
       "<table id=\"table140700067623936\" class=\"table-striped table-bordered table-condensed\">\n",
       "<thead><tr><th>OBS_ID</th><th>HDU_TYPE</th><th>HDU_CLASS</th><th>FILE_NAME</th><th>HDU_NAME</th><th>FILE_DIR</th></tr></thead>\n",
       "<thead><tr><th>int64</th><th>bytes6</th><th>bytes10</th><th>bytes54</th><th>bytes20</th><th>str35</th></tr></thead>\n",
       "<tr><td>69054</td><td>events</td><td>events</td><td>69054.anasum.fits</td><td>EVENTS</td><td>/Users/cedrickperron/GAMMAPY/LS5039</td></tr>\n",
       "<tr><td>69054</td><td>gti</td><td>gti</td><td>69054.anasum.fits</td><td>GTI</td><td>/Users/cedrickperron/GAMMAPY/LS5039</td></tr>\n",
       "<tr><td>69054</td><td>aeff</td><td>aeff_2d</td><td>69054.anasum.fits</td><td>EFFECTIVE AREA</td><td>/Users/cedrickperron/GAMMAPY/LS5039</td></tr>\n",
       "<tr><td>69054</td><td>edisp</td><td>edisp_2d</td><td>69054.anasum.fits</td><td>ENERGY DISPERSION</td><td>/Users/cedrickperron/GAMMAPY/LS5039</td></tr>\n",
       "<tr><td>69054</td><td>psf</td><td>psf_table</td><td>69054.anasum.fits</td><td>PSF</td><td>/Users/cedrickperron/GAMMAPY/LS5039</td></tr>\n",
       "<tr><td>69054</td><td>bkg</td><td>bkg_2d</td><td>69054.anasum.fits</td><td>BKG</td><td>/Users/cedrickperron/GAMMAPY/LS5039</td></tr>\n",
       "<tr><td>69123</td><td>events</td><td>events</td><td>69123.anasum.fits</td><td>EVENTS</td><td>/Users/cedrickperron/GAMMAPY/LS5039</td></tr>\n",
       "<tr><td>69123</td><td>gti</td><td>gti</td><td>69123.anasum.fits</td><td>GTI</td><td>/Users/cedrickperron/GAMMAPY/LS5039</td></tr>\n",
       "<tr><td>69123</td><td>aeff</td><td>aeff_2d</td><td>69123.anasum.fits</td><td>EFFECTIVE AREA</td><td>/Users/cedrickperron/GAMMAPY/LS5039</td></tr>\n",
       "<tr><td>69123</td><td>edisp</td><td>edisp_2d</td><td>69123.anasum.fits</td><td>ENERGY DISPERSION</td><td>/Users/cedrickperron/GAMMAPY/LS5039</td></tr>\n",
       "<tr><td>...</td><td>...</td><td>...</td><td>...</td><td>...</td><td>...</td></tr>\n",
       "<tr><td>73403</td><td>aeff</td><td>aeff_2d</td><td>73403.anasum.fits</td><td>EFFECTIVE AREA</td><td>/Users/cedrickperron/GAMMAPY/LS5039</td></tr>\n",
       "<tr><td>73403</td><td>edisp</td><td>edisp_2d</td><td>73403.anasum.fits</td><td>ENERGY DISPERSION</td><td>/Users/cedrickperron/GAMMAPY/LS5039</td></tr>\n",
       "<tr><td>73403</td><td>psf</td><td>psf_table</td><td>73403.anasum.fits</td><td>PSF</td><td>/Users/cedrickperron/GAMMAPY/LS5039</td></tr>\n",
       "<tr><td>73403</td><td>bkg</td><td>bkg_2d</td><td>73403.anasum.fits</td><td>BKG</td><td>/Users/cedrickperron/GAMMAPY/LS5039</td></tr>\n",
       "<tr><td>73607</td><td>events</td><td>events</td><td>73607.anasum.fits</td><td>EVENTS</td><td>/Users/cedrickperron/GAMMAPY/LS5039</td></tr>\n",
       "<tr><td>73607</td><td>gti</td><td>gti</td><td>73607.anasum.fits</td><td>GTI</td><td>/Users/cedrickperron/GAMMAPY/LS5039</td></tr>\n",
       "<tr><td>73607</td><td>aeff</td><td>aeff_2d</td><td>73607.anasum.fits</td><td>EFFECTIVE AREA</td><td>/Users/cedrickperron/GAMMAPY/LS5039</td></tr>\n",
       "<tr><td>73607</td><td>edisp</td><td>edisp_2d</td><td>73607.anasum.fits</td><td>ENERGY DISPERSION</td><td>/Users/cedrickperron/GAMMAPY/LS5039</td></tr>\n",
       "<tr><td>73607</td><td>psf</td><td>psf_table</td><td>73607.anasum.fits</td><td>PSF</td><td>/Users/cedrickperron/GAMMAPY/LS5039</td></tr>\n",
       "<tr><td>73607</td><td>bkg</td><td>bkg_2d</td><td>73607.anasum.fits</td><td>BKG</td><td>/Users/cedrickperron/GAMMAPY/LS5039</td></tr>\n",
       "</table>"
      ],
      "text/plain": [
       "<HDUIndexTable length=108>\n",
       "OBS_ID HDU_TYPE ...      HDU_NAME                   FILE_DIR             \n",
       "int64   bytes6  ...      bytes20                     str35               \n",
       "------ -------- ... ----------------- -----------------------------------\n",
       " 69054   events ...            EVENTS /Users/cedrickperron/GAMMAPY/LS5039\n",
       " 69054      gti ...               GTI /Users/cedrickperron/GAMMAPY/LS5039\n",
       " 69054     aeff ...    EFFECTIVE AREA /Users/cedrickperron/GAMMAPY/LS5039\n",
       " 69054    edisp ... ENERGY DISPERSION /Users/cedrickperron/GAMMAPY/LS5039\n",
       " 69054      psf ...               PSF /Users/cedrickperron/GAMMAPY/LS5039\n",
       " 69054      bkg ...               BKG /Users/cedrickperron/GAMMAPY/LS5039\n",
       " 69123   events ...            EVENTS /Users/cedrickperron/GAMMAPY/LS5039\n",
       " 69123      gti ...               GTI /Users/cedrickperron/GAMMAPY/LS5039\n",
       " 69123     aeff ...    EFFECTIVE AREA /Users/cedrickperron/GAMMAPY/LS5039\n",
       " 69123    edisp ... ENERGY DISPERSION /Users/cedrickperron/GAMMAPY/LS5039\n",
       "   ...      ... ...               ...                                 ...\n",
       " 73403     aeff ...    EFFECTIVE AREA /Users/cedrickperron/GAMMAPY/LS5039\n",
       " 73403    edisp ... ENERGY DISPERSION /Users/cedrickperron/GAMMAPY/LS5039\n",
       " 73403      psf ...               PSF /Users/cedrickperron/GAMMAPY/LS5039\n",
       " 73403      bkg ...               BKG /Users/cedrickperron/GAMMAPY/LS5039\n",
       " 73607   events ...            EVENTS /Users/cedrickperron/GAMMAPY/LS5039\n",
       " 73607      gti ...               GTI /Users/cedrickperron/GAMMAPY/LS5039\n",
       " 73607     aeff ...    EFFECTIVE AREA /Users/cedrickperron/GAMMAPY/LS5039\n",
       " 73607    edisp ... ENERGY DISPERSION /Users/cedrickperron/GAMMAPY/LS5039\n",
       " 73607      psf ...               PSF /Users/cedrickperron/GAMMAPY/LS5039\n",
       " 73607      bkg ...               BKG /Users/cedrickperron/GAMMAPY/LS5039"
      ]
     },
     "execution_count": 174,
     "metadata": {},
     "output_type": "execute_result"
    }
   ],
   "source": [
    "data_store.hdu_table = s\n",
    "hdu_table = data_store.hdu_table\n",
    "obs_table = data_store.obs_table\n",
    "\n",
    "\n",
    "data_store.hdu_table\n",
    "obs_id = data_store.obs_table[\"OBS_ID\"]\n",
    "\n",
    "#print(obs_id)\n",
    "\n",
    "# Note NO HDU of HDU_TYPE = bkg. Write print(hdu_table) and you will see that there is no bkg.\n",
    "observations = data_store.get_observations(obs_id)\n",
    "hdu_table = data_store.hdu_table\n",
    "hdu_table"
   ]
  },
  {
   "cell_type": "code",
   "execution_count": 175,
   "id": "5b15e19d",
   "metadata": {},
   "outputs": [
    {
     "data": {
      "text/html": [
       "<i>ObservationTable length=18</i>\n",
       "<table id=\"table140700222161472\" class=\"table-striped table-bordered table-condensed\">\n",
       "<thead><tr><th>OBS_ID</th><th>RA_PNT</th><th>DEC_PNT</th><th>ZEN_PNT</th><th>ALT_PNT</th><th>AZ_PNT</th><th>ONTIME</th><th>LIVETIME</th><th>DEADC</th><th>TSTART</th><th>TSTOP</th><th>N_TELS</th><th>TELLIST</th></tr></thead>\n",
       "<thead><tr><th></th><th>deg</th><th>deg</th><th>deg</th><th>deg</th><th>deg</th><th>s</th><th>s</th><th></th><th>s</th><th>s</th><th></th><th></th></tr></thead>\n",
       "<thead><tr><th>int64</th><th>float32</th><th>float32</th><th>float32</th><th>float32</th><th>float32</th><th>float32</th><th>float32</th><th>float32</th><th>float32</th><th>float32</th><th>int64</th><th>bytes20</th></tr></thead>\n",
       "<tr><td>69054</td><td>276.56342</td><td>-14.348431</td><td>53.779232</td><td>36.220768</td><td>215.54797</td><td>2049.078</td><td>1860.2681</td><td>0.9078562</td><td>263470850.0</td><td>263472900.0</td><td>4</td><td>T1,T2,T3,T4</td></tr>\n",
       "<tr><td>69123</td><td>276.562</td><td>-15.34843</td><td>48.47988</td><td>41.52012</td><td>195.95264</td><td>1802.6912</td><td>1622.2295</td><td>0.89989316</td><td>263811630.0</td><td>263813440.0</td><td>4</td><td>T1,T2,T3,T4</td></tr>\n",
       "<tr><td>69187</td><td>277.08</td><td>-14.848524</td><td>46.666584</td><td>43.333416</td><td>185.3455</td><td>1802.7084</td><td>1656.9017</td><td>0.919118</td><td>264154430.0</td><td>264156240.0</td><td>4</td><td>T1,T2,T3,T4</td></tr>\n",
       "<tr><td>69188</td><td>276.04544</td><td>-14.84718</td><td>48.08042</td><td>41.91958</td><td>196.68805</td><td>1802.7072</td><td>1666.6135</td><td>0.924506</td><td>264156300.0</td><td>264158110.0</td><td>4</td><td>T1,T2,T3,T4</td></tr>\n",
       "<tr><td>69202</td><td>276.56342</td><td>-14.348431</td><td>46.311962</td><td>43.688038</td><td>187.28421</td><td>1802.6796</td><td>1594.925</td><td>0.88475245</td><td>264240820.0</td><td>264242610.0</td><td>4</td><td>T1,T2,T3,T4</td></tr>\n",
       "<tr><td>69203</td><td>276.562</td><td>-15.34843</td><td>48.71455</td><td>41.28545</td><td>197.1719</td><td>1802.7202</td><td>1587.1078</td><td>0.88039607</td><td>264242670.0</td><td>264244480.0</td><td>4</td><td>T1,T2,T3,T4</td></tr>\n",
       "<tr><td>73193</td><td>276.04544</td><td>-14.847137</td><td>46.543064</td><td>43.456936</td><td>177.73186</td><td>1321.5967</td><td>1131.7001</td><td>0.8563127</td><td>291467100.0</td><td>291468400.0</td><td>4</td><td>T1,T2,T3,T4</td></tr>\n",
       "<tr><td>73213</td><td>276.56345</td><td>-14.348431</td><td>46.258514</td><td>43.741486</td><td>173.92455</td><td>2100.5056</td><td>1819.273</td><td>0.866112</td><td>291552300.0</td><td>291554400.0</td><td>4</td><td>T1,T2,T3,T4</td></tr>\n",
       "<tr><td>73234</td><td>276.56198</td><td>-15.34843</td><td>47.025845</td><td>42.974155</td><td>177.32242</td><td>1020.1312</td><td>878.6116</td><td>0.86127305</td><td>291639600.0</td><td>291640640.0</td><td>4</td><td>T1,T2,T3,T4</td></tr>\n",
       "<tr><td>73300</td><td>277.08</td><td>-14.848568</td><td>46.53155</td><td>43.46845</td><td>179.5902</td><td>1800.2477</td><td>1601.226</td><td>0.88944757</td><td>291898200.0</td><td>291900030.0</td><td>4</td><td>T1,T2,T3,T4</td></tr>\n",
       "<tr><td>73317</td><td>276.04544</td><td>-14.8471365</td><td>46.533634</td><td>43.466366</td><td>181.97435</td><td>1811.1879</td><td>1606.7184</td><td>0.8871075</td><td>291984580.0</td><td>291986370.0</td><td>4</td><td>T1,T2,T3,T4</td></tr>\n",
       "<tr><td>73335</td><td>276.56345</td><td>-14.348431</td><td>46.062363</td><td>43.937637</td><td>182.34357</td><td>1739.6471</td><td>1524.5034</td><td>0.8763291</td><td>292070940.0</td><td>292072700.0</td><td>4</td><td>T1,T2,T3,T4</td></tr>\n",
       "<tr><td>73356</td><td>276.56198</td><td>-15.34843</td><td>47.094738</td><td>42.905262</td><td>177.75417</td><td>302.4536</td><td>265.19818</td><td>0.8768227</td><td>292157000.0</td><td>292157300.0</td><td>4</td><td>T1,T2,T3,T4</td></tr>\n",
       "<tr><td>73357</td><td>276.56198</td><td>-15.34843</td><td>47.054405</td><td>42.945595</td><td>183.08144</td><td>1634.8491</td><td>1401.4508</td><td>0.85723555</td><td>292157340.0</td><td>292158980.0</td><td>4</td><td>T1,T2,T3,T4</td></tr>\n",
       "<tr><td>73370</td><td>277.08</td><td>-14.848568</td><td>46.60699</td><td>43.39301</td><td>183.2663</td><td>1800.29</td><td>1567.0005</td><td>0.87041557</td><td>292243520.0</td><td>292245340.0</td><td>4</td><td>T1,T2,T3,T4</td></tr>\n",
       "<tr><td>73390</td><td>276.04544</td><td>-14.847136</td><td>46.7279</td><td>43.2721</td><td>186.04048</td><td>1800.2733</td><td>1584.0902</td><td>0.8799165</td><td>292329950.0</td><td>292331780.0</td><td>4</td><td>T1,T2,T3,T4</td></tr>\n",
       "<tr><td>73403</td><td>276.56345</td><td>-14.348431</td><td>46.188164</td><td>43.811836</td><td>185.86125</td><td>2004.0925</td><td>1755.129</td><td>0.8757724</td><td>292416130.0</td><td>292418100.0</td><td>4</td><td>T1,T2,T3,T4</td></tr>\n",
       "<tr><td>73607</td><td>276.56198</td><td>-15.34843</td><td>49.248287</td><td>40.751713</td><td>199.37283</td><td>1676.9355</td><td>1511.7443</td><td>0.9014922</td><td>293883650.0</td><td>293885300.0</td><td>4</td><td>T1,T2,T3,T4</td></tr>\n",
       "</table>"
      ],
      "text/plain": [
       "<ObservationTable length=18>\n",
       "OBS_ID   RA_PNT    DEC_PNT    ZEN_PNT  ...    TSTOP    N_TELS   TELLIST  \n",
       "          deg        deg        deg    ...      s                        \n",
       "int64   float32    float32    float32  ...   float32   int64    bytes20  \n",
       "------ --------- ----------- --------- ... ----------- ------ -----------\n",
       " 69054 276.56342  -14.348431 53.779232 ... 263472900.0      4 T1,T2,T3,T4\n",
       " 69123   276.562   -15.34843  48.47988 ... 263813440.0      4 T1,T2,T3,T4\n",
       " 69187    277.08  -14.848524 46.666584 ... 264156240.0      4 T1,T2,T3,T4\n",
       " 69188 276.04544   -14.84718  48.08042 ... 264158110.0      4 T1,T2,T3,T4\n",
       " 69202 276.56342  -14.348431 46.311962 ... 264242610.0      4 T1,T2,T3,T4\n",
       " 69203   276.562   -15.34843  48.71455 ... 264244480.0      4 T1,T2,T3,T4\n",
       " 73193 276.04544  -14.847137 46.543064 ... 291468400.0      4 T1,T2,T3,T4\n",
       " 73213 276.56345  -14.348431 46.258514 ... 291554400.0      4 T1,T2,T3,T4\n",
       " 73234 276.56198   -15.34843 47.025845 ... 291640640.0      4 T1,T2,T3,T4\n",
       " 73300    277.08  -14.848568  46.53155 ... 291900030.0      4 T1,T2,T3,T4\n",
       " 73317 276.04544 -14.8471365 46.533634 ... 291986370.0      4 T1,T2,T3,T4\n",
       " 73335 276.56345  -14.348431 46.062363 ... 292072700.0      4 T1,T2,T3,T4\n",
       " 73356 276.56198   -15.34843 47.094738 ... 292157300.0      4 T1,T2,T3,T4\n",
       " 73357 276.56198   -15.34843 47.054405 ... 292158980.0      4 T1,T2,T3,T4\n",
       " 73370    277.08  -14.848568  46.60699 ... 292245340.0      4 T1,T2,T3,T4\n",
       " 73390 276.04544  -14.847136   46.7279 ... 292331780.0      4 T1,T2,T3,T4\n",
       " 73403 276.56345  -14.348431 46.188164 ... 292418100.0      4 T1,T2,T3,T4\n",
       " 73607 276.56198   -15.34843 49.248287 ... 293885300.0      4 T1,T2,T3,T4"
      ]
     },
     "execution_count": 175,
     "metadata": {},
     "output_type": "execute_result"
    }
   ],
   "source": [
    "obs_table"
   ]
  },
  {
   "cell_type": "code",
   "execution_count": 176,
   "id": "4c8e5860",
   "metadata": {},
   "outputs": [
    {
     "name": "stdout",
     "output_type": "stream",
     "text": [
      "<SkyCoord (ICRS): (ra, dec) in deg\n",
      "    (276.5625, -14.825)>\n"
     ]
    }
   ],
   "source": [
    "target_position=SkyCoord(\"18h26m15s\" , \"-14d49m30s\", unit=\"deg\",frame=\"icrs\")\n",
    "print(target_position)\n",
    "on_radius=Angle(\"0.089 deg\")\n",
    "on_region= CircleSkyRegion(center=target_position,radius=on_radius)"
   ]
  },
  {
   "cell_type": "code",
   "execution_count": 220,
   "id": "cbfa1845",
   "metadata": {},
   "outputs": [],
   "source": [
    "energy_axis = MapAxis.from_energy_bounds(0.400, 20, 15, unit= \"TeV\", name=\"energy\")\n",
    "energy_axis_true = MapAxis.from_energy_bounds(0.200, 30, 20, unit= \"TeV\", name=\"energy_true\")\n",
    "\n",
    "\n"
   ]
  },
  {
   "cell_type": "code",
   "execution_count": 221,
   "id": "25aec8db",
   "metadata": {},
   "outputs": [
    {
     "name": "stderr",
     "output_type": "stream",
     "text": [
      "UsageError: Cell magic `%%cache` not found.\n"
     ]
    }
   ],
   "source": [
    "%%cache\n",
    "#TODO Take the same exclusion region as Tobias, because you end up with having -600 excess... \n",
    "# Exclusion Region\n",
    "\n",
    "df=pd.read_csv('./GAMMAPY/exclusion mask.csv', sep=',',header=None)\n",
    "ra_list = list(df[0])\n",
    "dec_list = list(df[1])\n",
    "region_list = []\n",
    "for ra, dec in zip(ra_list, dec_list):\n",
    "    region_list.append(make_region(f\"icrs;circle({ra}, {dec}, 0.35)\"))\n",
    "exclusion_mask=[]\n",
    "def exclusion_mask(geom, center_region):\n",
    "    geom_image = geom\n",
    "    exclusion_mask=Map.from_geom(geom)\n",
    "    if center_region not in region_list:\n",
    "        region_list.append(center_region)\n",
    "    exclusion_mask.data=geom.region_mask(region_list, inside=False)\n",
    "    return exclusion_mask\n",
    "\n",
    "# 0.089\n",
    "geom = WcsGeom.create(skydir=target_position, binsz=0.02, width=\"7 deg\", frame=\"galactic\", axes=[energy_axis])\n",
    "center_region = CircleSkyRegion(center=target_position, radius=0.35* u.deg)\n",
    "\n",
    "exclusion_mask = exclusion_mask(geom, center_region)\n",
    "exclusion_mask.sum_over_axes().plot(add_cbar=True)"
   ]
  },
  {
   "cell_type": "code",
   "execution_count": 222,
   "id": "a7edcfa9",
   "metadata": {},
   "outputs": [
    {
     "data": {
      "text/plain": [
       "(<Figure size 432x288 with 2 Axes>,\n",
       " <matplotlib.axes._subplots.WCSAxesSubplot at 0x7ff81819f710>,\n",
       " <matplotlib.colorbar.Colorbar at 0x7ff8163e7dd8>)"
      ]
     },
     "execution_count": 222,
     "metadata": {},
     "output_type": "execute_result"
    },
    {
     "data": {
      "image/png": "[encoded data removed]",
      "text/plain": [
       "<Figure size 432x288 with 2 Axes>"
      ]
     },
     "metadata": {
      "needs_background": "light"
     },
     "output_type": "display_data"
    }
   ],
   "source": [
    "geom = WcsGeom.create(skydir=target_position, binsz=0.02, width=\"7 deg\", proj=\"CAR\", axes=[energy_axis])\n",
    "geom_image = geom\n",
    "hess_region = make_region(\"icrs;circle(276.421,-13.8389, 0.50)\")\n",
    "center_region = CircleSkyRegion(center=target_position, radius=0.35 * u.deg)\n",
    "exclusion_mask=Map.from_geom(geom_image)\n",
    "# Note Inside = True => Then all the regions outside will not have any pixels. False => Region inside have no pixel\n",
    "exclusion_mask.data=geom_image.region_mask([hess_region, center_region], inside=False)\n",
    "# No pixel => Energy => 0 (no signal)\n",
    "exclusion_mask.sum_over_axes().plot(add_cbar=True)"
   ]
  },
  {
   "cell_type": "code",
   "execution_count": 223,
   "id": "be166966",
   "metadata": {},
   "outputs": [],
   "source": [
    "# Dataset Maker\n",
    "dataset_empty = MapDatasetOnOff.create(geom = geom, energy_axis_true=energy_axis_true, binsz_irf=0.25)\n",
    "\n",
    "# Contains all the IRFs: aeff is included. No need to specify\n",
    "dataset_maker = MapDatasetMaker(selection=[\"counts\", \"exposure\", \"edisp\", \"psf\", \"background\"])\n",
    "safe_mask_maker = SafeMaskMaker(methods=[\"aeff-default\", \"offset-max\"], offset_max=1.75*u.deg, aeff_percent=10)\n",
    "\n",
    "bkg_maker = FoVBackgroundMaker(method=\"scale\", exclusion_mask=exclusion_mask)\n",
    "\n"
   ]
  },
  {
   "cell_type": "code",
   "execution_count": 224,
   "id": "9efda20d",
   "metadata": {
    "scrolled": true
   },
   "outputs": [
    {
     "name": "stderr",
     "output_type": "stream",
     "text": [
      "/Users/cedrickperron/opt/anaconda3/envs/gammapy-0.18.2/lib/python3.7/site-packages/astropy/units/quantity.py:477: RuntimeWarning: divide by zero encountered in true_divide\n",
      "  result = super().__array_ufunc__(function, method, *arrays, **kwargs)\n",
      "/Users/cedrickperron/opt/anaconda3/envs/gammapy-0.18.2/lib/python3.7/site-packages/astropy/units/quantity.py:477: RuntimeWarning: invalid value encountered in true_divide\n",
      "  result = super().__array_ufunc__(function, method, *arrays, **kwargs)\n"
     ]
    },
    {
     "name": "stdout",
     "output_type": "stream",
     "text": [
      "0 MapDataset\n",
      "----------\n",
      "\n",
      "  Name                            : 69054 \n",
      "\n",
      "  Total counts                    : 2105 \n",
      "  Total background counts         : 1561.10\n",
      "  Total excess counts             : 543.90\n",
      "\n",
      "  Predicted counts                : 1972.01\n",
      "  Predicted background counts     : 1972.01\n",
      "  Predicted excess counts         : 0.00\n",
      "\n",
      "  Exposure min                    : 6.04e+02 m2 s\n",
      "  Exposure max                    : 7.07e+08 m2 s\n",
      "\n",
      "  Number of total bins            : 1837500 \n",
      "  Number of fit bins              : 360690 \n",
      "\n",
      "  Fit statistic type              : cash\n",
      "  Fit statistic value (-2 log(L)) : 23010.12\n",
      "\n",
      "  Number of models                : 1 \n",
      "  Number of parameters            : 3\n",
      "  Number of free parameters       : 1\n",
      "\n",
      "  Component 0: FoVBackgroundModel\n",
      "  \n",
      "    Name                      : 69054-bkg\n",
      "    Datasets names            : ['69054']\n",
      "    Spectral model type       : PowerLawNormSpectralModel\n",
      "    Parameters:\n",
      "      norm                    :   1.263              \n",
      "      tilt         (frozen)   :   0.000              \n",
      "      reference    (frozen)   :   1.000  TeV         \n",
      "  \n",
      "  \n"
     ]
    },
    {
     "name": "stderr",
     "output_type": "stream",
     "text": [
      "/Users/cedrickperron/opt/anaconda3/envs/gammapy-0.18.2/lib/python3.7/site-packages/astropy/units/quantity.py:477: RuntimeWarning: divide by zero encountered in true_divide\n",
      "  result = super().__array_ufunc__(function, method, *arrays, **kwargs)\n",
      "/Users/cedrickperron/opt/anaconda3/envs/gammapy-0.18.2/lib/python3.7/site-packages/astropy/units/quantity.py:477: RuntimeWarning: invalid value encountered in true_divide\n",
      "  result = super().__array_ufunc__(function, method, *arrays, **kwargs)\n"
     ]
    },
    {
     "name": "stdout",
     "output_type": "stream",
     "text": [
      "1 MapDataset\n",
      "----------\n",
      "\n",
      "  Name                            : 69123 \n",
      "\n",
      "  Total counts                    : 1879 \n",
      "  Total background counts         : 1373.29\n",
      "  Total excess counts             : 505.71\n",
      "\n",
      "  Predicted counts                : 1830.37\n",
      "  Predicted background counts     : 1830.37\n",
      "  Predicted excess counts         : 0.00\n",
      "\n",
      "  Exposure min                    : 2.45e+04 m2 s\n",
      "  Exposure max                    : 5.84e+08 m2 s\n",
      "\n",
      "  Number of total bins            : 1837500 \n",
      "  Number of fit bins              : 360645 \n",
      "\n",
      "  Fit statistic type              : cash\n",
      "  Fit statistic value (-2 log(L)) : 20545.73\n",
      "\n",
      "  Number of models                : 1 \n",
      "  Number of parameters            : 3\n",
      "  Number of free parameters       : 1\n",
      "\n",
      "  Component 0: FoVBackgroundModel\n",
      "  \n",
      "    Name                      : 69123-bkg\n",
      "    Datasets names            : ['69123']\n",
      "    Spectral model type       : PowerLawNormSpectralModel\n",
      "    Parameters:\n",
      "      norm                    :   1.333              \n",
      "      tilt         (frozen)   :   0.000              \n",
      "      reference    (frozen)   :   1.000  TeV         \n",
      "  \n",
      "  \n"
     ]
    },
    {
     "name": "stderr",
     "output_type": "stream",
     "text": [
      "/Users/cedrickperron/opt/anaconda3/envs/gammapy-0.18.2/lib/python3.7/site-packages/astropy/units/quantity.py:477: RuntimeWarning: divide by zero encountered in true_divide\n",
      "  result = super().__array_ufunc__(function, method, *arrays, **kwargs)\n",
      "/Users/cedrickperron/opt/anaconda3/envs/gammapy-0.18.2/lib/python3.7/site-packages/astropy/units/quantity.py:477: RuntimeWarning: invalid value encountered in true_divide\n",
      "  result = super().__array_ufunc__(function, method, *arrays, **kwargs)\n"
     ]
    },
    {
     "name": "stdout",
     "output_type": "stream",
     "text": [
      "2 MapDataset\n",
      "----------\n",
      "\n",
      "  Name                            : 69187 \n",
      "\n",
      "  Total counts                    : 1461 \n",
      "  Total background counts         : 1373.23\n",
      "  Total excess counts             : 87.77\n",
      "\n",
      "  Predicted counts                : 1391.51\n",
      "  Predicted background counts     : 1391.51\n",
      "  Predicted excess counts         : 0.00\n",
      "\n",
      "  Exposure min                    : 4.88e+04 m2 s\n",
      "  Exposure max                    : 5.71e+08 m2 s\n",
      "\n",
      "  Number of total bins            : 1837500 \n",
      "  Number of fit bins              : 360600 \n",
      "\n",
      "  Fit statistic type              : cash\n",
      "  Fit statistic value (-2 log(L)) : 16589.08\n",
      "\n",
      "  Number of models                : 1 \n",
      "  Number of parameters            : 3\n",
      "  Number of free parameters       : 1\n",
      "\n",
      "  Component 0: FoVBackgroundModel\n",
      "  \n",
      "    Name                      : 69187-bkg\n",
      "    Datasets names            : ['69187']\n",
      "    Spectral model type       : PowerLawNormSpectralModel\n",
      "    Parameters:\n",
      "      norm                    :   1.013              \n",
      "      tilt         (frozen)   :   0.000              \n",
      "      reference    (frozen)   :   1.000  TeV         \n",
      "  \n",
      "  \n"
     ]
    },
    {
     "name": "stderr",
     "output_type": "stream",
     "text": [
      "/Users/cedrickperron/opt/anaconda3/envs/gammapy-0.18.2/lib/python3.7/site-packages/astropy/units/quantity.py:477: RuntimeWarning: divide by zero encountered in true_divide\n",
      "  result = super().__array_ufunc__(function, method, *arrays, **kwargs)\n",
      "/Users/cedrickperron/opt/anaconda3/envs/gammapy-0.18.2/lib/python3.7/site-packages/astropy/units/quantity.py:477: RuntimeWarning: invalid value encountered in true_divide\n",
      "  result = super().__array_ufunc__(function, method, *arrays, **kwargs)\n"
     ]
    },
    {
     "name": "stdout",
     "output_type": "stream",
     "text": [
      "3 MapDataset\n",
      "----------\n",
      "\n",
      "  Name                            : 69188 \n",
      "\n",
      "  Total counts                    : 1488 \n",
      "  Total background counts         : 1373.30\n",
      "  Total excess counts             : 114.70\n",
      "\n",
      "  Predicted counts                : 1442.84\n",
      "  Predicted background counts     : 1442.84\n",
      "  Predicted excess counts         : 0.00\n",
      "\n",
      "  Exposure min                    : 2.47e+04 m2 s\n",
      "  Exposure max                    : 5.95e+08 m2 s\n",
      "\n",
      "  Number of total bins            : 1837500 \n",
      "  Number of fit bins              : 360630 \n",
      "\n",
      "  Fit statistic type              : cash\n",
      "  Fit statistic value (-2 log(L)) : 17007.73\n",
      "\n",
      "  Number of models                : 1 \n",
      "  Number of parameters            : 3\n",
      "  Number of free parameters       : 1\n",
      "\n",
      "  Component 0: FoVBackgroundModel\n",
      "  \n",
      "    Name                      : 69188-bkg\n",
      "    Datasets names            : ['69188']\n",
      "    Spectral model type       : PowerLawNormSpectralModel\n",
      "    Parameters:\n",
      "      norm                    :   1.051              \n",
      "      tilt         (frozen)   :   0.000              \n",
      "      reference    (frozen)   :   1.000  TeV         \n",
      "  \n",
      "  \n"
     ]
    },
    {
     "name": "stderr",
     "output_type": "stream",
     "text": [
      "/Users/cedrickperron/opt/anaconda3/envs/gammapy-0.18.2/lib/python3.7/site-packages/astropy/units/quantity.py:477: RuntimeWarning: divide by zero encountered in true_divide\n",
      "  result = super().__array_ufunc__(function, method, *arrays, **kwargs)\n",
      "/Users/cedrickperron/opt/anaconda3/envs/gammapy-0.18.2/lib/python3.7/site-packages/astropy/units/quantity.py:477: RuntimeWarning: invalid value encountered in true_divide\n",
      "  result = super().__array_ufunc__(function, method, *arrays, **kwargs)\n"
     ]
    },
    {
     "name": "stdout",
     "output_type": "stream",
     "text": [
      "4 MapDataset\n",
      "----------\n",
      "\n",
      "  Name                            : 69202 \n",
      "\n",
      "  Total counts                    : 2218 \n",
      "  Total background counts         : 1373.38\n",
      "  Total excess counts             : 844.62\n",
      "\n",
      "  Predicted counts                : 2072.90\n",
      "  Predicted background counts     : 2072.90\n",
      "  Predicted excess counts         : 0.00\n",
      "\n",
      "  Exposure min                    : 5.46e+04 m2 s\n",
      "  Exposure max                    : 5.46e+08 m2 s\n",
      "\n",
      "  Number of total bins            : 1837500 \n",
      "  Number of fit bins              : 360690 \n",
      "\n",
      "  Fit statistic type              : cash\n",
      "  Fit statistic value (-2 log(L)) : 23480.34\n",
      "\n",
      "  Number of models                : 1 \n",
      "  Number of parameters            : 3\n",
      "  Number of free parameters       : 1\n",
      "\n",
      "  Component 0: FoVBackgroundModel\n",
      "  \n",
      "    Name                      : 69202-bkg\n",
      "    Datasets names            : ['69202']\n",
      "    Spectral model type       : PowerLawNormSpectralModel\n",
      "    Parameters:\n",
      "      norm                    :   1.509              \n",
      "      tilt         (frozen)   :   0.000              \n",
      "      reference    (frozen)   :   1.000  TeV         \n",
      "  \n",
      "  \n"
     ]
    },
    {
     "name": "stderr",
     "output_type": "stream",
     "text": [
      "/Users/cedrickperron/opt/anaconda3/envs/gammapy-0.18.2/lib/python3.7/site-packages/astropy/units/quantity.py:477: RuntimeWarning: divide by zero encountered in true_divide\n",
      "  result = super().__array_ufunc__(function, method, *arrays, **kwargs)\n",
      "/Users/cedrickperron/opt/anaconda3/envs/gammapy-0.18.2/lib/python3.7/site-packages/astropy/units/quantity.py:477: RuntimeWarning: invalid value encountered in true_divide\n",
      "  result = super().__array_ufunc__(function, method, *arrays, **kwargs)\n"
     ]
    },
    {
     "name": "stdout",
     "output_type": "stream",
     "text": [
      "5 MapDataset\n",
      "----------\n",
      "\n",
      "  Name                            : 69203 \n",
      "\n",
      "  Total counts                    : 1993 \n",
      "  Total background counts         : 1373.31\n",
      "  Total excess counts             : 619.69\n",
      "\n",
      "  Predicted counts                : 1954.18\n",
      "  Predicted background counts     : 1954.18\n",
      "  Predicted excess counts         : 0.00\n",
      "\n",
      "  Exposure min                    : 2.38e+04 m2 s\n",
      "  Exposure max                    : 5.85e+08 m2 s\n",
      "\n",
      "  Number of total bins            : 1837500 \n",
      "  Number of fit bins              : 360645 \n",
      "\n",
      "  Fit statistic type              : cash\n",
      "  Fit statistic value (-2 log(L)) : 21659.12\n",
      "\n",
      "  Number of models                : 1 \n",
      "  Number of parameters            : 3\n",
      "  Number of free parameters       : 1\n",
      "\n",
      "  Component 0: FoVBackgroundModel\n",
      "  \n",
      "    Name                      : 69203-bkg\n",
      "    Datasets names            : ['69203']\n",
      "    Spectral model type       : PowerLawNormSpectralModel\n",
      "    Parameters:\n",
      "      norm                    :   1.423              \n",
      "      tilt         (frozen)   :   0.000              \n",
      "      reference    (frozen)   :   1.000  TeV         \n",
      "  \n",
      "  \n"
     ]
    },
    {
     "name": "stderr",
     "output_type": "stream",
     "text": [
      "/Users/cedrickperron/opt/anaconda3/envs/gammapy-0.18.2/lib/python3.7/site-packages/astropy/units/quantity.py:477: RuntimeWarning: divide by zero encountered in true_divide\n",
      "  result = super().__array_ufunc__(function, method, *arrays, **kwargs)\n",
      "/Users/cedrickperron/opt/anaconda3/envs/gammapy-0.18.2/lib/python3.7/site-packages/astropy/units/quantity.py:477: RuntimeWarning: invalid value encountered in true_divide\n",
      "  result = super().__array_ufunc__(function, method, *arrays, **kwargs)\n"
     ]
    },
    {
     "name": "stdout",
     "output_type": "stream",
     "text": [
      "6 MapDataset\n",
      "----------\n",
      "\n",
      "  Name                            : 73193 \n",
      "\n",
      "  Total counts                    : 1581 \n",
      "  Total background counts         : 1006.81\n",
      "  Total excess counts             : 574.19\n",
      "\n",
      "  Predicted counts                : 1548.30\n",
      "  Predicted background counts     : 1548.30\n",
      "  Predicted excess counts         : 0.00\n",
      "\n",
      "  Exposure min                    : 1.45e+05 m2 s\n",
      "  Exposure max                    : 3.77e+08 m2 s\n",
      "\n",
      "  Number of total bins            : 1837500 \n",
      "  Number of fit bins              : 360645 \n",
      "\n",
      "  Fit statistic type              : cash\n",
      "  Fit statistic value (-2 log(L)) : 17830.69\n",
      "\n",
      "  Number of models                : 1 \n",
      "  Number of parameters            : 3\n",
      "  Number of free parameters       : 1\n",
      "\n",
      "  Component 0: FoVBackgroundModel\n",
      "  \n",
      "    Name                      : 73193-bkg\n",
      "    Datasets names            : ['73193']\n",
      "    Spectral model type       : PowerLawNormSpectralModel\n",
      "    Parameters:\n",
      "      norm                    :   1.538              \n",
      "      tilt         (frozen)   :   0.000              \n",
      "      reference    (frozen)   :   1.000  TeV         \n",
      "  \n",
      "  \n"
     ]
    },
    {
     "name": "stderr",
     "output_type": "stream",
     "text": [
      "/Users/cedrickperron/opt/anaconda3/envs/gammapy-0.18.2/lib/python3.7/site-packages/astropy/units/quantity.py:477: RuntimeWarning: divide by zero encountered in true_divide\n",
      "  result = super().__array_ufunc__(function, method, *arrays, **kwargs)\n",
      "/Users/cedrickperron/opt/anaconda3/envs/gammapy-0.18.2/lib/python3.7/site-packages/astropy/units/quantity.py:477: RuntimeWarning: invalid value encountered in true_divide\n",
      "  result = super().__array_ufunc__(function, method, *arrays, **kwargs)\n"
     ]
    },
    {
     "name": "stdout",
     "output_type": "stream",
     "text": [
      "7 MapDataset\n",
      "----------\n",
      "\n",
      "  Name                            : 73213 \n",
      "\n",
      "  Total counts                    : 2397 \n",
      "  Total background counts         : 1600.29\n",
      "  Total excess counts             : 796.71\n",
      "\n",
      "  Predicted counts                : 2313.39\n",
      "  Predicted background counts     : 2313.39\n",
      "  Predicted excess counts         : 0.00\n",
      "\n",
      "  Exposure min                    : 1.11e+05 m2 s\n",
      "  Exposure max                    : 6.05e+08 m2 s\n",
      "\n",
      "  Number of total bins            : 1837500 \n",
      "  Number of fit bins              : 360690 \n",
      "\n",
      "  Fit statistic type              : cash\n",
      "  Fit statistic value (-2 log(L)) : 25156.95\n",
      "\n",
      "  Number of models                : 1 \n",
      "  Number of parameters            : 3\n",
      "  Number of free parameters       : 1\n",
      "\n",
      "  Component 0: FoVBackgroundModel\n",
      "  \n",
      "    Name                      : 73213-bkg\n",
      "    Datasets names            : ['73213']\n",
      "    Spectral model type       : PowerLawNormSpectralModel\n",
      "    Parameters:\n",
      "      norm                    :   1.446              \n",
      "      tilt         (frozen)   :   0.000              \n",
      "      reference    (frozen)   :   1.000  TeV         \n",
      "  \n",
      "  \n"
     ]
    },
    {
     "name": "stderr",
     "output_type": "stream",
     "text": [
      "/Users/cedrickperron/opt/anaconda3/envs/gammapy-0.18.2/lib/python3.7/site-packages/astropy/units/quantity.py:477: RuntimeWarning: divide by zero encountered in true_divide\n",
      "  result = super().__array_ufunc__(function, method, *arrays, **kwargs)\n",
      "/Users/cedrickperron/opt/anaconda3/envs/gammapy-0.18.2/lib/python3.7/site-packages/astropy/units/quantity.py:477: RuntimeWarning: invalid value encountered in true_divide\n",
      "  result = super().__array_ufunc__(function, method, *arrays, **kwargs)\n"
     ]
    },
    {
     "name": "stdout",
     "output_type": "stream",
     "text": [
      "8 MapDataset\n",
      "----------\n",
      "\n",
      "  Name                            : 73234 \n",
      "\n",
      "  Total counts                    : 1069 \n",
      "  Total background counts         : 777.13\n",
      "  Total excess counts             : 291.87\n",
      "\n",
      "  Predicted counts                : 1022.82\n",
      "  Predicted background counts     : 1022.82\n",
      "  Predicted excess counts         : 0.00\n",
      "\n",
      "  Exposure min                    : 1.03e+05 m2 s\n",
      "  Exposure max                    : 2.97e+08 m2 s\n",
      "\n",
      "  Number of total bins            : 1837500 \n",
      "  Number of fit bins              : 360645 \n",
      "\n",
      "  Fit statistic type              : cash\n",
      "  Fit statistic value (-2 log(L)) : 12934.62\n",
      "\n",
      "  Number of models                : 1 \n",
      "  Number of parameters            : 3\n",
      "  Number of free parameters       : 1\n",
      "\n",
      "  Component 0: FoVBackgroundModel\n",
      "  \n",
      "    Name                      : 73234-bkg\n",
      "    Datasets names            : ['73234']\n",
      "    Spectral model type       : PowerLawNormSpectralModel\n",
      "    Parameters:\n",
      "      norm                    :   1.316              \n",
      "      tilt         (frozen)   :   0.000              \n",
      "      reference    (frozen)   :   1.000  TeV         \n",
      "  \n",
      "  \n"
     ]
    },
    {
     "name": "stderr",
     "output_type": "stream",
     "text": [
      "/Users/cedrickperron/opt/anaconda3/envs/gammapy-0.18.2/lib/python3.7/site-packages/astropy/units/quantity.py:477: RuntimeWarning: divide by zero encountered in true_divide\n",
      "  result = super().__array_ufunc__(function, method, *arrays, **kwargs)\n",
      "/Users/cedrickperron/opt/anaconda3/envs/gammapy-0.18.2/lib/python3.7/site-packages/astropy/units/quantity.py:477: RuntimeWarning: invalid value encountered in true_divide\n",
      "  result = super().__array_ufunc__(function, method, *arrays, **kwargs)\n"
     ]
    },
    {
     "name": "stdout",
     "output_type": "stream",
     "text": [
      "9 MapDataset\n",
      "----------\n",
      "\n",
      "  Name                            : 73300 \n",
      "\n",
      "  Total counts                    : 1735 \n",
      "  Total background counts         : 1371.33\n",
      "  Total excess counts             : 363.67\n",
      "\n",
      "  Predicted counts                : 1665.67\n",
      "  Predicted background counts     : 1665.67\n",
      "  Predicted excess counts         : 0.00\n",
      "\n",
      "  Exposure min                    : 1.29e+05 m2 s\n",
      "  Exposure max                    : 5.34e+08 m2 s\n",
      "\n",
      "  Number of total bins            : 1837500 \n",
      "  Number of fit bins              : 360585 \n",
      "\n",
      "  Fit statistic type              : cash\n",
      "  Fit statistic value (-2 log(L)) : 19245.25\n",
      "\n",
      "  Number of models                : 1 \n",
      "  Number of parameters            : 3\n",
      "  Number of free parameters       : 1\n",
      "\n",
      "  Component 0: FoVBackgroundModel\n",
      "  \n",
      "    Name                      : 73300-bkg\n",
      "    Datasets names            : ['73300']\n",
      "    Spectral model type       : PowerLawNormSpectralModel\n",
      "    Parameters:\n",
      "      norm                    :   1.215              \n",
      "      tilt         (frozen)   :   0.000              \n",
      "      reference    (frozen)   :   1.000  TeV         \n",
      "  \n",
      "  \n"
     ]
    },
    {
     "name": "stderr",
     "output_type": "stream",
     "text": [
      "/Users/cedrickperron/opt/anaconda3/envs/gammapy-0.18.2/lib/python3.7/site-packages/astropy/units/quantity.py:477: RuntimeWarning: divide by zero encountered in true_divide\n",
      "  result = super().__array_ufunc__(function, method, *arrays, **kwargs)\n",
      "/Users/cedrickperron/opt/anaconda3/envs/gammapy-0.18.2/lib/python3.7/site-packages/astropy/units/quantity.py:477: RuntimeWarning: invalid value encountered in true_divide\n",
      "  result = super().__array_ufunc__(function, method, *arrays, **kwargs)\n"
     ]
    },
    {
     "name": "stdout",
     "output_type": "stream",
     "text": [
      "10 MapDataset\n",
      "----------\n",
      "\n",
      "  Name                            : 73317 \n",
      "\n",
      "  Total counts                    : 1749 \n",
      "  Total background counts         : 1379.79\n",
      "  Total excess counts             : 369.21\n",
      "\n",
      "  Predicted counts                : 1673.46\n",
      "  Predicted background counts     : 1673.46\n",
      "  Predicted excess counts         : 0.00\n",
      "\n",
      "  Exposure min                    : 1.29e+05 m2 s\n",
      "  Exposure max                    : 5.36e+08 m2 s\n",
      "\n",
      "  Number of total bins            : 1837500 \n",
      "  Number of fit bins              : 360645 \n",
      "\n",
      "  Fit statistic type              : cash\n",
      "  Fit statistic value (-2 log(L)) : 19461.56\n",
      "\n",
      "  Number of models                : 1 \n",
      "  Number of parameters            : 3\n",
      "  Number of free parameters       : 1\n",
      "\n",
      "  Component 0: FoVBackgroundModel\n",
      "  \n",
      "    Name                      : 73317-bkg\n",
      "    Datasets names            : ['73317']\n",
      "    Spectral model type       : PowerLawNormSpectralModel\n",
      "    Parameters:\n",
      "      norm                    :   1.213              \n",
      "      tilt         (frozen)   :   0.000              \n",
      "      reference    (frozen)   :   1.000  TeV         \n",
      "  \n",
      "  \n"
     ]
    },
    {
     "name": "stderr",
     "output_type": "stream",
     "text": [
      "/Users/cedrickperron/opt/anaconda3/envs/gammapy-0.18.2/lib/python3.7/site-packages/astropy/units/quantity.py:477: RuntimeWarning: divide by zero encountered in true_divide\n",
      "  result = super().__array_ufunc__(function, method, *arrays, **kwargs)\n",
      "/Users/cedrickperron/opt/anaconda3/envs/gammapy-0.18.2/lib/python3.7/site-packages/astropy/units/quantity.py:477: RuntimeWarning: invalid value encountered in true_divide\n",
      "  result = super().__array_ufunc__(function, method, *arrays, **kwargs)\n"
     ]
    },
    {
     "name": "stdout",
     "output_type": "stream",
     "text": [
      "11 MapDataset\n",
      "----------\n",
      "\n",
      "  Name                            : 73335 \n",
      "\n",
      "  Total counts                    : 1856 \n",
      "  Total background counts         : 1325.36\n",
      "  Total excess counts             : 530.64\n",
      "\n",
      "  Predicted counts                : 1754.99\n",
      "  Predicted background counts     : 1754.99\n",
      "  Predicted excess counts         : 0.00\n",
      "\n",
      "  Exposure min                    : 1.45e+05 m2 s\n",
      "  Exposure max                    : 5.02e+08 m2 s\n",
      "\n",
      "  Number of total bins            : 1837500 \n",
      "  Number of fit bins              : 360690 \n",
      "\n",
      "  Fit statistic type              : cash\n",
      "  Fit statistic value (-2 log(L)) : 20388.95\n",
      "\n",
      "  Number of models                : 1 \n",
      "  Number of parameters            : 3\n",
      "  Number of free parameters       : 1\n",
      "\n",
      "  Component 0: FoVBackgroundModel\n",
      "  \n",
      "    Name                      : 73335-bkg\n",
      "    Datasets names            : ['73335']\n",
      "    Spectral model type       : PowerLawNormSpectralModel\n",
      "    Parameters:\n",
      "      norm                    :   1.324              \n",
      "      tilt         (frozen)   :   0.000              \n",
      "      reference    (frozen)   :   1.000  TeV         \n",
      "  \n",
      "  \n"
     ]
    },
    {
     "name": "stderr",
     "output_type": "stream",
     "text": [
      "/Users/cedrickperron/opt/anaconda3/envs/gammapy-0.18.2/lib/python3.7/site-packages/astropy/units/quantity.py:477: RuntimeWarning: divide by zero encountered in true_divide\n",
      "  result = super().__array_ufunc__(function, method, *arrays, **kwargs)\n",
      "/Users/cedrickperron/opt/anaconda3/envs/gammapy-0.18.2/lib/python3.7/site-packages/astropy/units/quantity.py:477: RuntimeWarning: invalid value encountered in true_divide\n",
      "  result = super().__array_ufunc__(function, method, *arrays, **kwargs)\n"
     ]
    },
    {
     "name": "stdout",
     "output_type": "stream",
     "text": [
      "12 MapDataset\n",
      "----------\n",
      "\n",
      "  Name                            : 73356 \n",
      "\n",
      "  Total counts                    : 317 \n",
      "  Total background counts         : 230.41\n",
      "  Total excess counts             : 86.59\n",
      "\n",
      "  Predicted counts                : 313.43\n",
      "  Predicted background counts     : 313.43\n",
      "  Predicted excess counts         : 0.00\n",
      "\n",
      "  Exposure min                    : 1.42e+04 m2 s\n",
      "  Exposure max                    : 8.98e+07 m2 s\n",
      "\n",
      "  Number of total bins            : 1837500 \n",
      "  Number of fit bins              : 360645 \n",
      "\n",
      "  Fit statistic type              : cash\n",
      "  Fit statistic value (-2 log(L)) : 4601.79\n",
      "\n",
      "  Number of models                : 1 \n",
      "  Number of parameters            : 3\n",
      "  Number of free parameters       : 1\n",
      "\n",
      "  Component 0: FoVBackgroundModel\n",
      "  \n",
      "    Name                      : 73356-bkg\n",
      "    Datasets names            : ['73356']\n",
      "    Spectral model type       : PowerLawNormSpectralModel\n",
      "    Parameters:\n",
      "      norm                    :   1.360              \n",
      "      tilt         (frozen)   :   0.000              \n",
      "      reference    (frozen)   :   1.000  TeV         \n",
      "  \n",
      "  \n"
     ]
    },
    {
     "name": "stderr",
     "output_type": "stream",
     "text": [
      "/Users/cedrickperron/opt/anaconda3/envs/gammapy-0.18.2/lib/python3.7/site-packages/astropy/units/quantity.py:477: RuntimeWarning: divide by zero encountered in true_divide\n",
      "  result = super().__array_ufunc__(function, method, *arrays, **kwargs)\n",
      "/Users/cedrickperron/opt/anaconda3/envs/gammapy-0.18.2/lib/python3.7/site-packages/astropy/units/quantity.py:477: RuntimeWarning: invalid value encountered in true_divide\n",
      "  result = super().__array_ufunc__(function, method, *arrays, **kwargs)\n"
     ]
    },
    {
     "name": "stdout",
     "output_type": "stream",
     "text": [
      "13 MapDataset\n",
      "----------\n",
      "\n",
      "  Name                            : 73357 \n",
      "\n",
      "  Total counts                    : 1557 \n",
      "  Total background counts         : 1245.43\n",
      "  Total excess counts             : 311.57\n",
      "\n",
      "  Predicted counts                : 1502.44\n",
      "  Predicted background counts     : 1502.44\n",
      "  Predicted excess counts         : 0.00\n",
      "\n",
      "  Exposure min                    : 1.20e+05 m2 s\n",
      "  Exposure max                    : 4.74e+08 m2 s\n",
      "\n",
      "  Number of total bins            : 1837500 \n",
      "  Number of fit bins              : 360645 \n",
      "\n",
      "  Fit statistic type              : cash\n",
      "  Fit statistic value (-2 log(L)) : 17656.70\n",
      "\n",
      "  Number of models                : 1 \n",
      "  Number of parameters            : 3\n",
      "  Number of free parameters       : 1\n",
      "\n",
      "  Component 0: FoVBackgroundModel\n",
      "  \n",
      "    Name                      : 73357-bkg\n",
      "    Datasets names            : ['73357']\n",
      "    Spectral model type       : PowerLawNormSpectralModel\n",
      "    Parameters:\n",
      "      norm                    :   1.206              \n",
      "      tilt         (frozen)   :   0.000              \n",
      "      reference    (frozen)   :   1.000  TeV         \n",
      "  \n",
      "  \n"
     ]
    },
    {
     "name": "stderr",
     "output_type": "stream",
     "text": [
      "/Users/cedrickperron/opt/anaconda3/envs/gammapy-0.18.2/lib/python3.7/site-packages/astropy/units/quantity.py:477: RuntimeWarning: divide by zero encountered in true_divide\n",
      "  result = super().__array_ufunc__(function, method, *arrays, **kwargs)\n",
      "/Users/cedrickperron/opt/anaconda3/envs/gammapy-0.18.2/lib/python3.7/site-packages/astropy/units/quantity.py:477: RuntimeWarning: invalid value encountered in true_divide\n",
      "  result = super().__array_ufunc__(function, method, *arrays, **kwargs)\n"
     ]
    },
    {
     "name": "stdout",
     "output_type": "stream",
     "text": [
      "14 MapDataset\n",
      "----------\n",
      "\n",
      "  Name                            : 73370 \n",
      "\n",
      "  Total counts                    : 1559 \n",
      "  Total background counts         : 1371.36\n",
      "  Total excess counts             : 187.64\n",
      "\n",
      "  Predicted counts                : 1462.93\n",
      "  Predicted background counts     : 1462.93\n",
      "  Predicted excess counts         : 0.00\n",
      "\n",
      "  Exposure min                    : 1.54e+05 m2 s\n",
      "  Exposure max                    : 5.24e+08 m2 s\n",
      "\n",
      "  Number of total bins            : 1837500 \n",
      "  Number of fit bins              : 360585 \n",
      "\n",
      "  Fit statistic type              : cash\n",
      "  Fit statistic value (-2 log(L)) : 17626.87\n",
      "\n",
      "  Number of models                : 1 \n",
      "  Number of parameters            : 3\n",
      "  Number of free parameters       : 1\n",
      "\n",
      "  Component 0: FoVBackgroundModel\n",
      "  \n",
      "    Name                      : 73370-bkg\n",
      "    Datasets names            : ['73370']\n",
      "    Spectral model type       : PowerLawNormSpectralModel\n",
      "    Parameters:\n",
      "      norm                    :   1.067              \n",
      "      tilt         (frozen)   :   0.000              \n",
      "      reference    (frozen)   :   1.000  TeV         \n",
      "  \n",
      "  \n"
     ]
    },
    {
     "name": "stderr",
     "output_type": "stream",
     "text": [
      "/Users/cedrickperron/opt/anaconda3/envs/gammapy-0.18.2/lib/python3.7/site-packages/astropy/units/quantity.py:477: RuntimeWarning: divide by zero encountered in true_divide\n",
      "  result = super().__array_ufunc__(function, method, *arrays, **kwargs)\n",
      "/Users/cedrickperron/opt/anaconda3/envs/gammapy-0.18.2/lib/python3.7/site-packages/astropy/units/quantity.py:477: RuntimeWarning: invalid value encountered in true_divide\n",
      "  result = super().__array_ufunc__(function, method, *arrays, **kwargs)\n"
     ]
    },
    {
     "name": "stdout",
     "output_type": "stream",
     "text": [
      "15 MapDataset\n",
      "----------\n",
      "\n",
      "  Name                            : 73390 \n",
      "\n",
      "  Total counts                    : 1669 \n",
      "  Total background counts         : 1371.48\n",
      "  Total excess counts             : 297.52\n",
      "\n",
      "  Predicted counts                : 1603.92\n",
      "  Predicted background counts     : 1603.92\n",
      "  Predicted excess counts         : 0.00\n",
      "\n",
      "  Exposure min                    : 9.69e+04 m2 s\n",
      "  Exposure max                    : 5.31e+08 m2 s\n",
      "\n",
      "  Number of total bins            : 1837500 \n",
      "  Number of fit bins              : 360645 \n",
      "\n",
      "  Fit statistic type              : cash\n",
      "  Fit statistic value (-2 log(L)) : 18792.03\n",
      "\n",
      "  Number of models                : 1 \n",
      "  Number of parameters            : 3\n",
      "  Number of free parameters       : 1\n",
      "\n",
      "  Component 0: FoVBackgroundModel\n",
      "  \n",
      "    Name                      : 73390-bkg\n",
      "    Datasets names            : ['73390']\n",
      "    Spectral model type       : PowerLawNormSpectralModel\n",
      "    Parameters:\n",
      "      norm                    :   1.169              \n",
      "      tilt         (frozen)   :   0.000              \n",
      "      reference    (frozen)   :   1.000  TeV         \n",
      "  \n",
      "  \n"
     ]
    },
    {
     "name": "stderr",
     "output_type": "stream",
     "text": [
      "/Users/cedrickperron/opt/anaconda3/envs/gammapy-0.18.2/lib/python3.7/site-packages/astropy/units/quantity.py:477: RuntimeWarning: divide by zero encountered in true_divide\n",
      "  result = super().__array_ufunc__(function, method, *arrays, **kwargs)\n",
      "/Users/cedrickperron/opt/anaconda3/envs/gammapy-0.18.2/lib/python3.7/site-packages/astropy/units/quantity.py:477: RuntimeWarning: invalid value encountered in true_divide\n",
      "  result = super().__array_ufunc__(function, method, *arrays, **kwargs)\n"
     ]
    },
    {
     "name": "stdout",
     "output_type": "stream",
     "text": [
      "16 MapDataset\n",
      "----------\n",
      "\n",
      "  Name                            : 73403 \n",
      "\n",
      "  Total counts                    : 2114 \n",
      "  Total background counts         : 1526.83\n",
      "  Total excess counts             : 587.17\n",
      "\n",
      "  Predicted counts                : 1970.84\n",
      "  Predicted background counts     : 1970.84\n",
      "  Predicted excess counts         : 0.00\n",
      "\n",
      "  Exposure min                    : 2.22e+05 m2 s\n",
      "  Exposure max                    : 5.80e+08 m2 s\n",
      "\n",
      "  Number of total bins            : 1837500 \n",
      "  Number of fit bins              : 360690 \n",
      "\n",
      "  Fit statistic type              : cash\n",
      "  Fit statistic value (-2 log(L)) : 22487.85\n",
      "\n",
      "  Number of models                : 1 \n",
      "  Number of parameters            : 3\n",
      "  Number of free parameters       : 1\n",
      "\n",
      "  Component 0: FoVBackgroundModel\n",
      "  \n",
      "    Name                      : 73403-bkg\n",
      "    Datasets names            : ['73403']\n",
      "    Spectral model type       : PowerLawNormSpectralModel\n",
      "    Parameters:\n",
      "      norm                    :   1.291              \n",
      "      tilt         (frozen)   :   0.000              \n",
      "      reference    (frozen)   :   1.000  TeV         \n",
      "  \n",
      "  \n"
     ]
    },
    {
     "name": "stderr",
     "output_type": "stream",
     "text": [
      "/Users/cedrickperron/opt/anaconda3/envs/gammapy-0.18.2/lib/python3.7/site-packages/astropy/units/quantity.py:477: RuntimeWarning: divide by zero encountered in true_divide\n",
      "  result = super().__array_ufunc__(function, method, *arrays, **kwargs)\n",
      "/Users/cedrickperron/opt/anaconda3/envs/gammapy-0.18.2/lib/python3.7/site-packages/astropy/units/quantity.py:477: RuntimeWarning: invalid value encountered in true_divide\n",
      "  result = super().__array_ufunc__(function, method, *arrays, **kwargs)\n"
     ]
    },
    {
     "name": "stdout",
     "output_type": "stream",
     "text": [
      "17 MapDataset\n",
      "----------\n",
      "\n",
      "  Name                            : 73607 \n",
      "\n",
      "  Total counts                    : 991 \n",
      "  Total background counts         : 1277.49\n",
      "  Total excess counts             : -286.49\n",
      "\n",
      "  Predicted counts                : 986.01\n",
      "  Predicted background counts     : 986.01\n",
      "  Predicted excess counts         : 0.00\n",
      "\n",
      "  Exposure min                    : 3.98e+03 m2 s\n",
      "  Exposure max                    : 5.67e+08 m2 s\n",
      "\n",
      "  Number of total bins            : 1837500 \n",
      "  Number of fit bins              : 360645 \n",
      "\n",
      "  Fit statistic type              : cash\n",
      "  Fit statistic value (-2 log(L)) : 12400.61\n",
      "\n",
      "  Number of models                : 1 \n",
      "  Number of parameters            : 3\n",
      "  Number of free parameters       : 1\n",
      "\n",
      "  Component 0: FoVBackgroundModel\n",
      "  \n",
      "    Name                      : 73607-bkg\n",
      "    Datasets names            : ['73607']\n",
      "    Spectral model type       : PowerLawNormSpectralModel\n",
      "    Parameters:\n",
      "      norm                    :   0.772              \n",
      "      tilt         (frozen)   :   0.000              \n",
      "      reference    (frozen)   :   1.000  TeV         \n",
      "  \n",
      "  \n",
      "CPU times: user 1min 7s, sys: 19.2 s, total: 1min 26s\n",
      "Wall time: 1min 32s\n"
     ]
    }
   ],
   "source": [
    "%%time\n",
    "count = 0\n",
    "list_of_datasets = Datasets()\n",
    "stacked = MapDataset.create(geom=geom, energy_axis_true=energy_axis_true,binsz_irf=0.25, name=f\"stacked\")\n",
    "\n",
    "for ind, obs in enumerate(observations):\n",
    "    dataset = dataset_maker.run(dataset_empty.copy(name = f\"{obs.obs_id}\"), obs)\n",
    "    dataset = safe_mask_maker.run(dataset, obs)\n",
    "    dataset = bkg_maker.run(dataset, obs)\n",
    "    #print(dataset)\n",
    "    stacked.stack(dataset)\n",
    "    print(count, dataset)\n",
    "    list_of_datasets.append(dataset)\n",
    "    count += 1\n",
    "    \n"
   ]
  },
  {
   "cell_type": "code",
   "execution_count": null,
   "id": "fbcf985e",
   "metadata": {},
   "outputs": [],
   "source": []
  },
  {
   "cell_type": "code",
   "execution_count": 225,
   "id": "884a710d",
   "metadata": {},
   "outputs": [
    {
     "name": "stdout",
     "output_type": "stream",
     "text": [
      "MapDataset\n",
      "----------\n",
      "\n",
      "  Name                            : stacked \n",
      "\n",
      "  Total counts                    : 29738 \n",
      "  Total background counts         : 28482.01\n",
      "  Total excess counts             : 1255.99\n",
      "\n",
      "  Predicted counts                : 28482.01\n",
      "  Predicted background counts     : 28482.01\n",
      "  Predicted excess counts         : nan\n",
      "\n",
      "  Exposure min                    : 4.11e+05 m2 s\n",
      "  Exposure max                    : 8.09e+09 m2 s\n",
      "\n",
      "  Number of total bins            : 1837500 \n",
      "  Number of fit bins              : 563700 \n",
      "\n",
      "  Fit statistic type              : cash\n",
      "  Fit statistic value (-2 log(L)) : nan\n",
      "\n",
      "  Number of models                : 0 \n",
      "  Number of parameters            : 0\n",
      "  Number of free parameters       : 0\n",
      "\n",
      "\n"
     ]
    }
   ],
   "source": [
    "print(stacked)"
   ]
  },
  {
   "cell_type": "code",
   "execution_count": 226,
   "id": "fe1b3218",
   "metadata": {},
   "outputs": [
    {
     "data": {
      "text/html": [
       "<i>Table length=18</i>\n",
       "<table id=\"table140700201576544\" class=\"table-striped table-bordered table-condensed\">\n",
       "<thead><tr><th>name</th><th>counts</th><th>background</th><th>excess</th><th>sqrt_ts</th><th>npred</th><th>npred_background</th><th>npred_signal</th><th>exposure_min</th><th>exposure_max</th><th>livetime</th><th>ontime</th><th>counts_rate</th><th>background_rate</th><th>excess_rate</th><th>n_bins</th><th>n_fit_bins</th><th>stat_type</th><th>stat_sum</th><th>Zenith</th><th>Azimuth</th></tr></thead>\n",
       "<thead><tr><th></th><th></th><th></th><th></th><th></th><th></th><th></th><th></th><th>m2 s</th><th>m2 s</th><th>s</th><th>s</th><th></th><th></th><th></th><th></th><th></th><th></th><th></th><th></th><th></th></tr></thead>\n",
       "<thead><tr><th>str5</th><th>float32</th><th>float64</th><th>float64</th><th>float64</th><th>float64</th><th>float64</th><th>float64</th><th>float64</th><th>float64</th><th>float64</th><th>float64</th><th>float64</th><th>float64</th><th>float64</th><th>int64</th><th>int64</th><th>str4</th><th>float64</th><th>float32</th><th>float32</th></tr></thead>\n",
       "<tr><td>69054</td><td>2105.0</td><td>1561.1047297387588</td><td>543.8952702612412</td><td>13.0641064990072</td><td>1972.0146880477098</td><td>1972.0146880477098</td><td>0.0</td><td>603.9751767296001</td><td>707450906.9941349</td><td>nan</td><td>2049.0778321921825</td><td>1.027291382947611</td><td>0.7618572146030338</td><td>0.2654341683445772</td><td>1837500</td><td>360690</td><td>cash</td><td>23010.118675633646</td><td>53.779232</td><td>215.54797</td></tr>\n",
       "<tr><td>69123</td><td>1879.0</td><td>1373.2873250380842</td><td>505.7126749619158</td><td>12.916232679429033</td><td>1830.3664942751898</td><td>1830.3664942751898</td><td>0.0</td><td>24523.28192666139</td><td>583707280.4767636</td><td>nan</td><td>1802.6912210285664</td><td>1.0423304768344597</td><td>0.7617984206161075</td><td>0.28053205621835225</td><td>1837500</td><td>360645</td><td>cash</td><td>20545.727547573057</td><td>48.47988</td><td>195.95264</td></tr>\n",
       "<tr><td>69187</td><td>1461.0</td><td>1373.233602301639</td><td>87.76639769836106</td><td>2.3440461243821407</td><td>1391.509547002414</td><td>1391.509547002414</td><td>0.0</td><td>48790.740049541506</td><td>571397547.6834904</td><td>nan</td><td>1802.7083540558815</td><td>0.8104472344142202</td><td>0.7617613793224095</td><td>0.04868585509181061</td><td>1837500</td><td>360600</td><td>cash</td><td>16589.076573502683</td><td>46.666584</td><td>185.3455</td></tr>\n",
       "<tr><td>69188</td><td>1488.0</td><td>1373.2995670965274</td><td>114.70043290347257</td><td>3.053520466077767</td><td>1442.8398092418433</td><td>1442.8398092418433</td><td>0.0</td><td>24746.00334221144</td><td>594655742.7026478</td><td>nan</td><td>1802.7071885764599</td><td>0.8254252323556917</td><td>0.7617984638875147</td><td>0.06362676846817693</td><td>1837500</td><td>360630</td><td>cash</td><td>17007.733342944583</td><td>48.08042</td><td>196.68805</td></tr>\n",
       "<tr><td>69202</td><td>2218.0</td><td>1373.3843984823977</td><td>844.6156015176023</td><td>20.906166361571877</td><td>2072.903006413027</td><td>2072.903006413027</td><td>0.0</td><td>54563.028838455764</td><td>545668934.3532218</td><td>nan</td><td>1802.679520726204</td><td>1.2303906348847218</td><td>0.7618572146030338</td><td>0.46853342028168793</td><td>1837500</td><td>360690</td><td>cash</td><td>23480.336551354034</td><td>46.311962</td><td>187.28421</td></tr>\n",
       "<tr><td>69203</td><td>1993.0</td><td>1373.3094516212952</td><td>619.6905483787048</td><td>15.654909979783158</td><td>1954.1755624437137</td><td>1954.1755624437137</td><td>0.0</td><td>23805.118438538204</td><td>585426595.0144794</td><td>nan</td><td>1802.7202662229538</td><td>1.1055514476329258</td><td>0.7617984206161076</td><td>0.3437530270168182</td><td>1837500</td><td>360645</td><td>cash</td><td>21659.117619316374</td><td>48.71455</td><td>197.1719</td></tr>\n",
       "<tr><td>73193</td><td>1581.0</td><td>1006.8147942576544</td><td>574.1852057423456</td><td>16.689257853000118</td><td>1548.297127986417</td><td>1548.297127986417</td><td>0.0</td><td>145097.9049734053</td><td>377479610.536809</td><td>nan</td><td>1321.5967034101486</td><td>1.1962802237025159</td><td>0.7618169685651798</td><td>0.434463255137336</td><td>1837500</td><td>360645</td><td>cash</td><td>17830.688047178584</td><td>46.543064</td><td>177.73186</td></tr>\n",
       "<tr><td>73213</td><td>2397.0</td><td>1600.2852984517629</td><td>796.7147015482371</td><td>18.534316593189406</td><td>2313.3924657743923</td><td>2313.3924657743923</td><td>0.0</td><td>110829.68387973329</td><td>604653242.134876</td><td>nan</td><td>2100.5055349469185</td><td>1.1411538604017886</td><td>0.7618572157165029</td><td>0.3792966446852856</td><td>1837500</td><td>360690</td><td>cash</td><td>25156.95272325029</td><td>46.258514</td><td>173.92455</td></tr>\n",
       "<tr><td>73234</td><td>1069.0</td><td>777.134342811777</td><td>291.86565718822305</td><td>9.899653352978207</td><td>1022.8192141397774</td><td>1022.8192141397774</td><td>0.0</td><td>103124.98590533754</td><td>297019158.8067756</td><td>nan</td><td>1020.1312035918236</td><td>1.0479044227214227</td><td>0.7617984236493613</td><td>0.2861059990720613</td><td>1837500</td><td>360645</td><td>cash</td><td>12934.623215710248</td><td>47.025845</td><td>177.32242</td></tr>\n",
       "<tr><td>73300</td><td>1735.0</td><td>1371.3258403915981</td><td>363.67415960840185</td><td>9.428537473800016</td><td>1665.6673137648963</td><td>1665.6673137648963</td><td>0.0</td><td>128540.6091731177</td><td>533808327.4076328</td><td>nan</td><td>1800.2476823329926</td><td>0.9637562747763484</td><td>0.7617428722999147</td><td>0.20201340247643373</td><td>1837500</td><td>360585</td><td>cash</td><td>19245.24820575213</td><td>46.53155</td><td>179.5902</td></tr>\n",
       "<tr><td>73317</td><td>1749.0</td><td>1379.7936172464852</td><td>369.20638275351484</td><td>9.539370913813048</td><td>1673.4589370791234</td><td>1673.4589370791234</td><td>0.0</td><td>129109.01106226225</td><td>535588882.40066737</td><td>nan</td><td>1811.1878236532211</td><td>0.9656646191846705</td><td>0.7618169685258812</td><td>0.20384765065878938</td><td>1837500</td><td>360645</td><td>cash</td><td>19461.55968847842</td><td>46.533634</td><td>181.97435</td></tr>\n",
       "<tr><td>73335</td><td>1856.0</td><td>1325.3626600851126</td><td>530.6373399148874</td><td>13.736615295289079</td><td>1754.9873878288502</td><td>1754.9873878288502</td><td>0.0</td><td>144529.82995517246</td><td>501618971.076571</td><td>nan</td><td>1739.6470529437065</td><td>1.066883076575452</td><td>0.7618572157165032</td><td>0.30502586085894884</td><td>1837500</td><td>360690</td><td>cash</td><td>20388.950542181126</td><td>46.062363</td><td>182.34357</td></tr>\n",
       "<tr><td>73356</td><td>317.0</td><td>230.40868187432488</td><td>86.59131812567512</td><td>5.3938016079735736</td><td>313.42660760444676</td><td>313.42660760444676</td><td>0.0</td><td>14215.807973624347</td><td>89787294.64963605</td><td>nan</td><td>302.4536080956459</td><td>1.0480946218361993</td><td>0.7617984236493618</td><td>0.2862961981868375</td><td>1837500</td><td>360645</td><td>cash</td><td>4601.790976216267</td><td>47.094738</td><td>177.75417</td></tr>\n",
       "<tr><td>73357</td><td>1557.0</td><td>1245.4254796758191</td><td>311.57452032418087</td><td>8.494513695983768</td><td>1502.440001577187</td><td>1502.440001577187</td><td>0.0</td><td>120204.59513712945</td><td>474073160.5310609</td><td>nan</td><td>1634.8491162657738</td><td>0.9523814672001095</td><td>0.7617984236493621</td><td>0.1905830435507474</td><td>1837500</td><td>360645</td><td>cash</td><td>17656.700796217112</td><td>47.054405</td><td>183.08144</td></tr>\n",
       "<tr><td>73370</td><td>1559.0</td><td>1371.3581392901472</td><td>187.64186070985284</td><td>4.957627085167786</td><td>1462.930489959486</td><td>1462.930489959486</td><td>0.0</td><td>154134.23863187258</td><td>523791409.0270226</td><td>nan</td><td>1800.2900836467743</td><td>0.865971553229909</td><td>0.7617428722999144</td><td>0.10422868092999454</td><td>1837500</td><td>360585</td><td>cash</td><td>17626.868311159134</td><td>46.60699</td><td>183.2663</td></tr>\n",
       "<tr><td>73390</td><td>1669.0</td><td>1371.478746984289</td><td>297.52125301571095</td><td>7.766832218759641</td><td>1603.9246947182403</td><td>1603.9246947182403</td><td>0.0</td><td>96891.14782138969</td><td>530841814.9691484</td><td>nan</td><td>1800.2732988595963</td><td>0.9270814609410956</td><td>0.7618169684864337</td><td>0.16526449245466185</td><td>1837500</td><td>360645</td><td>cash</td><td>18792.0272533341</td><td>46.7279</td><td>186.04048</td></tr>\n",
       "<tr><td>73403</td><td>2114.0</td><td>1526.832400000231</td><td>587.167599999769</td><td>14.191548582267743</td><td>1970.8414515725071</td><td>1970.8414515725071</td><td>0.0</td><td>221995.78217500405</td><td>579739462.8477943</td><td>nan</td><td>2004.0925891399384</td><td>1.0548414835999311</td><td>0.761857215716503</td><td>0.29298426788342824</td><td>1837500</td><td>360690</td><td>cash</td><td>22487.848518652463</td><td>46.188164</td><td>185.86125</td></tr>\n",
       "<tr><td>73607</td><td>991.0</td><td>1277.486850404301</td><td>-286.4868504043011</td><td>-8.347053183813582</td><td>986.0111071969075</td><td>986.0111071969075</td><td>0.0</td><td>3976.4640751071142</td><td>566526102.8267642</td><td>nan</td><td>1676.93553930521</td><td>0.5909589109254565</td><td>0.7617984236493616</td><td>-0.1708395127239051</td><td>1837500</td><td>360645</td><td>cash</td><td>12400.61079738223</td><td>49.248287</td><td>199.37283</td></tr>\n",
       "</table>"
      ],
      "text/plain": [
       "<Table length=18>\n",
       " name  counts     background     ...      stat_sum        Zenith   Azimuth \n",
       "                                 ...                                       \n",
       " str5 float32      float64       ...      float64        float32   float32 \n",
       "----- ------- ------------------ ... ------------------ --------- ---------\n",
       "69054  2105.0 1561.1047297387588 ... 23010.118675633646 53.779232 215.54797\n",
       "69123  1879.0 1373.2873250380842 ... 20545.727547573057  48.47988 195.95264\n",
       "69187  1461.0  1373.233602301639 ... 16589.076573502683 46.666584  185.3455\n",
       "69188  1488.0 1373.2995670965274 ... 17007.733342944583  48.08042 196.68805\n",
       "69202  2218.0 1373.3843984823977 ... 23480.336551354034 46.311962 187.28421\n",
       "69203  1993.0 1373.3094516212952 ... 21659.117619316374  48.71455  197.1719\n",
       "73193  1581.0 1006.8147942576544 ... 17830.688047178584 46.543064 177.73186\n",
       "73213  2397.0 1600.2852984517629 ...  25156.95272325029 46.258514 173.92455\n",
       "73234  1069.0   777.134342811777 ... 12934.623215710248 47.025845 177.32242\n",
       "73300  1735.0 1371.3258403915981 ...  19245.24820575213  46.53155  179.5902\n",
       "73317  1749.0 1379.7936172464852 ...  19461.55968847842 46.533634 181.97435\n",
       "73335  1856.0 1325.3626600851126 ... 20388.950542181126 46.062363 182.34357\n",
       "73356   317.0 230.40868187432488 ...  4601.790976216267 47.094738 177.75417\n",
       "73357  1557.0 1245.4254796758191 ... 17656.700796217112 47.054405 183.08144\n",
       "73370  1559.0 1371.3581392901472 ... 17626.868311159134  46.60699  183.2663\n",
       "73390  1669.0  1371.478746984289 ...   18792.0272533341   46.7279 186.04048\n",
       "73403  2114.0  1526.832400000231 ... 22487.848518652463 46.188164 185.86125\n",
       "73607   991.0  1277.486850404301 ...  12400.61079738223 49.248287 199.37283"
      ]
     },
     "execution_count": 226,
     "metadata": {},
     "output_type": "execute_result"
    },
    {
     "data": {
      "image/png": "[encoded data removed]",
      "text/plain": [
       "<Figure size 720x720 with 4 Axes>"
      ]
     },
     "metadata": {
      "needs_background": "light"
     },
     "output_type": "display_data"
    }
   ],
   "source": [
    "# Full Observations\n",
    "\n",
    "\n",
    "a = list_of_datasets.info_table(cumulative=False)\n",
    "\n",
    "\n",
    "\n",
    "zen_col = list(obs_table[\"ZEN_PNT\"])\n",
    "az_col = list(obs_table[\"AZ_PNT\"])\n",
    "\n",
    "\n",
    "from astropy.table import Column\n",
    "\n",
    "zen_col = Column(data=zen_col, name=\"Zenith\")\n",
    "az_col = Column(data=az_col, name=\"Azimuth\")\n",
    "from astropy.table import hstack\n",
    "a = hstack([a, zen_col, az_col])\n",
    "a\n",
    "\n",
    "excess_rate = []\n",
    "count_rate = []\n",
    "bkg_rate = []\n",
    "for i in range(len(list(a[\"counts\"]))):\n",
    "    count = list(a[\"counts\"])[i]\n",
    "    bkg_count = list(a[\"background\"])[i]\n",
    "    exc_count = list(a['excess'])[i]\n",
    "    on_time = list(a[\"ontime\"])[i]\n",
    "    excess_rate.append(exc_count/on_time)\n",
    "    count_rate.append(count/on_time)\n",
    "    bkg_rate.append(bkg_count/on_time)\n",
    "a[\"counts_rate\"] = count_rate\n",
    "a[\"excess_rate\"] = excess_rate\n",
    "a[\"background_rate\"] = bkg_rate\n",
    "\n",
    "\n",
    "\n",
    "fig = plt.figure(figsize = (10, 10))\n",
    "# Background Rate vs Zenith\n",
    "plt.subplot(3, 2, 1)\n",
    "plt.scatter(list(a[\"Zenith\"]), list(a[\"background_rate\"]), label=\"background_rate vs Zenith\")\n",
    "plt.xlabel(\"Zenith\")\n",
    "plt.ylabel(\"Background Rate\")\n",
    "#plt.legend()\n",
    "plt.grid()\n",
    "\n",
    "# Background Count\n",
    "plt.subplot(3, 2, 2)\n",
    "plt.scatter(list(a[\"Zenith\"]), list(a[\"background\"]), label=\"Bkg\")\n",
    "plt.scatter(list(a[\"Zenith\"]), list(a[\"counts\"]), label=\"Counts\")\n",
    "plt.xlabel(\"Zenith\")\n",
    "plt.ylabel(\"Counts\")\n",
    "plt.legend()\n",
    "plt.grid()\n",
    "\n",
    "# Background Rate vs Azimuth\n",
    "plt.subplot(3, 2, 3)\n",
    "plt.scatter(list(a[\"Azimuth\"]), list(a[\"background_rate\"]), label=\"background_rate vs Azimuth\")\n",
    "plt.xlabel(\"Azimuth\")\n",
    "plt.ylabel(\"Background Rate\")\n",
    "#plt.legend()\n",
    "plt.grid()\n",
    "\n",
    "# Background Count\n",
    "plt.subplot(3, 2, 4)\n",
    "plt.scatter(list(a[\"Azimuth\"]), list(a[\"background\"]), label=\"Bkg\")\n",
    "plt.scatter(list(a[\"Azimuth\"]), list(a[\"counts\"]), label=\"Counts\")\n",
    "plt.xlabel(\"Azimuth\")\n",
    "plt.ylabel(\"Counts\")\n",
    "plt.legend()\n",
    "plt.grid()\n",
    "\n",
    "a"
   ]
  },
  {
   "cell_type": "code",
   "execution_count": 227,
   "id": "ff4c545e",
   "metadata": {},
   "outputs": [],
   "source": [
    "# Models: Biggest Problem is that the model is the same for all dataset independent of the zenith angle\n",
    "\n",
    "point_model = PointSpatialModel(lon_0=\"276.562 deg\", lat_0=\"-14.825 deg\")\n",
    "#point_model.parameters.free_parameters.freeze_all()\n",
    "point_model.lat_0.frozen = True\n",
    "point_model.lon_0.frozen = True\n",
    "#point_model.lon_0.scale = 1.2\n",
    "\"\"\"\n",
    "gaussian_model = GaussianSpatialModel(lon_0=\"276.562 deg\", lat_0=\"-14.825 deg\", sigma=\"0.07 deg\",frame=\"icrs\")\n",
    "#gaussian_model.parameters.free_parameters.freeze_all()\n",
    "gaussian_model.sigma.min = 0.1\n",
    "\"\"\"\n",
    "spatial_model = point_model\n",
    "\n",
    "\n",
    "spectral_model = PowerLawSpectralModel(index=2.50, amplitude=3.2e-11 * u.Unit('1 / (cm2 s TeV)'), reference=1 * u.TeV)\n",
    "\n",
    "\n",
    "model = SkyModel(\n",
    "    spatial_model=spatial_model,\n",
    "    spectral_model=spectral_model,\n",
    "    apply_irf={\"exposure\": True, \"psf\": True, \"edisp\": True},\n",
    ")\n",
    "\n",
    "\n",
    "for dataset in list_of_datasets:\n",
    "    bkg_model = FoVBackgroundModel(dataset_name=dataset.name)\n",
    "    bkg_model.spectral_model.norm.value = 1\n",
    "\n",
    "models = Models([model, bkg_model])\n",
    "\n",
    "# Joint Models\n",
    "list_of_datasets.models = models.copy()\n",
    "\n",
    "# Stacked Models\n",
    "stacked.models = models.copy()"
   ]
  },
  {
   "cell_type": "code",
   "execution_count": null,
   "id": "a85c46db",
   "metadata": {},
   "outputs": [],
   "source": []
  },
  {
   "cell_type": "code",
   "execution_count": 228,
   "id": "58323566",
   "metadata": {},
   "outputs": [
    {
     "name": "stdout",
     "output_type": "stream",
     "text": [
      "OptimizeResult\n",
      "\n",
      "\tbackend    : minuit\n",
      "\tmethod     : minuit\n",
      "\tsuccess    : False\n",
      "\tmessage    : Optimization failed. Estimated distance to minimum too large.\n",
      "\tnfev       : 106\n",
      "\ttotal stat : 138973.55\n",
      "\n",
      "   name      value         unit         min        max    frozen   error  \n",
      "--------- ----------- -------------- ---------- --------- ------ ---------\n",
      "    index  3.1519e+01                       nan       nan  False 2.887e-04\n",
      "amplitude -1.0490e-08 cm-2 s-1 TeV-1        nan       nan  False 2.032e-12\n",
      "reference  1.0000e+00            TeV        nan       nan   True 0.000e+00\n",
      "    lon_0  2.7656e+02            deg        nan       nan   True 0.000e+00\n",
      "    lat_0 -1.4825e+01            deg -9.000e+01 9.000e+01   True 0.000e+00\n",
      "CPU times: user 2.39 s, sys: 385 ms, total: 2.78 s\n",
      "Wall time: 2.81 s\n"
     ]
    }
   ],
   "source": [
    "%%time\n",
    "#Model Fitting\n",
    "#Joint --> Not realistic to plot the Joint when you got so many runs\n",
    "\"\"\"\n",
    "fit_joint= Fit(list_of_datasets)\n",
    "result_joint = fit_joint.run()\n",
    "print(result_joint)\n",
    "print(result_joint.parameters.to_table())\n",
    "\"\"\"\n",
    "# Stacked\n",
    "fit_stacked= Fit(stacked)\n",
    "result_stacked = fit_stacked.run()\n",
    "print(result_stacked)\n",
    "print(result_stacked.parameters.to_table())"
   ]
  },
  {
   "cell_type": "code",
   "execution_count": 2,
   "id": "e47f6deb",
   "metadata": {},
   "outputs": [
    {
     "ename": "NameError",
     "evalue": "name 'stacked' is not defined",
     "output_type": "error",
     "traceback": [
      "\u001b[0;31m---------------------------------------------------------------------------\u001b[0m",
      "\u001b[0;31mNameError\u001b[0m                                 Traceback (most recent call last)",
      "\u001b[0;32m<ipython-input-2-e8dcaf5cb651>\u001b[0m in \u001b[0;36m<module>\u001b[0;34m\u001b[0m\n\u001b[0;32m----> 1\u001b[0;31m \u001b[0mstacked\u001b[0m\u001b[0;34m.\u001b[0m\u001b[0mplot_residuals_spectral\u001b[0m\u001b[0;34m(\u001b[0m\u001b[0mregion\u001b[0m\u001b[0;34m=\u001b[0m\u001b[0mon_region\u001b[0m\u001b[0;34m,\u001b[0m \u001b[0mmethod\u001b[0m\u001b[0;34m=\u001b[0m\u001b[0;34m'diff/sqrt(model)'\u001b[0m\u001b[0;34m)\u001b[0m\u001b[0;34m\u001b[0m\u001b[0m\n\u001b[0m",
      "\u001b[0;31mNameError\u001b[0m: name 'stacked' is not defined"
     ]
    }
   ],
   "source": [
    "stacked.plot_residuals_spectral(region=on_region, method='diff/sqrt(model)')"
   ]
  },
  {
   "cell_type": "code",
   "execution_count": null,
   "id": "93b10845",
   "metadata": {},
   "outputs": [],
   "source": [
    "total_stat = result_joint.total_stat\n",
    "\n",
    "for par in dataset.models.parameters:\n",
    "    if par.frozen is False:\n",
    "        profile=joint_fit.stat_profile(parameter=par)\n",
    "        plt.plot(profile[f\"{par.name}_scan\"], profile[\"stat_scan\"]-total_stat)\n",
    "        plt.xlabel(f\"{par.unit}\")\n",
    "        plt.ylabel(\"Delta TS\")\n",
    "        plt.title(f\"{par.name}: {par.value} +- {par.error}\")\n",
    "        plt.show()\n",
    "        plt.close()"
   ]
  },
  {
   "cell_type": "code",
   "execution_count": null,
   "id": "82e2c88d",
   "metadata": {},
   "outputs": [],
   "source": []
  },
  {
   "cell_type": "code",
   "execution_count": null,
   "id": "9bfd912b",
   "metadata": {},
   "outputs": [],
   "source": []
  },
  {
   "cell_type": "code",
   "execution_count": 206,
   "id": "d0e78e2c",
   "metadata": {},
   "outputs": [
    {
     "data": {
      "text/plain": [
       "'\\ndef plot_spectrum(model, result, label, color):\\n    spec = model.spectral_model\\n    energy_range = [0.2, 10] * u.TeV\\n    spec.plot(\\n        energy_range=energy_range, energy_power=2, label=label, color=color\\n    )\\n    spec.plot_error(energy_range=energy_range, energy_power=2, color=color)\\nplot_spectrum(stacked.models[0], result_stacked, label=\"stacked\", color=\"tab:blue\")\\nplot_spectrum(list_of_datasets.models[0], result_joint, label=\"joint\", color=\"tab:orange\")\\nplt.legend()\\n'"
      ]
     },
     "execution_count": 206,
     "metadata": {},
     "output_type": "execute_result"
    }
   ],
   "source": [
    "# stacked.plot_residuals_spatial(vmin=-1, vmax=1);\n",
    "# stacked.plot_residuals_spectral(region=region, method='diff/sqrt(model)')\n",
    "\"\"\"\n",
    "def plot_spectrum(model, result, label, color):\n",
    "    spec = model.spectral_model\n",
    "    energy_range = [0.2, 10] * u.TeV\n",
    "    spec.plot(\n",
    "        energy_range=energy_range, energy_power=2, label=label, color=color\n",
    "    )\n",
    "    spec.plot_error(energy_range=energy_range, energy_power=2, color=color)\n",
    "plot_spectrum(stacked.models[0], result_stacked, label=\"stacked\", color=\"tab:blue\")\n",
    "plot_spectrum(list_of_datasets.models[0], result_joint, label=\"joint\", color=\"tab:orange\")\n",
    "plt.legend()\n",
    "\"\"\""
   ]
  },
  {
   "cell_type": "code",
   "execution_count": 207,
   "id": "bbe5cfbe",
   "metadata": {},
   "outputs": [
    {
     "data": {
      "image/png": "[encoded data removed]",
      "text/plain": [
       "<Figure size 432x288 with 2 Axes>"
      ]
     },
     "metadata": {
      "needs_background": "light"
     },
     "output_type": "display_data"
    }
   ],
   "source": [
    "model_s = spatial_model\n",
    "geom = WcsGeom.create(\n",
    "    skydir=model.position, frame=\"galactic\", width=(2, 2), binsz=0.02\n",
    ")\n",
    "ax = model_s.plot(geom=geom, add_cbar=True)"
   ]
  },
  {
   "cell_type": "code",
   "execution_count": 212,
   "id": "6628b871",
   "metadata": {},
   "outputs": [
    {
     "name": "stderr",
     "output_type": "stream",
     "text": [
      "/Users/cedrickperron/opt/anaconda3/envs/gammapy-0.18.2/lib/python3.7/site-packages/astropy/units/quantity.py:477: RuntimeWarning: overflow encountered in power\n",
      "  result = super().__array_ufunc__(function, method, *arrays, **kwargs)\n",
      "/Users/cedrickperron/opt/anaconda3/envs/gammapy-0.18.2/lib/python3.7/site-packages/astropy/units/quantity.py:477: RuntimeWarning: invalid value encountered in subtract\n",
      "  result = super().__array_ufunc__(function, method, *arrays, **kwargs)\n",
      "/Users/cedrickperron/opt/anaconda3/envs/gammapy-0.18.2/lib/python3.7/site-packages/astropy/units/quantity.py:477: RuntimeWarning: invalid value encountered in multiply\n",
      "  result = super().__array_ufunc__(function, method, *arrays, **kwargs)\n"
     ]
    },
    {
     "data": {
      "text/plain": [
       "'\\nestimator = TSMapEstimator(\\n    model,\\n    kernel_width=\"0.1 deg\",\\n    energy_edges=[0.2, 10.0]* u.TeV,\\n)\\nmaps = estimator.run(stacked)\\n'"
      ]
     },
     "execution_count": 212,
     "metadata": {},
     "output_type": "execute_result"
    }
   ],
   "source": [
    "# SKYMAP\n",
    "\n",
    "estimator = ExcessMapEstimator(\n",
    "    correlation_radius=\"0.1 deg\",\n",
    "    selection_optional=[],\n",
    "    energy_edges=[0.2, 10.0, 20] * u.TeV,\n",
    "    apply_mask_fit=True\n",
    ")\n",
    "result = estimator.run(stacked)\n",
    "\n",
    "result = estimator.estimate_excess_map(stacked)\n",
    "\n",
    "\"\"\"\n",
    "estimator = TSMapEstimator(\n",
    "    model,\n",
    "    kernel_width=\"0.1 deg\",\n",
    "    energy_edges=[0.2, 10.0]* u.TeV,\n",
    ")\n",
    "maps = estimator.run(stacked)\n",
    "\"\"\""
   ]
  },
  {
   "cell_type": "code",
   "execution_count": 213,
   "id": "3705d89d",
   "metadata": {},
   "outputs": [
    {
     "data": {
      "text/plain": [
       "(<Figure size 432x288 with 2 Axes>,\n",
       " <matplotlib.axes._subplots.WCSAxesSubplot at 0x7ff767b19128>,\n",
       " <matplotlib.colorbar.Colorbar at 0x7ff7693e00b8>)"
      ]
     },
     "execution_count": 213,
     "metadata": {},
     "output_type": "execute_result"
    },
    {
     "data": {
      "image/png": "[encoded data removed]",
      "text/plain": [
       "<Figure size 432x288 with 2 Axes>"
      ]
     },
     "metadata": {
      "needs_background": "light"
     },
     "output_type": "display_data"
    }
   ],
   "source": [
    "maps['sqrt_ts'].reduce(axis_name=\"energy\").plot(cmap=\"coolwarm\", add_cbar=True, vmin=-9, vmax=9)\n"
   ]
  },
  {
   "cell_type": "markdown",
   "id": "6141b528",
   "metadata": {},
   "source": [
    "The Map should display two sources. The correlation kind of smooth out these sources into one. Also, what's the deal with the blue hole??"
   ]
  },
  {
   "cell_type": "code",
   "execution_count": 171,
   "id": "dbcfcc8f",
   "metadata": {},
   "outputs": [
    {
     "data": {
      "image/png": "[encoded data removed]",
      "text/plain": [
       "<Figure size 432x288 with 2 Axes>"
      ]
     },
     "metadata": {
      "needs_background": "light"
     },
     "output_type": "display_data"
    }
   ],
   "source": [
    "\n",
    "#counts : correlated counts map\n",
    "#background : correlated background map\n",
    "#excess : correlated excess map\n",
    "#ts : TS map\n",
    "#sqrt_ts : sqrt(delta TS), or Li-Ma significance map\n",
    "#err : symmetric error map (from covariance)\n",
    "#flux : flux map. An exposure map must be present in the dataset to compute flux map\n",
    "#errn : negative error map\n",
    "#errp : positive error map\n",
    "#ul : upper limit map\n",
    "\n",
    "result_d = result[\"sqrt_ts\"].reduce(axis_name=\"energy\")\n",
    "result_d.plot(cmap=\"coolwarm\", add_cbar=True, vmin=-5, vmax=5);\n",
    "\n",
    "#result[\"background\"].reduce(axis_name=\"energy\").plot(cmap=\"coolwarm\", add_cbar=True, vmin=-10, vmax=10)\n"
   ]
  },
  {
   "cell_type": "code",
   "execution_count": null,
   "id": "6d6d152f",
   "metadata": {},
   "outputs": [],
   "source": []
  },
  {
   "cell_type": "code",
   "execution_count": 94,
   "id": "5c6d6885",
   "metadata": {},
   "outputs": [
    {
     "data": {
      "text/plain": [
       "(<Figure size 432x288 with 2 Axes>,\n",
       " <matplotlib.axes._subplots.WCSAxesSubplot at 0x7ff8c8b61e10>,\n",
       " <matplotlib.colorbar.Colorbar at 0x7ff898630518>)"
      ]
     },
     "execution_count": 94,
     "metadata": {},
     "output_type": "execute_result"
    },
    {
     "data": {
      "image/png": "[encoded data removed]",
      "text/plain": [
       "<Figure size 432x288 with 2 Axes>"
      ]
     },
     "metadata": {
      "needs_background": "light"
     },
     "output_type": "display_data"
    }
   ],
   "source": [
    "stacked.counts.smooth(0.00 * u.deg).sum_over_axes().plot(add_cbar=True)"
   ]
  },
  {
   "cell_type": "code",
   "execution_count": 95,
   "id": "a1c372b2",
   "metadata": {},
   "outputs": [
    {
     "data": {
      "text/plain": [
       "(<Figure size 432x288 with 2 Axes>,\n",
       " <matplotlib.axes._subplots.WCSAxesSubplot at 0x7ff87a139748>,\n",
       " <matplotlib.colorbar.Colorbar at 0x7ff8e110a630>)"
      ]
     },
     "execution_count": 95,
     "metadata": {},
     "output_type": "execute_result"
    },
    {
     "data": {
      "image/png": "[encoded data removed]",
      "text/plain": [
       "<Figure size 432x288 with 2 Axes>"
      ]
     },
     "metadata": {
      "needs_background": "light"
     },
     "output_type": "display_data"
    }
   ],
   "source": [
    "stacked.background.smooth(0.00 * u.deg).sum_over_axes().plot(add_cbar=True)"
   ]
  },
  {
   "cell_type": "code",
   "execution_count": null,
   "id": "91b7d204",
   "metadata": {},
   "outputs": [],
   "source": []
  },
  {
   "cell_type": "code",
   "execution_count": null,
   "id": "710001ab",
   "metadata": {},
   "outputs": [],
   "source": [
    "e_edges = MapAxis.from_energy_bounds(\"0.200 TeV\", \"25 TeV\", nbin=15).edges\n",
    "fpe = FluxPointsEstimator(energy_edges=e_edges)\n",
    "\n",
    "\"\"\"\n",
    "# Joint\n",
    "flux_points = fpe.run(datasets=list_of_datasets)\n",
    "flux_points_datasets = FluxPointsDataset(data=flux_points, models=list_of_datasets.models)\n",
    "\"\"\"\n",
    "\n",
    "# Stacked\n",
    "flux_points = fpe.run(datasets=[stacked])\n",
    "flux_points_stacked = FluxPointsDataset(data=flux_points, models=stacked.models)\n",
    "\n",
    "\n"
   ]
  },
  {
   "cell_type": "code",
   "execution_count": null,
   "id": "fa6aba61",
   "metadata": {},
   "outputs": [],
   "source": [
    "#Joint & Stacked\n",
    "\"\"\"\n",
    "fig, axs = plt.figure(figsize = (20, 20))\n",
    "plt.subplot(2, 2, 1)\n",
    "flux_points_datasets.plot_spectrum(energy_power=0, flux_unit=\"TeV-1 cm-2 s-1\", label=f\"Joint\");\n",
    "plt.legend()\n",
    "plt.grid()\n",
    "\n",
    "plt.subplot(2, 2, 2)\n",
    "\"\"\"\n",
    "flux_points_stacked.plot_spectrum(energy_power=0, flux_unit=\"TeV-1 cm-2 s-1\", label=f\"Stacked\");\n",
    "plt.legend()\n",
    "plt.grid()\n"
   ]
  },
  {
   "cell_type": "code",
   "execution_count": null,
   "id": "afd21eea",
   "metadata": {},
   "outputs": [],
   "source": [
    "lc_maker_1d = LightCurveEstimator(energy_edges=[energy_axis.edges[0], energy_axis.edges[-1]], reoptimize=True)\n",
    "lc_complete = lc_maker_1d.run(list_of_datasets)\n",
    "\n",
    "plt.figure(figsize=(10,10))\n",
    "ax = lc_complete.plot(marker=\"o\", color=\"red\", label=f\"Light Curve\")\n",
    "plt.axhline(y=lc_complete.table[\"flux\"].mean(), color=\"red\", label=\"Mean Flux Line Gam\")\n",
    "\n",
    "lc_complete.table\n"
   ]
  },
  {
   "cell_type": "code",
   "execution_count": null,
   "id": "03530ee7",
   "metadata": {},
   "outputs": [],
   "source": [
    "plt.figure(figsize=(20,20))\n",
    "plt.subplot(1, 2,1)\n",
    "plt.errorbar(x=list(obs_table[\"ZEN_PNT\"]),y=list(lc_complete.table[\"flux\"]), yerr=list(lc_complete.table[\"flux_err\"]), fmt=\"o\")\n",
    "plt.axhline(y=lc_complete.table[\"flux\"].mean(), color=\"tab:blue\")\n",
    "plt.xlabel(\"Zenith\")\n",
    "plt.ylabel(\"Flux\")\n",
    "plt.legend()\n",
    "plt.grid()\n",
    "\n",
    "plt.subplot(1, 2, 2)\n",
    "plt.errorbar(x=list(obs_table[\"AZ_PNT\"]),y=list(lc_complete.table[\"flux\"]), yerr=list(lc_complete.table[\"flux_err\"]), fmt=\"o\")\n",
    "plt.axhline(y=lc_complete.table[\"flux\"].mean(), color=\"tab:blue\")\n",
    "plt.xlabel(\"Azimuth\")\n",
    "plt.ylabel(\"Flux\")\n",
    "plt.legend()\n",
    "plt.grid()"
   ]
  },
  {
   "cell_type": "code",
   "execution_count": 226,
   "id": "d1e852b6",
   "metadata": {},
   "outputs": [],
   "source": [
    "list_spectrum_datasets = Datasets()\n",
    "\n",
    "joint_stacked = SpectrumDataset.create(e_reco=energy_axis, e_true=energy_axis_true, region=on_region, name=\"Spectrum_stacked from Joint\")\n",
    "\n",
    "for dataset in list_of_datasets:\n",
    "    spectrum_dataset = dataset.to_spectrum_dataset(on_region=on_region, containment_correction=True, name = dataset.name)\n",
    "    joint_stacked.stack(spectrum_dataset)\n",
    "    list_spectrum_datasets.append(spectrum_dataset)\n",
    "    \n",
    "stack_stacked = stacked.to_spectrum_dataset(on_region=on_region, containment_correction=True, name = \"Spectrum_stacked from Stack\")\n",
    "\n"
   ]
  },
  {
   "cell_type": "code",
   "execution_count": 228,
   "id": "ebf3b91c",
   "metadata": {},
   "outputs": [
    {
     "name": "stdout",
     "output_type": "stream",
     "text": [
      "STACKED STACK\n",
      "SpectrumDataset\n",
      "---------------\n",
      "\n",
      "  Name                            : Spectrum_stacked from Stack \n",
      "\n",
      "  Total counts                    : 3952 \n",
      "  Total background counts         : 2716.56\n",
      "  Total excess counts             : 1235.44\n",
      "\n",
      "  Predicted counts                : 2716.56\n",
      "  Predicted background counts     : 2716.56\n",
      "  Predicted excess counts         : nan\n",
      "\n",
      "  Exposure min                    : 3.14e+05 m2 s\n",
      "  Exposure max                    : 9.02e+09 m2 s\n",
      "\n",
      "  Number of total bins            : 15 \n",
      "  Number of fit bins              : 15 \n",
      "\n",
      "  Fit statistic type              : cash\n",
      "  Fit statistic value (-2 log(L)) : nan\n",
      "\n",
      "  Number of models                : 0 \n",
      "  Number of parameters            : 0\n",
      "  Number of free parameters       : 0\n",
      "\n",
      "\n",
      "\n",
      "JOINT_STACKED\n",
      "SpectrumDataset\n",
      "---------------\n",
      "\n",
      "  Name                            : Spectrum_stacked from Joint \n",
      "\n",
      "  Total counts                    : 3952 \n",
      "  Total background counts         : 65.40\n",
      "  Total excess counts             : 3886.60\n",
      "\n",
      "  Predicted counts                : 65.40\n",
      "  Predicted background counts     : 65.40\n",
      "  Predicted excess counts         : nan\n",
      "\n",
      "  Exposure min                    : 3.13e+09 cm2 s\n",
      "  Exposure max                    : 8.99e+13 cm2 s\n",
      "\n",
      "  Number of total bins            : 15 \n",
      "  Number of fit bins              : 15 \n",
      "\n",
      "  Fit statistic type              : cash\n",
      "  Fit statistic value (-2 log(L)) : nan\n",
      "\n",
      "  Number of models                : 0 \n",
      "  Number of parameters            : 0\n",
      "  Number of free parameters       : 0\n",
      "\n",
      "\n"
     ]
    }
   ],
   "source": [
    "print(\"STACKED STACK\")\n",
    "print(stack_stacked)\n",
    "print()\n",
    "print(\"JOINT_STACKED\")\n",
    "print(joint_stacked)"
   ]
  },
  {
   "cell_type": "code",
   "execution_count": null,
   "id": "cf91d9d4",
   "metadata": {},
   "outputs": [],
   "source": []
  },
  {
   "cell_type": "code",
   "execution_count": null,
   "id": "25e562cb",
   "metadata": {},
   "outputs": [],
   "source": []
  }
 ],
 "metadata": {
  "kernelspec": {
   "display_name": "Python 3",
   "language": "python",
   "name": "python3"
  },
  "language_info": {
   "codemirror_mode": {
    "name": "ipython",
    "version": 3
   },
   "file_extension": ".py",
   "mimetype": "text/x-python",
   "name": "python",
   "nbconvert_exporter": "python",
   "pygments_lexer": "ipython3",
   "version": "3.7.0"
  }
 },
 "nbformat": 4,
 "nbformat_minor": 5
}
