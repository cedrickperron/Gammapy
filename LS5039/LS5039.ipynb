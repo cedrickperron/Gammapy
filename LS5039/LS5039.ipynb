{
 "cells": [
  {
   "cell_type": "code",
   "execution_count": 1,
   "id": "ad5ae725",
   "metadata": {},
   "outputs": [
    {
     "name": "stdout",
     "output_type": "stream",
     "text": [
      "0.18.2\n",
      "1.19.4\n"
     ]
    }
   ],
   "source": [
    "%matplotlib inline\n",
    "import matplotlib.pyplot as plt\n",
    "import pandas as pd\n",
    "import numpy as np\n",
    "import astropy\n",
    "import gammapy\n",
    "print(gammapy.__version__)\n",
    "print(np.__version__)\n",
    "\n",
    "from gammapy.analysis import Analysis, AnalysisConfig\n",
    "from gammapy.data import DataStore, EventList\n",
    "from gammapy.irf import EffectiveAreaTable2D, load_cta_irfs\n",
    "gammapy.data.HDUIndexTable.VALID_HDU_CLASS\n",
    "\n",
    "import astropy.units as u\n",
    "from astropy.coordinates import SkyCoord, Angle\n",
    "from astropy.convolution import Gaussian2DKernel\n",
    "from regions import CircleSkyRegion\n",
    "from gammapy.modeling import Fit\n",
    "from gammapy.data import DataStore\n",
    "from gammapy.datasets import (\n",
    "    Dataset,\n",
    "    Datasets,\n",
    "    FluxPointsDataset,\n",
    "    SpectrumDataset,\n",
    "    MapDataset,\n",
    "    MapDatasetOnOff,\n",
    "    SpectrumDatasetOnOff\n",
    ")\n",
    "from gammapy.modeling.models import (\n",
    "    PowerLawSpectralModel,\n",
    "    SkyModel,\n",
    "    GaussianSpatialModel,\n",
    "    PointSpatialModel,\n",
    "    FoVBackgroundModel,\n",
    "    Models\n",
    ")\n",
    "from gammapy.maps import MapAxis, WcsNDMap, WcsGeom, Map\n",
    "from gammapy.makers import (\n",
    "    MapDatasetMaker,\n",
    "    SafeMaskMaker,\n",
    "    SpectrumDatasetMaker,\n",
    "    ReflectedRegionsBackgroundMaker,\n",
    "    RingBackgroundMaker,\n",
    "    ReflectedRegionsFinder\n",
    ")\n",
    "from gammapy.estimators import TSMapEstimator, FluxPointsEstimator\n",
    "from gammapy.estimators.utils import find_peaks\n",
    "from gammapy.visualization import plot_spectrum_datasets_off_regions\n",
    "\n",
    "from gammapy.utils.regions import make_region"
   ]
  },
  {
   "cell_type": "markdown",
   "id": "0378569d",
   "metadata": {},
   "source": [
    "Access the Data:\n",
    "\n",
    "PATH TO DATASTORE: .fits files and the hdu-index and the obs_table. The tables are already accessible via data_store.obs_table and data_store.hdu_table. \n",
    "\n",
    "Also, make sure that the path to the obs fits files is correct in the hdu_table. "
   ]
  },
  {
   "cell_type": "code",
   "execution_count": 2,
   "id": "43273bd2",
   "metadata": {},
   "outputs": [],
   "source": [
    "data_store = DataStore.from_dir(\"/Users/cedrickperron/GAMMAPY/LS5039_new\")\n",
    "s = data_store.hdu_table.read(\"/Users/cedrickperron/GAMMAPY/LS5039_new/hdu-index.fits.gz\")\n",
    "OBS_table = data_store.obs_table.read(\"/Users/cedrickperron/GAMMAPY/LS5039_new/obs-index.fits.gz\")\n",
    "# Changing the path to the fits files in the HDU_table\n",
    "s.remove_column(\"FILE_DIR\")\n",
    "s.add_column(\"/Users/cedrickperron/GAMMAPY/LS5039_new\", name=\"FILE_DIR\")\n"
   ]
  },
  {
   "cell_type": "markdown",
   "id": "2f25626e",
   "metadata": {},
   "source": [
    "In the obs_table, there is a column called OBS_ID (Check this via: print(data_store.obs_table[\"OBS_ID\"]). Access this column and call it the obs_id.\n",
    "\n",
    "Also, you can get the observations of the data_store, which is a very important step (see the equivalent of this in the config). NOTE: You do not have the bkg here (as expected), which means that you will need to create your own background with the BackgroundMaker."
   ]
  },
  {
   "cell_type": "code",
   "execution_count": 3,
   "id": "c10c795e",
   "metadata": {},
   "outputs": [
    {
     "name": "stderr",
     "output_type": "stream",
     "text": [
      "No HDU found matching: OBS_ID = 69123, HDU_TYPE = bkg, HDU_CLASS = None\n",
      "No HDU found matching: OBS_ID = 69187, HDU_TYPE = bkg, HDU_CLASS = None\n",
      "No HDU found matching: OBS_ID = 69188, HDU_TYPE = bkg, HDU_CLASS = None\n",
      "No HDU found matching: OBS_ID = 69202, HDU_TYPE = bkg, HDU_CLASS = None\n",
      "No HDU found matching: OBS_ID = 69203, HDU_TYPE = bkg, HDU_CLASS = None\n",
      "No HDU found matching: OBS_ID = 73193, HDU_TYPE = bkg, HDU_CLASS = None\n",
      "No HDU found matching: OBS_ID = 73213, HDU_TYPE = bkg, HDU_CLASS = None\n",
      "No HDU found matching: OBS_ID = 73234, HDU_TYPE = bkg, HDU_CLASS = None\n",
      "No HDU found matching: OBS_ID = 73300, HDU_TYPE = bkg, HDU_CLASS = None\n",
      "No HDU found matching: OBS_ID = 73317, HDU_TYPE = bkg, HDU_CLASS = None\n",
      "No HDU found matching: OBS_ID = 73335, HDU_TYPE = bkg, HDU_CLASS = None\n",
      "No HDU found matching: OBS_ID = 73356, HDU_TYPE = bkg, HDU_CLASS = None\n",
      "No HDU found matching: OBS_ID = 73357, HDU_TYPE = bkg, HDU_CLASS = None\n",
      "No HDU found matching: OBS_ID = 73370, HDU_TYPE = bkg, HDU_CLASS = None\n",
      "No HDU found matching: OBS_ID = 73390, HDU_TYPE = bkg, HDU_CLASS = None\n",
      "No HDU found matching: OBS_ID = 73403, HDU_TYPE = bkg, HDU_CLASS = None\n",
      "No HDU found matching: OBS_ID = 73607, HDU_TYPE = bkg, HDU_CLASS = None\n"
     ]
    },
    {
     "name": "stdout",
     "output_type": "stream",
     "text": [
      "OBS_ID HDU_TYPE ...      HDU_NAME                     FILE_DIR               \n",
      "------ -------- ... ----------------- ---------------------------------------\n",
      " 69123   events ...            EVENTS /Users/cedrickperron/GAMMAPY/LS5039_new\n",
      " 69123      gti ...               GTI /Users/cedrickperron/GAMMAPY/LS5039_new\n",
      " 69123     aeff ...    EFFECTIVE AREA /Users/cedrickperron/GAMMAPY/LS5039_new\n",
      " 69123    edisp ... ENERGY DISPERSION /Users/cedrickperron/GAMMAPY/LS5039_new\n",
      " 69123      psf ...               PSF /Users/cedrickperron/GAMMAPY/LS5039_new\n",
      " 69187   events ...            EVENTS /Users/cedrickperron/GAMMAPY/LS5039_new\n",
      " 69187      gti ...               GTI /Users/cedrickperron/GAMMAPY/LS5039_new\n",
      " 69187     aeff ...    EFFECTIVE AREA /Users/cedrickperron/GAMMAPY/LS5039_new\n",
      " 69187    edisp ... ENERGY DISPERSION /Users/cedrickperron/GAMMAPY/LS5039_new\n",
      " 69187      psf ...               PSF /Users/cedrickperron/GAMMAPY/LS5039_new\n",
      "   ...      ... ...               ...                                     ...\n",
      " 73390      psf ...               PSF /Users/cedrickperron/GAMMAPY/LS5039_new\n",
      " 73403   events ...            EVENTS /Users/cedrickperron/GAMMAPY/LS5039_new\n",
      " 73403      gti ...               GTI /Users/cedrickperron/GAMMAPY/LS5039_new\n",
      " 73403     aeff ...    EFFECTIVE AREA /Users/cedrickperron/GAMMAPY/LS5039_new\n",
      " 73403    edisp ... ENERGY DISPERSION /Users/cedrickperron/GAMMAPY/LS5039_new\n",
      " 73403      psf ...               PSF /Users/cedrickperron/GAMMAPY/LS5039_new\n",
      " 73607   events ...            EVENTS /Users/cedrickperron/GAMMAPY/LS5039_new\n",
      " 73607      gti ...               GTI /Users/cedrickperron/GAMMAPY/LS5039_new\n",
      " 73607     aeff ...    EFFECTIVE AREA /Users/cedrickperron/GAMMAPY/LS5039_new\n",
      " 73607    edisp ... ENERGY DISPERSION /Users/cedrickperron/GAMMAPY/LS5039_new\n",
      " 73607      psf ...               PSF /Users/cedrickperron/GAMMAPY/LS5039_new\n",
      "Length = 85 rows\n"
     ]
    }
   ],
   "source": [
    "data_store.hdu_table = s\n",
    "hdu_table = data_store.hdu_table\n",
    "data_store.obs_table\n",
    "print(data_store.hdu_table)\n",
    "\n",
    "data_store.hdu_table\n",
    "obs_id = data_store.obs_table[\"OBS_ID\"]\n",
    "\n",
    "#print(obs_id)\n",
    "\n",
    "# Note NO HDU of HDU_TYPE = bkg. Write print(hdu_table) and you will see that there is no bkg.\n",
    "observations = data_store.get_observations(obs_id)\n"
   ]
  },
  {
   "cell_type": "markdown",
   "id": "af6af3d8",
   "metadata": {},
   "source": [
    "Identifying the target region and defining the on_region"
   ]
  },
  {
   "cell_type": "code",
   "execution_count": 4,
   "id": "2c612226",
   "metadata": {},
   "outputs": [],
   "source": [
    "target_position=SkyCoord(276.562, -14.825, unit=\"deg\",frame=\"icrs\")\n",
    "\n",
    "on_radius=Angle(\"0.089 deg\")\n",
    "on_region= CircleSkyRegion(center=target_position,radius=on_radius)"
   ]
  },
  {
   "cell_type": "markdown",
   "id": "1aa99cd9",
   "metadata": {},
   "source": [
    "Identify the geom parameter of the Dataset (see the config equivalent). Also, identify the exclusion region. Note there is an additional one: the HESS.\n",
    "\n",
    "\n",
    "**Note that there is a difference between 3D and 1D Map here. The 3D maps involve the energy axis while the 1D map does not.**"
   ]
  },
  {
   "cell_type": "code",
   "execution_count": 6,
   "id": "95fb1aec",
   "metadata": {},
   "outputs": [
    {
     "data": {
      "text/plain": [
       "(<Figure size 432x288 with 2 Axes>,\n",
       " <matplotlib.axes._subplots.WCSAxesSubplot at 0x7ff63677c0f0>,\n",
       " <matplotlib.colorbar.Colorbar at 0x7ff6368861d0>)"
      ]
     },
     "execution_count": 6,
     "metadata": {},
     "output_type": "execute_result"
    },
    {
     "data": {
      "image/png": "[encoded data removed]",
      "text/plain": [
       "<Figure size 432x288 with 2 Axes>"
      ]
     },
     "metadata": {
      "needs_background": "light"
     },
     "output_type": "display_data"
    }
   ],
   "source": [
    "# Build the energy axis: Note that we take the energy boundary found in the ...\n",
    "# I guess the most important thing here is to at least take large enough bounds to get all the data, but there is a threshold to consider...\n",
    "energy_axis = MapAxis.from_energy_bounds(0.400, 40, 15, unit= \"TeV\", name=\"energy\")\n",
    "# Assuming the range of the true energy axis is the same as the energy axis, which is reasonable if you take the large energy bounds\n",
    "true_energy_axis = MapAxis.from_energy_bounds(0.200, 70, 20, unit= \"TeV\", name=\"energy_true\")\n",
    "\n",
    "\n",
    "\n",
    "\n",
    "# Geom: The parameters were taken from the run_parameter file, except the width (supposed to be (2,2)), but it is too small for some reason\n",
    "#FOR 3D: axes=[energy_axis]\n",
    "\"\"\"geom = WcsGeom.create(skydir=target_position, binsz=0.02, width=(5,5), proj=\"CAR\",axes=[energy_axis])\"\"\"\n",
    "#FOR 1D: Only Spatial\n",
    "\n",
    "geom = WcsGeom.create(skydir=target_position, binsz=0.02, width=\"7 deg\", proj=\"CAR\")\n",
    "#geom = WcsGeom.create(skydir=target_position, binsz=0.01, width=(5,5), proj=\"CAR\",axes=[energy_axis])\n",
    "\n",
    "#Add the exclusion region of the HESS SOURCE (276.421,-13.8389, 0.50) per runparameter file\n",
    "hess_region = make_region(\"icrs;circle(276.421,-13.8389, 0.50)\")\n",
    "\n",
    "\n",
    "\n",
    "\n",
    "\n",
    "\"\"\" FOR 3D\n",
    "    geom.to_image() -> geom is a WcsGeom type (which is a gammapy.Map object).\n",
    "    geom.to_image() produces a 2D map of spatial dimensions only. to_cube appends an \n",
    "    energy axis. The squash() method reduces the energy axis to one bins.\n",
    "CODE:\n",
    "geom_image=geom.to_image().to_cube([energy_axis.squash()])\n",
    "\"\"\"\n",
    "# FOR 1D: (No energy axis)\n",
    "geom_image = geom.to_image()\n",
    "\n",
    "#geom_image=geom.to_image().to_cube([energy_axis.squash()])\n",
    "\n",
    "\n",
    "\n",
    "\n",
    "\"\"\" The exclusion_mask will be plotted as a Map object, which has 2 parameters:\n",
    "    geom => Need an object of type WcsGeom (geom or geom.to_image()). \n",
    "    data => The region_mask: It is a parameter of the geom (object of type WcsGeom) and it is itself a numpy array\n",
    "\"\"\"\n",
    "center_region = CircleSkyRegion(center=target_position, radius=0.35 * u.deg)\n",
    "exclusion_mask=Map.from_geom(geom_image)\n",
    "# Note Inside = True => Then all the regions outside will not have any pixels. False => Region inside have no pixel\n",
    "exclusion_mask.data=geom_image.region_mask([hess_region, center_region], inside=False)\n",
    "# No pixel => Energy => 0 (no signal)\n",
    "exclusion_mask.sum_over_axes().plot(add_cbar=True)\n"
   ]
  },
  {
   "cell_type": "markdown",
   "id": "b2446340",
   "metadata": {},
   "source": [
    "For 1D dataset, we need to have a dataset that does not include the energy. (**See Doc 9**)\n"
   ]
  },
  {
   "cell_type": "code",
   "execution_count": null,
   "id": "c077fabc",
   "metadata": {},
   "outputs": [],
   "source": [
    "\n"
   ]
  },
  {
   "cell_type": "markdown",
   "id": "75ca3d42",
   "metadata": {},
   "source": [
    "The way that ReflectedRegionsBackgroundMaker works is by building reflected regions. Basically, below, you enter the information that will find the reflected regions of each run. This step is not important, but it is useful when you got a bug while performing bkg_maker.run().\n",
    "\n",
    "Each Reflected regions add to the acceptance_off by 1 and build up a unique count_off map. In the ReflectedRegionsBackgroundMaker, you got some optimal parameters and here is what they do:\n",
    "    \n",
    "    angle_increment: The way that the reflected regions are found in the finder is through a while loop, where you have a max_angle that is given by your obs and you also have a curr_angle that is also given by the obs. while curr_angle < max_angle, then you will create a reflected region (depending on certain conditions satisfied determined by your other parameters). Each time you perform the loop, you add an increment to the curr_angle: curr_angle += angle_increment.\n",
    "    min_distance : `~astropy.coordinates.Angle`, optional\n",
    "       Minimal distance between two consecutive reflected regions\n",
    "    min_distance_input :\n",
    "       Minimal distance from input region (This, in my opinion, is the minimum distance between the on_region and where your reflected region can be. Note that the reflected region will not be created if the regions touches the on_region. By region, I mean the circle\n",
    "       \n",
    "    max_region_number : This is the maximum # of reflected regions that you have. This is useful, because sometime you over-estimate the bkg.\n",
    "    exclusion_mask : `~gammapy.maps.WcsNDMap`, optional\n",
    "       Exclusion mask\n",
    "       \n",
    "    \n",
    "    \n",
    " \n",
    "    "
   ]
  },
  {
   "cell_type": "code",
   "execution_count": 7,
   "id": "e67e2f20",
   "metadata": {},
   "outputs": [
    {
     "name": "stdout",
     "output_type": "stream",
     "text": [
      "CPU times: user 9 µs, sys: 3 µs, total: 12 µs\n",
      "Wall time: 8.82 µs\n"
     ]
    }
   ],
   "source": [
    "%time\n",
    "finder_list = []\n",
    "\n",
    "for obs in observations:\n",
    "    center = obs.pointing_radec\n",
    "    # Here in you can add the exclusion_mask = exclusion_mask if you want\n",
    "    finder = ReflectedRegionsFinder(region=on_region,center=center, exclusion_mask=None, min_distance_input=\"0.1 rad\")\n",
    "    finder.run()\n",
    "    finder_list.append(finder)\n",
    "\n",
    "\n",
    "    "
   ]
  },
  {
   "cell_type": "markdown",
   "id": "c11b71d6",
   "metadata": {},
   "source": [
    "Cases where no ReflectedRegion are shown in the following. It is clear why you don't detect Reflected Regions here. Note that when you run the ReflectedRegionBackgroundMaker to these regions, you end up with a divide_by_zero error:\n",
    "(/Users/cedrickperron/opt/anaconda3/envs/gammapy-0.18.2/lib/python3.7/site-packages/astropy/units/quantity.py:477: RuntimeWarning: divide by zero encountered in true_divide\n",
    "  result = super().__array_ufunc__(function, method, *arrays, **kwargs)\n",
    "TypeError: The value must be a valid Python or Numpy numeric type.).**\n",
    "\n",
    "But, in fact, here is what happens: as said before: each ReflectedRegion gives you an acceptance_off and a off_counts map. When you don't have a ReflectedRegion, acceptance_off is set to 0 and the off_counts is set to None. Then, when you try to print the dataset, you get blablabla/acceptance_off, but acceptance_off = 0, hence divide_by_zero error."
   ]
  },
  {
   "cell_type": "code",
   "execution_count": 8,
   "id": "34ae4cd6",
   "metadata": {},
   "outputs": [
    {
     "data": {
      "text/plain": [
       "(<Figure size 576x576 with 1 Axes>,\n",
       " <matplotlib.axes._subplots.WCSAxesSubplot at 0x7ff63698e2b0>)"
      ]
     },
     "execution_count": 8,
     "metadata": {},
     "output_type": "execute_result"
    },
    {
     "data": {
      "image/png": "[encoded data removed]",
      "text/plain": [
       "<Figure size 576x576 with 1 Axes>"
      ]
     },
     "metadata": {
      "needs_background": "light"
     },
     "output_type": "display_data"
    }
   ],
   "source": [
    "plt.figure(figsize=(8, 8))\n",
    "obs3 = observations[3]\n",
    "finder_list[3].plot()"
   ]
  },
  {
   "cell_type": "code",
   "execution_count": 9,
   "id": "40073bad",
   "metadata": {},
   "outputs": [
    {
     "data": {
      "text/plain": [
       "(<Figure size 432x288 with 1 Axes>,\n",
       " <matplotlib.axes._subplots.WCSAxesSubplot at 0x7ff6392ed2b0>)"
      ]
     },
     "execution_count": 9,
     "metadata": {},
     "output_type": "execute_result"
    },
    {
     "data": {
      "image/png": "[encoded data removed]",
      "text/plain": [
       "<Figure size 432x288 with 1 Axes>"
      ]
     },
     "metadata": {
      "needs_background": "light"
     },
     "output_type": "display_data"
    }
   ],
   "source": [
    "obs6 = observations[6]\n",
    "finder_list[6].plot()"
   ]
  },
  {
   "cell_type": "code",
   "execution_count": 10,
   "id": "31f3b79a",
   "metadata": {},
   "outputs": [
    {
     "data": {
      "text/plain": [
       "(<Figure size 432x288 with 1 Axes>,\n",
       " <matplotlib.axes._subplots.WCSAxesSubplot at 0x7ff639e1ddd8>)"
      ]
     },
     "execution_count": 10,
     "metadata": {},
     "output_type": "execute_result"
    },
    {
     "data": {
      "image/png": "[encoded data removed]",
      "text/plain": [
       "<Figure size 432x288 with 1 Axes>"
      ]
     },
     "metadata": {
      "needs_background": "light"
     },
     "output_type": "display_data"
    }
   ],
   "source": [
    "obs10 = observations[10]\n",
    "finder_list[10].plot()"
   ]
  },
  {
   "cell_type": "code",
   "execution_count": 11,
   "id": "f9b03b8c",
   "metadata": {},
   "outputs": [
    {
     "data": {
      "text/plain": [
       "(<Figure size 432x288 with 1 Axes>,\n",
       " <matplotlib.axes._subplots.WCSAxesSubplot at 0x7ff6399238d0>)"
      ]
     },
     "execution_count": 11,
     "metadata": {},
     "output_type": "execute_result"
    },
    {
     "data": {
      "image/png": "[encoded data removed]",
      "text/plain": [
       "<Figure size 432x288 with 1 Axes>"
      ]
     },
     "metadata": {
      "needs_background": "light"
     },
     "output_type": "display_data"
    }
   ],
   "source": [
    "obs15 = observations[15]\n",
    "finder_list[15].plot()"
   ]
  },
  {
   "cell_type": "code",
   "execution_count": null,
   "id": "df3f7ad8",
   "metadata": {},
   "outputs": [],
   "source": []
  },
  {
   "cell_type": "markdown",
   "id": "da3619c1",
   "metadata": {},
   "source": [
    "[Add %time at the begin]\n",
    "\n",
    "What is left to do now is to create the empty dataset that will tells us the type of dataset that we want [i.e => SpectrumDataset (1D) or MapDataset (3D)]. Note here we don't have a background model, thus we can only define a SpectrumDataset background **NOTE: See Doc #9 for 1D dataset**\n",
    "\n",
    "Also, we need to create the DatasetMaker, which will depends on the type of dataset we pick as empty_dataset. Also, the selection parameters is usually [\"counts\", \"exposure\", \"psf\", \"edisp\"], but for the \"psf\", \"edisp\", it depends if we have them in the hdu_table type.\n",
    "\n",
    "We need to create the BackgroundMaker. In 3D, we pick RingBackgroundMaker and in 1D, we pick the ReflectedBackgroundMaker. \n",
    "\n",
    "We need to create the SafeMaskMaker. A methods we need to use is the offset-max with offset_max=3.5 u.deg and we would do well to have the aeff-max with aeff_percent = 10(or)20. Otherwise, maybe just add aeff-default method...\n",
    "\n",
    "Also, if we have a 3D dataset, then we need to create a MapDatasetOnOff **NOTE: See Doc #9 for 1D dataset and Doc (Ring_Background) for 3D dataset.**.\n",
    "\n",
    "#For Loop\n",
    "We need to create a datasets list using Datasets(). Also, we need to runs the for loops of the observations and build the dataset of each obs and append them to the datasets list. \n",
    "\n",
    "Finally, we need to stacked_dataset_that_you_create.stack(dataset) after running the dataset on all makers. **Doc (Ring_Background) for 3D dataset.**\n",
    "\n",
    "\n",
    "\n",
    "\n"
   ]
  },
  {
   "cell_type": "code",
   "execution_count": 12,
   "id": "94f31666",
   "metadata": {},
   "outputs": [
    {
     "name": "stdout",
     "output_type": "stream",
     "text": [
      "CPU times: user 3 µs, sys: 0 ns, total: 3 µs\n",
      "Wall time: 7.15 µs\n"
     ]
    }
   ],
   "source": [
    "%time\n",
    "#Create an empty 1D SpectrumDataset: Note here we don't have a background model, thus we can only define a SpectrumDataset background\n",
    "e_reco = energy_axis\n",
    "e_true = true_energy_axis\n",
    "#Create an empty dataset that you will use for each observation\n",
    "dataset_empty = SpectrumDataset.create(e_reco=e_reco, e_true=e_true, region=on_region)\n",
    "\n",
    "# Create the DatasetMaker\n",
    "dataset_maker = SpectrumDatasetMaker(containment_correction=True, selection=[\"counts\", \"exposure\", \"psf\", \"edisp\"])\n",
    "# Create the Background Maker\n",
    "#help(ReflectedRegionsBackgroundMaker)\n",
    "bkg_maker = ReflectedRegionsBackgroundMaker(exclusion_mask=exclusion_mask, max_region_number=6)\n",
    "#Create a Safe_mask_maker\n",
    "safe_mask_maker = SafeMaskMaker(methods=[\"aeff-default\", \"offset-max\"], offset_max=1.75*u.deg, aeff_percent=10)\n",
    "\n",
    "\n",
    "# Create a stacked dataset\n",
    "stacked = SpectrumDatasetOnOff.create(e_reco=e_reco,  e_true=e_true, region=on_region, name=\"LS5039\")"
   ]
  },
  {
   "cell_type": "code",
   "execution_count": 13,
   "id": "0d339bf6",
   "metadata": {},
   "outputs": [
    {
     "name": "stdout",
     "output_type": "stream",
     "text": [
      "CPU times: user 3 µs, sys: 0 ns, total: 3 µs\n",
      "Wall time: 5.96 µs\n",
      "True\n"
     ]
    }
   ],
   "source": [
    "%time\n",
    "list_of_dataset = Datasets()\n",
    "count = 0\n",
    "for obs in observations:\n",
    "    dataset = dataset_maker.run(dataset_empty.copy(name=str(obs.obs_id)), obs)\n",
    "    dataset = bkg_maker.run(dataset, obs)\n",
    "    dataset = safe_mask_maker.run(dataset, obs)\n",
    "    list_of_dataset.append(dataset)\n",
    "    stacked.stack(dataset)\n",
    "    count+=1\n",
    "# Making sure all the datasets are in the list\n",
    "print(count==len(observations))\n",
    "    \n"
   ]
  },
  {
   "cell_type": "code",
   "execution_count": 14,
   "id": "c563a82f",
   "metadata": {
    "scrolled": true
   },
   "outputs": [
    {
     "name": "stdout",
     "output_type": "stream",
     "text": [
      "CPU times: user 3 µs, sys: 1 µs, total: 4 µs\n",
      "Wall time: 5.96 µs\n",
      "SpectrumDatasetOnOff\n",
      "--------------------\n",
      "\n",
      "  Name                            : 69123 \n",
      "\n",
      "  Total counts                    : 13 \n",
      "  Total off counts                : 35.00\n",
      "  Total background counts         : 5.83\n",
      "  Total excess counts             : 7.17\n",
      "\n",
      "  Predicted counts                : 6.86\n",
      "  Predicted background counts     : 6.86\n",
      "  Predicted excess counts         : nan\n",
      "\n",
      "  Exposure min                    : 1.17e+04 m2 s\n",
      "  Exposure max                    : 5.28e+08 m2 s\n",
      "\n",
      "  Acceptance mean                 : 1.000\n",
      "  Acceptance off                  : 90.000\n",
      "\n",
      "  Number of total bins            : 15 \n",
      "  Number of fit bins              : 15 \n",
      "\n",
      "  Fit statistic type              : wstat\n",
      "  Fit statistic value (-2 log(L)) : 17.13\n",
      "\n",
      "  Number of models                : 0 \n",
      "  Number of parameters            : 0\n",
      "  Number of free parameters       : 0\n",
      "\n",
      "\n",
      "SpectrumDatasetOnOff\n",
      "--------------------\n",
      "\n",
      "  Name                            : 69187 \n",
      "\n",
      "  Total counts                    : 9 \n",
      "  Total off counts                : 33.00\n",
      "  Total background counts         : 5.50\n",
      "  Total excess counts             : 3.50\n",
      "\n",
      "  Predicted counts                : 6.00\n",
      "  Predicted background counts     : 6.00\n",
      "  Predicted excess counts         : nan\n",
      "\n",
      "  Exposure min                    : 5.58e+04 m2 s\n",
      "  Exposure max                    : 7.14e+08 m2 s\n",
      "\n",
      "  Acceptance mean                 : 1.000\n",
      "  Acceptance off                  : 90.000\n",
      "\n",
      "  Number of total bins            : 15 \n",
      "  Number of fit bins              : 15 \n",
      "\n",
      "  Fit statistic type              : wstat\n",
      "  Fit statistic value (-2 log(L)) : 6.89\n",
      "\n",
      "  Number of models                : 0 \n",
      "  Number of parameters            : 0\n",
      "  Number of free parameters       : 0\n",
      "\n",
      "\n",
      "SpectrumDatasetOnOff\n",
      "--------------------\n",
      "\n",
      "  Name                            : 69188 \n",
      "\n",
      "  Total counts                    : 11 \n",
      "  Total off counts                : 33.00\n",
      "  Total background counts         : 5.50\n",
      "  Total excess counts             : 5.50\n",
      "\n",
      "  Predicted counts                : 6.29\n",
      "  Predicted background counts     : 6.29\n",
      "  Predicted excess counts         : nan\n",
      "\n",
      "  Exposure min                    : 8.67e+03 m2 s\n",
      "  Exposure max                    : 5.32e+08 m2 s\n",
      "\n",
      "  Acceptance mean                 : 1.000\n",
      "  Acceptance off                  : 90.000\n",
      "\n",
      "  Number of total bins            : 15 \n",
      "  Number of fit bins              : 15 \n",
      "\n",
      "  Fit statistic type              : wstat\n",
      "  Fit statistic value (-2 log(L)) : 15.66\n",
      "\n",
      "  Number of models                : 0 \n",
      "  Number of parameters            : 0\n",
      "  Number of free parameters       : 0\n",
      "\n",
      "\n",
      "SpectrumDatasetOnOff\n",
      "--------------------\n",
      "\n",
      "  Name                            : 69202 \n",
      "\n",
      "  Total counts                    : 14 \n",
      "  Total off counts                : 59.00\n",
      "  Total background counts         : 9.83\n",
      "  Total excess counts             : 4.17\n",
      "\n",
      "  Predicted counts                : 10.43\n",
      "  Predicted background counts     : 10.43\n",
      "  Predicted excess counts         : nan\n",
      "\n",
      "  Exposure min                    : 5.07e+04 m2 s\n",
      "  Exposure max                    : 6.42e+08 m2 s\n",
      "\n",
      "  Acceptance mean                 : 1.000\n",
      "  Acceptance off                  : 90.000\n",
      "\n",
      "  Number of total bins            : 15 \n",
      "  Number of fit bins              : 15 \n",
      "\n",
      "  Fit statistic type              : wstat\n",
      "  Fit statistic value (-2 log(L)) : 14.32\n",
      "\n",
      "  Number of models                : 0 \n",
      "  Number of parameters            : 0\n",
      "  Number of free parameters       : 0\n",
      "\n",
      "\n",
      "SpectrumDatasetOnOff\n",
      "--------------------\n",
      "\n",
      "  Name                            : 69203 \n",
      "\n",
      "  Total counts                    : 18 \n",
      "  Total off counts                : 44.00\n",
      "  Total background counts         : 7.33\n",
      "  Total excess counts             : 10.67\n",
      "\n",
      "  Predicted counts                : 8.86\n",
      "  Predicted background counts     : 8.86\n",
      "  Predicted excess counts         : nan\n",
      "\n",
      "  Exposure min                    : 1.20e+04 m2 s\n",
      "  Exposure max                    : 5.28e+08 m2 s\n",
      "\n",
      "  Acceptance mean                 : 1.000\n",
      "  Acceptance off                  : 90.000\n",
      "\n",
      "  Number of total bins            : 15 \n",
      "  Number of fit bins              : 15 \n",
      "\n",
      "  Fit statistic type              : wstat\n",
      "  Fit statistic value (-2 log(L)) : 18.40\n",
      "\n",
      "  Number of models                : 0 \n",
      "  Number of parameters            : 0\n",
      "  Number of free parameters       : 0\n",
      "\n",
      "\n",
      "SpectrumDatasetOnOff\n",
      "--------------------\n",
      "\n",
      "  Name                            : 73193 \n",
      "\n",
      "  Total counts                    : 4 \n",
      "  Total off counts                : 42.00\n",
      "  Total background counts         : 7.00\n",
      "  Total excess counts             : -3.00\n",
      "\n",
      "  Predicted counts                : 6.57\n",
      "  Predicted background counts     : 6.57\n",
      "  Predicted excess counts         : nan\n",
      "\n",
      "  Exposure min                    : 1.26e+04 m2 s\n",
      "  Exposure max                    : 4.30e+08 m2 s\n",
      "\n",
      "  Acceptance mean                 : 1.000\n",
      "  Acceptance off                  : 90.000\n",
      "\n",
      "  Number of total bins            : 15 \n",
      "  Number of fit bins              : 15 \n",
      "\n",
      "  Fit statistic type              : wstat\n",
      "  Fit statistic value (-2 log(L)) : 5.92\n",
      "\n",
      "  Number of models                : 0 \n",
      "  Number of parameters            : 0\n",
      "  Number of free parameters       : 0\n",
      "\n",
      "\n",
      "SpectrumDatasetOnOff\n",
      "--------------------\n",
      "\n",
      "  Name                            : 73213 \n",
      "\n",
      "  Total counts                    : 15 \n",
      "  Total off counts                : 55.00\n",
      "  Total background counts         : 9.17\n",
      "  Total excess counts             : 5.83\n",
      "\n",
      "  Predicted counts                : 10.00\n",
      "  Predicted background counts     : 10.00\n",
      "  Predicted excess counts         : nan\n",
      "\n",
      "  Exposure min                    : 9.88e+04 m2 s\n",
      "  Exposure max                    : 7.18e+08 m2 s\n",
      "\n",
      "  Acceptance mean                 : 1.000\n",
      "  Acceptance off                  : 90.000\n",
      "\n",
      "  Number of total bins            : 15 \n",
      "  Number of fit bins              : 15 \n",
      "\n",
      "  Fit statistic type              : wstat\n",
      "  Fit statistic value (-2 log(L)) : 15.14\n",
      "\n",
      "  Number of models                : 0 \n",
      "  Number of parameters            : 0\n",
      "  Number of free parameters       : 0\n",
      "\n",
      "\n",
      "SpectrumDatasetOnOff\n",
      "--------------------\n",
      "\n",
      "  Name                            : 73234 \n",
      "\n",
      "  Total counts                    : 12 \n",
      "  Total off counts                : 23.00\n",
      "  Total background counts         : 3.83\n",
      "  Total excess counts             : 8.17\n",
      "\n",
      "  Predicted counts                : 5.00\n",
      "  Predicted background counts     : 5.00\n",
      "  Predicted excess counts         : nan\n",
      "\n",
      "  Exposure min                    : 1.28e+04 m2 s\n",
      "  Exposure max                    : 3.31e+08 m2 s\n",
      "\n",
      "  Acceptance mean                 : 1.000\n",
      "  Acceptance off                  : 90.000\n",
      "\n",
      "  Number of total bins            : 15 \n",
      "  Number of fit bins              : 15 \n",
      "\n",
      "  Fit statistic type              : wstat\n",
      "  Fit statistic value (-2 log(L)) : 26.64\n",
      "\n",
      "  Number of models                : 0 \n",
      "  Number of parameters            : 0\n",
      "  Number of free parameters       : 0\n",
      "\n",
      "\n",
      "SpectrumDatasetOnOff\n",
      "--------------------\n",
      "\n",
      "  Name                            : 73300 \n",
      "\n",
      "  Total counts                    : 18 \n",
      "  Total off counts                : 47.00\n",
      "  Total background counts         : 7.83\n",
      "  Total excess counts             : 10.17\n",
      "\n",
      "  Predicted counts                : 9.29\n",
      "  Predicted background counts     : 9.29\n",
      "  Predicted excess counts         : nan\n",
      "\n",
      "  Exposure min                    : 1.93e+04 m2 s\n",
      "  Exposure max                    : 6.64e+08 m2 s\n",
      "\n",
      "  Acceptance mean                 : 1.000\n",
      "  Acceptance off                  : 90.000\n",
      "\n",
      "  Number of total bins            : 15 \n",
      "  Number of fit bins              : 15 \n",
      "\n",
      "  Fit statistic type              : wstat\n",
      "  Fit statistic value (-2 log(L)) : 21.29\n",
      "\n",
      "  Number of models                : 0 \n",
      "  Number of parameters            : 0\n",
      "  Number of free parameters       : 0\n",
      "\n",
      "\n",
      "SpectrumDatasetOnOff\n",
      "--------------------\n",
      "\n",
      "  Name                            : 73317 \n",
      "\n",
      "  Total counts                    : 18 \n",
      "  Total off counts                : 31.00\n",
      "  Total background counts         : 5.17\n",
      "  Total excess counts             : 12.83\n",
      "\n",
      "  Predicted counts                : 7.00\n",
      "  Predicted background counts     : 7.00\n",
      "  Predicted excess counts         : nan\n",
      "\n",
      "  Exposure min                    : 1.67e+04 m2 s\n",
      "  Exposure max                    : 5.99e+08 m2 s\n",
      "\n",
      "  Acceptance mean                 : 1.000\n",
      "  Acceptance off                  : 90.000\n",
      "\n",
      "  Number of total bins            : 15 \n",
      "  Number of fit bins              : 15 \n",
      "\n",
      "  Fit statistic type              : wstat\n",
      "  Fit statistic value (-2 log(L)) : 31.44\n",
      "\n",
      "  Number of models                : 0 \n",
      "  Number of parameters            : 0\n",
      "  Number of free parameters       : 0\n",
      "\n",
      "\n",
      "SpectrumDatasetOnOff\n",
      "--------------------\n",
      "\n",
      "  Name                            : 73335 \n",
      "\n",
      "  Total counts                    : 7 \n",
      "  Total off counts                : 40.00\n",
      "  Total background counts         : 6.67\n",
      "  Total excess counts             : 0.33\n",
      "\n",
      "  Predicted counts                : 6.71\n",
      "  Predicted background counts     : 6.71\n",
      "  Predicted excess counts         : nan\n",
      "\n",
      "  Exposure min                    : 2.18e+04 m2 s\n",
      "  Exposure max                    : 6.00e+08 m2 s\n",
      "\n",
      "  Acceptance mean                 : 1.000\n",
      "  Acceptance off                  : 90.000\n",
      "\n",
      "  Number of total bins            : 15 \n",
      "  Number of fit bins              : 15 \n",
      "\n",
      "  Fit statistic type              : wstat\n",
      "  Fit statistic value (-2 log(L)) : 14.06\n",
      "\n",
      "  Number of models                : 0 \n",
      "  Number of parameters            : 0\n",
      "  Number of free parameters       : 0\n",
      "\n",
      "\n",
      "SpectrumDatasetOnOff\n",
      "--------------------\n",
      "\n",
      "  Name                            : 73356 \n",
      "\n",
      "  Total counts                    : 1 \n",
      "  Total off counts                : 4.00\n",
      "  Total background counts         : 0.67\n",
      "  Total excess counts             : 0.33\n",
      "\n",
      "  Predicted counts                : 0.71\n",
      "  Predicted background counts     : 0.71\n",
      "  Predicted excess counts         : nan\n",
      "\n",
      "  Exposure min                    : 1.59e+03 m2 s\n",
      "  Exposure max                    : 9.05e+07 m2 s\n",
      "\n",
      "  Acceptance mean                 : 1.000\n",
      "  Acceptance off                  : 90.000\n",
      "\n",
      "  Number of total bins            : 15 \n",
      "  Number of fit bins              : 15 \n",
      "\n",
      "  Fit statistic type              : wstat\n",
      "  Fit statistic value (-2 log(L)) : 2.35\n",
      "\n",
      "  Number of models                : 0 \n",
      "  Number of parameters            : 0\n",
      "  Number of free parameters       : 0\n",
      "\n",
      "\n",
      "SpectrumDatasetOnOff\n",
      "--------------------\n",
      "\n",
      "  Name                            : 73357 \n",
      "\n",
      "  Total counts                    : 3 \n",
      "  Total off counts                : 32.00\n",
      "  Total background counts         : 5.33\n",
      "  Total excess counts             : -2.33\n",
      "\n",
      "  Predicted counts                : 5.00\n",
      "  Predicted background counts     : 5.00\n",
      "  Predicted excess counts         : nan\n",
      "\n",
      "  Exposure min                    : 1.45e+04 m2 s\n",
      "  Exposure max                    : 5.27e+08 m2 s\n",
      "\n",
      "  Acceptance mean                 : 1.000\n",
      "  Acceptance off                  : 90.000\n",
      "\n",
      "  Number of total bins            : 15 \n",
      "  Number of fit bins              : 15 \n",
      "\n",
      "  Fit statistic type              : wstat\n",
      "  Fit statistic value (-2 log(L)) : 6.72\n",
      "\n",
      "  Number of models                : 0 \n",
      "  Number of parameters            : 0\n",
      "  Number of free parameters       : 0\n",
      "\n"
     ]
    },
    {
     "name": "stdout",
     "output_type": "stream",
     "text": [
      "\n",
      "SpectrumDatasetOnOff\n",
      "--------------------\n",
      "\n",
      "  Name                            : 73370 \n",
      "\n",
      "  Total counts                    : 14 \n",
      "  Total off counts                : 38.00\n",
      "  Total background counts         : 6.33\n",
      "  Total excess counts             : 7.67\n",
      "\n",
      "  Predicted counts                : 7.43\n",
      "  Predicted background counts     : 7.43\n",
      "  Predicted excess counts         : nan\n",
      "\n",
      "  Exposure min                    : 3.33e+04 m2 s\n",
      "  Exposure max                    : 6.49e+08 m2 s\n",
      "\n",
      "  Acceptance mean                 : 1.000\n",
      "  Acceptance off                  : 90.000\n",
      "\n",
      "  Number of total bins            : 15 \n",
      "  Number of fit bins              : 15 \n",
      "\n",
      "  Fit statistic type              : wstat\n",
      "  Fit statistic value (-2 log(L)) : 17.90\n",
      "\n",
      "  Number of models                : 0 \n",
      "  Number of parameters            : 0\n",
      "  Number of free parameters       : 0\n",
      "\n",
      "\n",
      "SpectrumDatasetOnOff\n",
      "--------------------\n",
      "\n",
      "  Name                            : 73390 \n",
      "\n",
      "  Total counts                    : 12 \n",
      "  Total off counts                : 37.00\n",
      "  Total background counts         : 6.17\n",
      "  Total excess counts             : 5.83\n",
      "\n",
      "  Predicted counts                : 7.00\n",
      "  Predicted background counts     : 7.00\n",
      "  Predicted excess counts         : nan\n",
      "\n",
      "  Exposure min                    : 1.21e+04 m2 s\n",
      "  Exposure max                    : 5.90e+08 m2 s\n",
      "\n",
      "  Acceptance mean                 : 1.000\n",
      "  Acceptance off                  : 90.000\n",
      "\n",
      "  Number of total bins            : 15 \n",
      "  Number of fit bins              : 15 \n",
      "\n",
      "  Fit statistic type              : wstat\n",
      "  Fit statistic value (-2 log(L)) : 9.39\n",
      "\n",
      "  Number of models                : 0 \n",
      "  Number of parameters            : 0\n",
      "  Number of free parameters       : 0\n",
      "\n",
      "\n",
      "SpectrumDatasetOnOff\n",
      "--------------------\n",
      "\n",
      "  Name                            : 73403 \n",
      "\n",
      "  Total counts                    : 10 \n",
      "  Total off counts                : 53.00\n",
      "  Total background counts         : 8.83\n",
      "  Total excess counts             : 1.17\n",
      "\n",
      "  Predicted counts                : 9.00\n",
      "  Predicted background counts     : 9.00\n",
      "  Predicted excess counts         : nan\n",
      "\n",
      "  Exposure min                    : 3.03e+04 m2 s\n",
      "  Exposure max                    : 6.57e+08 m2 s\n",
      "\n",
      "  Acceptance mean                 : 1.000\n",
      "  Acceptance off                  : 90.000\n",
      "\n",
      "  Number of total bins            : 15 \n",
      "  Number of fit bins              : 15 \n",
      "\n",
      "  Fit statistic type              : wstat\n",
      "  Fit statistic value (-2 log(L)) : 4.49\n",
      "\n",
      "  Number of models                : 0 \n",
      "  Number of parameters            : 0\n",
      "  Number of free parameters       : 0\n",
      "\n",
      "\n",
      "SpectrumDatasetOnOff\n",
      "--------------------\n",
      "\n",
      "  Name                            : 73607 \n",
      "\n",
      "  Total counts                    : 4 \n",
      "  Total off counts                : 26.00\n",
      "  Total background counts         : 4.33\n",
      "  Total excess counts             : -0.33\n",
      "\n",
      "  Predicted counts                : 4.29\n",
      "  Predicted background counts     : 4.29\n",
      "  Predicted excess counts         : nan\n",
      "\n",
      "  Exposure min                    : 1.38e+03 m2 s\n",
      "  Exposure max                    : 4.37e+08 m2 s\n",
      "\n",
      "  Acceptance mean                 : 1.000\n",
      "  Acceptance off                  : 90.000\n",
      "\n",
      "  Number of total bins            : 15 \n",
      "  Number of fit bins              : 15 \n",
      "\n",
      "  Fit statistic type              : wstat\n",
      "  Fit statistic value (-2 log(L)) : 9.18\n",
      "\n",
      "  Number of models                : 0 \n",
      "  Number of parameters            : 0\n",
      "  Number of free parameters       : 0\n",
      "\n",
      "\n"
     ]
    }
   ],
   "source": [
    "%time\n",
    "for dataset in list_of_dataset:\n",
    "    print(dataset)\n",
    "\n",
    "\n"
   ]
  },
  {
   "cell_type": "code",
   "execution_count": 15,
   "id": "a675a8e0",
   "metadata": {},
   "outputs": [],
   "source": [
    "info_table= list_of_dataset.info_table(cumulative=True)"
   ]
  },
  {
   "cell_type": "code",
   "execution_count": 16,
   "id": "b38cdb7c",
   "metadata": {
    "scrolled": true
   },
   "outputs": [
    {
     "data": {
      "text/html": [
       "<i>Table length=17</i>\n",
       "<table id=\"table140695436735208\" class=\"table-striped table-bordered table-condensed\">\n",
       "<thead><tr><th>name</th><th>counts</th><th>background</th><th>excess</th><th>sqrt_ts</th><th>npred</th><th>npred_background</th><th>npred_signal</th><th>exposure_min</th><th>exposure_max</th><th>livetime</th><th>ontime</th><th>counts_rate</th><th>background_rate</th><th>excess_rate</th><th>n_bins</th><th>n_fit_bins</th><th>stat_type</th><th>stat_sum</th><th>counts_off</th><th>acceptance</th><th>acceptance_off</th><th>alpha</th></tr></thead>\n",
       "<thead><tr><th></th><th></th><th></th><th></th><th></th><th></th><th></th><th></th><th>m2 s</th><th>m2 s</th><th>s</th><th>s</th><th>1 / s</th><th>1 / s</th><th>1 / s</th><th></th><th></th><th></th><th></th><th></th><th></th><th></th><th></th></tr></thead>\n",
       "<thead><tr><th>str5</th><th>float32</th><th>float64</th><th>float64</th><th>float64</th><th>float64</th><th>float64</th><th>float64</th><th>float64</th><th>float64</th><th>float64</th><th>float64</th><th>float64</th><th>float64</th><th>float64</th><th>int64</th><th>int64</th><th>str5</th><th>float64</th><th>float32</th><th>float64</th><th>float64</th><th>float64</th></tr></thead>\n",
       "<tr><td>69123</td><td>13.0</td><td>5.833333333333333</td><td>7.166666666666667</td><td>2.3047694059162627</td><td>6.857142857142857</td><td>6.857142857142857</td><td>nan</td><td>11712.76966370375</td><td>527619945.640971</td><td>1622.2295077505962</td><td>1802.6912210285664</td><td>0.008013662640143911</td><td>0.0035958742616030367</td><td>0.004417788378540875</td><td>15</td><td>15</td><td>wstat</td><td>17.129228654888202</td><td>35.0</td><td>15.0</td><td>90.0</td><td>0.16666666666666663</td></tr>\n",
       "<tr><td>69123</td><td>22.0</td><td>11.333333969116211</td><td>10.666666030883789</td><td>2.5451349723311236</td><td>12.85714318557661</td><td>12.85714318557661</td><td>nan</td><td>67486.27267436817</td><td>1241242375.0352812</td><td>3279.131181559589</td><td>3605.399575084448</td><td>0.0067090942026712605</td><td>0.003456200237687947</td><td>0.0032528939649833135</td><td>15</td><td>15</td><td>wstat</td><td>16.981508721398505</td><td>68.0</td><td>15.0</td><td>89.99999237060547</td><td>0.1666666716337204</td></tr>\n",
       "<tr><td>69123</td><td>33.0</td><td>16.833332061767578</td><td>16.166667938232422</td><td>3.1577342963800508</td><td>19.142858058822387</td><td>19.142858058822387</td><td>nan</td><td>76152.99735346326</td><td>1773153305.0102699</td><td>4945.744809190062</td><td>5408.106763660908</td><td>0.006672402494095572</td><td>0.003403598994935665</td><td>0.003268803499159907</td><td>15</td><td>15</td><td>wstat</td><td>27.724888751531125</td><td>101.0</td><td>15.0</td><td>90.00000762939453</td><td>0.1666666716337204</td></tr>\n",
       "<tr><td>69123</td><td>47.0</td><td>26.666667938232422</td><td>20.333332061767578</td><td>3.235379795995321</td><td>29.571430947099373</td><td>29.571430947099373</td><td>nan</td><td>126873.29047882506</td><td>2415228894.3015175</td><td>6540.669935996066</td><td>7210.786284387112</td><td>0.007185808252047573</td><td>0.004077054521811978</td><td>0.0031087537302355948</td><td>15</td><td>15</td><td>wstat</td><td>32.91841857466466</td><td>160.0</td><td>15.0</td><td>89.99999237060547</td><td>0.1666666865348816</td></tr>\n",
       "<tr><td>69123</td><td>65.0</td><td>34.00000762939453</td><td>30.99999237060547</td><td>4.286065941862733</td><td>38.42857496105889</td><td>38.42857496105889</td><td>nan</td><td>138831.45734040803</td><td>2943260204.3473034</td><td>8127.777770256019</td><td>9013.506550610065</td><td>0.007997265899403713</td><td>0.004183186178369584</td><td>0.003814079721034129</td><td>15</td><td>15</td><td>wstat</td><td>40.33879082998484</td><td>204.0</td><td>15.0</td><td>89.9999771118164</td><td>0.16666670143604279</td></tr>\n",
       "<tr><td>69123</td><td>69.0</td><td>41.00000762939453</td><td>27.99999237060547</td><td>3.6313600598208615</td><td>45.00000441196006</td><td>45.00000441196006</td><td>nan</td><td>151438.00169103296</td><td>3373176203.818906</td><td>9259.477801310048</td><td>10335.103254020214</td><td>0.007451824118012115</td><td>0.004427896314368158</td><td>0.003023927803643957</td><td>15</td><td>15</td><td>wstat</td><td>36.051936920461834</td><td>246.0</td><td>15.0</td><td>89.99998474121094</td><td>0.16666670143604279</td></tr>\n",
       "<tr><td>69123</td><td>84.0</td><td>50.16667938232422</td><td>33.83332061767578</td><td>3.971376486165515</td><td>55.000005411858375</td><td>55.000005411858375</td><td>nan</td><td>250223.94405757793</td><td>4090763430.993975</td><td>11078.750838149166</td><td>12435.608788967133</td><td>0.007582082242589109</td><td>0.004528189153742639</td><td>0.0030538930888464703</td><td>15</td><td>15</td><td>wstat</td><td>45.31630539705818</td><td>301.0</td><td>15.0</td><td>89.9999771118164</td><td>0.16666670143604279</td></tr>\n",
       "<tr><td>69123</td><td>96.0</td><td>54.00000762939453</td><td>41.99999237060547</td><td>4.686903844601783</td><td>60.00000513451431</td><td>60.00000513451431</td><td>nan</td><td>263041.26412578934</td><td>4421803312.431233</td><td>11957.3623515813</td><td>13455.739992558956</td><td>0.008028526457367456</td><td>0.004516046770319151</td><td>0.003512479687048305</td><td>15</td><td>15</td><td>wstat</td><td>60.667755509924454</td><td>324.0</td><td>15.0</td><td>89.99998474121094</td><td>0.16666670143604279</td></tr>\n",
       "<tr><td>69123</td><td>114.0</td><td>61.83333969116211</td><td>52.16666030883789</td><td>5.394261787772773</td><td>69.28572027050711</td><td>69.28572027050711</td><td>nan</td><td>282302.9176272612</td><td>5085343899.125209</td><td>13558.588277755267</td><td>15255.987674891949</td><td>0.008407954992411173</td><td>0.004560455589068091</td><td>0.0038474994033430815</td><td>15</td><td>15</td><td>wstat</td><td>75.36610489400795</td><td>371.0</td><td>15.0</td><td>89.99999237060547</td><td>0.16666670143604279</td></tr>\n",
       "<tr><td>69123</td><td>132.0</td><td>67.0</td><td>65.0</td><td>6.356245229213153</td><td>76.2857212813532</td><td>76.2857212813532</td><td>nan</td><td>299013.2904591884</td><td>5683868283.196027</td><td>15165.30656461935</td><td>17067.17549854517</td><td>0.00870407725933849</td><td>0.004417978608906658</td><td>0.004286098650431832</td><td>15</td><td>15</td><td>wstat</td><td>98.32145388286378</td><td>402.0</td><td>15.0</td><td>90.0</td><td>0.1666666865348816</td></tr>\n",
       "<tr><td>69123</td><td>139.0</td><td>73.66667175292969</td><td>65.33332824707031</td><td>6.155771174948919</td><td>83.00000813055998</td><td>83.00000813055998</td><td>nan</td><td>320843.3405419554</td><td>6284215471.213686</td><td>16689.809942549193</td><td>18806.822551488876</td><td>0.00832843516364029</td><td>0.004413871218816161</td><td>0.003914563944824127</td><td>15</td><td>15</td><td>wstat</td><td>98.28087148850784</td><td>442.0</td><td>15.0</td><td>89.99999237060547</td><td>0.1666666865348816</td></tr>\n",
       "<tr><td>69123</td><td>140.0</td><td>74.33333587646484</td><td>65.66666412353516</td><td>6.162047949728699</td><td>83.71429237419235</td><td>83.71429237419235</td><td>nan</td><td>322431.430383336</td><td>6374706623.22214</td><td>16955.008134860156</td><td>19109.276159584522</td><td>0.008257147321100635</td><td>0.004384152180005895</td><td>0.003872995141094739</td><td>15</td><td>15</td><td>wstat</td><td>96.78145824329926</td><td>446.0</td><td>15.0</td><td>90.0</td><td>0.1666666865348816</td></tr>\n",
       "<tr><td>69123</td><td>143.0</td><td>79.66667938232422</td><td>63.33332061767578</td><td>5.805734290311853</td><td>88.71429439588454</td><td>88.71429439588454</td><td>nan</td><td>336970.54924775264</td><td>6901975757.637535</td><td>18356.458917648633</td><td>20744.125275850296</td><td>0.007790173510126949</td><td>0.004339980806740972</td><td>0.003450192703385978</td><td>15</td><td>15</td><td>wstat</td><td>90.59741108728404</td><td>478.0</td><td>15.0</td><td>89.99998474121094</td><td>0.1666666865348816</td></tr>\n",
       "<tr><td>69123</td><td>157.0</td><td>86.0</td><td>71.0</td><td>6.239666330202969</td><td>96.14286650686829</td><td>96.14286650686829</td><td>nan</td><td>370235.6259745056</td><td>7550613203.053141</td><td>19923.459434004053</td><td>22544.41535949707</td><td>0.007880157586088826</td><td>0.004316519442061394</td><td>0.0035636381440274302</td><td>15</td><td>15</td><td>wstat</td><td>98.67300280055959</td><td>516.0</td><td>15.0</td><td>90.0</td><td>0.1666666865348816</td></tr>\n",
       "<tr><td>69123</td><td>169.0</td><td>92.16666412353516</td><td>76.83333587646484</td><td>6.515803335791509</td><td>103.14286716738508</td><td>103.14286716738508</td><td>nan</td><td>382318.8041231816</td><td>8140601343.051322</td><td>21507.54959460081</td><td>24344.688658356667</td><td>0.007857705930499179</td><td>0.004285316824129161</td><td>0.0035723891063700187</td><td>15</td><td>15</td><td>wstat</td><td>102.84353926141175</td><td>553.0</td><td>15.0</td><td>90.0</td><td>0.1666666865348816</td></tr>\n",
       "<tr><td>69123</td><td>179.0</td><td>101.00000762939453</td><td>77.99999237060547</td><td>6.369118154114807</td><td>112.14286818552971</td><td>112.14286818552971</td><td>nan</td><td>412658.4790263933</td><td>8797574579.895823</td><td>23262.678604465298</td><td>26348.781247496605</td><td>0.007694728670052672</td><td>0.004341718739561121</td><td>0.0033530099304915507</td><td>15</td><td>15</td><td>wstat</td><td>99.97994711028122</td><td>606.0</td><td>15.0</td><td>89.99999237060547</td><td>0.16666670143604279</td></tr>\n",
       "<tr><td>69123</td><td>183.0</td><td>105.33334350585938</td><td>77.66665649414062</td><td>6.238674502089327</td><td>116.42858289820788</td><td>116.42858289820788</td><td>nan</td><td>414034.8531048175</td><td>9235039266.695946</td><td>24774.422876897166</td><td>28025.716786801815</td><td>0.007386650373625961</td><td>0.0042516971648241956</td><td>0.003134953208801765</td><td>15</td><td>15</td><td>wstat</td><td>95.51514069711735</td><td>632.0</td><td>15.0</td><td>89.99999237060547</td><td>0.16666670143604279</td></tr>\n",
       "</table>"
      ],
      "text/plain": [
       "<Table length=17>\n",
       " name  counts     background     ...   acceptance_off         alpha       \n",
       "                                 ...                                      \n",
       " str5 float32      float64       ...      float64            float64      \n",
       "----- ------- ------------------ ... ----------------- -------------------\n",
       "69123    13.0  5.833333333333333 ...              90.0 0.16666666666666663\n",
       "69123    22.0 11.333333969116211 ... 89.99999237060547  0.1666666716337204\n",
       "69123    33.0 16.833332061767578 ... 90.00000762939453  0.1666666716337204\n",
       "69123    47.0 26.666667938232422 ... 89.99999237060547  0.1666666865348816\n",
       "69123    65.0  34.00000762939453 ...  89.9999771118164 0.16666670143604279\n",
       "69123    69.0  41.00000762939453 ... 89.99998474121094 0.16666670143604279\n",
       "69123    84.0  50.16667938232422 ...  89.9999771118164 0.16666670143604279\n",
       "69123    96.0  54.00000762939453 ... 89.99998474121094 0.16666670143604279\n",
       "69123   114.0  61.83333969116211 ... 89.99999237060547 0.16666670143604279\n",
       "69123   132.0               67.0 ...              90.0  0.1666666865348816\n",
       "69123   139.0  73.66667175292969 ... 89.99999237060547  0.1666666865348816\n",
       "69123   140.0  74.33333587646484 ...              90.0  0.1666666865348816\n",
       "69123   143.0  79.66667938232422 ... 89.99998474121094  0.1666666865348816\n",
       "69123   157.0               86.0 ...              90.0  0.1666666865348816\n",
       "69123   169.0  92.16666412353516 ...              90.0  0.1666666865348816\n",
       "69123   179.0 101.00000762939453 ... 89.99999237060547 0.16666670143604279\n",
       "69123   183.0 105.33334350585938 ... 89.99999237060547 0.16666670143604279"
      ]
     },
     "execution_count": 16,
     "metadata": {},
     "output_type": "execute_result"
    }
   ],
   "source": [
    "#print(info_table[\"excess_rate\"]*60)\n",
    "#print(info_table[\"background_rate\"]*60)\n",
    "info_table\n"
   ]
  },
  {
   "cell_type": "code",
   "execution_count": 17,
   "id": "d321697a",
   "metadata": {},
   "outputs": [
    {
     "name": "stdout",
     "output_type": "stream",
     "text": [
      "SpectrumDatasetOnOff\n",
      "--------------------\n",
      "\n",
      "  Name                            : LS5039 \n",
      "\n",
      "  Total counts                    : 183 \n",
      "  Total off counts                : 632.00\n",
      "  Total background counts         : 105.33\n",
      "  Total excess counts             : 77.67\n",
      "\n",
      "  Predicted counts                : 116.43\n",
      "  Predicted background counts     : 116.43\n",
      "  Predicted excess counts         : nan\n",
      "\n",
      "  Exposure min                    : 4.14e+09 cm2 s\n",
      "  Exposure max                    : 9.24e+13 cm2 s\n",
      "\n",
      "  Acceptance mean                 : 1.000\n",
      "  Acceptance off                  : 90.000\n",
      "\n",
      "  Number of total bins            : 15 \n",
      "  Number of fit bins              : 15 \n",
      "\n",
      "  Fit statistic type              : wstat\n",
      "  Fit statistic value (-2 log(L)) : 95.52\n",
      "\n",
      "  Number of models                : 0 \n",
      "  Number of parameters            : 0\n",
      "  Number of free parameters       : 0\n",
      "\n",
      "\n"
     ]
    },
    {
     "data": {
      "text/plain": [
       "(<matplotlib.axes._subplots.AxesSubplot at 0x7ff63a9226d8>,\n",
       " <matplotlib.axes._subplots.AxesSubplot at 0x7ff6391766a0>,\n",
       " <matplotlib.axes._subplots.AxesSubplot at 0x7ff63906cba8>)"
      ]
     },
     "execution_count": 17,
     "metadata": {},
     "output_type": "execute_result"
    },
    {
     "data": {
      "image/png": "[encoded data removed]",
      "text/plain": [
       "<Figure size 1152x288 with 3 Axes>"
      ]
     },
     "metadata": {
      "needs_background": "light"
     },
     "output_type": "display_data"
    }
   ],
   "source": [
    "print(stacked)\n",
    "stacked.peek()\n",
    "\n",
    "\n"
   ]
  },
  {
   "cell_type": "code",
   "execution_count": 18,
   "id": "74f6dcb9",
   "metadata": {},
   "outputs": [
    {
     "data": {
      "text/plain": [
       "<matplotlib.axes._subplots.AxesSubplot at 0x7ff645838780>"
      ]
     },
     "execution_count": 18,
     "metadata": {},
     "output_type": "execute_result"
    },
    {
     "data": {
      "image/png": "[encoded data removed]",
      "text/plain": [
       "<Figure size 432x288 with 1 Axes>"
      ]
     },
     "metadata": {
      "needs_background": "light"
     },
     "output_type": "display_data"
    }
   ],
   "source": [
    "stacked.background.plot_hist()\n",
    "\n",
    "\n"
   ]
  },
  {
   "cell_type": "code",
   "execution_count": 19,
   "id": "02d99be5",
   "metadata": {},
   "outputs": [
    {
     "data": {
      "image/png": "[encoded data removed]",
      "text/plain": [
       "<Figure size 576x576 with 1 Axes>"
      ]
     },
     "metadata": {
      "needs_background": "light"
     },
     "output_type": "display_data"
    }
   ],
   "source": [
    "plt.figure(figsize=(8,8))\n",
    "_, ax, _ = exclusion_mask.plot()\n",
    "\n",
    "on_region.to_pixel(ax.wcs).plot(ax=ax, edgecolor=\"grey\")\n",
    "plot_spectrum_datasets_off_regions(ax=ax, datasets=list_of_dataset, legend=True)\n"
   ]
  },
  {
   "cell_type": "code",
   "execution_count": 18,
   "id": "aa1e678f",
   "metadata": {},
   "outputs": [],
   "source": [
    "# Defining a model to your dataset\n",
    "target_position = on_region.center\n",
    "#spatial_model = PointSpatialModel(lon_0=target_position.ra, lat_0=target_position.dec, frame=\"icrs\")\n",
    "\n",
    "spectral_model = PowerLawSpectralModel(index=2.502, amplitude= 1.712e-11*u.Unit(\"1/(cm2 s TeV)\"), reference = 1*u.TeV)\n",
    "\n",
    "\n",
    "#PowerLawSpectralModel??z\n",
    "sky_model = SkyModel(spectral_model=spectral_model, name = \"LS5039\")\n"
   ]
  },
  {
   "cell_type": "code",
   "execution_count": 19,
   "id": "df832e99",
   "metadata": {},
   "outputs": [],
   "source": [
    "models = Models(sky_model)\n",
    "\n",
    "#list_of_dataset.models=models\n",
    "\n",
    "for dataset in list_of_dataset:\n",
    "    dataset.models=models\n"
   ]
  },
  {
   "cell_type": "code",
   "execution_count": 20,
   "id": "0ca6e99a",
   "metadata": {},
   "outputs": [],
   "source": [
    "fit_joint = Fit(list_of_dataset)"
   ]
  },
  {
   "cell_type": "code",
   "execution_count": 21,
   "id": "71c7084e",
   "metadata": {},
   "outputs": [
    {
     "name": "stdout",
     "output_type": "stream",
     "text": [
      "CPU times: user 3 µs, sys: 0 ns, total: 3 µs\n",
      "Wall time: 6.2 µs\n",
      "OptimizeResult\n",
      "\n",
      "\tbackend    : minuit\n",
      "\tmethod     : minuit\n",
      "\tsuccess    : True\n",
      "\tmessage    : Optimization terminated successfully.\n",
      "\tnfev       : 91\n",
      "\ttotal stat : 186.98\n",
      "\n"
     ]
    }
   ],
   "source": [
    "%time\n",
    "result_joint = fit_joint.run()\n",
    "print(result_joint)"
   ]
  },
  {
   "cell_type": "code",
   "execution_count": 23,
   "id": "00bdd79d",
   "metadata": {},
   "outputs": [
    {
     "data": {
      "text/html": [
       "<i>Table length=3</i>\n",
       "<table id=\"table140695550806168\" class=\"table-striped table-bordered table-condensed\">\n",
       "<thead><tr><th>name</th><th>value</th><th>unit</th><th>min</th><th>max</th><th>frozen</th><th>error</th></tr></thead>\n",
       "<thead><tr><th>str9</th><th>float64</th><th>str14</th><th>float64</th><th>float64</th><th>bool</th><th>float64</th></tr></thead>\n",
       "<tr><td>index</td><td>1.7893e+00</td><td></td><td>nan</td><td>nan</td><td>False</td><td>2.102e-01</td></tr>\n",
       "<tr><td>amplitude</td><td>6.4438e-13</td><td>cm-2 s-1 TeV-1</td><td>nan</td><td>nan</td><td>False</td><td>1.263e-13</td></tr>\n",
       "<tr><td>reference</td><td>1.0000e+00</td><td>TeV</td><td>nan</td><td>nan</td><td>True</td><td>0.000e+00</td></tr>\n",
       "</table>"
      ],
      "text/plain": [
       "<Table length=3>\n",
       "   name     value         unit        min     max   frozen   error  \n",
       "   str9    float64       str14      float64 float64  bool   float64 \n",
       "--------- ---------- -------------- ------- ------- ------ ---------\n",
       "    index 1.7893e+00                    nan     nan  False 2.102e-01\n",
       "amplitude 6.4438e-13 cm-2 s-1 TeV-1     nan     nan  False 1.263e-13\n",
       "reference 1.0000e+00            TeV     nan     nan   True 0.000e+00"
      ]
     },
     "execution_count": 23,
     "metadata": {},
     "output_type": "execute_result"
    }
   ],
   "source": [
    "result_joint.parameters.to_table()"
   ]
  },
  {
   "cell_type": "code",
   "execution_count": 1153,
   "id": "8713e93b",
   "metadata": {
    "scrolled": false
   },
   "outputs": [
    {
     "data": {
      "text/html": [
       "<i>Table length=17</i>\n",
       "<table id=\"table140346145597144\" class=\"table-striped table-bordered table-condensed\">\n",
       "<thead><tr><th>name</th><th>counts</th><th>background</th><th>excess</th><th>sqrt_ts</th><th>npred</th><th>npred_background</th><th>npred_signal</th><th>exposure_min</th><th>exposure_max</th><th>livetime</th><th>ontime</th><th>counts_rate</th><th>background_rate</th><th>excess_rate</th><th>n_bins</th><th>n_fit_bins</th><th>stat_type</th><th>stat_sum</th><th>counts_off</th><th>acceptance</th><th>acceptance_off</th><th>alpha</th></tr></thead>\n",
       "<thead><tr><th></th><th></th><th></th><th></th><th></th><th></th><th></th><th></th><th>m2 s</th><th>m2 s</th><th>s</th><th>s</th><th>1 / s</th><th>1 / s</th><th>1 / s</th><th></th><th></th><th></th><th></th><th></th><th></th><th></th><th></th></tr></thead>\n",
       "<thead><tr><th>str5</th><th>float32</th><th>float64</th><th>float64</th><th>float64</th><th>float64</th><th>float64</th><th>float64</th><th>float64</th><th>float64</th><th>float64</th><th>float64</th><th>float64</th><th>float64</th><th>float64</th><th>int64</th><th>int64</th><th>str5</th><th>float64</th><th>float32</th><th>float64</th><th>float64</th><th>float64</th></tr></thead>\n",
       "<tr><td>69123</td><td>32.0</td><td>18.166666666666668</td><td>13.833333333333332</td><td>2.667160430190602</td><td>25.198111135224824</td><td>18.937867192689964</td><td>6.260243942534863</td><td>47428055.78601901</td><td>972428068.1373636</td><td>1622.2295077505962</td><td>1802.6912210285664</td><td>0.019725938806508088</td><td>0.011198579843278031</td><td>0.008527358963230059</td><td>20</td><td>20</td><td>wstat</td><td>14.11765180888761</td><td>109.0</td><td>20.0</td><td>119.99999999999999</td><td>0.16666666666666663</td></tr>\n",
       "<tr><td>69123</td><td>51.0</td><td>35.166664123535156</td><td>15.833335876464844</td><td>2.275940403474522</td><td>42.66556154507195</td><td>36.40531760253709</td><td>6.260243942534863</td><td>187878223.08517176</td><td>2271584935.310478</td><td>3279.131181559589</td><td>3605.399575084448</td><td>0.015552900197101559</td><td>0.010724384654477143</td><td>0.004828515542624417</td><td>20</td><td>20</td><td>wstat</td><td>21.29845004232535</td><td>194.0</td><td>20.0</td><td>110.3317642211914</td><td>0.1812553107738495</td></tr>\n",
       "<tr><td>69123</td><td>72.0</td><td>50.16666793823242</td><td>21.833332061767578</td><td>2.639377571106254</td><td>58.383408832159255</td><td>52.12316488962439</td><td>6.260243942534863</td><td>226664944.98871815</td><td>3242046480.9690733</td><td>4945.744809190062</td><td>5408.106763660908</td><td>0.014557969078026702</td><td>0.010143400008228071</td><td>0.0044145690697986305</td><td>20</td><td>20</td><td>wstat</td><td>25.713605562625506</td><td>284.0</td><td>20.0</td><td>113.22258758544922</td><td>0.17587800323963165</td></tr>\n",
       "<tr><td>69123</td><td>114.0</td><td>76.41666412353516</td><td>37.583335876464844</td><td>3.6161323601920703</td><td>87.29075662817742</td><td>81.03051268564256</td><td>6.260243942534863</td><td>371964640.52547526</td><td>4417247104.397048</td><td>6540.669935996066</td><td>7210.786284387112</td><td>0.017429407249647304</td><td>0.011683308418145672</td><td>0.005746098831501631</td><td>20</td><td>20</td><td>wstat</td><td>34.53434968851344</td><td>389.0</td><td>20.0</td><td>101.81025695800781</td><td>0.19677402079105377</td></tr>\n",
       "<tr><td>69123</td><td>148.0</td><td>94.91667175292969</td><td>53.08332824707031</td><td>4.551784862133425</td><td>108.03061096257346</td><td>101.7703670200386</td><td>6.260243942534863</td><td>423524178.1272927</td><td>5378588855.70905</td><td>8127.777770256019</td><td>9013.506550610065</td><td>0.0182091592786423</td><td>0.011678059419916925</td><td>0.006531099858725373</td><td>20</td><td>20</td><td>wstat</td><td>36.85813103084465</td><td>500.0</td><td>20.0</td><td>105.3555679321289</td><td>0.18892952799797058</td></tr>\n",
       "<tr><td>69123</td><td>167.0</td><td>109.25</td><td>57.75</td><td>4.643834317397117</td><td>123.10151443738548</td><td>116.8412704948506</td><td>6.260243942534863</td><td>483978046.5564195</td><td>6149670470.742813</td><td>9259.477801310048</td><td>10335.103254020214</td><td>0.018035574314609032</td><td>0.011798721520185847</td><td>0.006236852794423183</td><td>20</td><td>20</td><td>wstat</td><td>33.86041326473103</td><td>586.0</td><td>20.0</td><td>107.27688598632812</td><td>0.18626634776592255</td></tr>\n",
       "<tr><td>69123</td><td>196.0</td><td>134.5833282470703</td><td>61.41667175292969</td><td>4.462469149202068</td><td>149.6002710863739</td><td>143.34002714383905</td><td>6.260243942534863</td><td>675131846.178229</td><td>7492695942.2877865</td><td>11078.750838149166</td><td>12435.608788967133</td><td>0.017691525232707922</td><td>0.012147879324412537</td><td>0.005543645908295385</td><td>20</td><td>20</td><td>wstat</td><td>36.40001539545762</td><td>662.0</td><td>20.0</td><td>98.37771606445312</td><td>0.20061948895454407</td></tr>\n",
       "<tr><td>69123</td><td>223.0</td><td>146.75</td><td>76.25</td><td>5.26434212946551</td><td>163.9455545911923</td><td>157.6853106486574</td><td>6.260243942534863</td><td>721481985.8966558</td><td>8088507894.391008</td><td>11957.3623515813</td><td>13455.739992558956</td><td>0.018649597916593152</td><td>0.012272773516861188</td><td>0.006376824399731963</td><td>20</td><td>20</td><td>wstat</td><td>54.663912784823914</td><td>735.0</td><td>20.0</td><td>100.17035675048828</td><td>0.19783559441566467</td></tr>\n",
       "<tr><td>69123</td><td>254.0</td><td>167.54998779296875</td><td>86.45001220703125</td><td>5.5887007521431515</td><td>186.33332483242697</td><td>180.07308088989208</td><td>6.260243942534863</td><td>803531907.1577154</td><td>9269341306.750248</td><td>13558.588277755267</td><td>15255.987674891949</td><td>0.018733513755021386</td><td>0.012357480318792304</td><td>0.006376033436229081</td><td>20</td><td>20</td><td>wstat</td><td>63.44448884924784</td><td>839.0</td><td>20.0</td><td>100.14921569824219</td><td>0.19726607203483582</td></tr>\n",
       "<tr><td>69123</td><td>289.0</td><td>184.2166748046875</td><td>104.7833251953125</td><td>6.421083585641239</td><td>205.70735296084143</td><td>199.4471090183066</td><td>6.260243942534863</td><td>881205057.860631</td><td>10337247385.749731</td><td>15165.30656461935</td><td>17067.17549854517</td><td>0.0190566539996123</td><td>0.012147243711806319</td><td>0.00690941028780598</td><td>20</td><td>20</td><td>wstat</td><td>89.05468853440804</td><td>939.0</td><td>20.0</td><td>101.9451675415039</td><td>0.1923159658908844</td></tr>\n",
       "<tr><td>69123</td><td>310.0</td><td>203.2166748046875</td><td>106.7833251953125</td><td>6.2578768319877</td><td>225.30152964813007</td><td>219.04128570559521</td><td>6.260243942534863</td><td>970268432.889112</td><td>11404948124.927225</td><td>16689.809942549193</td><td>18806.822551488876</td><td>0.018574207918909996</td><td>0.012176092807779948</td><td>0.006398115111130047</td><td>20</td><td>20</td><td>wstat</td><td>86.99337648205686</td><td>1015.0</td><td>20.0</td><td>99.89337921142578</td><td>0.19762404263019562</td></tr>\n",
       "<tr><td>69123</td><td>311.0</td><td>206.88333129882812</td><td>104.11666870117188</td><td>6.069268769069218</td><td>228.52276463508363</td><td>222.26252069254875</td><td>6.260243942534863</td><td>979887758.0484241</td><td>11567123637.731655</td><td>16955.008134860156</td><td>19109.276159584522</td><td>0.018342662977587836</td><td>0.01220190103438924</td><td>0.006140761943198597</td><td>20</td><td>20</td><td>wstat</td><td>85.43882418344234</td><td>1037.0</td><td>20.0</td><td>100.24974060058594</td><td>0.19713431596755981</td></tr>\n",
       "<tr><td>69123</td><td>324.0</td><td>225.7166748046875</td><td>98.2833251953125</td><td>5.549893068549835</td><td>246.2744563188938</td><td>240.01421237635896</td><td>6.260243942534863</td><td>1043678765.1653352</td><td>12511426365.242954</td><td>18356.458917648633</td><td>20744.125275850296</td><td>0.017650463057910012</td><td>0.012296308117884026</td><td>0.005354154940025987</td><td>20</td><td>20</td><td>wstat</td><td>80.20307244503469</td><td>1150.0</td><td>20.0</td><td>101.89765930175781</td><td>0.19396421313285828</td></tr>\n",
       "<tr><td>69123</td><td>349.0</td><td>242.31666564941406</td><td>106.68333435058594</td><td>5.8092382536093945</td><td>264.23547315799345</td><td>257.97522921545857</td><td>6.260243942534863</td><td>1149880753.8726897</td><td>13669421878.8389</td><td>19923.459434004053</td><td>22544.41535949707</td><td>0.017517038200923565</td><td>0.012162379051292863</td><td>0.005354659149630702</td><td>20</td><td>20</td><td>wstat</td><td>83.85448959725998</td><td>1233.0</td><td>20.0</td><td>101.76766204833984</td><td>0.19425641000270844</td></tr>\n",
       "<tr><td>69123</td><td>374.0</td><td>260.98333740234375</td><td>113.01666259765625</td><td>5.943359796965013</td><td>283.7811626021727</td><td>277.5209186596378</td><td>6.260243942534863</td><td>1216593685.6547377</td><td>14723370207.982939</td><td>21507.54959460081</td><td>24344.688658356667</td><td>0.017389242710098778</td><td>0.01213449892347849</td><td>0.005254743786620286</td><td>20</td><td>20</td><td>wstat</td><td>88.66543487347347</td><td>1345.0</td><td>20.0</td><td>103.07171630859375</td><td>0.1917358636856079</td></tr>\n",
       "<tr><td>69123</td><td>399.0</td><td>282.48333740234375</td><td>116.51666259765625</td><td>5.899159355899731</td><td>306.09782240209006</td><td>299.8375784595552</td><td>6.260243942534863</td><td>1328312122.5119987</td><td>15894118478.581995</td><td>23262.678604465298</td><td>26348.781247496605</td><td>0.017151937091346457</td><td>0.012143199078893724</td><td>0.005008738012452734</td><td>20</td><td>20</td><td>wstat</td><td>88.26245250721637</td><td>1431.0</td><td>20.0</td><td>101.31571197509766</td><td>0.19551481306552887</td></tr>\n",
       "<tr><td>69123</td><td>407.0</td><td>293.4833068847656</td><td>113.51669311523438</td><td>5.664709603204527</td><td>316.495559426474</td><td>310.2353154839391</td><td>6.260243942534863</td><td>1344947014.9359822</td><td>16689704491.859297</td><td>24774.422876897166</td><td>28025.716786801815</td><td>0.016428233344621672</td><td>0.011846221740182166</td><td>0.004582011604439506</td><td>20</td><td>20</td><td>wstat</td><td>82.00997194203406</td><td>1497.0</td><td>20.0</td><td>102.01602172851562</td><td>0.19410069286823273</td></tr>\n",
       "</table>"
      ],
      "text/plain": [
       "<Table length=17>\n",
       " name  counts     background     ...   acceptance_off          alpha       \n",
       "                                 ...                                       \n",
       " str5 float32      float64       ...      float64             float64      \n",
       "----- ------- ------------------ ... ------------------ -------------------\n",
       "69123    32.0 18.166666666666668 ... 119.99999999999999 0.16666666666666663\n",
       "69123    51.0 35.166664123535156 ...  110.3317642211914  0.1812553107738495\n",
       "69123    72.0  50.16666793823242 ... 113.22258758544922 0.17587800323963165\n",
       "69123   114.0  76.41666412353516 ... 101.81025695800781 0.19677402079105377\n",
       "69123   148.0  94.91667175292969 ...  105.3555679321289 0.18892952799797058\n",
       "69123   167.0             109.25 ... 107.27688598632812 0.18626634776592255\n",
       "69123   196.0  134.5833282470703 ...  98.37771606445312 0.20061948895454407\n",
       "69123   223.0             146.75 ... 100.17035675048828 0.19783559441566467\n",
       "69123   254.0 167.54998779296875 ... 100.14921569824219 0.19726607203483582\n",
       "69123   289.0  184.2166748046875 ...  101.9451675415039  0.1923159658908844\n",
       "69123   310.0  203.2166748046875 ...  99.89337921142578 0.19762404263019562\n",
       "69123   311.0 206.88333129882812 ... 100.24974060058594 0.19713431596755981\n",
       "69123   324.0  225.7166748046875 ... 101.89765930175781 0.19396421313285828\n",
       "69123   349.0 242.31666564941406 ... 101.76766204833984 0.19425641000270844\n",
       "69123   374.0 260.98333740234375 ... 103.07171630859375  0.1917358636856079\n",
       "69123   399.0 282.48333740234375 ... 101.31571197509766 0.19551481306552887\n",
       "69123   407.0  293.4833068847656 ... 102.01602172851562 0.19410069286823273"
      ]
     },
     "execution_count": 1153,
     "metadata": {},
     "output_type": "execute_result"
    }
   ],
   "source": [
    "info_table = list_of_dataset.info_table(cumulative=True)\n",
    "info_table"
   ]
  },
  {
   "cell_type": "code",
   "execution_count": 1154,
   "id": "f1bc352a",
   "metadata": {},
   "outputs": [
    {
     "data": {
      "text/html": [
       "<i>Table length=3</i>\n",
       "<table id=\"table140346088377536\" class=\"table-striped table-bordered table-condensed\">\n",
       "<thead><tr><th>name</th><th>value</th><th>unit</th><th>min</th><th>max</th><th>frozen</th><th>error</th></tr></thead>\n",
       "<thead><tr><th>str9</th><th>float64</th><th>str14</th><th>float64</th><th>float64</th><th>bool</th><th>float64</th></tr></thead>\n",
       "<tr><td>index</td><td>1.8449e+00</td><td></td><td>nan</td><td>nan</td><td>False</td><td>2.251e-01</td></tr>\n",
       "<tr><td>amplitude</td><td>4.9801e-13</td><td>cm-2 s-1 TeV-1</td><td>nan</td><td>nan</td><td>False</td><td>1.019e-13</td></tr>\n",
       "<tr><td>reference</td><td>1.0000e+00</td><td>TeV</td><td>nan</td><td>nan</td><td>True</td><td>0.000e+00</td></tr>\n",
       "</table>"
      ],
      "text/plain": [
       "<Table length=3>\n",
       "   name     value         unit        min     max   frozen   error  \n",
       "   str9    float64       str14      float64 float64  bool   float64 \n",
       "--------- ---------- -------------- ------- ------- ------ ---------\n",
       "    index 1.8449e+00                    nan     nan  False 2.251e-01\n",
       "amplitude 4.9801e-13 cm-2 s-1 TeV-1     nan     nan  False 1.019e-13\n",
       "reference 1.0000e+00            TeV     nan     nan   True 0.000e+00"
      ]
     },
     "execution_count": 1154,
     "metadata": {},
     "output_type": "execute_result"
    }
   ],
   "source": [
    "result_joint.parameters.to_table()"
   ]
  },
  {
   "cell_type": "code",
   "execution_count": 1155,
   "id": "ab8ea77e",
   "metadata": {},
   "outputs": [],
   "source": [
    "stacked.models = models\n",
    "#stacked.model.parameters[\"lat_0\"].frozen = True\n",
    "#stacked.model.parameters[\"lon_0\"].frozen = True"
   ]
  },
  {
   "cell_type": "code",
   "execution_count": 1156,
   "id": "33736f50",
   "metadata": {},
   "outputs": [],
   "source": [
    "fit_stacked = Fit(stacked)\n",
    "\n"
   ]
  },
  {
   "cell_type": "code",
   "execution_count": 1157,
   "id": "e98c2767",
   "metadata": {},
   "outputs": [],
   "source": [
    "result_stacked = fit_stacked.run()"
   ]
  },
  {
   "cell_type": "code",
   "execution_count": 22,
   "id": "f5df5d41",
   "metadata": {},
   "outputs": [
    {
     "ename": "NameError",
     "evalue": "name 'result_stacked' is not defined",
     "output_type": "error",
     "traceback": [
      "\u001b[0;31m---------------------------------------------------------------------------\u001b[0m",
      "\u001b[0;31mNameError\u001b[0m                                 Traceback (most recent call last)",
      "\u001b[0;32m<ipython-input-22-f4b3de0b0e1f>\u001b[0m in \u001b[0;36m<module>\u001b[0;34m\u001b[0m\n\u001b[0;32m----> 1\u001b[0;31m \u001b[0mprint\u001b[0m\u001b[0;34m(\u001b[0m\u001b[0mresult_stacked\u001b[0m\u001b[0;34m)\u001b[0m\u001b[0;34m\u001b[0m\u001b[0m\n\u001b[0m\u001b[1;32m      2\u001b[0m \u001b[0mresult_stacked\u001b[0m\u001b[0;34m.\u001b[0m\u001b[0mparameters\u001b[0m\u001b[0;34m.\u001b[0m\u001b[0mto_table\u001b[0m\u001b[0;34m(\u001b[0m\u001b[0;34m)\u001b[0m\u001b[0;34m\u001b[0m\u001b[0m\n",
      "\u001b[0;31mNameError\u001b[0m: name 'result_stacked' is not defined"
     ]
    }
   ],
   "source": [
    "print(result_stacked)\n",
    "result_stacked.parameters.to_table()"
   ]
  },
  {
   "cell_type": "markdown",
   "id": "d2db2341",
   "metadata": {},
   "source": [
    "For the Orbital Phase. Note we got a binary system and the \"intensity\" of the flux we observe depends on where the sources is in its orbits. \n",
    "\n",
    "The orbital phase: (t_start - t_ref)/Period. ==> Then, you remove the integer (eg. 9.38 => 0.38 (removes the 9)). **Also, t_start corresponds obs.gti.time_start (it is in MDJ).**\n",
    "\n",
    "The period is 3.9 day, which is 3.9 MDJ (Note). This data was extracted in the paper.\n",
    "The reference time is: t0 = 51942.59 (**note it is not the same as obs.gti.time_ref**)\n"
   ]
  },
  {
   "cell_type": "code",
   "execution_count": 1196,
   "id": "cb458ae2",
   "metadata": {},
   "outputs": [
    {
     "name": "stdout",
     "output_type": "stream",
     "text": [
      "56455.39617852223\n",
      "56459.363859714766\n",
      "56459.38553429703\n",
      "56460.36354830713\n",
      "56460.38513486053\n",
      "56775.47694418295\n",
      "56776.47205457098\n",
      "56777.47030494414\n",
      "56780.47245987165\n",
      "56781.47191546665\n",
      "56782.47097196915\n",
      "56783.450307426276\n",
      "56783.46955557774\n",
      "56784.4691224256\n",
      "56785.46942375241\n",
      "56786.4689861072\n",
      "56803.450346858604\n"
     ]
    }
   ],
   "source": [
    "#help(obs3.gti)\n",
    "time_intervals=obs.gti.time_intervals\n",
    "\n",
    "for obs in observations:\n",
    "    #print(obs.gti.time_ref)\n",
    "    #56455.3753140405, 56459.34299503474\n",
    "    #56455.39617852223 56459.363859714766 56459.38553429703 56460.36354830713 56460.38513486053 56775.47694418295 56776.47205457098\n",
    "    print(obs.gti.time_intervals[0][1])\n",
    "    obs.gti."
   ]
  },
  {
   "cell_type": "code",
   "execution_count": null,
   "id": "ad72ae50",
   "metadata": {},
   "outputs": [],
   "source": [
    "time_min\ttime_max\n",
    "float64\tfloat64\n",
    "\n",
    "\n",
    "54729.15724563289\t54729.17116056904\n",
    "54729.1836596048\t54729.19757541274\n",
    "54730.11609051363\t54730.13000675254\n",
    "54737.26323636662\t54737.27019567376\n",
    "...\t...\n",
    "57331.076087903406\t57331.09692472174\n",
    "57331.09736786614\t57331.11820406476\n",
    "57332.08446441899\t57332.10530111997\n",
    "57333.08329323993\t57333.104129135805\n",
    "57334.0747518152\t57334.09558837902\n",
    "57510.42818764592\t57510.44207870916\n",
    "57511.41816588958\t57511.43900237804\n",
    "57512.41797707888\t57512.432857995875\n",
    "57546.29135411891\t57546.2982990139\n",
    "57552.327347891034\t57552.34818470555"
   ]
  }
 ],
 "metadata": {
  "kernelspec": {
   "display_name": "Python 3",
   "language": "python",
   "name": "python3"
  },
  "language_info": {
   "codemirror_mode": {
    "name": "ipython",
    "version": 3
   },
   "file_extension": ".py",
   "mimetype": "text/x-python",
   "name": "python",
   "nbconvert_exporter": "python",
   "pygments_lexer": "ipython3",
   "version": "3.7.0"
  }
 },
 "nbformat": 4,
 "nbformat_minor": 5
}
